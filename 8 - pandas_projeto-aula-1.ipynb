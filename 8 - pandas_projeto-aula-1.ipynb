{
 "cells": [
  {
   "cell_type": "code",
   "execution_count": null,
   "metadata": {
    "id": "Ruvs1vv2FnQ9"
   },
   "outputs": [],
   "source": [
    "import pandas as pd"
   ]
  },
  {
   "cell_type": "code",
   "execution_count": null,
   "metadata": {},
   "outputs": [],
   "source": [
    "url = 'pandas-dados/dados_hospedagem.json'"
   ]
  },
  {
   "cell_type": "code",
   "execution_count": null,
   "metadata": {
    "colab": {
     "base_uri": "https://localhost:8080/",
     "height": 206
    },
    "id": "vnlS04aVF_tF",
    "outputId": "905deaa5-73d3-47b7-bf5f-c737ac605252"
   },
   "outputs": [],
   "source": [
    "dados = pd.read_json(url)\n",
    "dados.head()\n",
    "# percebemos que os dados estao aninhados em dicionarios, e precisamos destrinchar eles"
   ]
  },
  {
   "cell_type": "code",
   "execution_count": null,
   "metadata": {
    "colab": {
     "base_uri": "https://localhost:8080/",
     "height": 1000
    },
    "id": "95UtFE_TK8Dv",
    "outputId": "6acc2b75-52fa-4f6e-ddc7-03bf80a21eb7"
   },
   "outputs": [],
   "source": [
    "# o metodo json_normalize vai destrinchar e normalizar os dados\n",
    "dados = pd.json_normalize(dados['info_moveis'])\n",
    "dados"
   ]
  },
  {
   "cell_type": "code",
   "execution_count": null,
   "metadata": {},
   "outputs": [],
   "source": [
    "# iremos utilizar o metodo explode que separa os itens agrupados em novas linhas\n",
    "# para fazer isso preciso enviar todas as colunas que eu quero separar em linhas\n",
    "\n",
    "colunas = list(dados. columns)\n",
    "colunas"
   ]
  },
  {
   "cell_type": "code",
   "execution_count": null,
   "metadata": {},
   "outputs": [],
   "source": [
    "dados = dados.explode(colunas[3:])\n",
    "dados"
   ]
  },
  {
   "cell_type": "code",
   "execution_count": null,
   "metadata": {},
   "outputs": [],
   "source": [
    "# como posso perceber o index se repete varias vezes e nao esta como antes que era uma sequencia, portanto, preciso resetar o index\n",
    "\n",
    "dados.reset_index(inplace=True, drop=True)\n",
    "dados.head()"
   ]
  },
  {
   "cell_type": "code",
   "execution_count": null,
   "metadata": {},
   "outputs": [],
   "source": [
    "dados.info()"
   ]
  },
  {
   "cell_type": "markdown",
   "metadata": {},
   "source": [
    "#### Tratando dados númericos: Convertendo para tipo Inteiro"
   ]
  },
  {
   "cell_type": "code",
   "execution_count": null,
   "metadata": {},
   "outputs": [],
   "source": [
    "import numpy as np"
   ]
  },
  {
   "cell_type": "code",
   "execution_count": null,
   "metadata": {},
   "outputs": [],
   "source": [
    "dados['max_hospedes'] = dados['max_hospedes'].astype(np.int64)"
   ]
  },
  {
   "cell_type": "code",
   "execution_count": null,
   "metadata": {},
   "outputs": [],
   "source": [
    "dados.info()"
   ]
  },
  {
   "cell_type": "code",
   "execution_count": null,
   "metadata": {},
   "outputs": [],
   "source": [
    "col_numericas = ['quantidade_banheiros','quantidade_quartos','quantidade_camas']"
   ]
  },
  {
   "cell_type": "code",
   "execution_count": null,
   "metadata": {},
   "outputs": [],
   "source": [
    "dados[col_numericas] = dados[col_numericas].astype(np.int64)"
   ]
  },
  {
   "cell_type": "code",
   "execution_count": null,
   "metadata": {},
   "outputs": [],
   "source": [
    "dados.info()"
   ]
  },
  {
   "cell_type": "markdown",
   "metadata": {},
   "source": [
    "#### Tratando dados númericos: Convertendo para tipo Float"
   ]
  },
  {
   "cell_type": "code",
   "execution_count": null,
   "metadata": {},
   "outputs": [],
   "source": [
    "dados['avaliacao_geral'] = dados['avaliacao_geral'].astype(np.float64)"
   ]
  },
  {
   "cell_type": "code",
   "execution_count": null,
   "metadata": {},
   "outputs": [],
   "source": [
    "dados.info()"
   ]
  },
  {
   "cell_type": "code",
   "execution_count": null,
   "metadata": {},
   "outputs": [],
   "source": [
    "dados['preco'] = dados['preco'].apply(lambda x : x.replace('$','').replace(',','').strip()).astype(np.float64)"
   ]
  },
  {
   "cell_type": "code",
   "execution_count": null,
   "metadata": {},
   "outputs": [],
   "source": [
    "dados.info()"
   ]
  },
  {
   "cell_type": "code",
   "execution_count": null,
   "metadata": {},
   "outputs": [],
   "source": [
    "dados[['taxa_deposito','taxa_limpeza']] = dados[['taxa_deposito','taxa_limpeza']].applymap(lambda x : x.replace('$','').replace(',','').strip()).astype(np.float64)"
   ]
  },
  {
   "cell_type": "code",
   "execution_count": null,
   "metadata": {},
   "outputs": [],
   "source": [
    "dados.info()"
   ]
  },
  {
   "cell_type": "markdown",
   "metadata": {},
   "source": [
    "#### Tratando dados textuais"
   ]
  },
  {
   "cell_type": "code",
   "execution_count": null,
   "metadata": {},
   "outputs": [],
   "source": [
    "dados['descricao_local'] = dados['descricao_local'].str.lower()"
   ]
  },
  {
   "cell_type": "code",
   "execution_count": null,
   "metadata": {},
   "outputs": [],
   "source": [
    "dados['descricao_local'][3169]"
   ]
  },
  {
   "cell_type": "code",
   "execution_count": null,
   "metadata": {},
   "outputs": [],
   "source": [
    "dados['descricao_local'] = dados['descricao_local'].str.replace('[^a-zA-Z0-9\\-\\']', ' ', regex=True)"
   ]
  },
  {
   "cell_type": "code",
   "execution_count": null,
   "metadata": {},
   "outputs": [],
   "source": [
    "dados['descricao_local']"
   ]
  },
  {
   "cell_type": "markdown",
   "metadata": {},
   "source": [
    "Removendo hífens fora de palavra compostas"
   ]
  },
  {
   "cell_type": "code",
   "execution_count": null,
   "metadata": {},
   "outputs": [],
   "source": [
    "# a primeira parte do regex ele verifica se tem um caractere antes do hifen, e a segunda parte do regex também faz o mesmo\n",
    "dados['descricao_local'] = dados['descricao_local'].str.replace('(?<!\\w)-(?!\\w)', ' ', regex=True)"
   ]
  },
  {
   "cell_type": "code",
   "execution_count": null,
   "metadata": {},
   "outputs": [],
   "source": [
    "dados['descricao_local']"
   ]
  },
  {
   "cell_type": "code",
   "execution_count": null,
   "metadata": {},
   "outputs": [],
   "source": [
    "dados['descricao_local'] = dados['descricao_local'].str.split()"
   ]
  },
  {
   "cell_type": "code",
   "execution_count": null,
   "metadata": {},
   "outputs": [],
   "source": [
    "dados['descricao_local']"
   ]
  },
  {
   "cell_type": "code",
   "execution_count": null,
   "metadata": {},
   "outputs": [],
   "source": [
    "dados.head()"
   ]
  },
  {
   "cell_type": "code",
   "execution_count": null,
   "metadata": {},
   "outputs": [],
   "source": [
    "# da coluna comodidade, preciso remover o {} e as aspas\n",
    "dados['comodidades'] = dados['comodidades'].str.replace('\\{|}|\\\"', '', regex=True)"
   ]
  },
  {
   "cell_type": "code",
   "execution_count": null,
   "metadata": {},
   "outputs": [],
   "source": [
    "dados"
   ]
  },
  {
   "cell_type": "code",
   "execution_count": null,
   "metadata": {},
   "outputs": [],
   "source": [
    "dados['comodidades'] = dados['comodidades'].str.split(',')\n",
    "dados.head()"
   ]
  },
  {
   "cell_type": "markdown",
   "metadata": {},
   "source": [
    "Desafio: faça você mesmo"
   ]
  },
  {
   "cell_type": "markdown",
   "metadata": {},
   "source": [
    "Aprendemos a manipular os elementos textuais com o comando str. Depois, utilizamos de regex para limpar elementos indesejados no texto e, por fim, transformamos o texto tratado em uma lista, construindo um token.\n",
    "\n",
    "Durante as aulas, transformamos duas colunas, descricao_local e comodidades, buscando a tokenização. Mas ainda falta a coluna descricao_vizinhanca, que também vale ser transformada.\n",
    "\n",
    "Portanto, nessa atividade, proponho que você faça o processo de tokenização para a coluna descricao_vizinhanca presente no conjunto de dados dados_hospedagem.json."
   ]
  },
  {
   "cell_type": "code",
   "execution_count": null,
   "metadata": {},
   "outputs": [],
   "source": [
    "# Transformamos o texto em letras minúsculas\n",
    "dados['descricao_vizinhanca'] = dados['descricao_vizinhanca'].str.lower()\n",
    "# Substituimos os caractere especiais\n",
    "dados['descricao_vizinhanca'] = dados['descricao_vizinhanca'].str.replace('[^a-zA-Z0-9\\-\\']', ' ', regex=True)\n",
    "dados['descricao_vizinhanca'] = dados['descricao_vizinhanca'].str.replace('(?<!\\w)-(?!\\w)', '', regex=True)\n",
    "# Transformamos o texto em lista, formando o token\n",
    "dados['descricao_vizinhanca'] = dados['descricao_vizinhanca'].str.split()\n",
    "dados.head()"
   ]
  },
  {
   "cell_type": "code",
   "execution_count": null,
   "metadata": {},
   "outputs": [],
   "source": [
    "dt_data = pd.read_json('pandas-dados/moveis_disponiveis.json')"
   ]
  },
  {
   "cell_type": "code",
   "execution_count": null,
   "metadata": {},
   "outputs": [],
   "source": [
    "dt_data.head()"
   ]
  },
  {
   "cell_type": "code",
   "execution_count": null,
   "metadata": {},
   "outputs": [],
   "source": [
    "dt_data.info()"
   ]
  },
  {
   "cell_type": "code",
   "execution_count": null,
   "metadata": {},
   "outputs": [],
   "source": [
    "# verificamos que a coluna data nao esta no tipo correto, portanto precisamos converter ela\n",
    "dt_data['data'] = pd.to_datetime(dt_data['data'])"
   ]
  },
  {
   "cell_type": "code",
   "execution_count": null,
   "metadata": {},
   "outputs": [],
   "source": [
    "dt_data.info()"
   ]
  },
  {
   "cell_type": "code",
   "execution_count": null,
   "metadata": {},
   "outputs": [],
   "source": [
    "dt_data.head()"
   ]
  },
  {
   "cell_type": "code",
   "execution_count": null,
   "metadata": {},
   "outputs": [],
   "source": [
    "dt_data['data'].dt.strftime('%Y-%m')"
   ]
  },
  {
   "cell_type": "code",
   "execution_count": null,
   "metadata": {},
   "outputs": [],
   "source": [
    "subset = dt_data.groupby(dt_data['data'].dt.strftime('%Y-%m'))['vaga_disponivel'].sum()\n",
    "subset"
   ]
  },
  {
   "cell_type": "markdown",
   "metadata": {},
   "source": [
    "Desafio: faça você mesmo"
   ]
  },
  {
   "cell_type": "markdown",
   "metadata": {},
   "source": [
    "Nessa aula, aprendemos a manipular os dados temporais através do tipo datetime. Entendemos como transformar uma coluna para datetime e, depois, manipulamos esses dados. Mesmo assim, nem todos os dados do conjunto ```moveis_disponiveis.json``` foram tratados.\n",
    "\n",
    "Durante as aulas desse curso, descobrimos como transformar e trabalhar com valores numéricos, por exemplo, removendo valores numéricos dentro de um texto e transformando-os em um tipo numérico, como ```int64``` ou ```float64```.\n",
    "\n",
    "Sabendo disso, nessa atividade, proponho que você faça a transformação dos dados na coluna preco do conjunto de dados ```moveis_disponiveis.json``` para o tipo numérico ```float64```. Lembrando que, antes de fazer isso, você precisa preencher os valores vazios na coluna por um valor. Uma sugestão: substitua pela string ```'0.0'```.\n",
    "\n",
    "Fique à vontade para seguir com os mesmos passos dados em aula ou, se preferir, realizar outros aprimoramentos, como a remoção de algum caractere ou de stopwords. Na seção “Opinião da pessoa instrutora”, você vai encontrar uma possibilidade de resolução para essa atividade."
   ]
  },
  {
   "cell_type": "code",
   "execution_count": null,
   "metadata": {},
   "outputs": [],
   "source": [
    "dt_data"
   ]
  },
  {
   "cell_type": "code",
   "execution_count": null,
   "metadata": {},
   "outputs": [],
   "source": [
    "dt_data.info()"
   ]
  },
  {
   "cell_type": "code",
   "execution_count": null,
   "metadata": {},
   "outputs": [],
   "source": [
    "dt_data.tail(200)"
   ]
  },
  {
   "cell_type": "code",
   "execution_count": null,
   "metadata": {},
   "outputs": [],
   "source": [
    "dt_data['preco'] = dt_data['preco'].fillna('0.0').str.replace('$', '').str.replace(',','').str.strip().astype(np.float64)\n",
    "dt_data.info()"
   ]
  },
  {
   "cell_type": "code",
   "execution_count": null,
   "metadata": {},
   "outputs": [],
   "source": [
    "dt_data.tail(200)"
   ]
  }
 ],
 "metadata": {
  "colab": {
   "provenance": []
  },
  "kernelspec": {
   "display_name": "base",
   "language": "python",
   "name": "python3"
  },
  "language_info": {
   "codemirror_mode": {
    "name": "ipython",
    "version": 3
   },
   "file_extension": ".py",
   "mimetype": "text/x-python",
   "name": "python",
   "nbconvert_exporter": "python",
   "pygments_lexer": "ipython3",
   "version": "3.12.7"
  }
 },
 "nbformat": 4,
 "nbformat_minor": 0
}
