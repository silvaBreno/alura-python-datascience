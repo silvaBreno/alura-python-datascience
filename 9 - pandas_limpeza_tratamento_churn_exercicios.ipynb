{
  "cells": [
    {
      "cell_type": "markdown",
      "metadata": {
        "id": "Ly1-WGXaP33O"
      },
      "source": [
        "# Conhecendo os dados"
      ]
    },
    {
      "cell_type": "markdown",
      "metadata": {},
      "source": [
        "### Desafio: utilizando parâmetros do json_normalize"
      ]
    },
    {
      "cell_type": "markdown",
      "metadata": {},
      "source": [
        "Ao normalizar o objeto JSON durante a aula passamos simplesmente ```pd.json_normalize(<dados>)``` mas o método json_normalize possui diversos parâmetros para trabalhar com estruturas de dados mais complexas.\n",
        "\n",
        "Você recebeu a tarefa de normalizar o seguinte arquivo JSON chamado ```“informacoes.json”``` referente a algumas informações de identificação de um cliente. O arquivo possui o seguinte conteúdo:"
      ]
    },
    {
      "cell_type": "markdown",
      "metadata": {},
      "source": [
        "```python\n",
        "{\n",
        "  \"nome\": \"João\",\n",
        "  \"idade\": 28,\n",
        "  \"enderecos\": [\n",
        "    {\n",
        "      \"tipo\": \"casa\",\n",
        "      \"rua\": \"Rua A\",\n",
        "      \"numero\": 123,\n",
        "      \"cidade\": \"São Paulo\"\n",
        "    },\n",
        "    {\n",
        "      \"tipo\": \"trabalho\",\n",
        "      \"rua\": \"Rua B\",\n",
        "      \"numero\": 456,\n",
        "      \"cidade\": \"Rio de Janeiro\"\n",
        "    }\n",
        "  ]\n",
        "}\n",
        "```\n",
        "\n",
        "O resultado final deve ser um Pandas DataFrame que possui a seguinte estrutura:\n",
        "\n",
        "![tabela](assets/pandas_limpeza_tratamento_de_dados_aula1.png)\n",
        "\n",
        "Como podemos fazer isso?"
      ]
    },
    {
      "cell_type": "code",
      "execution_count": 401,
      "metadata": {},
      "outputs": [],
      "source": [
        "import pandas as pd\n",
        "import json"
      ]
    },
    {
      "cell_type": "code",
      "execution_count": 402,
      "metadata": {},
      "outputs": [],
      "source": [
        "url = 'pandas-dados/informacoes.json'"
      ]
    },
    {
      "cell_type": "code",
      "execution_count": 403,
      "metadata": {},
      "outputs": [
        {
          "data": {
            "text/html": [
              "<div>\n",
              "<style scoped>\n",
              "    .dataframe tbody tr th:only-of-type {\n",
              "        vertical-align: middle;\n",
              "    }\n",
              "\n",
              "    .dataframe tbody tr th {\n",
              "        vertical-align: top;\n",
              "    }\n",
              "\n",
              "    .dataframe thead th {\n",
              "        text-align: right;\n",
              "    }\n",
              "</style>\n",
              "<table border=\"1\" class=\"dataframe\">\n",
              "  <thead>\n",
              "    <tr style=\"text-align: right;\">\n",
              "      <th></th>\n",
              "      <th>nome</th>\n",
              "      <th>idade</th>\n",
              "      <th>enderecos</th>\n",
              "    </tr>\n",
              "  </thead>\n",
              "  <tbody>\n",
              "    <tr>\n",
              "      <th>0</th>\n",
              "      <td>João</td>\n",
              "      <td>28</td>\n",
              "      <td>{'tipo': 'casa', 'rua': 'Rua A', 'numero': 123...</td>\n",
              "    </tr>\n",
              "    <tr>\n",
              "      <th>1</th>\n",
              "      <td>João</td>\n",
              "      <td>28</td>\n",
              "      <td>{'tipo': 'trabalho', 'rua': 'Rua B', 'numero':...</td>\n",
              "    </tr>\n",
              "  </tbody>\n",
              "</table>\n",
              "</div>"
            ],
            "text/plain": [
              "   nome  idade                                          enderecos\n",
              "0  João     28  {'tipo': 'casa', 'rua': 'Rua A', 'numero': 123...\n",
              "1  João     28  {'tipo': 'trabalho', 'rua': 'Rua B', 'numero':..."
            ]
          },
          "execution_count": 403,
          "metadata": {},
          "output_type": "execute_result"
        }
      ],
      "source": [
        "dados = pd.read_json(url)\n",
        "dados.head()"
      ]
    },
    {
      "cell_type": "code",
      "execution_count": 404,
      "metadata": {},
      "outputs": [
        {
          "data": {
            "text/html": [
              "<div>\n",
              "<style scoped>\n",
              "    .dataframe tbody tr th:only-of-type {\n",
              "        vertical-align: middle;\n",
              "    }\n",
              "\n",
              "    .dataframe tbody tr th {\n",
              "        vertical-align: top;\n",
              "    }\n",
              "\n",
              "    .dataframe thead th {\n",
              "        text-align: right;\n",
              "    }\n",
              "</style>\n",
              "<table border=\"1\" class=\"dataframe\">\n",
              "  <thead>\n",
              "    <tr style=\"text-align: right;\">\n",
              "      <th></th>\n",
              "      <th>tipo</th>\n",
              "      <th>rua</th>\n",
              "      <th>numero</th>\n",
              "      <th>cidade</th>\n",
              "    </tr>\n",
              "  </thead>\n",
              "  <tbody>\n",
              "    <tr>\n",
              "      <th>0</th>\n",
              "      <td>casa</td>\n",
              "      <td>Rua A</td>\n",
              "      <td>123</td>\n",
              "      <td>São Paulo</td>\n",
              "    </tr>\n",
              "    <tr>\n",
              "      <th>1</th>\n",
              "      <td>trabalho</td>\n",
              "      <td>Rua B</td>\n",
              "      <td>456</td>\n",
              "      <td>Rio de Janeiro</td>\n",
              "    </tr>\n",
              "  </tbody>\n",
              "</table>\n",
              "</div>"
            ],
            "text/plain": [
              "       tipo    rua  numero          cidade\n",
              "0      casa  Rua A     123       São Paulo\n",
              "1  trabalho  Rua B     456  Rio de Janeiro"
            ]
          },
          "execution_count": 404,
          "metadata": {},
          "output_type": "execute_result"
        }
      ],
      "source": [
        "pd.json_normalize(dados['enderecos'])"
      ]
    },
    {
      "cell_type": "code",
      "execution_count": 405,
      "metadata": {},
      "outputs": [],
      "source": [
        "with open(url) as arquivo:\n",
        "    json_bruto = json.load(arquivo)"
      ]
    },
    {
      "cell_type": "code",
      "execution_count": 406,
      "metadata": {},
      "outputs": [
        {
          "data": {
            "text/plain": [
              "{'nome': 'João',\n",
              " 'idade': 28,\n",
              " 'enderecos': [{'tipo': 'casa',\n",
              "   'rua': 'Rua A',\n",
              "   'numero': 123,\n",
              "   'cidade': 'São Paulo'},\n",
              "  {'tipo': 'trabalho',\n",
              "   'rua': 'Rua B',\n",
              "   'numero': 456,\n",
              "   'cidade': 'Rio de Janeiro'}]}"
            ]
          },
          "execution_count": 406,
          "metadata": {},
          "output_type": "execute_result"
        }
      ],
      "source": [
        "json_bruto"
      ]
    },
    {
      "cell_type": "code",
      "execution_count": 407,
      "metadata": {},
      "outputs": [
        {
          "data": {
            "text/html": [
              "<div>\n",
              "<style scoped>\n",
              "    .dataframe tbody tr th:only-of-type {\n",
              "        vertical-align: middle;\n",
              "    }\n",
              "\n",
              "    .dataframe tbody tr th {\n",
              "        vertical-align: top;\n",
              "    }\n",
              "\n",
              "    .dataframe thead th {\n",
              "        text-align: right;\n",
              "    }\n",
              "</style>\n",
              "<table border=\"1\" class=\"dataframe\">\n",
              "  <thead>\n",
              "    <tr style=\"text-align: right;\">\n",
              "      <th></th>\n",
              "      <th>tipo</th>\n",
              "      <th>rua</th>\n",
              "      <th>numero</th>\n",
              "      <th>cidade</th>\n",
              "      <th>nome</th>\n",
              "      <th>idade</th>\n",
              "    </tr>\n",
              "  </thead>\n",
              "  <tbody>\n",
              "    <tr>\n",
              "      <th>0</th>\n",
              "      <td>casa</td>\n",
              "      <td>Rua A</td>\n",
              "      <td>123</td>\n",
              "      <td>São Paulo</td>\n",
              "      <td>João</td>\n",
              "      <td>28</td>\n",
              "    </tr>\n",
              "    <tr>\n",
              "      <th>1</th>\n",
              "      <td>trabalho</td>\n",
              "      <td>Rua B</td>\n",
              "      <td>456</td>\n",
              "      <td>Rio de Janeiro</td>\n",
              "      <td>João</td>\n",
              "      <td>28</td>\n",
              "    </tr>\n",
              "  </tbody>\n",
              "</table>\n",
              "</div>"
            ],
            "text/plain": [
              "       tipo    rua  numero          cidade  nome idade\n",
              "0      casa  Rua A     123       São Paulo  João    28\n",
              "1  trabalho  Rua B     456  Rio de Janeiro  João    28"
            ]
          },
          "execution_count": 407,
          "metadata": {},
          "output_type": "execute_result"
        }
      ],
      "source": [
        "dados_normlizados = pd.json_normalize(json_bruto, record_path='enderecos',meta=[\"nome\", \"idade\"])\n",
        "dados_normlizados.head()"
      ]
    },
    {
      "cell_type": "markdown",
      "metadata": {},
      "source": [
        "### Desafio: tratando os dados"
      ]
    },
    {
      "cell_type": "markdown",
      "metadata": {},
      "source": [
        "Você recebeu e fez o download o arquivo JSON chamado “dados.json” que possui o seguinte conteúdo:\n",
        "\n",
        "```json\n",
        "{\n",
        "  \"pessoas\": [\n",
        "    {\n",
        "      \"nome\": \"João\",\n",
        "      \"idade\": \"25\",\n",
        "      \"endereco\": {\n",
        "        \"rua\": \"Rua A\",\n",
        "        \"numero\": 123,\n",
        "        \"cidade\": \"São Paulo\"\n",
        "      },\n",
        "      \"telefones\": [\n",
        "        \"11 1111-1111\",\n",
        "        \"11 2222-2222\"\n",
        "      ]\n",
        "    },\n",
        "    {\n",
        "      \"nome\": \"Maria\",\n",
        "      \"idade\": 30,\n",
        "      \"endereco\": {\n",
        "        \"rua\": \"\",\n",
        "        \"numero\": 456,\n",
        "        \"cidade\": \"Rio de Janeiro\"\n",
        "      },\n",
        "      \"telefones\": [\n",
        "        \"21 3333-3333\"\n",
        "      ]\n",
        "    }\n",
        "  ]\n",
        "}\n",
        "```\n",
        "\n",
        "Sua tarefa é realizar alguns tratamentos e deixar esse arquivo JSON como um Pandas DataFrame, sem dados vazios e com a tipagem das colunas de forma correta. Como isso pode ser feito?"
      ]
    },
    {
      "cell_type": "code",
      "execution_count": 408,
      "metadata": {},
      "outputs": [],
      "source": [
        "import pandas as pd\n",
        "import json"
      ]
    },
    {
      "cell_type": "code",
      "execution_count": 409,
      "metadata": {},
      "outputs": [],
      "source": [
        "url = 'pandas-dados/dados.json'"
      ]
    },
    {
      "cell_type": "code",
      "execution_count": 410,
      "metadata": {},
      "outputs": [],
      "source": [
        "with open(url) as arquivo:\n",
        "    dados = json.load(arquivo)"
      ]
    },
    {
      "cell_type": "code",
      "execution_count": 411,
      "metadata": {},
      "outputs": [
        {
          "data": {
            "text/plain": [
              "{'pessoas': [{'nome': 'João',\n",
              "   'idade': '25',\n",
              "   'endereco': {'rua': 'Rua A', 'numero': 123, 'cidade': 'São Paulo'},\n",
              "   'telefones': ['11 1111-1111', '11 2222-2222']},\n",
              "  {'nome': 'Maria',\n",
              "   'idade': 30,\n",
              "   'endereco': {'rua': '', 'numero': 456, 'cidade': 'Rio de Janeiro'},\n",
              "   'telefones': ['21 3333-3333']}]}"
            ]
          },
          "execution_count": 411,
          "metadata": {},
          "output_type": "execute_result"
        }
      ],
      "source": [
        "dados"
      ]
    },
    {
      "cell_type": "code",
      "execution_count": 412,
      "metadata": {},
      "outputs": [
        {
          "data": {
            "text/html": [
              "<div>\n",
              "<style scoped>\n",
              "    .dataframe tbody tr th:only-of-type {\n",
              "        vertical-align: middle;\n",
              "    }\n",
              "\n",
              "    .dataframe tbody tr th {\n",
              "        vertical-align: top;\n",
              "    }\n",
              "\n",
              "    .dataframe thead th {\n",
              "        text-align: right;\n",
              "    }\n",
              "</style>\n",
              "<table border=\"1\" class=\"dataframe\">\n",
              "  <thead>\n",
              "    <tr style=\"text-align: right;\">\n",
              "      <th></th>\n",
              "      <th>nome</th>\n",
              "      <th>idade</th>\n",
              "      <th>telefones</th>\n",
              "      <th>endereco.rua</th>\n",
              "      <th>endereco.numero</th>\n",
              "      <th>endereco.cidade</th>\n",
              "    </tr>\n",
              "  </thead>\n",
              "  <tbody>\n",
              "    <tr>\n",
              "      <th>0</th>\n",
              "      <td>João</td>\n",
              "      <td>25</td>\n",
              "      <td>[11 1111-1111, 11 2222-2222]</td>\n",
              "      <td>Rua A</td>\n",
              "      <td>123</td>\n",
              "      <td>São Paulo</td>\n",
              "    </tr>\n",
              "    <tr>\n",
              "      <th>1</th>\n",
              "      <td>Maria</td>\n",
              "      <td>30</td>\n",
              "      <td>[21 3333-3333]</td>\n",
              "      <td></td>\n",
              "      <td>456</td>\n",
              "      <td>Rio de Janeiro</td>\n",
              "    </tr>\n",
              "  </tbody>\n",
              "</table>\n",
              "</div>"
            ],
            "text/plain": [
              "    nome idade                     telefones endereco.rua  endereco.numero  \\\n",
              "0   João    25  [11 1111-1111, 11 2222-2222]        Rua A              123   \n",
              "1  Maria    30                [21 3333-3333]                           456   \n",
              "\n",
              "  endereco.cidade  \n",
              "0       São Paulo  \n",
              "1  Rio de Janeiro  "
            ]
          },
          "execution_count": 412,
          "metadata": {},
          "output_type": "execute_result"
        }
      ],
      "source": [
        "df = pd.json_normalize(dados, record_path=['pessoas'])\n",
        "df"
      ]
    },
    {
      "cell_type": "code",
      "execution_count": 413,
      "metadata": {},
      "outputs": [
        {
          "name": "stdout",
          "output_type": "stream",
          "text": [
            "<class 'pandas.core.frame.DataFrame'>\n",
            "RangeIndex: 2 entries, 0 to 1\n",
            "Data columns (total 6 columns):\n",
            " #   Column           Non-Null Count  Dtype \n",
            "---  ------           --------------  ----- \n",
            " 0   nome             2 non-null      object\n",
            " 1   idade            2 non-null      object\n",
            " 2   telefones        2 non-null      object\n",
            " 3   endereco.rua     2 non-null      object\n",
            " 4   endereco.numero  2 non-null      int64 \n",
            " 5   endereco.cidade  2 non-null      object\n",
            "dtypes: int64(1), object(5)\n",
            "memory usage: 228.0+ bytes\n"
          ]
        }
      ],
      "source": [
        "df.info()"
      ]
    },
    {
      "cell_type": "markdown",
      "metadata": {},
      "source": [
        "analisando as informacoes acima, preciso corrigir:\n",
        "\n",
        "1. acertar o tipo da coluna idade\n",
        "2. retirar a linha com dados nulos"
      ]
    },
    {
      "cell_type": "code",
      "execution_count": 414,
      "metadata": {},
      "outputs": [],
      "source": [
        "df['idade'] = df['idade'].astype(int)"
      ]
    },
    {
      "cell_type": "code",
      "execution_count": 415,
      "metadata": {},
      "outputs": [
        {
          "name": "stdout",
          "output_type": "stream",
          "text": [
            "<class 'pandas.core.frame.DataFrame'>\n",
            "RangeIndex: 2 entries, 0 to 1\n",
            "Data columns (total 6 columns):\n",
            " #   Column           Non-Null Count  Dtype \n",
            "---  ------           --------------  ----- \n",
            " 0   nome             2 non-null      object\n",
            " 1   idade            2 non-null      int64 \n",
            " 2   telefones        2 non-null      object\n",
            " 3   endereco.rua     2 non-null      object\n",
            " 4   endereco.numero  2 non-null      int64 \n",
            " 5   endereco.cidade  2 non-null      object\n",
            "dtypes: int64(2), object(4)\n",
            "memory usage: 228.0+ bytes\n"
          ]
        }
      ],
      "source": [
        "df.info()"
      ]
    },
    {
      "cell_type": "code",
      "execution_count": 416,
      "metadata": {},
      "outputs": [],
      "source": [
        "filtro_nulas = df['endereco.rua'] != ''"
      ]
    },
    {
      "cell_type": "code",
      "execution_count": 417,
      "metadata": {},
      "outputs": [
        {
          "data": {
            "text/html": [
              "<div>\n",
              "<style scoped>\n",
              "    .dataframe tbody tr th:only-of-type {\n",
              "        vertical-align: middle;\n",
              "    }\n",
              "\n",
              "    .dataframe tbody tr th {\n",
              "        vertical-align: top;\n",
              "    }\n",
              "\n",
              "    .dataframe thead th {\n",
              "        text-align: right;\n",
              "    }\n",
              "</style>\n",
              "<table border=\"1\" class=\"dataframe\">\n",
              "  <thead>\n",
              "    <tr style=\"text-align: right;\">\n",
              "      <th></th>\n",
              "      <th>nome</th>\n",
              "      <th>idade</th>\n",
              "      <th>telefones</th>\n",
              "      <th>endereco.rua</th>\n",
              "      <th>endereco.numero</th>\n",
              "      <th>endereco.cidade</th>\n",
              "    </tr>\n",
              "  </thead>\n",
              "  <tbody>\n",
              "    <tr>\n",
              "      <th>0</th>\n",
              "      <td>João</td>\n",
              "      <td>25</td>\n",
              "      <td>[11 1111-1111, 11 2222-2222]</td>\n",
              "      <td>Rua A</td>\n",
              "      <td>123</td>\n",
              "      <td>São Paulo</td>\n",
              "    </tr>\n",
              "  </tbody>\n",
              "</table>\n",
              "</div>"
            ],
            "text/plain": [
              "   nome  idade                     telefones endereco.rua  endereco.numero  \\\n",
              "0  João     25  [11 1111-1111, 11 2222-2222]        Rua A              123   \n",
              "\n",
              "  endereco.cidade  \n",
              "0       São Paulo  "
            ]
          },
          "execution_count": 417,
          "metadata": {},
          "output_type": "execute_result"
        }
      ],
      "source": [
        "df_filtrado = df[filtro_nulas].copy()\n",
        "df_filtrado"
      ]
    },
    {
      "cell_type": "markdown",
      "metadata": {},
      "source": [
        "### Desafio: tratando uma base de dados"
      ]
    },
    {
      "cell_type": "markdown",
      "metadata": {},
      "source": [
        "Para facilitar a análise dos dados de cadastro de cursos de uma plataforma, você recebeu um arquivo chamado [cursos_cadastrados.json](https://cdn3.gnarususercontent.com.br/2929-pandas/cursos_cadastrados.json). Você foi informado que esses dados podem apresentar problemas que podem prejudicar a análise e interpretação correta dos dados.\n",
        "\n",
        "Para resolver isso, foi solicitado que você identifique e remova as amostras que apresentam os seguintes problemas:\n",
        "\n",
        "- Valores nulos: são valores ausentes em algumas das colunas que devem ser preenchidos para que a análise seja correta.\n",
        "- Duplicatas: registros iguais que podem prejudicar a análise dos dados, já que estão representando a mesma informação.\n",
        "- Strings vazias: valores de texto que não apresentam nenhum conteúdo escrito, o que pode dificultar a análise de dados, principalmente se a coluna tiver muitos valores assim.\n",
        "- Conversão de tipos: algumas colunas do arquivo podem estar no tipo de dados errado, como texto em vez de número, o que pode prejudicar a análise. Nesse caso você deve realizar a conversão para o tipo correto de cada coluna.\n",
        "\n",
        "Dentro desse contexto, você precisará de uma abordagem sistemática para limpar os dados. Assim, como isso pode ser feito?\n",
        "\n",
        "Lembrando que o conteúdo de cursos_cadastrados.json é:\n",
        "\n",
        "```python \n",
        "[\n",
        "    {\n",
        "        \"curso\": \"Introdução à programação\",\n",
        "        \"categoria\": \"Programação\",\n",
        "        \"carga_horaria\": \"20 horas\",\n",
        "        \"concluintes\": 100,\n",
        "        \"data_inicio\": \"2022-01-01\",\n",
        "        \"data_conclusao\": \"2022-01-20\",\n",
        "        \"descricao\": \"Curso introdutório à programação com Python\",\n",
        "        \"preco\": \"99.90\",\n",
        "        \"instrutor\": {\n",
        "            \"nome\": \"João Silva\",\n",
        "            \"email\": \"joao.silva@emailaleatorio.com\",\n",
        "            \"telefone\": \"(11) 9999-9999\"\n",
        "        }\n",
        "    },\n",
        "    {\n",
        "        \"curso\": \"Excel para iniciantes\",\n",
        "        \"categoria\": \"Produtividade\",\n",
        "        \"carga_horaria\": null,\n",
        "        \"concluintes\": null,\n",
        "        \"data_inicio\": null,\n",
        "        \"data_conclusao\": null,\n",
        "        \"descricao\": null,\n",
        "        \"preco\": null,\n",
        "        \"instrutor\": {\n",
        "            \"nome\": \"Maria Oliveira\",\n",
        "            \"email\": \"maria.oliveira@emailaleatorio.com\",\n",
        "            \"telefone\": \"(11) 8888-8888\"\n",
        "        }\n",
        "    },\n",
        "    {\n",
        "        \"curso\": \"Marketing digital para negócios\",\n",
        "        \"categoria\": \"Marketing\",\n",
        "        \"carga_horaria\": \"30 horas\",\n",
        "        \"concluintes\": 75,\n",
        "        \"data_inicio\": \"2022-03-01\",\n",
        "        \"data_conclusao\": \"2022-03-31\",\n",
        "        \"descricao\": \"Curso introdutório em marketing\",\n",
        "        \"preco\": 89.90,\n",
        "        \"instrutor\": {\n",
        "            \"nome\": \"Ana Santos\",\n",
        "            \"email\": \"ana.santos@emailaleatorio.com\",\n",
        "            \"telefone\": \"(11) 7777-7777\"\n",
        "        }\n",
        "    },\n",
        "    {\n",
        "        \"curso\": \"Inteligência artificial\",\n",
        "        \"categoria\": \"Programação\",\n",
        "        \"carga_horaria\": \"40 horas\",\n",
        "        \"concluintes\": \"\",\n",
        "        \"data_inicio\": \"2022-04-01\",\n",
        "        \"data_conclusao\": \"\",\n",
        "        \"descricao\": \"Curso avançado sobre inteligência artificial com Python\",\n",
        "        \"preco\": 129.90,\n",
        "        \"instrutor\": {\n",
        "            \"nome\": \"\",\n",
        "            \"email\": \"contato@emailaleatorio.com\",\n",
        "            \"telefone\": \"\"\n",
        "        }\n",
        "    },\n",
        "    {\n",
        "        \"curso\": \"Inglês para negócios\",\n",
        "        \"categoria\": \"Idiomas\",\n",
        "        \"carga_horaria\": \"20 horas\",\n",
        "        \"concluintes\": 30,\n",
        "        \"data_inicio\": \"\",\n",
        "        \"data_conclusao\": \"\",\n",
        "        \"descricao\": \"Curso de inglês para negócios\",\n",
        "        \"preco\": 69.90,\n",
        "        \"instrutor\": {\n",
        "            \"nome\": \"John Smith\",\n",
        "            \"email\": \"\",\n",
        "            \"telefone\": \"\"\n",
        "        }\n",
        "    },\n",
        "    {\n",
        "        \"curso\": \"Introdução à programação\",\n",
        "        \"categoria\": \"Programação\",\n",
        "        \"carga_horaria\": \"20 horas\",\n",
        "        \"concluintes\": 100,\n",
        "        \"data_inicio\": \"2022-01-01\",\n",
        "        \"data_conclusao\": \"2022-01-20\",\n",
        "        \"descricao\": \"Curso introdutório à programação com Python\",\n",
        "        \"preco\": \"99.90\",\n",
        "        \"instrutor\": {\n",
        "            \"nome\": \"João Silva\",\n",
        "            \"email\": \"joao.silva@emailaleatorio.com\",\n",
        "            \"telefone\": \"(11) 9999-9999\"\n",
        "        }\n",
        "    }\n",
        "]\n",
        "```"
      ]
    },
    {
      "cell_type": "code",
      "execution_count": 418,
      "metadata": {},
      "outputs": [],
      "source": [
        "url = 'pandas-dados/cursos_cadastrados.json'\n",
        "\n",
        "with open(url) as f:\n",
        "    dados = json.load(f)"
      ]
    },
    {
      "cell_type": "code",
      "execution_count": 419,
      "metadata": {},
      "outputs": [
        {
          "data": {
            "text/html": [
              "<div>\n",
              "<style scoped>\n",
              "    .dataframe tbody tr th:only-of-type {\n",
              "        vertical-align: middle;\n",
              "    }\n",
              "\n",
              "    .dataframe tbody tr th {\n",
              "        vertical-align: top;\n",
              "    }\n",
              "\n",
              "    .dataframe thead th {\n",
              "        text-align: right;\n",
              "    }\n",
              "</style>\n",
              "<table border=\"1\" class=\"dataframe\">\n",
              "  <thead>\n",
              "    <tr style=\"text-align: right;\">\n",
              "      <th></th>\n",
              "      <th>curso</th>\n",
              "      <th>categoria</th>\n",
              "      <th>carga_horaria</th>\n",
              "      <th>concluintes</th>\n",
              "      <th>data_inicio</th>\n",
              "      <th>data_conclusao</th>\n",
              "      <th>descricao</th>\n",
              "      <th>preco</th>\n",
              "      <th>instrutor.nome</th>\n",
              "      <th>instrutor.email</th>\n",
              "      <th>instrutor.telefone</th>\n",
              "    </tr>\n",
              "  </thead>\n",
              "  <tbody>\n",
              "    <tr>\n",
              "      <th>0</th>\n",
              "      <td>Introdução à programação</td>\n",
              "      <td>Programação</td>\n",
              "      <td>20 horas</td>\n",
              "      <td>100</td>\n",
              "      <td>2022-01-01</td>\n",
              "      <td>2022-01-20</td>\n",
              "      <td>Curso introdutório à programação com Python</td>\n",
              "      <td>99.90</td>\n",
              "      <td>João Silva</td>\n",
              "      <td>joao.silva@emailaleatorio.com</td>\n",
              "      <td>(11) 9999-9999</td>\n",
              "    </tr>\n",
              "    <tr>\n",
              "      <th>1</th>\n",
              "      <td>Excel para iniciantes</td>\n",
              "      <td>Produtividade</td>\n",
              "      <td>None</td>\n",
              "      <td>None</td>\n",
              "      <td>None</td>\n",
              "      <td>None</td>\n",
              "      <td>None</td>\n",
              "      <td>None</td>\n",
              "      <td>Maria Oliveira</td>\n",
              "      <td>maria.oliveira@emailaleatorio.com</td>\n",
              "      <td>(11) 8888-8888</td>\n",
              "    </tr>\n",
              "    <tr>\n",
              "      <th>2</th>\n",
              "      <td>Marketing digital para negócios</td>\n",
              "      <td>Marketing</td>\n",
              "      <td>30 horas</td>\n",
              "      <td>75</td>\n",
              "      <td>2022-03-01</td>\n",
              "      <td>2022-03-31</td>\n",
              "      <td>Curso introdutório em marketing</td>\n",
              "      <td>89.9</td>\n",
              "      <td>Ana Santos</td>\n",
              "      <td>ana.santos@emailaleatorio.com</td>\n",
              "      <td>(11) 7777-7777</td>\n",
              "    </tr>\n",
              "    <tr>\n",
              "      <th>3</th>\n",
              "      <td>Inteligência artificial</td>\n",
              "      <td>Programação</td>\n",
              "      <td>40 horas</td>\n",
              "      <td></td>\n",
              "      <td>2022-04-01</td>\n",
              "      <td></td>\n",
              "      <td>Curso avançado sobre inteligência artificial c...</td>\n",
              "      <td>129.9</td>\n",
              "      <td></td>\n",
              "      <td>contato@emailaleatorio.com</td>\n",
              "      <td></td>\n",
              "    </tr>\n",
              "    <tr>\n",
              "      <th>4</th>\n",
              "      <td>Inglês para negócios</td>\n",
              "      <td>Idiomas</td>\n",
              "      <td>20 horas</td>\n",
              "      <td>30</td>\n",
              "      <td></td>\n",
              "      <td></td>\n",
              "      <td>Curso de inglês para negócios</td>\n",
              "      <td>69.9</td>\n",
              "      <td>John Smith</td>\n",
              "      <td></td>\n",
              "      <td></td>\n",
              "    </tr>\n",
              "    <tr>\n",
              "      <th>5</th>\n",
              "      <td>Introdução à programação</td>\n",
              "      <td>Programação</td>\n",
              "      <td>20 horas</td>\n",
              "      <td>100</td>\n",
              "      <td>2022-01-01</td>\n",
              "      <td>2022-01-20</td>\n",
              "      <td>Curso introdutório à programação com Python</td>\n",
              "      <td>99.90</td>\n",
              "      <td>João Silva</td>\n",
              "      <td>joao.silva@emailaleatorio.com</td>\n",
              "      <td>(11) 9999-9999</td>\n",
              "    </tr>\n",
              "  </tbody>\n",
              "</table>\n",
              "</div>"
            ],
            "text/plain": [
              "                             curso      categoria carga_horaria concluintes  \\\n",
              "0         Introdução à programação    Programação      20 horas         100   \n",
              "1            Excel para iniciantes  Produtividade          None        None   \n",
              "2  Marketing digital para negócios      Marketing      30 horas          75   \n",
              "3          Inteligência artificial    Programação      40 horas               \n",
              "4             Inglês para negócios        Idiomas      20 horas          30   \n",
              "5         Introdução à programação    Programação      20 horas         100   \n",
              "\n",
              "  data_inicio data_conclusao  \\\n",
              "0  2022-01-01     2022-01-20   \n",
              "1        None           None   \n",
              "2  2022-03-01     2022-03-31   \n",
              "3  2022-04-01                  \n",
              "4                              \n",
              "5  2022-01-01     2022-01-20   \n",
              "\n",
              "                                           descricao  preco  instrutor.nome  \\\n",
              "0        Curso introdutório à programação com Python  99.90      João Silva   \n",
              "1                                               None   None  Maria Oliveira   \n",
              "2                    Curso introdutório em marketing   89.9      Ana Santos   \n",
              "3  Curso avançado sobre inteligência artificial c...  129.9                   \n",
              "4                      Curso de inglês para negócios   69.9      John Smith   \n",
              "5        Curso introdutório à programação com Python  99.90      João Silva   \n",
              "\n",
              "                     instrutor.email instrutor.telefone  \n",
              "0      joao.silva@emailaleatorio.com     (11) 9999-9999  \n",
              "1  maria.oliveira@emailaleatorio.com     (11) 8888-8888  \n",
              "2      ana.santos@emailaleatorio.com     (11) 7777-7777  \n",
              "3         contato@emailaleatorio.com                     \n",
              "4                                                        \n",
              "5      joao.silva@emailaleatorio.com     (11) 9999-9999  "
            ]
          },
          "execution_count": 419,
          "metadata": {},
          "output_type": "execute_result"
        }
      ],
      "source": [
        "dados_brutos = pd.json_normalize(dados)\n",
        "dados_brutos"
      ]
    },
    {
      "cell_type": "code",
      "execution_count": 420,
      "metadata": {},
      "outputs": [
        {
          "name": "stdout",
          "output_type": "stream",
          "text": [
            "<class 'pandas.core.frame.DataFrame'>\n",
            "RangeIndex: 6 entries, 0 to 5\n",
            "Data columns (total 11 columns):\n",
            " #   Column              Non-Null Count  Dtype \n",
            "---  ------              --------------  ----- \n",
            " 0   curso               6 non-null      object\n",
            " 1   categoria           6 non-null      object\n",
            " 2   carga_horaria       5 non-null      object\n",
            " 3   concluintes         5 non-null      object\n",
            " 4   data_inicio         5 non-null      object\n",
            " 5   data_conclusao      5 non-null      object\n",
            " 6   descricao           5 non-null      object\n",
            " 7   preco               5 non-null      object\n",
            " 8   instrutor.nome      6 non-null      object\n",
            " 9   instrutor.email     6 non-null      object\n",
            " 10  instrutor.telefone  6 non-null      object\n",
            "dtypes: object(11)\n",
            "memory usage: 660.0+ bytes\n"
          ]
        }
      ],
      "source": [
        "dados_brutos.info()"
      ]
    },
    {
      "cell_type": "code",
      "execution_count": 421,
      "metadata": {},
      "outputs": [
        {
          "data": {
            "text/plain": [
              "curso                 0\n",
              "categoria             0\n",
              "carga_horaria         1\n",
              "concluintes           1\n",
              "data_inicio           1\n",
              "data_conclusao        1\n",
              "descricao             1\n",
              "preco                 1\n",
              "instrutor.nome        0\n",
              "instrutor.email       0\n",
              "instrutor.telefone    0\n",
              "dtype: int64"
            ]
          },
          "execution_count": 421,
          "metadata": {},
          "output_type": "execute_result"
        }
      ],
      "source": [
        "dados_brutos.isnull().sum()"
      ]
    },
    {
      "cell_type": "code",
      "execution_count": 422,
      "metadata": {},
      "outputs": [],
      "source": [
        "filtrando = dados_brutos.isna().any(axis=1)"
      ]
    },
    {
      "cell_type": "code",
      "execution_count": 423,
      "metadata": {},
      "outputs": [
        {
          "data": {
            "text/html": [
              "<div>\n",
              "<style scoped>\n",
              "    .dataframe tbody tr th:only-of-type {\n",
              "        vertical-align: middle;\n",
              "    }\n",
              "\n",
              "    .dataframe tbody tr th {\n",
              "        vertical-align: top;\n",
              "    }\n",
              "\n",
              "    .dataframe thead th {\n",
              "        text-align: right;\n",
              "    }\n",
              "</style>\n",
              "<table border=\"1\" class=\"dataframe\">\n",
              "  <thead>\n",
              "    <tr style=\"text-align: right;\">\n",
              "      <th></th>\n",
              "      <th>curso</th>\n",
              "      <th>categoria</th>\n",
              "      <th>carga_horaria</th>\n",
              "      <th>concluintes</th>\n",
              "      <th>data_inicio</th>\n",
              "      <th>data_conclusao</th>\n",
              "      <th>descricao</th>\n",
              "      <th>preco</th>\n",
              "      <th>instrutor.nome</th>\n",
              "      <th>instrutor.email</th>\n",
              "      <th>instrutor.telefone</th>\n",
              "    </tr>\n",
              "  </thead>\n",
              "  <tbody>\n",
              "    <tr>\n",
              "      <th>1</th>\n",
              "      <td>Excel para iniciantes</td>\n",
              "      <td>Produtividade</td>\n",
              "      <td>None</td>\n",
              "      <td>None</td>\n",
              "      <td>None</td>\n",
              "      <td>None</td>\n",
              "      <td>None</td>\n",
              "      <td>None</td>\n",
              "      <td>Maria Oliveira</td>\n",
              "      <td>maria.oliveira@emailaleatorio.com</td>\n",
              "      <td>(11) 8888-8888</td>\n",
              "    </tr>\n",
              "  </tbody>\n",
              "</table>\n",
              "</div>"
            ],
            "text/plain": [
              "                   curso      categoria carga_horaria concluintes data_inicio  \\\n",
              "1  Excel para iniciantes  Produtividade          None        None        None   \n",
              "\n",
              "  data_conclusao descricao preco  instrutor.nome  \\\n",
              "1           None      None  None  Maria Oliveira   \n",
              "\n",
              "                     instrutor.email instrutor.telefone  \n",
              "1  maria.oliveira@emailaleatorio.com     (11) 8888-8888  "
            ]
          },
          "execution_count": 423,
          "metadata": {},
          "output_type": "execute_result"
        }
      ],
      "source": [
        "dados_brutos[filtrando]"
      ]
    },
    {
      "cell_type": "code",
      "execution_count": 424,
      "metadata": {},
      "outputs": [],
      "source": [
        "dados_brutos.dropna(inplace=True)"
      ]
    },
    {
      "cell_type": "code",
      "execution_count": 425,
      "metadata": {},
      "outputs": [
        {
          "data": {
            "text/html": [
              "<div>\n",
              "<style scoped>\n",
              "    .dataframe tbody tr th:only-of-type {\n",
              "        vertical-align: middle;\n",
              "    }\n",
              "\n",
              "    .dataframe tbody tr th {\n",
              "        vertical-align: top;\n",
              "    }\n",
              "\n",
              "    .dataframe thead th {\n",
              "        text-align: right;\n",
              "    }\n",
              "</style>\n",
              "<table border=\"1\" class=\"dataframe\">\n",
              "  <thead>\n",
              "    <tr style=\"text-align: right;\">\n",
              "      <th></th>\n",
              "      <th>curso</th>\n",
              "      <th>categoria</th>\n",
              "      <th>carga_horaria</th>\n",
              "      <th>concluintes</th>\n",
              "      <th>data_inicio</th>\n",
              "      <th>data_conclusao</th>\n",
              "      <th>descricao</th>\n",
              "      <th>preco</th>\n",
              "      <th>instrutor.nome</th>\n",
              "      <th>instrutor.email</th>\n",
              "      <th>instrutor.telefone</th>\n",
              "    </tr>\n",
              "  </thead>\n",
              "  <tbody>\n",
              "    <tr>\n",
              "      <th>0</th>\n",
              "      <td>Introdução à programação</td>\n",
              "      <td>Programação</td>\n",
              "      <td>20 horas</td>\n",
              "      <td>100</td>\n",
              "      <td>2022-01-01</td>\n",
              "      <td>2022-01-20</td>\n",
              "      <td>Curso introdutório à programação com Python</td>\n",
              "      <td>99.90</td>\n",
              "      <td>João Silva</td>\n",
              "      <td>joao.silva@emailaleatorio.com</td>\n",
              "      <td>(11) 9999-9999</td>\n",
              "    </tr>\n",
              "    <tr>\n",
              "      <th>2</th>\n",
              "      <td>Marketing digital para negócios</td>\n",
              "      <td>Marketing</td>\n",
              "      <td>30 horas</td>\n",
              "      <td>75</td>\n",
              "      <td>2022-03-01</td>\n",
              "      <td>2022-03-31</td>\n",
              "      <td>Curso introdutório em marketing</td>\n",
              "      <td>89.9</td>\n",
              "      <td>Ana Santos</td>\n",
              "      <td>ana.santos@emailaleatorio.com</td>\n",
              "      <td>(11) 7777-7777</td>\n",
              "    </tr>\n",
              "    <tr>\n",
              "      <th>3</th>\n",
              "      <td>Inteligência artificial</td>\n",
              "      <td>Programação</td>\n",
              "      <td>40 horas</td>\n",
              "      <td></td>\n",
              "      <td>2022-04-01</td>\n",
              "      <td></td>\n",
              "      <td>Curso avançado sobre inteligência artificial c...</td>\n",
              "      <td>129.9</td>\n",
              "      <td></td>\n",
              "      <td>contato@emailaleatorio.com</td>\n",
              "      <td></td>\n",
              "    </tr>\n",
              "    <tr>\n",
              "      <th>4</th>\n",
              "      <td>Inglês para negócios</td>\n",
              "      <td>Idiomas</td>\n",
              "      <td>20 horas</td>\n",
              "      <td>30</td>\n",
              "      <td></td>\n",
              "      <td></td>\n",
              "      <td>Curso de inglês para negócios</td>\n",
              "      <td>69.9</td>\n",
              "      <td>John Smith</td>\n",
              "      <td></td>\n",
              "      <td></td>\n",
              "    </tr>\n",
              "    <tr>\n",
              "      <th>5</th>\n",
              "      <td>Introdução à programação</td>\n",
              "      <td>Programação</td>\n",
              "      <td>20 horas</td>\n",
              "      <td>100</td>\n",
              "      <td>2022-01-01</td>\n",
              "      <td>2022-01-20</td>\n",
              "      <td>Curso introdutório à programação com Python</td>\n",
              "      <td>99.90</td>\n",
              "      <td>João Silva</td>\n",
              "      <td>joao.silva@emailaleatorio.com</td>\n",
              "      <td>(11) 9999-9999</td>\n",
              "    </tr>\n",
              "  </tbody>\n",
              "</table>\n",
              "</div>"
            ],
            "text/plain": [
              "                             curso    categoria carga_horaria concluintes  \\\n",
              "0         Introdução à programação  Programação      20 horas         100   \n",
              "2  Marketing digital para negócios    Marketing      30 horas          75   \n",
              "3          Inteligência artificial  Programação      40 horas               \n",
              "4             Inglês para negócios      Idiomas      20 horas          30   \n",
              "5         Introdução à programação  Programação      20 horas         100   \n",
              "\n",
              "  data_inicio data_conclusao  \\\n",
              "0  2022-01-01     2022-01-20   \n",
              "2  2022-03-01     2022-03-31   \n",
              "3  2022-04-01                  \n",
              "4                              \n",
              "5  2022-01-01     2022-01-20   \n",
              "\n",
              "                                           descricao  preco instrutor.nome  \\\n",
              "0        Curso introdutório à programação com Python  99.90     João Silva   \n",
              "2                    Curso introdutório em marketing   89.9     Ana Santos   \n",
              "3  Curso avançado sobre inteligência artificial c...  129.9                  \n",
              "4                      Curso de inglês para negócios   69.9     John Smith   \n",
              "5        Curso introdutório à programação com Python  99.90     João Silva   \n",
              "\n",
              "                 instrutor.email instrutor.telefone  \n",
              "0  joao.silva@emailaleatorio.com     (11) 9999-9999  \n",
              "2  ana.santos@emailaleatorio.com     (11) 7777-7777  \n",
              "3     contato@emailaleatorio.com                     \n",
              "4                                                    \n",
              "5  joao.silva@emailaleatorio.com     (11) 9999-9999  "
            ]
          },
          "execution_count": 425,
          "metadata": {},
          "output_type": "execute_result"
        }
      ],
      "source": [
        "dados_brutos"
      ]
    },
    {
      "cell_type": "code",
      "execution_count": 426,
      "metadata": {},
      "outputs": [
        {
          "data": {
            "text/plain": [
              "0    False\n",
              "2    False\n",
              "3    False\n",
              "4    False\n",
              "5     True\n",
              "dtype: bool"
            ]
          },
          "execution_count": 426,
          "metadata": {},
          "output_type": "execute_result"
        }
      ],
      "source": [
        "dados_brutos.duplicated()"
      ]
    },
    {
      "cell_type": "code",
      "execution_count": 427,
      "metadata": {},
      "outputs": [],
      "source": [
        "dados_brutos.drop_duplicates(inplace=True)"
      ]
    },
    {
      "cell_type": "code",
      "execution_count": 428,
      "metadata": {},
      "outputs": [
        {
          "data": {
            "text/html": [
              "<div>\n",
              "<style scoped>\n",
              "    .dataframe tbody tr th:only-of-type {\n",
              "        vertical-align: middle;\n",
              "    }\n",
              "\n",
              "    .dataframe tbody tr th {\n",
              "        vertical-align: top;\n",
              "    }\n",
              "\n",
              "    .dataframe thead th {\n",
              "        text-align: right;\n",
              "    }\n",
              "</style>\n",
              "<table border=\"1\" class=\"dataframe\">\n",
              "  <thead>\n",
              "    <tr style=\"text-align: right;\">\n",
              "      <th></th>\n",
              "      <th>curso</th>\n",
              "      <th>categoria</th>\n",
              "      <th>carga_horaria</th>\n",
              "      <th>concluintes</th>\n",
              "      <th>data_inicio</th>\n",
              "      <th>data_conclusao</th>\n",
              "      <th>descricao</th>\n",
              "      <th>preco</th>\n",
              "      <th>instrutor.nome</th>\n",
              "      <th>instrutor.email</th>\n",
              "      <th>instrutor.telefone</th>\n",
              "    </tr>\n",
              "  </thead>\n",
              "  <tbody>\n",
              "    <tr>\n",
              "      <th>0</th>\n",
              "      <td>Introdução à programação</td>\n",
              "      <td>Programação</td>\n",
              "      <td>20 horas</td>\n",
              "      <td>100</td>\n",
              "      <td>2022-01-01</td>\n",
              "      <td>2022-01-20</td>\n",
              "      <td>Curso introdutório à programação com Python</td>\n",
              "      <td>99.90</td>\n",
              "      <td>João Silva</td>\n",
              "      <td>joao.silva@emailaleatorio.com</td>\n",
              "      <td>(11) 9999-9999</td>\n",
              "    </tr>\n",
              "    <tr>\n",
              "      <th>2</th>\n",
              "      <td>Marketing digital para negócios</td>\n",
              "      <td>Marketing</td>\n",
              "      <td>30 horas</td>\n",
              "      <td>75</td>\n",
              "      <td>2022-03-01</td>\n",
              "      <td>2022-03-31</td>\n",
              "      <td>Curso introdutório em marketing</td>\n",
              "      <td>89.9</td>\n",
              "      <td>Ana Santos</td>\n",
              "      <td>ana.santos@emailaleatorio.com</td>\n",
              "      <td>(11) 7777-7777</td>\n",
              "    </tr>\n",
              "    <tr>\n",
              "      <th>3</th>\n",
              "      <td>Inteligência artificial</td>\n",
              "      <td>Programação</td>\n",
              "      <td>40 horas</td>\n",
              "      <td></td>\n",
              "      <td>2022-04-01</td>\n",
              "      <td></td>\n",
              "      <td>Curso avançado sobre inteligência artificial c...</td>\n",
              "      <td>129.9</td>\n",
              "      <td></td>\n",
              "      <td>contato@emailaleatorio.com</td>\n",
              "      <td></td>\n",
              "    </tr>\n",
              "    <tr>\n",
              "      <th>4</th>\n",
              "      <td>Inglês para negócios</td>\n",
              "      <td>Idiomas</td>\n",
              "      <td>20 horas</td>\n",
              "      <td>30</td>\n",
              "      <td></td>\n",
              "      <td></td>\n",
              "      <td>Curso de inglês para negócios</td>\n",
              "      <td>69.9</td>\n",
              "      <td>John Smith</td>\n",
              "      <td></td>\n",
              "      <td></td>\n",
              "    </tr>\n",
              "  </tbody>\n",
              "</table>\n",
              "</div>"
            ],
            "text/plain": [
              "                             curso    categoria carga_horaria concluintes  \\\n",
              "0         Introdução à programação  Programação      20 horas         100   \n",
              "2  Marketing digital para negócios    Marketing      30 horas          75   \n",
              "3          Inteligência artificial  Programação      40 horas               \n",
              "4             Inglês para negócios      Idiomas      20 horas          30   \n",
              "\n",
              "  data_inicio data_conclusao  \\\n",
              "0  2022-01-01     2022-01-20   \n",
              "2  2022-03-01     2022-03-31   \n",
              "3  2022-04-01                  \n",
              "4                              \n",
              "\n",
              "                                           descricao  preco instrutor.nome  \\\n",
              "0        Curso introdutório à programação com Python  99.90     João Silva   \n",
              "2                    Curso introdutório em marketing   89.9     Ana Santos   \n",
              "3  Curso avançado sobre inteligência artificial c...  129.9                  \n",
              "4                      Curso de inglês para negócios   69.9     John Smith   \n",
              "\n",
              "                 instrutor.email instrutor.telefone  \n",
              "0  joao.silva@emailaleatorio.com     (11) 9999-9999  \n",
              "2  ana.santos@emailaleatorio.com     (11) 7777-7777  \n",
              "3     contato@emailaleatorio.com                     \n",
              "4                                                    "
            ]
          },
          "execution_count": 428,
          "metadata": {},
          "output_type": "execute_result"
        }
      ],
      "source": [
        "dados_brutos"
      ]
    },
    {
      "cell_type": "code",
      "execution_count": 429,
      "metadata": {},
      "outputs": [
        {
          "name": "stdout",
          "output_type": "stream",
          "text": [
            "<class 'pandas.core.frame.DataFrame'>\n",
            "Index: 4 entries, 0 to 4\n",
            "Data columns (total 11 columns):\n",
            " #   Column              Non-Null Count  Dtype \n",
            "---  ------              --------------  ----- \n",
            " 0   curso               4 non-null      object\n",
            " 1   categoria           4 non-null      object\n",
            " 2   carga_horaria       4 non-null      object\n",
            " 3   concluintes         4 non-null      object\n",
            " 4   data_inicio         4 non-null      object\n",
            " 5   data_conclusao      4 non-null      object\n",
            " 6   descricao           4 non-null      object\n",
            " 7   preco               4 non-null      object\n",
            " 8   instrutor.nome      4 non-null      object\n",
            " 9   instrutor.email     4 non-null      object\n",
            " 10  instrutor.telefone  4 non-null      object\n",
            "dtypes: object(11)\n",
            "memory usage: 384.0+ bytes\n"
          ]
        }
      ],
      "source": [
        "dados_brutos.info()"
      ]
    },
    {
      "cell_type": "code",
      "execution_count": 430,
      "metadata": {},
      "outputs": [
        {
          "data": {
            "text/html": [
              "<div>\n",
              "<style scoped>\n",
              "    .dataframe tbody tr th:only-of-type {\n",
              "        vertical-align: middle;\n",
              "    }\n",
              "\n",
              "    .dataframe tbody tr th {\n",
              "        vertical-align: top;\n",
              "    }\n",
              "\n",
              "    .dataframe thead th {\n",
              "        text-align: right;\n",
              "    }\n",
              "</style>\n",
              "<table border=\"1\" class=\"dataframe\">\n",
              "  <thead>\n",
              "    <tr style=\"text-align: right;\">\n",
              "      <th></th>\n",
              "      <th>curso</th>\n",
              "      <th>categoria</th>\n",
              "      <th>carga_horaria</th>\n",
              "      <th>concluintes</th>\n",
              "      <th>data_inicio</th>\n",
              "      <th>data_conclusao</th>\n",
              "      <th>descricao</th>\n",
              "      <th>preco</th>\n",
              "      <th>instrutor.nome</th>\n",
              "      <th>instrutor.email</th>\n",
              "      <th>instrutor.telefone</th>\n",
              "    </tr>\n",
              "  </thead>\n",
              "  <tbody>\n",
              "    <tr>\n",
              "      <th>3</th>\n",
              "      <td>Inteligência artificial</td>\n",
              "      <td>Programação</td>\n",
              "      <td>40 horas</td>\n",
              "      <td></td>\n",
              "      <td>2022-04-01</td>\n",
              "      <td></td>\n",
              "      <td>Curso avançado sobre inteligência artificial c...</td>\n",
              "      <td>129.9</td>\n",
              "      <td></td>\n",
              "      <td>contato@emailaleatorio.com</td>\n",
              "      <td></td>\n",
              "    </tr>\n",
              "  </tbody>\n",
              "</table>\n",
              "</div>"
            ],
            "text/plain": [
              "                     curso    categoria carga_horaria concluintes data_inicio  \\\n",
              "3  Inteligência artificial  Programação      40 horas              2022-04-01   \n",
              "\n",
              "  data_conclusao                                          descricao  preco  \\\n",
              "3                 Curso avançado sobre inteligência artificial c...  129.9   \n",
              "\n",
              "  instrutor.nome             instrutor.email instrutor.telefone  \n",
              "3                 contato@emailaleatorio.com                     "
            ]
          },
          "execution_count": 430,
          "metadata": {},
          "output_type": "execute_result"
        }
      ],
      "source": [
        "dados_brutos[dados_brutos['instrutor.nome'] == \"\" ]"
      ]
    },
    {
      "cell_type": "code",
      "execution_count": 431,
      "metadata": {},
      "outputs": [
        {
          "data": {
            "text/html": [
              "<div>\n",
              "<style scoped>\n",
              "    .dataframe tbody tr th:only-of-type {\n",
              "        vertical-align: middle;\n",
              "    }\n",
              "\n",
              "    .dataframe tbody tr th {\n",
              "        vertical-align: top;\n",
              "    }\n",
              "\n",
              "    .dataframe thead th {\n",
              "        text-align: right;\n",
              "    }\n",
              "</style>\n",
              "<table border=\"1\" class=\"dataframe\">\n",
              "  <thead>\n",
              "    <tr style=\"text-align: right;\">\n",
              "      <th></th>\n",
              "      <th>curso</th>\n",
              "      <th>categoria</th>\n",
              "      <th>carga_horaria</th>\n",
              "      <th>concluintes</th>\n",
              "      <th>data_inicio</th>\n",
              "      <th>data_conclusao</th>\n",
              "      <th>descricao</th>\n",
              "      <th>preco</th>\n",
              "      <th>instrutor.nome</th>\n",
              "      <th>instrutor.email</th>\n",
              "      <th>instrutor.telefone</th>\n",
              "    </tr>\n",
              "  </thead>\n",
              "  <tbody>\n",
              "    <tr>\n",
              "      <th>3</th>\n",
              "      <td>Inteligência artificial</td>\n",
              "      <td>Programação</td>\n",
              "      <td>40 horas</td>\n",
              "      <td></td>\n",
              "      <td>2022-04-01</td>\n",
              "      <td></td>\n",
              "      <td>Curso avançado sobre inteligência artificial c...</td>\n",
              "      <td>129.9</td>\n",
              "      <td></td>\n",
              "      <td>contato@emailaleatorio.com</td>\n",
              "      <td></td>\n",
              "    </tr>\n",
              "    <tr>\n",
              "      <th>4</th>\n",
              "      <td>Inglês para negócios</td>\n",
              "      <td>Idiomas</td>\n",
              "      <td>20 horas</td>\n",
              "      <td>30</td>\n",
              "      <td></td>\n",
              "      <td></td>\n",
              "      <td>Curso de inglês para negócios</td>\n",
              "      <td>69.9</td>\n",
              "      <td>John Smith</td>\n",
              "      <td></td>\n",
              "      <td></td>\n",
              "    </tr>\n",
              "  </tbody>\n",
              "</table>\n",
              "</div>"
            ],
            "text/plain": [
              "                     curso    categoria carga_horaria concluintes data_inicio  \\\n",
              "3  Inteligência artificial  Programação      40 horas              2022-04-01   \n",
              "4     Inglês para negócios      Idiomas      20 horas          30               \n",
              "\n",
              "  data_conclusao                                          descricao  preco  \\\n",
              "3                 Curso avançado sobre inteligência artificial c...  129.9   \n",
              "4                                     Curso de inglês para negócios   69.9   \n",
              "\n",
              "  instrutor.nome             instrutor.email instrutor.telefone  \n",
              "3                 contato@emailaleatorio.com                     \n",
              "4     John Smith                                                 "
            ]
          },
          "execution_count": 431,
          "metadata": {},
          "output_type": "execute_result"
        }
      ],
      "source": [
        "dados_brutos[dados_brutos['data_conclusao'] == \"\" ]"
      ]
    },
    {
      "cell_type": "code",
      "execution_count": 432,
      "metadata": {},
      "outputs": [],
      "source": [
        "dados_brutos.replace('', pd.NA, inplace=True)"
      ]
    },
    {
      "cell_type": "code",
      "execution_count": 433,
      "metadata": {},
      "outputs": [
        {
          "data": {
            "text/html": [
              "<div>\n",
              "<style scoped>\n",
              "    .dataframe tbody tr th:only-of-type {\n",
              "        vertical-align: middle;\n",
              "    }\n",
              "\n",
              "    .dataframe tbody tr th {\n",
              "        vertical-align: top;\n",
              "    }\n",
              "\n",
              "    .dataframe thead th {\n",
              "        text-align: right;\n",
              "    }\n",
              "</style>\n",
              "<table border=\"1\" class=\"dataframe\">\n",
              "  <thead>\n",
              "    <tr style=\"text-align: right;\">\n",
              "      <th></th>\n",
              "      <th>curso</th>\n",
              "      <th>categoria</th>\n",
              "      <th>carga_horaria</th>\n",
              "      <th>concluintes</th>\n",
              "      <th>data_inicio</th>\n",
              "      <th>data_conclusao</th>\n",
              "      <th>descricao</th>\n",
              "      <th>preco</th>\n",
              "      <th>instrutor.nome</th>\n",
              "      <th>instrutor.email</th>\n",
              "      <th>instrutor.telefone</th>\n",
              "    </tr>\n",
              "  </thead>\n",
              "  <tbody>\n",
              "    <tr>\n",
              "      <th>0</th>\n",
              "      <td>Introdução à programação</td>\n",
              "      <td>Programação</td>\n",
              "      <td>20 horas</td>\n",
              "      <td>100</td>\n",
              "      <td>2022-01-01</td>\n",
              "      <td>2022-01-20</td>\n",
              "      <td>Curso introdutório à programação com Python</td>\n",
              "      <td>99.90</td>\n",
              "      <td>João Silva</td>\n",
              "      <td>joao.silva@emailaleatorio.com</td>\n",
              "      <td>(11) 9999-9999</td>\n",
              "    </tr>\n",
              "    <tr>\n",
              "      <th>2</th>\n",
              "      <td>Marketing digital para negócios</td>\n",
              "      <td>Marketing</td>\n",
              "      <td>30 horas</td>\n",
              "      <td>75</td>\n",
              "      <td>2022-03-01</td>\n",
              "      <td>2022-03-31</td>\n",
              "      <td>Curso introdutório em marketing</td>\n",
              "      <td>89.9</td>\n",
              "      <td>Ana Santos</td>\n",
              "      <td>ana.santos@emailaleatorio.com</td>\n",
              "      <td>(11) 7777-7777</td>\n",
              "    </tr>\n",
              "    <tr>\n",
              "      <th>3</th>\n",
              "      <td>Inteligência artificial</td>\n",
              "      <td>Programação</td>\n",
              "      <td>40 horas</td>\n",
              "      <td>&lt;NA&gt;</td>\n",
              "      <td>2022-04-01</td>\n",
              "      <td>&lt;NA&gt;</td>\n",
              "      <td>Curso avançado sobre inteligência artificial c...</td>\n",
              "      <td>129.9</td>\n",
              "      <td>&lt;NA&gt;</td>\n",
              "      <td>contato@emailaleatorio.com</td>\n",
              "      <td>&lt;NA&gt;</td>\n",
              "    </tr>\n",
              "    <tr>\n",
              "      <th>4</th>\n",
              "      <td>Inglês para negócios</td>\n",
              "      <td>Idiomas</td>\n",
              "      <td>20 horas</td>\n",
              "      <td>30</td>\n",
              "      <td>&lt;NA&gt;</td>\n",
              "      <td>&lt;NA&gt;</td>\n",
              "      <td>Curso de inglês para negócios</td>\n",
              "      <td>69.9</td>\n",
              "      <td>John Smith</td>\n",
              "      <td>&lt;NA&gt;</td>\n",
              "      <td>&lt;NA&gt;</td>\n",
              "    </tr>\n",
              "  </tbody>\n",
              "</table>\n",
              "</div>"
            ],
            "text/plain": [
              "                             curso    categoria carga_horaria concluintes  \\\n",
              "0         Introdução à programação  Programação      20 horas         100   \n",
              "2  Marketing digital para negócios    Marketing      30 horas          75   \n",
              "3          Inteligência artificial  Programação      40 horas        <NA>   \n",
              "4             Inglês para negócios      Idiomas      20 horas          30   \n",
              "\n",
              "  data_inicio data_conclusao  \\\n",
              "0  2022-01-01     2022-01-20   \n",
              "2  2022-03-01     2022-03-31   \n",
              "3  2022-04-01           <NA>   \n",
              "4        <NA>           <NA>   \n",
              "\n",
              "                                           descricao  preco instrutor.nome  \\\n",
              "0        Curso introdutório à programação com Python  99.90     João Silva   \n",
              "2                    Curso introdutório em marketing   89.9     Ana Santos   \n",
              "3  Curso avançado sobre inteligência artificial c...  129.9           <NA>   \n",
              "4                      Curso de inglês para negócios   69.9     John Smith   \n",
              "\n",
              "                 instrutor.email instrutor.telefone  \n",
              "0  joao.silva@emailaleatorio.com     (11) 9999-9999  \n",
              "2  ana.santos@emailaleatorio.com     (11) 7777-7777  \n",
              "3     contato@emailaleatorio.com               <NA>  \n",
              "4                           <NA>               <NA>  "
            ]
          },
          "execution_count": 433,
          "metadata": {},
          "output_type": "execute_result"
        }
      ],
      "source": [
        "dados_brutos"
      ]
    },
    {
      "cell_type": "code",
      "execution_count": 434,
      "metadata": {},
      "outputs": [],
      "source": [
        "dados_brutos.dropna(subset='data_conclusao',inplace=True)"
      ]
    },
    {
      "cell_type": "code",
      "execution_count": 435,
      "metadata": {},
      "outputs": [
        {
          "data": {
            "text/html": [
              "<div>\n",
              "<style scoped>\n",
              "    .dataframe tbody tr th:only-of-type {\n",
              "        vertical-align: middle;\n",
              "    }\n",
              "\n",
              "    .dataframe tbody tr th {\n",
              "        vertical-align: top;\n",
              "    }\n",
              "\n",
              "    .dataframe thead th {\n",
              "        text-align: right;\n",
              "    }\n",
              "</style>\n",
              "<table border=\"1\" class=\"dataframe\">\n",
              "  <thead>\n",
              "    <tr style=\"text-align: right;\">\n",
              "      <th></th>\n",
              "      <th>curso</th>\n",
              "      <th>categoria</th>\n",
              "      <th>carga_horaria</th>\n",
              "      <th>concluintes</th>\n",
              "      <th>data_inicio</th>\n",
              "      <th>data_conclusao</th>\n",
              "      <th>descricao</th>\n",
              "      <th>preco</th>\n",
              "      <th>instrutor.nome</th>\n",
              "      <th>instrutor.email</th>\n",
              "      <th>instrutor.telefone</th>\n",
              "    </tr>\n",
              "  </thead>\n",
              "  <tbody>\n",
              "    <tr>\n",
              "      <th>0</th>\n",
              "      <td>Introdução à programação</td>\n",
              "      <td>Programação</td>\n",
              "      <td>20 horas</td>\n",
              "      <td>100</td>\n",
              "      <td>2022-01-01</td>\n",
              "      <td>2022-01-20</td>\n",
              "      <td>Curso introdutório à programação com Python</td>\n",
              "      <td>99.90</td>\n",
              "      <td>João Silva</td>\n",
              "      <td>joao.silva@emailaleatorio.com</td>\n",
              "      <td>(11) 9999-9999</td>\n",
              "    </tr>\n",
              "    <tr>\n",
              "      <th>2</th>\n",
              "      <td>Marketing digital para negócios</td>\n",
              "      <td>Marketing</td>\n",
              "      <td>30 horas</td>\n",
              "      <td>75</td>\n",
              "      <td>2022-03-01</td>\n",
              "      <td>2022-03-31</td>\n",
              "      <td>Curso introdutório em marketing</td>\n",
              "      <td>89.9</td>\n",
              "      <td>Ana Santos</td>\n",
              "      <td>ana.santos@emailaleatorio.com</td>\n",
              "      <td>(11) 7777-7777</td>\n",
              "    </tr>\n",
              "  </tbody>\n",
              "</table>\n",
              "</div>"
            ],
            "text/plain": [
              "                             curso    categoria carga_horaria concluintes  \\\n",
              "0         Introdução à programação  Programação      20 horas         100   \n",
              "2  Marketing digital para negócios    Marketing      30 horas          75   \n",
              "\n",
              "  data_inicio data_conclusao                                    descricao  \\\n",
              "0  2022-01-01     2022-01-20  Curso introdutório à programação com Python   \n",
              "2  2022-03-01     2022-03-31              Curso introdutório em marketing   \n",
              "\n",
              "   preco instrutor.nome                instrutor.email instrutor.telefone  \n",
              "0  99.90     João Silva  joao.silva@emailaleatorio.com     (11) 9999-9999  \n",
              "2   89.9     Ana Santos  ana.santos@emailaleatorio.com     (11) 7777-7777  "
            ]
          },
          "execution_count": 435,
          "metadata": {},
          "output_type": "execute_result"
        }
      ],
      "source": [
        "dados_brutos"
      ]
    },
    {
      "cell_type": "code",
      "execution_count": 436,
      "metadata": {},
      "outputs": [
        {
          "name": "stdout",
          "output_type": "stream",
          "text": [
            "<class 'pandas.core.frame.DataFrame'>\n",
            "Index: 2 entries, 0 to 2\n",
            "Data columns (total 11 columns):\n",
            " #   Column              Non-Null Count  Dtype \n",
            "---  ------              --------------  ----- \n",
            " 0   curso               2 non-null      object\n",
            " 1   categoria           2 non-null      object\n",
            " 2   carga_horaria       2 non-null      object\n",
            " 3   concluintes         2 non-null      object\n",
            " 4   data_inicio         2 non-null      object\n",
            " 5   data_conclusao      2 non-null      object\n",
            " 6   descricao           2 non-null      object\n",
            " 7   preco               2 non-null      object\n",
            " 8   instrutor.nome      2 non-null      object\n",
            " 9   instrutor.email     2 non-null      object\n",
            " 10  instrutor.telefone  2 non-null      object\n",
            "dtypes: object(11)\n",
            "memory usage: 192.0+ bytes\n"
          ]
        }
      ],
      "source": [
        "dados_brutos.info()"
      ]
    },
    {
      "cell_type": "code",
      "execution_count": 437,
      "metadata": {},
      "outputs": [],
      "source": [
        "dados_brutos['preco'] = dados_brutos['preco'].astype(float)\n",
        "dados_brutos['concluintes'] = dados_brutos['concluintes'].astype(int)\n",
        "dados_brutos[['data_inicio', 'data_conclusao']] = dados_brutos[['data_inicio', 'data_conclusao']].apply(pd.to_datetime)"
      ]
    },
    {
      "cell_type": "code",
      "execution_count": 438,
      "metadata": {},
      "outputs": [
        {
          "name": "stdout",
          "output_type": "stream",
          "text": [
            "<class 'pandas.core.frame.DataFrame'>\n",
            "Index: 2 entries, 0 to 2\n",
            "Data columns (total 11 columns):\n",
            " #   Column              Non-Null Count  Dtype         \n",
            "---  ------              --------------  -----         \n",
            " 0   curso               2 non-null      object        \n",
            " 1   categoria           2 non-null      object        \n",
            " 2   carga_horaria       2 non-null      object        \n",
            " 3   concluintes         2 non-null      int64         \n",
            " 4   data_inicio         2 non-null      datetime64[ns]\n",
            " 5   data_conclusao      2 non-null      datetime64[ns]\n",
            " 6   descricao           2 non-null      object        \n",
            " 7   preco               2 non-null      float64       \n",
            " 8   instrutor.nome      2 non-null      object        \n",
            " 9   instrutor.email     2 non-null      object        \n",
            " 10  instrutor.telefone  2 non-null      object        \n",
            "dtypes: datetime64[ns](2), float64(1), int64(1), object(7)\n",
            "memory usage: 192.0+ bytes\n"
          ]
        }
      ],
      "source": [
        "dados_brutos.info()"
      ]
    },
    {
      "cell_type": "code",
      "execution_count": 439,
      "metadata": {},
      "outputs": [
        {
          "data": {
            "text/plain": [
              "pandas.core.frame.DataFrame"
            ]
          },
          "execution_count": 439,
          "metadata": {},
          "output_type": "execute_result"
        }
      ],
      "source": [
        "type(dados_brutos)"
      ]
    },
    {
      "cell_type": "markdown",
      "metadata": {},
      "source": [
        "### Desafio: identificando fraudes"
      ]
    },
    {
      "cell_type": "markdown",
      "metadata": {},
      "source": [
        "Você trabalha em um banco como cientista de dados e recebeu o seguinte conjunto de dados para analisar:\n",
        "\n",
        "```python\n",
        "import pandas as pd\n",
        "\n",
        "# criando um DataFrame com 30 transações aleatórias\n",
        "df = pd.DataFrame({\n",
        "    'ID da transação': range(1, 31),\n",
        "    'Valor da transação': [100, 200, 150, 500, 300, 913, 250, 400, 200, 150, \n",
        "                           200, 200, 400, 300, 150, 301, 805, 300, 400, 250, \n",
        "                           150, 100, 500, 600, 200, 350, 100, 250, 800, 250],\n",
        "    'Data da transação': pd.date_range(start='2022-01-01', end='2022-01-30', freq='D'),\n",
        "    'Local da transação': ['São Paulo, Brasil', 'Rio de Janeiro, Brasil', 'Belo Horizonte, Brasil', 'São Paulo, Brasil', \n",
        "                           'São Paulo, Brasil', 'Nova Iorque, EUA', 'São Paulo, Brasil', 'São Paulo, Brasil', 'São Paulo, Brasil',\n",
        "                           'Rio de Janeiro, Brasil', 'São Paulo, Brasil', 'São Paulo, Brasil', 'São Paulo, Brasil', 'São Paulo, Brasil',\n",
        "                           'São Paulo, Brasil', 'São Paulo, Brasil', 'Los Angeles, EUA', 'São Paulo, Brasil', 'São Paulo, Brasil', 'São Paulo, Brasil',\n",
        "                           'São Paulo, Brasil', 'São Paulo, Brasil', 'São Paulo, Brasil', 'São Paulo, Brasil', 'São Paulo, Brasil', 'São Paulo, Brasil',\n",
        "                           'São Paulo, Brasil', 'São Paulo, Brasil', 'Miami, EUA', 'São Paulo, Brasil']\n",
        "})\n",
        "\n",
        "```\n",
        "\n",
        "Foi informado que nessa base de dados há possíveis fraudes que podem ser identificadas através dos outliers no “valor da transação”. Basicamente a fraude seria um outlier.\n",
        "\n",
        "Sua missão é construir uma função que recebe dois parâmetros, a coluna que você quer analisar se tem outlier e o DataFrame em questão. A intenção de fazer isso é aproveitar novamente essa função tanto para outras colunas quanto para outros DataFrames futuramente em outras análises. O método que deve ser implementado para identificação do outlier é do intervalo interquartil.\n",
        "\n",
        "Como podemos fazer isso?"
      ]
    },
    {
      "cell_type": "code",
      "execution_count": 440,
      "metadata": {},
      "outputs": [],
      "source": [
        "import pandas as pd\n",
        "\n",
        "# criando um DataFrame com 30 transações aleatórias\n",
        "df = pd.DataFrame({\n",
        "    'ID da transação': range(1, 31),\n",
        "    'Valor da transação': [100, 200, 150, 500, 300, 913, 250, 400, 200, 150, \n",
        "                           200, 200, 400, 300, 150, 301, 805, 300, 400, 250, \n",
        "                           150, 100, 500, 600, 200, 350, 100, 250, 800, 250],\n",
        "    'Data da transação': pd.date_range(start='2022-01-01', end='2022-01-30', freq='D'),\n",
        "    'Local da transação': ['São Paulo, Brasil', 'Rio de Janeiro, Brasil', 'Belo Horizonte, Brasil', 'São Paulo, Brasil', \n",
        "                           'São Paulo, Brasil', 'Nova Iorque, EUA', 'São Paulo, Brasil', 'São Paulo, Brasil', 'São Paulo, Brasil',\n",
        "                           'Rio de Janeiro, Brasil', 'São Paulo, Brasil', 'São Paulo, Brasil', 'São Paulo, Brasil', 'São Paulo, Brasil',\n",
        "                           'São Paulo, Brasil', 'São Paulo, Brasil', 'Los Angeles, EUA', 'São Paulo, Brasil', 'São Paulo, Brasil', 'São Paulo, Brasil',\n",
        "                           'São Paulo, Brasil', 'São Paulo, Brasil', 'São Paulo, Brasil', 'São Paulo, Brasil', 'São Paulo, Brasil', 'São Paulo, Brasil',\n",
        "                           'São Paulo, Brasil', 'São Paulo, Brasil', 'Miami, EUA', 'São Paulo, Brasil']\n",
        "})"
      ]
    },
    {
      "cell_type": "code",
      "execution_count": 441,
      "metadata": {},
      "outputs": [
        {
          "name": "stdout",
          "output_type": "stream",
          "text": [
            "<class 'pandas.core.frame.DataFrame'>\n",
            "RangeIndex: 30 entries, 0 to 29\n",
            "Data columns (total 4 columns):\n",
            " #   Column              Non-Null Count  Dtype         \n",
            "---  ------              --------------  -----         \n",
            " 0   ID da transação     30 non-null     int64         \n",
            " 1   Valor da transação  30 non-null     int64         \n",
            " 2   Data da transação   30 non-null     datetime64[ns]\n",
            " 3   Local da transação  30 non-null     object        \n",
            "dtypes: datetime64[ns](1), int64(2), object(1)\n",
            "memory usage: 1.1+ KB\n"
          ]
        }
      ],
      "source": [
        "df.info()"
      ]
    },
    {
      "cell_type": "code",
      "execution_count": 442,
      "metadata": {},
      "outputs": [
        {
          "ename": "ModuleNotFoundError",
          "evalue": "No module named 'seaborn'",
          "output_type": "error",
          "traceback": [
            "\u001b[31m---------------------------------------------------------------------------\u001b[39m",
            "\u001b[31mModuleNotFoundError\u001b[39m                       Traceback (most recent call last)",
            "\u001b[36mCell\u001b[39m\u001b[36m \u001b[39m\u001b[32mIn[442]\u001b[39m\u001b[32m, line 1\u001b[39m\n\u001b[32m----> \u001b[39m\u001b[32m1\u001b[39m \u001b[38;5;28;01mimport\u001b[39;00m\u001b[38;5;250m \u001b[39m\u001b[34;01mseaborn\u001b[39;00m\u001b[38;5;250m \u001b[39m\u001b[38;5;28;01mas\u001b[39;00m\u001b[38;5;250m \u001b[39m\u001b[34;01msns\u001b[39;00m\n",
            "\u001b[31mModuleNotFoundError\u001b[39m: No module named 'seaborn'"
          ]
        }
      ],
      "source": [
        "import seaborn as sns"
      ]
    },
    {
      "cell_type": "code",
      "execution_count": null,
      "metadata": {},
      "outputs": [
        {
          "data": {
            "text/plain": [
              "<Axes: xlabel='Valor da transação'>"
            ]
          },
          "execution_count": 302,
          "metadata": {},
          "output_type": "execute_result"
        },
        {
          "data": {
            "image/png": "[encoded data removed]",
            "text/plain": [
              "<Figure size 640x480 with 1 Axes>"
            ]
          },
          "metadata": {},
          "output_type": "display_data"
        }
      ],
      "source": [
        "sns.boxplot(x=df['Valor da transação'])"
      ]
    },
    {
      "cell_type": "code",
      "execution_count": null,
      "metadata": {},
      "outputs": [],
      "source": [
        "Q1 = df['Valor da transação'].quantile(.25)\n",
        "Q3 = df['Valor da transação'].quantile(.75)\n",
        "IQR = Q3-Q1\n",
        "limite_inferior = Q1 - 1.5*IQR\n",
        "limite_superior = Q3 + 1.5*IQR"
      ]
    },
    {
      "cell_type": "code",
      "execution_count": null,
      "metadata": {},
      "outputs": [
        {
          "data": {
            "text/plain": [
              "0     False\n",
              "1     False\n",
              "2     False\n",
              "3     False\n",
              "4     False\n",
              "5      True\n",
              "6     False\n",
              "7     False\n",
              "8     False\n",
              "9     False\n",
              "10    False\n",
              "11    False\n",
              "12    False\n",
              "13    False\n",
              "14    False\n",
              "15    False\n",
              "16     True\n",
              "17    False\n",
              "18    False\n",
              "19    False\n",
              "20    False\n",
              "21    False\n",
              "22    False\n",
              "23    False\n",
              "24    False\n",
              "25    False\n",
              "26    False\n",
              "27    False\n",
              "28     True\n",
              "29    False\n",
              "Name: Valor da transação, dtype: bool"
            ]
          },
          "execution_count": 304,
          "metadata": {},
          "output_type": "execute_result"
        }
      ],
      "source": [
        "filtro_outliers = (df['Valor da transação'] < limite_inferior) | (df['Valor da transação'] > limite_superior)\n",
        "filtro_outliers"
      ]
    },
    {
      "cell_type": "code",
      "execution_count": null,
      "metadata": {},
      "outputs": [
        {
          "data": {
            "text/html": [
              "<div>\n",
              "<style scoped>\n",
              "    .dataframe tbody tr th:only-of-type {\n",
              "        vertical-align: middle;\n",
              "    }\n",
              "\n",
              "    .dataframe tbody tr th {\n",
              "        vertical-align: top;\n",
              "    }\n",
              "\n",
              "    .dataframe thead th {\n",
              "        text-align: right;\n",
              "    }\n",
              "</style>\n",
              "<table border=\"1\" class=\"dataframe\">\n",
              "  <thead>\n",
              "    <tr style=\"text-align: right;\">\n",
              "      <th></th>\n",
              "      <th>ID da transação</th>\n",
              "      <th>Valor da transação</th>\n",
              "      <th>Data da transação</th>\n",
              "      <th>Local da transação</th>\n",
              "    </tr>\n",
              "  </thead>\n",
              "  <tbody>\n",
              "    <tr>\n",
              "      <th>5</th>\n",
              "      <td>6</td>\n",
              "      <td>913</td>\n",
              "      <td>2022-01-06</td>\n",
              "      <td>Nova Iorque, EUA</td>\n",
              "    </tr>\n",
              "    <tr>\n",
              "      <th>16</th>\n",
              "      <td>17</td>\n",
              "      <td>805</td>\n",
              "      <td>2022-01-17</td>\n",
              "      <td>Los Angeles, EUA</td>\n",
              "    </tr>\n",
              "    <tr>\n",
              "      <th>28</th>\n",
              "      <td>29</td>\n",
              "      <td>800</td>\n",
              "      <td>2022-01-29</td>\n",
              "      <td>Miami, EUA</td>\n",
              "    </tr>\n",
              "  </tbody>\n",
              "</table>\n",
              "</div>"
            ],
            "text/plain": [
              "    ID da transação  Valor da transação Data da transação Local da transação\n",
              "5                 6                 913        2022-01-06   Nova Iorque, EUA\n",
              "16               17                 805        2022-01-17   Los Angeles, EUA\n",
              "28               29                 800        2022-01-29         Miami, EUA"
            ]
          },
          "execution_count": 305,
          "metadata": {},
          "output_type": "execute_result"
        }
      ],
      "source": [
        "df[filtro_outliers]"
      ]
    },
    {
      "cell_type": "code",
      "execution_count": null,
      "metadata": {},
      "outputs": [],
      "source": [
        "def verifica_fraude(nome_coluna: str, dataframe):\n",
        "    Q1 = df[nome_coluna].quantile(.25)\n",
        "    Q3 = df[nome_coluna].quantile(.75)\n",
        "    IQR = Q3-Q1\n",
        "    limite_inferior = Q1 - 1.5*IQR\n",
        "    limite_superior = Q3 + 1.5*IQR\n",
        "\n",
        "    outlier_filtro = (df[nome_coluna] < limite_inferior) | (df[nome_coluna] > limite_superior)\n",
        "\n",
        "    outlier = dataframe[outlier_filtro]\n",
        "\n",
        "    return outlier\n"
      ]
    },
    {
      "cell_type": "code",
      "execution_count": null,
      "metadata": {},
      "outputs": [
        {
          "name": "stdout",
          "output_type": "stream",
          "text": [
            "    ID da transação  Valor da transação Data da transação Local da transação\n",
            "5                 6                 913        2022-01-06   Nova Iorque, EUA\n",
            "16               17                 805        2022-01-17   Los Angeles, EUA\n",
            "28               29                 800        2022-01-29         Miami, EUA\n"
          ]
        }
      ],
      "source": [
        "print(f'{verifica_fraude('Valor da transação', df)}')"
      ]
    }
  ],
  "metadata": {
    "colab": {
      "provenance": []
    },
    "kernelspec": {
      "display_name": "3.11.9",
      "language": "python",
      "name": "python3"
    },
    "language_info": {
      "codemirror_mode": {
        "name": "ipython",
        "version": 3
      },
      "file_extension": ".py",
      "mimetype": "text/x-python",
      "name": "python",
      "nbconvert_exporter": "python",
      "pygments_lexer": "ipython3",
      "version": "3.11.9"
    }
  },
  "nbformat": 4,
  "nbformat_minor": 0
}
