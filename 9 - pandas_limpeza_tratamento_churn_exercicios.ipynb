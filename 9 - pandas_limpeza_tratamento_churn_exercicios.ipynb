{
 "cells": [
  {
   "cell_type": "markdown",
   "metadata": {
    "id": "Ly1-WGXaP33O"
   },
   "source": [
    "# Conhecendo os dados"
   ]
  },
  {
   "cell_type": "markdown",
   "metadata": {},
   "source": [
    "### Desafio: utilizando parâmetros do json_normalize"
   ]
  },
  {
   "cell_type": "markdown",
   "metadata": {},
   "source": [
    "Ao normalizar o objeto JSON durante a aula passamos simplesmente ```pd.json_normalize(<dados>)``` mas o método json_normalize possui diversos parâmetros para trabalhar com estruturas de dados mais complexas.\n",
    "\n",
    "Você recebeu a tarefa de normalizar o seguinte arquivo JSON chamado ```“informacoes.json”``` referente a algumas informações de identificação de um cliente. O arquivo possui o seguinte conteúdo:"
   ]
  },
  {
   "cell_type": "markdown",
   "metadata": {},
   "source": [
    "```python\n",
    "{\n",
    "  \"nome\": \"João\",\n",
    "  \"idade\": 28,\n",
    "  \"enderecos\": [\n",
    "    {\n",
    "      \"tipo\": \"casa\",\n",
    "      \"rua\": \"Rua A\",\n",
    "      \"numero\": 123,\n",
    "      \"cidade\": \"São Paulo\"\n",
    "    },\n",
    "    {\n",
    "      \"tipo\": \"trabalho\",\n",
    "      \"rua\": \"Rua B\",\n",
    "      \"numero\": 456,\n",
    "      \"cidade\": \"Rio de Janeiro\"\n",
    "    }\n",
    "  ]\n",
    "}\n",
    "```\n",
    "\n",
    "O resultado final deve ser um Pandas DataFrame que possui a seguinte estrutura:\n",
    "\n",
    "![tabela](assets/pandas_limpeza_tratamento_de_dados_aula1.png)\n",
    "\n",
    "Como podemos fazer isso?"
   ]
  },
  {
   "cell_type": "code",
   "execution_count": null,
   "metadata": {},
   "outputs": [],
   "source": [
    "import pandas as pd\n",
    "import json"
   ]
  },
  {
   "cell_type": "code",
   "execution_count": null,
   "metadata": {},
   "outputs": [],
   "source": [
    "url = 'pandas-dados/informacoes.json'"
   ]
  },
  {
   "cell_type": "code",
   "execution_count": null,
   "metadata": {},
   "outputs": [],
   "source": [
    "dados = pd.read_json(url)\n",
    "dados.head()"
   ]
  },
  {
   "cell_type": "code",
   "execution_count": null,
   "metadata": {},
   "outputs": [],
   "source": [
    "pd.json_normalize(dados['enderecos'])"
   ]
  },
  {
   "cell_type": "code",
   "execution_count": null,
   "metadata": {},
   "outputs": [],
   "source": [
    "with open(url) as arquivo:\n",
    "    json_bruto = json.load(arquivo)"
   ]
  },
  {
   "cell_type": "code",
   "execution_count": null,
   "metadata": {},
   "outputs": [],
   "source": [
    "json_bruto"
   ]
  },
  {
   "cell_type": "code",
   "execution_count": null,
   "metadata": {},
   "outputs": [],
   "source": [
    "dados_normlizados = pd.json_normalize(json_bruto, record_path='enderecos',meta=[\"nome\", \"idade\"])\n",
    "dados_normlizados.head()"
   ]
  },
  {
   "cell_type": "markdown",
   "metadata": {},
   "source": [
    "### Desafio: tratando os dados"
   ]
  },
  {
   "cell_type": "markdown",
   "metadata": {},
   "source": [
    "Você recebeu e fez o download o arquivo JSON chamado “dados.json” que possui o seguinte conteúdo:\n",
    "\n",
    "```json\n",
    "{\n",
    "  \"pessoas\": [\n",
    "    {\n",
    "      \"nome\": \"João\",\n",
    "      \"idade\": \"25\",\n",
    "      \"endereco\": {\n",
    "        \"rua\": \"Rua A\",\n",
    "        \"numero\": 123,\n",
    "        \"cidade\": \"São Paulo\"\n",
    "      },\n",
    "      \"telefones\": [\n",
    "        \"11 1111-1111\",\n",
    "        \"11 2222-2222\"\n",
    "      ]\n",
    "    },\n",
    "    {\n",
    "      \"nome\": \"Maria\",\n",
    "      \"idade\": 30,\n",
    "      \"endereco\": {\n",
    "        \"rua\": \"\",\n",
    "        \"numero\": 456,\n",
    "        \"cidade\": \"Rio de Janeiro\"\n",
    "      },\n",
    "      \"telefones\": [\n",
    "        \"21 3333-3333\"\n",
    "      ]\n",
    "    }\n",
    "  ]\n",
    "}\n",
    "```\n",
    "\n",
    "Sua tarefa é realizar alguns tratamentos e deixar esse arquivo JSON como um Pandas DataFrame, sem dados vazios e com a tipagem das colunas de forma correta. Como isso pode ser feito?"
   ]
  },
  {
   "cell_type": "code",
   "execution_count": null,
   "metadata": {},
   "outputs": [],
   "source": [
    "import pandas as pd\n",
    "import json"
   ]
  },
  {
   "cell_type": "code",
   "execution_count": null,
   "metadata": {},
   "outputs": [],
   "source": [
    "url = 'pandas-dados/dados.json'"
   ]
  },
  {
   "cell_type": "code",
   "execution_count": null,
   "metadata": {},
   "outputs": [],
   "source": [
    "with open(url) as arquivo:\n",
    "    dados = json.load(arquivo)"
   ]
  },
  {
   "cell_type": "code",
   "execution_count": null,
   "metadata": {},
   "outputs": [],
   "source": [
    "dados"
   ]
  },
  {
   "cell_type": "code",
   "execution_count": null,
   "metadata": {},
   "outputs": [],
   "source": [
    "df = pd.json_normalize(dados, record_path=['pessoas'])\n",
    "df"
   ]
  },
  {
   "cell_type": "code",
   "execution_count": null,
   "metadata": {},
   "outputs": [],
   "source": [
    "df.info()"
   ]
  },
  {
   "cell_type": "markdown",
   "metadata": {},
   "source": [
    "analisando as informacoes acima, preciso corrigir:\n",
    "\n",
    "1. acertar o tipo da coluna idade\n",
    "2. retirar a linha com dados nulos"
   ]
  },
  {
   "cell_type": "code",
   "execution_count": null,
   "metadata": {},
   "outputs": [],
   "source": [
    "df['idade'] = df['idade'].astype(int)"
   ]
  },
  {
   "cell_type": "code",
   "execution_count": null,
   "metadata": {},
   "outputs": [],
   "source": [
    "df.info()"
   ]
  },
  {
   "cell_type": "code",
   "execution_count": null,
   "metadata": {},
   "outputs": [],
   "source": [
    "filtro_nulas = df['endereco.rua'] != ''"
   ]
  },
  {
   "cell_type": "code",
   "execution_count": null,
   "metadata": {},
   "outputs": [],
   "source": [
    "df_filtrado = df[filtro_nulas].copy()\n",
    "df_filtrado"
   ]
  },
  {
   "cell_type": "markdown",
   "metadata": {},
   "source": [
    "### Desafio: tratando uma base de dados"
   ]
  },
  {
   "cell_type": "markdown",
   "metadata": {},
   "source": [
    "Para facilitar a análise dos dados de cadastro de cursos de uma plataforma, você recebeu um arquivo chamado [cursos_cadastrados.json](https://cdn3.gnarususercontent.com.br/2929-pandas/cursos_cadastrados.json). Você foi informado que esses dados podem apresentar problemas que podem prejudicar a análise e interpretação correta dos dados.\n",
    "\n",
    "Para resolver isso, foi solicitado que você identifique e remova as amostras que apresentam os seguintes problemas:\n",
    "\n",
    "- Valores nulos: são valores ausentes em algumas das colunas que devem ser preenchidos para que a análise seja correta.\n",
    "- Duplicatas: registros iguais que podem prejudicar a análise dos dados, já que estão representando a mesma informação.\n",
    "- Strings vazias: valores de texto que não apresentam nenhum conteúdo escrito, o que pode dificultar a análise de dados, principalmente se a coluna tiver muitos valores assim.\n",
    "- Conversão de tipos: algumas colunas do arquivo podem estar no tipo de dados errado, como texto em vez de número, o que pode prejudicar a análise. Nesse caso você deve realizar a conversão para o tipo correto de cada coluna.\n",
    "\n",
    "Dentro desse contexto, você precisará de uma abordagem sistemática para limpar os dados. Assim, como isso pode ser feito?\n",
    "\n",
    "Lembrando que o conteúdo de cursos_cadastrados.json é:\n",
    "\n",
    "```python \n",
    "[\n",
    "    {\n",
    "        \"curso\": \"Introdução à programação\",\n",
    "        \"categoria\": \"Programação\",\n",
    "        \"carga_horaria\": \"20 horas\",\n",
    "        \"concluintes\": 100,\n",
    "        \"data_inicio\": \"2022-01-01\",\n",
    "        \"data_conclusao\": \"2022-01-20\",\n",
    "        \"descricao\": \"Curso introdutório à programação com Python\",\n",
    "        \"preco\": \"99.90\",\n",
    "        \"instrutor\": {\n",
    "            \"nome\": \"João Silva\",\n",
    "            \"email\": \"joao.silva@emailaleatorio.com\",\n",
    "            \"telefone\": \"(11) 9999-9999\"\n",
    "        }\n",
    "    },\n",
    "    {\n",
    "        \"curso\": \"Excel para iniciantes\",\n",
    "        \"categoria\": \"Produtividade\",\n",
    "        \"carga_horaria\": null,\n",
    "        \"concluintes\": null,\n",
    "        \"data_inicio\": null,\n",
    "        \"data_conclusao\": null,\n",
    "        \"descricao\": null,\n",
    "        \"preco\": null,\n",
    "        \"instrutor\": {\n",
    "            \"nome\": \"Maria Oliveira\",\n",
    "            \"email\": \"maria.oliveira@emailaleatorio.com\",\n",
    "            \"telefone\": \"(11) 8888-8888\"\n",
    "        }\n",
    "    },\n",
    "    {\n",
    "        \"curso\": \"Marketing digital para negócios\",\n",
    "        \"categoria\": \"Marketing\",\n",
    "        \"carga_horaria\": \"30 horas\",\n",
    "        \"concluintes\": 75,\n",
    "        \"data_inicio\": \"2022-03-01\",\n",
    "        \"data_conclusao\": \"2022-03-31\",\n",
    "        \"descricao\": \"Curso introdutório em marketing\",\n",
    "        \"preco\": 89.90,\n",
    "        \"instrutor\": {\n",
    "            \"nome\": \"Ana Santos\",\n",
    "            \"email\": \"ana.santos@emailaleatorio.com\",\n",
    "            \"telefone\": \"(11) 7777-7777\"\n",
    "        }\n",
    "    },\n",
    "    {\n",
    "        \"curso\": \"Inteligência artificial\",\n",
    "        \"categoria\": \"Programação\",\n",
    "        \"carga_horaria\": \"40 horas\",\n",
    "        \"concluintes\": \"\",\n",
    "        \"data_inicio\": \"2022-04-01\",\n",
    "        \"data_conclusao\": \"\",\n",
    "        \"descricao\": \"Curso avançado sobre inteligência artificial com Python\",\n",
    "        \"preco\": 129.90,\n",
    "        \"instrutor\": {\n",
    "            \"nome\": \"\",\n",
    "            \"email\": \"contato@emailaleatorio.com\",\n",
    "            \"telefone\": \"\"\n",
    "        }\n",
    "    },\n",
    "    {\n",
    "        \"curso\": \"Inglês para negócios\",\n",
    "        \"categoria\": \"Idiomas\",\n",
    "        \"carga_horaria\": \"20 horas\",\n",
    "        \"concluintes\": 30,\n",
    "        \"data_inicio\": \"\",\n",
    "        \"data_conclusao\": \"\",\n",
    "        \"descricao\": \"Curso de inglês para negócios\",\n",
    "        \"preco\": 69.90,\n",
    "        \"instrutor\": {\n",
    "            \"nome\": \"John Smith\",\n",
    "            \"email\": \"\",\n",
    "            \"telefone\": \"\"\n",
    "        }\n",
    "    },\n",
    "    {\n",
    "        \"curso\": \"Introdução à programação\",\n",
    "        \"categoria\": \"Programação\",\n",
    "        \"carga_horaria\": \"20 horas\",\n",
    "        \"concluintes\": 100,\n",
    "        \"data_inicio\": \"2022-01-01\",\n",
    "        \"data_conclusao\": \"2022-01-20\",\n",
    "        \"descricao\": \"Curso introdutório à programação com Python\",\n",
    "        \"preco\": \"99.90\",\n",
    "        \"instrutor\": {\n",
    "            \"nome\": \"João Silva\",\n",
    "            \"email\": \"joao.silva@emailaleatorio.com\",\n",
    "            \"telefone\": \"(11) 9999-9999\"\n",
    "        }\n",
    "    }\n",
    "]\n",
    "```"
   ]
  },
  {
   "cell_type": "code",
   "execution_count": null,
   "metadata": {},
   "outputs": [],
   "source": [
    "url = 'pandas-dados/cursos_cadastrados.json'\n",
    "\n",
    "with open(url) as f:\n",
    "    dados = json.load(f)"
   ]
  },
  {
   "cell_type": "code",
   "execution_count": null,
   "metadata": {},
   "outputs": [],
   "source": [
    "dados_brutos = pd.json_normalize(dados)\n",
    "dados_brutos"
   ]
  },
  {
   "cell_type": "code",
   "execution_count": null,
   "metadata": {},
   "outputs": [],
   "source": [
    "dados_brutos.info()"
   ]
  },
  {
   "cell_type": "code",
   "execution_count": null,
   "metadata": {},
   "outputs": [],
   "source": [
    "dados_brutos.isnull().sum()"
   ]
  },
  {
   "cell_type": "code",
   "execution_count": null,
   "metadata": {},
   "outputs": [],
   "source": [
    "filtrando = dados_brutos.isna().any(axis=1)"
   ]
  },
  {
   "cell_type": "code",
   "execution_count": null,
   "metadata": {},
   "outputs": [],
   "source": [
    "dados_brutos[filtrando]"
   ]
  },
  {
   "cell_type": "code",
   "execution_count": null,
   "metadata": {},
   "outputs": [],
   "source": [
    "dados_brutos.dropna(inplace=True)"
   ]
  },
  {
   "cell_type": "code",
   "execution_count": null,
   "metadata": {},
   "outputs": [],
   "source": [
    "dados_brutos"
   ]
  },
  {
   "cell_type": "code",
   "execution_count": null,
   "metadata": {},
   "outputs": [],
   "source": [
    "dados_brutos.duplicated()"
   ]
  },
  {
   "cell_type": "code",
   "execution_count": null,
   "metadata": {},
   "outputs": [],
   "source": [
    "dados_brutos.drop_duplicates(inplace=True)"
   ]
  },
  {
   "cell_type": "code",
   "execution_count": null,
   "metadata": {},
   "outputs": [],
   "source": [
    "dados_brutos"
   ]
  },
  {
   "cell_type": "code",
   "execution_count": null,
   "metadata": {},
   "outputs": [],
   "source": [
    "dados_brutos.info()"
   ]
  },
  {
   "cell_type": "code",
   "execution_count": null,
   "metadata": {},
   "outputs": [],
   "source": [
    "dados_brutos[dados_brutos['instrutor.nome'] == \"\" ]"
   ]
  },
  {
   "cell_type": "code",
   "execution_count": null,
   "metadata": {},
   "outputs": [],
   "source": [
    "dados_brutos[dados_brutos['data_conclusao'] == \"\" ]"
   ]
  },
  {
   "cell_type": "code",
   "execution_count": null,
   "metadata": {},
   "outputs": [],
   "source": [
    "dados_brutos.replace('', pd.NA, inplace=True)"
   ]
  },
  {
   "cell_type": "code",
   "execution_count": null,
   "metadata": {},
   "outputs": [],
   "source": [
    "dados_brutos"
   ]
  },
  {
   "cell_type": "code",
   "execution_count": null,
   "metadata": {},
   "outputs": [],
   "source": [
    "dados_brutos.dropna(subset='data_conclusao',inplace=True)"
   ]
  },
  {
   "cell_type": "code",
   "execution_count": null,
   "metadata": {},
   "outputs": [],
   "source": [
    "dados_brutos"
   ]
  },
  {
   "cell_type": "code",
   "execution_count": null,
   "metadata": {},
   "outputs": [],
   "source": [
    "dados_brutos.info()"
   ]
  },
  {
   "cell_type": "code",
   "execution_count": null,
   "metadata": {},
   "outputs": [],
   "source": [
    "dados_brutos['preco'] = dados_brutos['preco'].astype(float)\n",
    "dados_brutos['concluintes'] = dados_brutos['concluintes'].astype(int)\n",
    "dados_brutos[['data_inicio', 'data_conclusao']] = dados_brutos[['data_inicio', 'data_conclusao']].apply(pd.to_datetime)"
   ]
  },
  {
   "cell_type": "code",
   "execution_count": null,
   "metadata": {},
   "outputs": [],
   "source": [
    "dados_brutos.info()"
   ]
  },
  {
   "cell_type": "code",
   "execution_count": null,
   "metadata": {},
   "outputs": [],
   "source": [
    "type(dados_brutos)"
   ]
  },
  {
   "cell_type": "markdown",
   "metadata": {},
   "source": [
    "### Desafio: identificando fraudes"
   ]
  },
  {
   "cell_type": "markdown",
   "metadata": {},
   "source": [
    "Você trabalha em um banco como cientista de dados e recebeu o seguinte conjunto de dados para analisar:\n",
    "\n",
    "```python\n",
    "import pandas as pd\n",
    "\n",
    "# criando um DataFrame com 30 transações aleatórias\n",
    "df = pd.DataFrame({\n",
    "    'ID da transação': range(1, 31),\n",
    "    'Valor da transação': [100, 200, 150, 500, 300, 913, 250, 400, 200, 150, \n",
    "                           200, 200, 400, 300, 150, 301, 805, 300, 400, 250, \n",
    "                           150, 100, 500, 600, 200, 350, 100, 250, 800, 250],\n",
    "    'Data da transação': pd.date_range(start='2022-01-01', end='2022-01-30', freq='D'),\n",
    "    'Local da transação': ['São Paulo, Brasil', 'Rio de Janeiro, Brasil', 'Belo Horizonte, Brasil', 'São Paulo, Brasil', \n",
    "                           'São Paulo, Brasil', 'Nova Iorque, EUA', 'São Paulo, Brasil', 'São Paulo, Brasil', 'São Paulo, Brasil',\n",
    "                           'Rio de Janeiro, Brasil', 'São Paulo, Brasil', 'São Paulo, Brasil', 'São Paulo, Brasil', 'São Paulo, Brasil',\n",
    "                           'São Paulo, Brasil', 'São Paulo, Brasil', 'Los Angeles, EUA', 'São Paulo, Brasil', 'São Paulo, Brasil', 'São Paulo, Brasil',\n",
    "                           'São Paulo, Brasil', 'São Paulo, Brasil', 'São Paulo, Brasil', 'São Paulo, Brasil', 'São Paulo, Brasil', 'São Paulo, Brasil',\n",
    "                           'São Paulo, Brasil', 'São Paulo, Brasil', 'Miami, EUA', 'São Paulo, Brasil']\n",
    "})\n",
    "\n",
    "```\n",
    "\n",
    "Foi informado que nessa base de dados há possíveis fraudes que podem ser identificadas através dos outliers no “valor da transação”. Basicamente a fraude seria um outlier.\n",
    "\n",
    "Sua missão é construir uma função que recebe dois parâmetros, a coluna que você quer analisar se tem outlier e o DataFrame em questão. A intenção de fazer isso é aproveitar novamente essa função tanto para outras colunas quanto para outros DataFrames futuramente em outras análises. O método que deve ser implementado para identificação do outlier é do intervalo interquartil.\n",
    "\n",
    "Como podemos fazer isso?"
   ]
  },
  {
   "cell_type": "code",
   "execution_count": null,
   "metadata": {},
   "outputs": [],
   "source": [
    "import pandas as pd\n",
    "\n",
    "# criando um DataFrame com 30 transações aleatórias\n",
    "df = pd.DataFrame({\n",
    "    'ID da transação': range(1, 31),\n",
    "    'Valor da transação': [100, 200, 150, 500, 300, 913, 250, 400, 200, 150, \n",
    "                           200, 200, 400, 300, 150, 301, 805, 300, 400, 250, \n",
    "                           150, 100, 500, 600, 200, 350, 100, 250, 800, 250],\n",
    "    'Data da transação': pd.date_range(start='2022-01-01', end='2022-01-30', freq='D'),\n",
    "    'Local da transação': ['São Paulo, Brasil', 'Rio de Janeiro, Brasil', 'Belo Horizonte, Brasil', 'São Paulo, Brasil', \n",
    "                           'São Paulo, Brasil', 'Nova Iorque, EUA', 'São Paulo, Brasil', 'São Paulo, Brasil', 'São Paulo, Brasil',\n",
    "                           'Rio de Janeiro, Brasil', 'São Paulo, Brasil', 'São Paulo, Brasil', 'São Paulo, Brasil', 'São Paulo, Brasil',\n",
    "                           'São Paulo, Brasil', 'São Paulo, Brasil', 'Los Angeles, EUA', 'São Paulo, Brasil', 'São Paulo, Brasil', 'São Paulo, Brasil',\n",
    "                           'São Paulo, Brasil', 'São Paulo, Brasil', 'São Paulo, Brasil', 'São Paulo, Brasil', 'São Paulo, Brasil', 'São Paulo, Brasil',\n",
    "                           'São Paulo, Brasil', 'São Paulo, Brasil', 'Miami, EUA', 'São Paulo, Brasil']\n",
    "})"
   ]
  },
  {
   "cell_type": "code",
   "execution_count": null,
   "metadata": {},
   "outputs": [],
   "source": [
    "df.info()"
   ]
  },
  {
   "cell_type": "code",
   "execution_count": null,
   "metadata": {},
   "outputs": [],
   "source": [
    "import seaborn as sns"
   ]
  },
  {
   "cell_type": "code",
   "execution_count": null,
   "metadata": {},
   "outputs": [],
   "source": [
    "sns.boxplot(x=df['Valor da transação'])"
   ]
  },
  {
   "cell_type": "code",
   "execution_count": null,
   "metadata": {},
   "outputs": [],
   "source": [
    "Q1 = df['Valor da transação'].quantile(.25)\n",
    "Q3 = df['Valor da transação'].quantile(.75)\n",
    "IQR = Q3-Q1\n",
    "limite_inferior = Q1 - 1.5*IQR\n",
    "limite_superior = Q3 + 1.5*IQR"
   ]
  },
  {
   "cell_type": "code",
   "execution_count": null,
   "metadata": {},
   "outputs": [],
   "source": [
    "filtro_outliers = (df['Valor da transação'] < limite_inferior) | (df['Valor da transação'] > limite_superior)\n",
    "filtro_outliers"
   ]
  },
  {
   "cell_type": "code",
   "execution_count": null,
   "metadata": {},
   "outputs": [],
   "source": [
    "df[filtro_outliers]"
   ]
  },
  {
   "cell_type": "code",
   "execution_count": null,
   "metadata": {},
   "outputs": [],
   "source": [
    "from pandas import DataFrame"
   ]
  },
  {
   "cell_type": "code",
   "execution_count": null,
   "metadata": {},
   "outputs": [],
   "source": [
    "def verifica_fraude(nome_coluna: str, dataframe: DataFrame) -> DataFrame:\n",
    "    Q1 = df[nome_coluna].quantile(.25)\n",
    "    Q3 = df[nome_coluna].quantile(.75)\n",
    "    IQR = Q3-Q1\n",
    "    limite_inferior = Q1 - 1.5*IQR\n",
    "    limite_superior = Q3 + 1.5*IQR\n",
    "\n",
    "    outlier_filtro = (df[nome_coluna] < limite_inferior) | (df[nome_coluna] > limite_superior)\n",
    "\n",
    "    outlier = dataframe[outlier_filtro]\n",
    "\n",
    "    return outlier\n"
   ]
  },
  {
   "cell_type": "code",
   "execution_count": null,
   "metadata": {},
   "outputs": [],
   "source": [
    "print(f\"{verifica_fraude('Valor da transação', df)}\")"
   ]
  }
 ],
 "metadata": {
  "colab": {
   "provenance": []
  },
  "kernelspec": {
   "display_name": "3.11.9",
   "language": "python",
   "name": "python3"
  },
  "language_info": {
   "codemirror_mode": {
    "name": "ipython",
    "version": 3
   },
   "file_extension": ".py",
   "mimetype": "text/x-python",
   "name": "python",
   "nbconvert_exporter": "python",
   "pygments_lexer": "ipython3",
   "version": "3.11.9"
  }
 },
 "nbformat": 4,
 "nbformat_minor": 0
}
