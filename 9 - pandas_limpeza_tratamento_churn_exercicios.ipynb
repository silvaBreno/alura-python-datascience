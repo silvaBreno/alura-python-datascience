{
  "cells": [
    {
      "cell_type": "markdown",
      "metadata": {
        "id": "Ly1-WGXaP33O"
      },
      "source": [
        "# Conhecendo os dados"
      ]
    },
    {
      "cell_type": "markdown",
      "metadata": {},
      "source": [
        "### Desafio: utilizando parâmetros do json_normalize"
      ]
    },
    {
      "cell_type": "markdown",
      "metadata": {},
      "source": [
        "Ao normalizar o objeto JSON durante a aula passamos simplesmente ```pd.json_normalize(<dados>)``` mas o método json_normalize possui diversos parâmetros para trabalhar com estruturas de dados mais complexas.\n",
        "\n",
        "Você recebeu a tarefa de normalizar o seguinte arquivo JSON chamado ```“informacoes.json”``` referente a algumas informações de identificação de um cliente. O arquivo possui o seguinte conteúdo:"
      ]
    },
    {
      "cell_type": "markdown",
      "metadata": {},
      "source": [
        "```python\n",
        "{\n",
        "  \"nome\": \"João\",\n",
        "  \"idade\": 28,\n",
        "  \"enderecos\": [\n",
        "    {\n",
        "      \"tipo\": \"casa\",\n",
        "      \"rua\": \"Rua A\",\n",
        "      \"numero\": 123,\n",
        "      \"cidade\": \"São Paulo\"\n",
        "    },\n",
        "    {\n",
        "      \"tipo\": \"trabalho\",\n",
        "      \"rua\": \"Rua B\",\n",
        "      \"numero\": 456,\n",
        "      \"cidade\": \"Rio de Janeiro\"\n",
        "    }\n",
        "  ]\n",
        "}\n",
        "```\n",
        "\n",
        "O resultado final deve ser um Pandas DataFrame que possui a seguinte estrutura:\n",
        "\n",
        "![tabela](assets/pandas_limpeza_tratamento_de_dados_aula1.png)\n",
        "\n",
        "Como podemos fazer isso?"
      ]
    },
    {
      "cell_type": "code",
      "execution_count": 1,
      "metadata": {},
      "outputs": [],
      "source": [
        "import pandas as pd\n",
        "import json"
      ]
    },
    {
      "cell_type": "code",
      "execution_count": 2,
      "metadata": {},
      "outputs": [],
      "source": [
        "url = 'pandas-dados/informacoes.json'"
      ]
    },
    {
      "cell_type": "code",
      "execution_count": 3,
      "metadata": {},
      "outputs": [
        {
          "data": {
            "text/html": [
              "<div>\n",
              "<style scoped>\n",
              "    .dataframe tbody tr th:only-of-type {\n",
              "        vertical-align: middle;\n",
              "    }\n",
              "\n",
              "    .dataframe tbody tr th {\n",
              "        vertical-align: top;\n",
              "    }\n",
              "\n",
              "    .dataframe thead th {\n",
              "        text-align: right;\n",
              "    }\n",
              "</style>\n",
              "<table border=\"1\" class=\"dataframe\">\n",
              "  <thead>\n",
              "    <tr style=\"text-align: right;\">\n",
              "      <th></th>\n",
              "      <th>nome</th>\n",
              "      <th>idade</th>\n",
              "      <th>enderecos</th>\n",
              "    </tr>\n",
              "  </thead>\n",
              "  <tbody>\n",
              "    <tr>\n",
              "      <th>0</th>\n",
              "      <td>João</td>\n",
              "      <td>28</td>\n",
              "      <td>{'tipo': 'casa', 'rua': 'Rua A', 'numero': 123...</td>\n",
              "    </tr>\n",
              "    <tr>\n",
              "      <th>1</th>\n",
              "      <td>João</td>\n",
              "      <td>28</td>\n",
              "      <td>{'tipo': 'trabalho', 'rua': 'Rua B', 'numero':...</td>\n",
              "    </tr>\n",
              "  </tbody>\n",
              "</table>\n",
              "</div>"
            ],
            "text/plain": [
              "   nome  idade                                          enderecos\n",
              "0  João     28  {'tipo': 'casa', 'rua': 'Rua A', 'numero': 123...\n",
              "1  João     28  {'tipo': 'trabalho', 'rua': 'Rua B', 'numero':..."
            ]
          },
          "execution_count": 3,
          "metadata": {},
          "output_type": "execute_result"
        }
      ],
      "source": [
        "dados = pd.read_json(url)\n",
        "dados.head()"
      ]
    },
    {
      "cell_type": "code",
      "execution_count": 4,
      "metadata": {},
      "outputs": [
        {
          "data": {
            "text/html": [
              "<div>\n",
              "<style scoped>\n",
              "    .dataframe tbody tr th:only-of-type {\n",
              "        vertical-align: middle;\n",
              "    }\n",
              "\n",
              "    .dataframe tbody tr th {\n",
              "        vertical-align: top;\n",
              "    }\n",
              "\n",
              "    .dataframe thead th {\n",
              "        text-align: right;\n",
              "    }\n",
              "</style>\n",
              "<table border=\"1\" class=\"dataframe\">\n",
              "  <thead>\n",
              "    <tr style=\"text-align: right;\">\n",
              "      <th></th>\n",
              "      <th>tipo</th>\n",
              "      <th>rua</th>\n",
              "      <th>numero</th>\n",
              "      <th>cidade</th>\n",
              "    </tr>\n",
              "  </thead>\n",
              "  <tbody>\n",
              "    <tr>\n",
              "      <th>0</th>\n",
              "      <td>casa</td>\n",
              "      <td>Rua A</td>\n",
              "      <td>123</td>\n",
              "      <td>São Paulo</td>\n",
              "    </tr>\n",
              "    <tr>\n",
              "      <th>1</th>\n",
              "      <td>trabalho</td>\n",
              "      <td>Rua B</td>\n",
              "      <td>456</td>\n",
              "      <td>Rio de Janeiro</td>\n",
              "    </tr>\n",
              "  </tbody>\n",
              "</table>\n",
              "</div>"
            ],
            "text/plain": [
              "       tipo    rua  numero          cidade\n",
              "0      casa  Rua A     123       São Paulo\n",
              "1  trabalho  Rua B     456  Rio de Janeiro"
            ]
          },
          "execution_count": 4,
          "metadata": {},
          "output_type": "execute_result"
        }
      ],
      "source": [
        "pd.json_normalize(dados['enderecos'])"
      ]
    },
    {
      "cell_type": "code",
      "execution_count": 5,
      "metadata": {},
      "outputs": [],
      "source": [
        "with open(url) as arquivo:\n",
        "    json_bruto = json.load(arquivo)"
      ]
    },
    {
      "cell_type": "code",
      "execution_count": 6,
      "metadata": {},
      "outputs": [
        {
          "data": {
            "text/html": [
              "<div>\n",
              "<style scoped>\n",
              "    .dataframe tbody tr th:only-of-type {\n",
              "        vertical-align: middle;\n",
              "    }\n",
              "\n",
              "    .dataframe tbody tr th {\n",
              "        vertical-align: top;\n",
              "    }\n",
              "\n",
              "    .dataframe thead th {\n",
              "        text-align: right;\n",
              "    }\n",
              "</style>\n",
              "<table border=\"1\" class=\"dataframe\">\n",
              "  <thead>\n",
              "    <tr style=\"text-align: right;\">\n",
              "      <th></th>\n",
              "      <th>tipo</th>\n",
              "      <th>rua</th>\n",
              "      <th>numero</th>\n",
              "      <th>cidade</th>\n",
              "      <th>nome</th>\n",
              "      <th>idade</th>\n",
              "    </tr>\n",
              "  </thead>\n",
              "  <tbody>\n",
              "    <tr>\n",
              "      <th>0</th>\n",
              "      <td>casa</td>\n",
              "      <td>Rua A</td>\n",
              "      <td>123</td>\n",
              "      <td>São Paulo</td>\n",
              "      <td>João</td>\n",
              "      <td>28</td>\n",
              "    </tr>\n",
              "    <tr>\n",
              "      <th>1</th>\n",
              "      <td>trabalho</td>\n",
              "      <td>Rua B</td>\n",
              "      <td>456</td>\n",
              "      <td>Rio de Janeiro</td>\n",
              "      <td>João</td>\n",
              "      <td>28</td>\n",
              "    </tr>\n",
              "  </tbody>\n",
              "</table>\n",
              "</div>"
            ],
            "text/plain": [
              "       tipo    rua  numero          cidade  nome idade\n",
              "0      casa  Rua A     123       São Paulo  João    28\n",
              "1  trabalho  Rua B     456  Rio de Janeiro  João    28"
            ]
          },
          "execution_count": 6,
          "metadata": {},
          "output_type": "execute_result"
        }
      ],
      "source": [
        "dados_normlizados = pd.json_normalize(json_bruto, record_path='enderecos',meta=[\"nome\", \"idade\"])\n",
        "dados_normlizados.head()"
      ]
    },
    {
      "cell_type": "markdown",
      "metadata": {},
      "source": [
        "### Desafio: tratando os dados"
      ]
    },
    {
      "cell_type": "markdown",
      "metadata": {},
      "source": [
        "Você recebeu e fez o download o arquivo JSON chamado “dados.json” que possui o seguinte conteúdo:\n",
        "\n",
        "```json\n",
        "{\n",
        "  \"pessoas\": [\n",
        "    {\n",
        "      \"nome\": \"João\",\n",
        "      \"idade\": \"25\",\n",
        "      \"endereco\": {\n",
        "        \"rua\": \"Rua A\",\n",
        "        \"numero\": 123,\n",
        "        \"cidade\": \"São Paulo\"\n",
        "      },\n",
        "      \"telefones\": [\n",
        "        \"11 1111-1111\",\n",
        "        \"11 2222-2222\"\n",
        "      ]\n",
        "    },\n",
        "    {\n",
        "      \"nome\": \"Maria\",\n",
        "      \"idade\": 30,\n",
        "      \"endereco\": {\n",
        "        \"rua\": \"\",\n",
        "        \"numero\": 456,\n",
        "        \"cidade\": \"Rio de Janeiro\"\n",
        "      },\n",
        "      \"telefones\": [\n",
        "        \"21 3333-3333\"\n",
        "      ]\n",
        "    }\n",
        "  ]\n",
        "}\n",
        "```\n",
        "\n",
        "Sua tarefa é realizar alguns tratamentos e deixar esse arquivo JSON como um Pandas DataFrame, sem dados vazios e com a tipagem das colunas de forma correta. Como isso pode ser feito?"
      ]
    },
    {
      "cell_type": "code",
      "execution_count": 7,
      "metadata": {},
      "outputs": [],
      "source": [
        "import pandas as pd\n",
        "import json"
      ]
    },
    {
      "cell_type": "code",
      "execution_count": 8,
      "metadata": {},
      "outputs": [],
      "source": [
        "url = 'pandas-dados/dados.json'"
      ]
    },
    {
      "cell_type": "code",
      "execution_count": 9,
      "metadata": {},
      "outputs": [],
      "source": [
        "with open(url) as arquivo:\n",
        "    dados = json.load(arquivo)"
      ]
    },
    {
      "cell_type": "code",
      "execution_count": 10,
      "metadata": {},
      "outputs": [
        {
          "data": {
            "text/plain": [
              "{'pessoas': [{'nome': 'João',\n",
              "   'idade': '25',\n",
              "   'endereco': {'rua': 'Rua A', 'numero': 123, 'cidade': 'São Paulo'},\n",
              "   'telefones': ['11 1111-1111', '11 2222-2222']},\n",
              "  {'nome': 'Maria',\n",
              "   'idade': 30,\n",
              "   'endereco': {'rua': '', 'numero': 456, 'cidade': 'Rio de Janeiro'},\n",
              "   'telefones': ['21 3333-3333']}]}"
            ]
          },
          "execution_count": 10,
          "metadata": {},
          "output_type": "execute_result"
        }
      ],
      "source": [
        "dados"
      ]
    },
    {
      "cell_type": "code",
      "execution_count": 11,
      "metadata": {},
      "outputs": [
        {
          "data": {
            "text/html": [
              "<div>\n",
              "<style scoped>\n",
              "    .dataframe tbody tr th:only-of-type {\n",
              "        vertical-align: middle;\n",
              "    }\n",
              "\n",
              "    .dataframe tbody tr th {\n",
              "        vertical-align: top;\n",
              "    }\n",
              "\n",
              "    .dataframe thead th {\n",
              "        text-align: right;\n",
              "    }\n",
              "</style>\n",
              "<table border=\"1\" class=\"dataframe\">\n",
              "  <thead>\n",
              "    <tr style=\"text-align: right;\">\n",
              "      <th></th>\n",
              "      <th>nome</th>\n",
              "      <th>idade</th>\n",
              "      <th>telefones</th>\n",
              "      <th>endereco.rua</th>\n",
              "      <th>endereco.numero</th>\n",
              "      <th>endereco.cidade</th>\n",
              "    </tr>\n",
              "  </thead>\n",
              "  <tbody>\n",
              "    <tr>\n",
              "      <th>0</th>\n",
              "      <td>João</td>\n",
              "      <td>25</td>\n",
              "      <td>[11 1111-1111, 11 2222-2222]</td>\n",
              "      <td>Rua A</td>\n",
              "      <td>123</td>\n",
              "      <td>São Paulo</td>\n",
              "    </tr>\n",
              "    <tr>\n",
              "      <th>1</th>\n",
              "      <td>Maria</td>\n",
              "      <td>30</td>\n",
              "      <td>[21 3333-3333]</td>\n",
              "      <td></td>\n",
              "      <td>456</td>\n",
              "      <td>Rio de Janeiro</td>\n",
              "    </tr>\n",
              "  </tbody>\n",
              "</table>\n",
              "</div>"
            ],
            "text/plain": [
              "    nome idade                     telefones endereco.rua  endereco.numero  \\\n",
              "0   João    25  [11 1111-1111, 11 2222-2222]        Rua A              123   \n",
              "1  Maria    30                [21 3333-3333]                           456   \n",
              "\n",
              "  endereco.cidade  \n",
              "0       São Paulo  \n",
              "1  Rio de Janeiro  "
            ]
          },
          "execution_count": 11,
          "metadata": {},
          "output_type": "execute_result"
        }
      ],
      "source": [
        "df = pd.json_normalize(dados, record_path=['pessoas'])\n",
        "df"
      ]
    },
    {
      "cell_type": "code",
      "execution_count": 12,
      "metadata": {},
      "outputs": [
        {
          "name": "stdout",
          "output_type": "stream",
          "text": [
            "<class 'pandas.core.frame.DataFrame'>\n",
            "RangeIndex: 2 entries, 0 to 1\n",
            "Data columns (total 6 columns):\n",
            " #   Column           Non-Null Count  Dtype \n",
            "---  ------           --------------  ----- \n",
            " 0   nome             2 non-null      object\n",
            " 1   idade            2 non-null      object\n",
            " 2   telefones        2 non-null      object\n",
            " 3   endereco.rua     2 non-null      object\n",
            " 4   endereco.numero  2 non-null      int64 \n",
            " 5   endereco.cidade  2 non-null      object\n",
            "dtypes: int64(1), object(5)\n",
            "memory usage: 228.0+ bytes\n"
          ]
        }
      ],
      "source": [
        "df.info()"
      ]
    },
    {
      "cell_type": "markdown",
      "metadata": {},
      "source": [
        "analisando as informacoes acima, preciso corrigir:\n",
        "\n",
        "1. acertar o tipo da coluna idade\n",
        "2. retirar a linha com dados nulos"
      ]
    },
    {
      "cell_type": "code",
      "execution_count": 13,
      "metadata": {},
      "outputs": [],
      "source": [
        "df['idade'] = df['idade'].astype(int)"
      ]
    },
    {
      "cell_type": "code",
      "execution_count": 14,
      "metadata": {},
      "outputs": [
        {
          "name": "stdout",
          "output_type": "stream",
          "text": [
            "<class 'pandas.core.frame.DataFrame'>\n",
            "RangeIndex: 2 entries, 0 to 1\n",
            "Data columns (total 6 columns):\n",
            " #   Column           Non-Null Count  Dtype \n",
            "---  ------           --------------  ----- \n",
            " 0   nome             2 non-null      object\n",
            " 1   idade            2 non-null      int32 \n",
            " 2   telefones        2 non-null      object\n",
            " 3   endereco.rua     2 non-null      object\n",
            " 4   endereco.numero  2 non-null      int64 \n",
            " 5   endereco.cidade  2 non-null      object\n",
            "dtypes: int32(1), int64(1), object(4)\n",
            "memory usage: 220.0+ bytes\n"
          ]
        }
      ],
      "source": [
        "df.info()"
      ]
    },
    {
      "cell_type": "code",
      "execution_count": 15,
      "metadata": {},
      "outputs": [],
      "source": [
        "filtro_nulas = df['endereco.rua'] != ''"
      ]
    },
    {
      "cell_type": "code",
      "execution_count": 16,
      "metadata": {},
      "outputs": [
        {
          "data": {
            "text/html": [
              "<div>\n",
              "<style scoped>\n",
              "    .dataframe tbody tr th:only-of-type {\n",
              "        vertical-align: middle;\n",
              "    }\n",
              "\n",
              "    .dataframe tbody tr th {\n",
              "        vertical-align: top;\n",
              "    }\n",
              "\n",
              "    .dataframe thead th {\n",
              "        text-align: right;\n",
              "    }\n",
              "</style>\n",
              "<table border=\"1\" class=\"dataframe\">\n",
              "  <thead>\n",
              "    <tr style=\"text-align: right;\">\n",
              "      <th></th>\n",
              "      <th>nome</th>\n",
              "      <th>idade</th>\n",
              "      <th>telefones</th>\n",
              "      <th>endereco.rua</th>\n",
              "      <th>endereco.numero</th>\n",
              "      <th>endereco.cidade</th>\n",
              "    </tr>\n",
              "  </thead>\n",
              "  <tbody>\n",
              "    <tr>\n",
              "      <th>0</th>\n",
              "      <td>João</td>\n",
              "      <td>25</td>\n",
              "      <td>[11 1111-1111, 11 2222-2222]</td>\n",
              "      <td>Rua A</td>\n",
              "      <td>123</td>\n",
              "      <td>São Paulo</td>\n",
              "    </tr>\n",
              "  </tbody>\n",
              "</table>\n",
              "</div>"
            ],
            "text/plain": [
              "   nome  idade                     telefones endereco.rua  endereco.numero  \\\n",
              "0  João     25  [11 1111-1111, 11 2222-2222]        Rua A              123   \n",
              "\n",
              "  endereco.cidade  \n",
              "0       São Paulo  "
            ]
          },
          "execution_count": 16,
          "metadata": {},
          "output_type": "execute_result"
        }
      ],
      "source": [
        "df_filtrado = df[filtro_nulas].copy()\n",
        "df_filtrado"
      ]
    }
  ],
  "metadata": {
    "colab": {
      "provenance": []
    },
    "kernelspec": {
      "display_name": "base",
      "language": "python",
      "name": "python3"
    },
    "language_info": {
      "codemirror_mode": {
        "name": "ipython",
        "version": 3
      },
      "file_extension": ".py",
      "mimetype": "text/x-python",
      "name": "python",
      "nbconvert_exporter": "python",
      "pygments_lexer": "ipython3",
      "version": "3.12.7"
    }
  },
  "nbformat": 4,
  "nbformat_minor": 0
}
