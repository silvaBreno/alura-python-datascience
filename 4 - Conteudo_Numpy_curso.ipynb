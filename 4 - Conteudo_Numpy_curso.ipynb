{
 "cells": [
  {
   "cell_type": "markdown",
   "metadata": {},
   "source": [
    "## Conhecendo a biblioteca e nossos dados"
   ]
  },
  {
   "cell_type": "markdown",
   "metadata": {},
   "source": [
    "### Para saber mais: vantagens dos arrays"
   ]
  },
  {
   "cell_type": "markdown",
   "metadata": {},
   "source": [
    "As listas em Python são estruturas de dados básicas que podem conter elementos de diferentes tipos (inteiros, strings, outras listas, etc.). Já a Numpy (Numerical Python) é uma biblioteca do Python que fornece suporte a arrays multidimensionais, estruturas de dados mais avançadas e eficientes para cálculos numéricos.\n",
    "\n",
    "Aqui está um exemplo de como transformar uma lista em um array Numpy:"
   ]
  },
  {
   "cell_type": "code",
   "execution_count": null,
   "metadata": {},
   "outputs": [],
   "source": [
    "import numpy as np\n",
    "\n",
    "# cria uma lista\n",
    "lista = [1, 2, 3, 4, 5]\n",
    "\n",
    "# transforma a lista em um array Numpy\n",
    "array = np.array(lista)\n",
    "\n",
    "print(\"Lista: \", lista)\n",
    "print(\"Array: \", array)"
   ]
  },
  {
   "cell_type": "markdown",
   "metadata": {},
   "source": [
    "Saída:\n",
    "\n",
    "Lista: [1, 2, 3, 4, 5]\n",
    "Array: [1 2 3 4 5]\n",
    "\n",
    "Existem várias vantagens em usar arrays Numpy ao invés de listas regulares do Python e aqui estão algumas:\n",
    "\n",
    "```\n",
    "Eficiência de processamento\n",
    "```\n",
    "As operações matemáticas em arrays Numpy são muito mais rápidas do que em listas regulares, pois a NumPy foi otimizada para trabalhar com conjuntos de dados homogêneos e libera memória do computador rapidamente.\n",
    "```\n",
    "Facilidade de uso\n",
    "```\n",
    "As operações matemáticas em arrays Numpy são expressas de forma muito mais clara e concisa do que em listas regulares, tornando o código mais fácil de ler e manter.\n",
    "```\n",
    "Integração com outras bibliotecas\n",
    "```\n",
    "A Numpy é uma das bibliotecas mais utilizadas em ciência de dados e aprendizado de máquina. Muitas outras bibliotecas, como a Pandas e a Matplotlib, são projetadas para trabalhar diretamente com arrays Numpy.\n",
    "```\n",
    "Comparativo de performance: listas vs arrays\n",
    "```\n",
    "Focando na eficiência, podemos comparar o tempo levado para efetuar um cálculo utilizando listas e arrays."
   ]
  },
  {
   "cell_type": "code",
   "execution_count": null,
   "metadata": {},
   "outputs": [],
   "source": [
    "import numpy as np\n",
    "import time\n",
    "\n",
    "# cria uma lista com 1000000 elementos\n",
    "lista = list(range(1000000))\n",
    "\n",
    "# transforma a lista em um array Numpy\n",
    "array = np.array(lista)\n",
    "\n",
    "# começa a cronometrar o tempo para a operação com a lista\n",
    "start_time = time.time()\n",
    "\n",
    "# realiza a operação de elevar ao quadrado cada elemento da lista\n",
    "lista_quadrado = [i**2 for i in lista]\n",
    "\n",
    "# para o cronômetro\n",
    "list_time = time.time() - start_time\n",
    "\n",
    "# começa a cronometrar o tempo para a operação com o array\n",
    "start_time = time.time()\n",
    "\n",
    "# realiza a operação de elevar ao quadrado cada elemento do array\n",
    "array_quadrado = array**2\n",
    "\n",
    "# para o cronômetro\n",
    "array_time = time.time() - start_time\n",
    "\n",
    "print(\"Tempo da operação com a lista: \", list_time)\n",
    "print(\"Tempo da operação com o array: \", array_time)"
   ]
  },
  {
   "cell_type": "markdown",
   "metadata": {},
   "source": [
    "Saída:\n",
    "\n",
    "Tempo da operação com a lista: 0.2745847702026367\n",
    "\n",
    "Tempo da operação com o array: 0.004081010818481445\n",
    "\n",
    "Como pode ser visto, a operação realizada com o array Numpy foi muito mais rápida do que com a lista regular, o que demonstra a eficiência no processamento com o array."
   ]
  },
  {
   "cell_type": "markdown",
   "metadata": {},
   "source": [
    "### Carregando os dados"
   ]
  },
  {
   "cell_type": "code",
   "execution_count": null,
   "metadata": {},
   "outputs": [],
   "source": [
    "import numpy as np"
   ]
  },
  {
   "cell_type": "code",
   "execution_count": null,
   "metadata": {},
   "outputs": [],
   "source": [
    "# outra forma de carregar o arquivo seria usando a url que o github > (raw) oferece, ou passando o caminho da pasta 'numpy-dados/apples_ts.csv':\n",
    "url = 'https://raw.githubusercontent.com/alura-cursos/numpy/dados/apples_ts.csv'"
   ]
  },
  {
   "cell_type": "code",
   "execution_count": null,
   "metadata": {},
   "outputs": [],
   "source": [
    "7*12+3"
   ]
  },
  {
   "cell_type": "code",
   "execution_count": null,
   "metadata": {},
   "outputs": [],
   "source": [
    "# gerando uma sequencia de numeros \n",
    "\n",
    "np.arange(1,88,1)"
   ]
  },
  {
   "cell_type": "code",
   "execution_count": null,
   "metadata": {},
   "outputs": [],
   "source": [
    "data = np.loadtxt(url, delimiter=',', usecols= np.arange(1,88,1))"
   ]
  },
  {
   "cell_type": "markdown",
   "metadata": {},
   "source": [
    "### Dimensões dos arrays"
   ]
  },
  {
   "cell_type": "code",
   "execution_count": null,
   "metadata": {},
   "outputs": [],
   "source": [
    "data"
   ]
  },
  {
   "cell_type": "code",
   "execution_count": null,
   "metadata": {},
   "outputs": [],
   "source": [
    "# quero verificar quantas dimensões tem o array, no caso 2D\n",
    "data.ndim"
   ]
  },
  {
   "cell_type": "code",
   "execution_count": null,
   "metadata": {},
   "outputs": [],
   "source": [
    "# Verifica a quantidade de elementos do array\n",
    "data.size"
   ]
  },
  {
   "cell_type": "code",
   "execution_count": null,
   "metadata": {},
   "outputs": [],
   "source": [
    "# verifica o numero de elementos em cada dimensao, nesse caso diz que tem 6 linhas e 87 colunas\n",
    "data.shape"
   ]
  },
  {
   "cell_type": "code",
   "execution_count": null,
   "metadata": {},
   "outputs": [],
   "source": [
    "# realiza a transposição do array\n",
    "data_transposto = data.T"
   ]
  },
  {
   "cell_type": "code",
   "execution_count": null,
   "metadata": {},
   "outputs": [],
   "source": [
    "data_transposto"
   ]
  },
  {
   "cell_type": "markdown",
   "metadata": {},
   "source": [
    "### Faça como eu fiz\n",
    "Chegou a hora de você testar os conhecimentos desenvolvidos durante a aula. Para isso, vamos utilizar outro dataset em um desafio que será desenvolvido no decorrer do curso. Esse dataset é uma versão modificada do arquivo Oranges vs. Grapefruit presente no site do Kaggle. Portanto, utilizaremos o arquivo raw disponível no GitHub.\n",
    "\n",
    "Nessa etapa, você deve efetuar a leitura dos dados. Para isso, importe a NumPy e use a `função loadtxt`. Use o link da url e o parâmetro `usecols` para pular a primeira coluna. É possível usar `np.arange` para criar a sequência de números que representam as colunas. Por fim, também é necessário incluir o parâmetro `skiprows=1` para que a primeira linha de texto seja desconsiderada na leitura do arquivo."
   ]
  },
  {
   "cell_type": "code",
   "execution_count": null,
   "metadata": {},
   "outputs": [],
   "source": [
    "import numpy as np\n",
    "url = 'https://raw.githubusercontent.com/allanspadini/numpy/dados/citrus.csv'\n",
    "dado = np.loadtxt(url, delimiter=',',usecols=np.arange(1,6,1),skiprows=1)"
   ]
  },
  {
   "cell_type": "markdown",
   "metadata": {},
   "source": [
    "## Exploracao dos dados"
   ]
  },
  {
   "cell_type": "markdown",
   "metadata": {},
   "source": [
    "### Visualizacao e selecao"
   ]
  },
  {
   "cell_type": "code",
   "execution_count": null,
   "metadata": {},
   "outputs": [],
   "source": [
    "dates = data_transposto[:,0]"
   ]
  },
  {
   "cell_type": "code",
   "execution_count": null,
   "metadata": {},
   "outputs": [],
   "source": [
    "precos = data_transposto[:,1:6]"
   ]
  },
  {
   "cell_type": "code",
   "execution_count": null,
   "metadata": {},
   "outputs": [],
   "source": [
    "import matplotlib.pyplot as plt"
   ]
  },
  {
   "cell_type": "code",
   "execution_count": null,
   "metadata": {},
   "outputs": [],
   "source": [
    "plt.plot(dates, precos[:,0])"
   ]
  },
  {
   "cell_type": "code",
   "execution_count": null,
   "metadata": {},
   "outputs": [],
   "source": [
    "type(dates[0])"
   ]
  },
  {
   "cell_type": "code",
   "execution_count": null,
   "metadata": {},
   "outputs": [],
   "source": [
    "dates = np.arange(1,88,1)"
   ]
  },
  {
   "cell_type": "code",
   "execution_count": null,
   "metadata": {},
   "outputs": [],
   "source": [
    "plt.plot(dates, precos[:,0])"
   ]
  },
  {
   "cell_type": "code",
   "execution_count": null,
   "metadata": {},
   "outputs": [],
   "source": [
    "Moscow = precos[:,0]\n",
    "Kaliningrad = precos[:,1]\n",
    "Petersburg = precos[:,2]\n",
    "Krasnodar = precos[:,3]\n",
    "Ekaterinburg = precos[:,4]"
   ]
  },
  {
   "cell_type": "code",
   "execution_count": null,
   "metadata": {},
   "outputs": [],
   "source": [
    "Moscow.shape"
   ]
  },
  {
   "cell_type": "code",
   "execution_count": null,
   "metadata": {},
   "outputs": [],
   "source": [
    "Moscow_ano1 = Moscow[0:12] \n",
    "Moscow_ano2 = Moscow[12:24]\n",
    "Moscow_ano3 = Moscow[24:36]\n",
    "Moscow_ano4 = Moscow[36:48]"
   ]
  },
  {
   "cell_type": "code",
   "execution_count": null,
   "metadata": {},
   "outputs": [],
   "source": [
    "Moscow_ano1"
   ]
  },
  {
   "cell_type": "code",
   "execution_count": null,
   "metadata": {},
   "outputs": [],
   "source": [
    "plt.plot(np.arange(1,13,1), Moscow_ano1)\n",
    "plt.plot(np.arange(1,13,1), Moscow_ano2)\n",
    "plt.plot(np.arange(1,13,1), Moscow_ano3)\n",
    "plt.plot(np.arange(1,13,1), Moscow_ano4)\n",
    "plt.legend(['Ano 1', 'Ano 2', 'Ano 3', 'Ano 4'])"
   ]
  },
  {
   "cell_type": "code",
   "execution_count": null,
   "metadata": {},
   "outputs": [],
   "source": [
    "# Verificando se os arrays sao iguais\n",
    "np.array_equal(Moscow_ano3, Moscow_ano4)"
   ]
  },
  {
   "cell_type": "code",
   "execution_count": null,
   "metadata": {},
   "outputs": [],
   "source": [
    "# verifica se arrays sao proximos (dentro de um intervalo)\n",
    "np.allclose(Moscow_ano3, Moscow_ano4,10)"
   ]
  },
  {
   "cell_type": "code",
   "execution_count": null,
   "metadata": {},
   "outputs": [],
   "source": [
    "plt.plot(dates, Kaliningrad)"
   ]
  },
  {
   "cell_type": "code",
   "execution_count": null,
   "metadata": {},
   "outputs": [],
   "source": [
    "Kaliningrad"
   ]
  },
  {
   "cell_type": "code",
   "execution_count": null,
   "metadata": {},
   "outputs": [],
   "source": [
    "# quero verificar quantos nan eu tenho nesse array\n",
    "# Funcao isnan verifica valores nao numericos\n",
    "# vou utilizar a funcao sum porque os valores false sao interpretados como 0 e true como 1\n",
    "np.isnan(Kaliningrad)"
   ]
  },
  {
   "cell_type": "code",
   "execution_count": null,
   "metadata": {},
   "outputs": [],
   "source": [
    "# vou utilizar a funcao sum porque os valores false sao interpretados como 0 e true como 1\n",
    "sum(np.isnan(Kaliningrad))"
   ]
  },
  {
   "cell_type": "code",
   "execution_count": null,
   "metadata": {},
   "outputs": [],
   "source": [
    "# Como eu nao sei qual é o valor, vou utilizar a interpolacao para preencher o valor nan. \n",
    "# No caso, vou pegar o valor anterior e posterior ao nan para preencher o nan\n",
    "(Kaliningrad[3]+Kaliningrad[5])/2"
   ]
  },
  {
   "cell_type": "code",
   "execution_count": null,
   "metadata": {},
   "outputs": [],
   "source": [
    "# eu tenho uma funcao do numpy que faz a media, que é chamada de mean\n",
    "np.mean([Kaliningrad[3], Kaliningrad[5]])"
   ]
  },
  {
   "cell_type": "code",
   "execution_count": null,
   "metadata": {},
   "outputs": [],
   "source": [
    "# eu vou preencher o nan com a media entre os valores anteriores e posteriores\n",
    "Kaliningrad[4] = np.mean([Kaliningrad[3], Kaliningrad[5]])"
   ]
  },
  {
   "cell_type": "code",
   "execution_count": null,
   "metadata": {},
   "outputs": [],
   "source": [
    "Kaliningrad"
   ]
  },
  {
   "cell_type": "code",
   "execution_count": null,
   "metadata": {},
   "outputs": [],
   "source": [
    "plt.plot(dates, Kaliningrad)"
   ]
  },
  {
   "cell_type": "code",
   "execution_count": null,
   "metadata": {},
   "outputs": [],
   "source": [
    "# Comparando as médias de preco de duas cidades\n",
    "np.mean(Moscow)"
   ]
  },
  {
   "cell_type": "code",
   "execution_count": null,
   "metadata": {},
   "outputs": [],
   "source": [
    "np.mean(Kaliningrad)"
   ]
  },
  {
   "cell_type": "code",
   "execution_count": null,
   "metadata": {},
   "outputs": [],
   "source": [
    "plt.plot(dates, Moscow)"
   ]
  },
  {
   "cell_type": "markdown",
   "metadata": {},
   "source": [
    "y = ax + b\n",
    "\n",
    "y seria o preco das macas\n",
    "x seria o mes (valor indo de 1 a 87)\n",
    "a = coeficiente angular\n",
    "b = coeficiente linear"
   ]
  },
  {
   "cell_type": "code",
   "execution_count": null,
   "metadata": {},
   "outputs": [],
   "source": [
    "x = dates"
   ]
  },
  {
   "cell_type": "code",
   "execution_count": null,
   "metadata": {},
   "outputs": [],
   "source": [
    "y = 2*x+80"
   ]
  },
  {
   "cell_type": "code",
   "execution_count": null,
   "metadata": {},
   "outputs": [],
   "source": [
    "plt.plot(dates, Moscow)\n",
    "plt.plot(x,y)"
   ]
  },
  {
   "cell_type": "code",
   "execution_count": null,
   "metadata": {},
   "outputs": [],
   "source": [
    "# verificamos que a reta que estipulamos esta bem fora, e para isso posso fazer algumas coisas, como por exemplo verificar quando a minha reta esta fora do grafico\n",
    "np.sqrt(np.sum(np.power(Moscow-y,2)))"
   ]
  },
  {
   "cell_type": "code",
   "execution_count": null,
   "metadata": {},
   "outputs": [],
   "source": [
    "y = 0.52*x+80"
   ]
  },
  {
   "cell_type": "code",
   "execution_count": null,
   "metadata": {},
   "outputs": [],
   "source": [
    "plt.plot(dates, Moscow)\n",
    "plt.plot(x,y)"
   ]
  },
  {
   "cell_type": "code",
   "execution_count": null,
   "metadata": {},
   "outputs": [],
   "source": [
    "np.sqrt(np.sum(np.power(Moscow-y,2)))"
   ]
  },
  {
   "cell_type": "code",
   "execution_count": null,
   "metadata": {},
   "outputs": [],
   "source": [
    "np.linalg.norm(Moscow-y)"
   ]
  },
  {
   "cell_type": "markdown",
   "metadata": {},
   "source": [
    "### Para saber mais: cópias de arrays"
   ]
  },
  {
   "cell_type": "markdown",
   "metadata": {},
   "source": [
    "Ao trabalharmos com arrays ou outras variáveis em Python, eventualmente fazemos cópias das variáveis que estamos lidando. Quando fazemos a cópia de uma variável, temos que ter em mente o que acontece com ela para evitar que usemos determinados valores pensando que são outros valores. Para lidar com cópias dos arrays, a biblioteca Numpy possui uma função específica.\n",
    "\n",
    "Neste exemplo, possuo um array com o nome preco_imoveis que desejo fazer uma cópia."
   ]
  },
  {
   "cell_type": "code",
   "execution_count": null,
   "metadata": {},
   "outputs": [],
   "source": [
    "preco_imoveis = np.array([10000,120000,11000,200000])"
   ]
  },
  {
   "cell_type": "markdown",
   "metadata": {},
   "source": [
    "O objetivo é colocar os valores deste array em um de nome específico para o preço de imóveis em São Paulo. Vamos fazer a cópia usando o sinal de igual (=)."
   ]
  },
  {
   "cell_type": "code",
   "execution_count": null,
   "metadata": {},
   "outputs": [],
   "source": [
    "preco_imoveis_sao_paulo = preco_imoveis"
   ]
  },
  {
   "cell_type": "markdown",
   "metadata": {},
   "source": [
    "Se você verificar os valores na nova variável preco_imoveis_sao_paulo, verá que eles são os mesmos da variável preco_imoveis. Mas, já que \"guardamos\" os preços na variável preco_imoveis_sao_paulo, que tal substituir o valor do primeiro imóvel do array preco_imoveis com um novo que acabou de entrar para o nosso cadastro?"
   ]
  },
  {
   "cell_type": "code",
   "execution_count": null,
   "metadata": {},
   "outputs": [],
   "source": [
    "preco_imoveis[0] = 120000"
   ]
  },
  {
   "cell_type": "markdown",
   "metadata": {},
   "source": [
    "Se você tentar reproduzir o processo feito até agora, verá que essa alteração no array preco_imoveis também alterou a primeira posição do array preco_imoveis_sao_paulo para o valor de 120000.\n",
    "\n",
    "Para criar um array desvinculado do array original existe uma função da numpy, a np.copy(). Para criar a cópia utilizando ela bastaria seguir esse código:"
   ]
  },
  {
   "cell_type": "code",
   "execution_count": null,
   "metadata": {},
   "outputs": [],
   "source": [
    "preco_imoveis_sao_paulo = np.copy(preco_imoveis)"
   ]
  },
  {
   "cell_type": "markdown",
   "metadata": {},
   "source": [
    "Assim, mesmo que alterarmos o array preco_imoveis, isso não afetará o array preco_imoveis_sao_paulo.\n",
    "\n",
    "Isso ocorre porque, quando usamos o sinal de igual para copiar o array, temos um novo array que aponta para os mesmos locais na memória. Já quando usamos o np.copy(), os locais na memória são diferentes."
   ]
  },
  {
   "cell_type": "markdown",
   "metadata": {},
   "source": [
    "a = coeficiente angular <br>\n",
    "n - número de elementos <br>\n",
    "Y = Moscow <br>\n",
    "X = dates <br>\n",
    "O coeficiente angular pode ser obtido usando a equacao: \n",
    "\n",
    "![Imagem do coeficiente angular](\\numpy-dados\\coeficiente_angular.png)"
   ]
  },
  {
   "cell_type": "code",
   "execution_count": null,
   "metadata": {},
   "outputs": [],
   "source": [
    "Y = Moscow\n",
    "X = dates\n",
    "n = np.size(Moscow) # calcula o numero de elementos do array"
   ]
  },
  {
   "cell_type": "code",
   "execution_count": null,
   "metadata": {},
   "outputs": [],
   "source": [
    "X**2"
   ]
  },
  {
   "cell_type": "code",
   "execution_count": null,
   "metadata": {},
   "outputs": [],
   "source": [
    "a = (n*np.sum(X*Y) - np.sum(X)*np.sum(Y))/(n*np.sum(X**2) - np.sum(X)**2)\n",
    "a"
   ]
  },
  {
   "cell_type": "markdown",
   "metadata": {},
   "source": [
    "Coeficiente linear\n",
    "\n",
    "![](\\numpy-dados\\coeficiente_linear.png)"
   ]
  },
  {
   "cell_type": "code",
   "execution_count": null,
   "metadata": {},
   "outputs": [],
   "source": [
    "b = np.mean(Y) - a*np.mean(X)\n",
    "b"
   ]
  },
  {
   "cell_type": "code",
   "execution_count": null,
   "metadata": {},
   "outputs": [],
   "source": [
    "y = a*X + b"
   ]
  },
  {
   "cell_type": "code",
   "execution_count": null,
   "metadata": {},
   "outputs": [],
   "source": [
    "np.linalg.norm(Moscow-y)"
   ]
  },
  {
   "cell_type": "code",
   "execution_count": null,
   "metadata": {},
   "outputs": [],
   "source": [
    "plt.plot(dates, Moscow)\n",
    "plt.plot(x,y)\n",
    "plt.plot(41.5,41.5*a+b,'*r') #estimando o valor para o meio do mes 41\n",
    "plt.plot(100,100*a+b,'*r') # estimando para o mes 100, ou seja, para o futuro"
   ]
  },
  {
   "cell_type": "markdown",
   "metadata": {},
   "source": [
    "### para saber mais: regressao"
   ]
  },
  {
   "cell_type": "markdown",
   "metadata": {},
   "source": [
    "A regressão é muito utilizada em ciência de dados para a previsão e também a interpolação de valores. Seu uso tem diversos aspectos e eu separei alguns cursos da Alura que você pode fazer para se aprofundar no assunto.\n",
    "\n",
    "* [Curso Online Data Analysis: previsões com Google Sheets | Alura][primeiro_link]\n",
    "\n",
    "* [Curso Online Regressão linear: testando relações e prevendo resultados | Alura][segundo_link]\n",
    "\n",
    "* [Curso Online Regressão Linear: técnicas avançadas de modelagem | Alura][terceiro_link]\n",
    "\n",
    "* [Curso Online Estatística com Python: Correlação e Regressão | Alura][quarto_link]\n",
    "\n",
    "[primeiro_link]:https://cursos.alura.com.br/course/data-analysis-previsoes-google-sheets\n",
    "[segundo_link]:https://cursos.alura.com.br/course/data-science-modelo-regressao-linear\n",
    "[terceiro_link]:https://cursos.alura.com.br/course/data-science-modelo-regressao-linear-assimetria-statsmodel\n",
    "[quarto_link]:https://cursos.alura.com.br/course/estatistica-correlacao-regressao"
   ]
  },
  {
   "cell_type": "markdown",
   "metadata": {},
   "source": [
    "## Continuacao - Números Aleatórios"
   ]
  },
  {
   "cell_type": "code",
   "execution_count": null,
   "metadata": {},
   "outputs": [],
   "source": [
    "# funcao random.randint(low,high,size) gera um array com valores aleatorios entre low e high, com o tamanho size\n",
    "\n",
    "np.random.randint(low=40,high=100,size=100)"
   ]
  },
  {
   "cell_type": "code",
   "execution_count": null,
   "metadata": {},
   "outputs": [],
   "source": [
    "# funcao random.uniform(low,high,size) gera um array com valores aleatorios entre low e high, com o tamanho size do tipo float\n",
    "\n",
    "coef_angulares = np.random.uniform(low=0.1,high=0.90,size=100)"
   ]
  },
  {
   "cell_type": "code",
   "execution_count": null,
   "metadata": {},
   "outputs": [],
   "source": [
    "# funcao append adiciona um elemento ao final do array\n",
    "# funcao array cria um array vazio\n",
    "\n",
    "norma2 = np.array([])\n",
    "\n",
    "for i in range(100):\n",
    "    norma2 = np.append(norma2, np.linalg.norm(Moscow-(coef_angulares[i]*X+b)))"
   ]
  },
  {
   "cell_type": "code",
   "execution_count": null,
   "metadata": {},
   "outputs": [],
   "source": [
    "min(norma2)"
   ]
  },
  {
   "cell_type": "code",
   "execution_count": null,
   "metadata": {},
   "outputs": [],
   "source": [
    "menor_valor = min(norma2)\n",
    "menor_valor"
   ]
  },
  {
   "cell_type": "code",
   "execution_count": null,
   "metadata": {},
   "outputs": [],
   "source": [
    "posicao = 0\n",
    "for i in range(len(norma2)):\n",
    "    if norma2[i] == min(norma2):\n",
    "        posicao = i\n",
    "\n",
    "print(posicao)\n",
    "print(norma2[posicao])"
   ]
  },
  {
   "cell_type": "code",
   "execution_count": null,
   "metadata": {},
   "outputs": [],
   "source": [
    "np.random.uniform(low=0.1,high=0.90,size=100)"
   ]
  },
  {
   "cell_type": "code",
   "execution_count": null,
   "metadata": {},
   "outputs": [],
   "source": [
    "# funcao random.seed - seleciona um numero semente fixo para inicializar o gerador aleatorio\n",
    "\n",
    "np.random.seed(16)\n",
    "np.random.uniform(low=0.1,high=0.90,size=100)"
   ]
  },
  {
   "cell_type": "code",
   "execution_count": null,
   "metadata": {},
   "outputs": [],
   "source": [
    "np.random.seed(84)\n",
    "coef_angulares = np.random.uniform(low=0.1,high=0.90,size=100)\n",
    "\n",
    "norma2 = np.array([])\n",
    "\n",
    "for i in range(100):\n",
    "    norma2 = np.append(norma2, np.linalg.norm(Moscow-(coef_angulares[i]*X+b)))"
   ]
  },
  {
   "cell_type": "code",
   "execution_count": null,
   "metadata": {},
   "outputs": [],
   "source": [
    "norma2"
   ]
  },
  {
   "cell_type": "code",
   "execution_count": null,
   "metadata": {},
   "outputs": [],
   "source": [
    "coef_angulares"
   ]
  },
  {
   "cell_type": "code",
   "execution_count": null,
   "metadata": {},
   "outputs": [],
   "source": [
    "# funcao np.column_stack, une dois ou mais arrays, lado a lado, como colunas, em uma matriz\n",
    "\n",
    "dados = np.column_stack([norma2, coef_angulares])"
   ]
  },
  {
   "cell_type": "code",
   "execution_count": null,
   "metadata": {},
   "outputs": [],
   "source": [
    "dados.shape"
   ]
  },
  {
   "cell_type": "code",
   "execution_count": null,
   "metadata": {},
   "outputs": [],
   "source": [
    "# funcao np.savetxt, salva um array em um arquivo de texto\n",
    "\n",
    "np.savetxt('numpy-dados/dados_numpy.csv', dados, delimiter=',')"
   ]
  }
 ],
 "metadata": {
  "kernelspec": {
   "display_name": "base",
   "language": "python",
   "name": "python3"
  },
  "language_info": {
   "codemirror_mode": {
    "name": "ipython",
    "version": 3
   },
   "file_extension": ".py",
   "mimetype": "text/x-python",
   "name": "python",
   "nbconvert_exporter": "python",
   "pygments_lexer": "ipython3",
   "version": "3.11.7"
  }
 },
 "nbformat": 4,
 "nbformat_minor": 2
}
