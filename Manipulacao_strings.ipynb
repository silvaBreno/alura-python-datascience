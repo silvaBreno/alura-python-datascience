{
 "cells": [
  {
   "cell_type": "markdown",
   "metadata": {
    "id": "Onxrw93LtVaJ"
   },
   "source": [
    "## Case: App de delivery que guarda os dados dos cliente em uma planilha, e precisamos manipular alguns **dados** para melhorar a analise para futuros estudos\n"
   ]
  },
  {
   "cell_type": "code",
   "execution_count": null,
   "metadata": {
    "colab": {
     "base_uri": "https://localhost:8080/",
     "height": 708
    },
    "executionInfo": {
     "elapsed": 328,
     "status": "ok",
     "timestamp": 1681506879739,
     "user": {
      "displayName": "Paulo de Freitas Calanca",
      "userId": "16450695088490643080"
     },
     "user_tz": 180
    },
    "id": "_T7w4Av-up4F",
    "outputId": "96f70ffc-37a1-45e6-ea6a-216c47e9b167"
   },
   "outputs": [],
   "source": [
    "import pandas as pd\n",
    "\n",
    "df= pd.read_csv(\"manipulacao-dados/banco_clientes.csv\")\n",
    "df\n"
   ]
  },
  {
   "cell_type": "markdown",
   "metadata": {
    "id": "ohQNd5TMtVaL"
   },
   "source": [
    "* Padronizar os nomes dos clientes em letra maiúscula\n",
    "* Padronizar a coluna de telefones para o formato XX XXXXX-XXXX\n",
    "* Criar uma coluna apenas com os CEPs\n",
    "* Ter uma coluna para o rua e outra para o número do endereço do cliente"
   ]
  },
  {
   "cell_type": "markdown",
   "metadata": {
    "id": "NHxQe8P6tVaL"
   },
   "source": [
    "## Padronizar os nomes em letra maiuscula"
   ]
  },
  {
   "cell_type": "code",
   "execution_count": null,
   "metadata": {
    "colab": {
     "base_uri": "https://localhost:8080/",
     "height": 708
    },
    "executionInfo": {
     "elapsed": 257,
     "status": "ok",
     "timestamp": 1681507039295,
     "user": {
      "displayName": "Paulo de Freitas Calanca",
      "userId": "16450695088490643080"
     },
     "user_tz": 180
    },
    "id": "jwfvNMMAtVaM",
    "outputId": "c9f807e2-ee82-4445-e960-a5afc15d1551"
   },
   "outputs": [],
   "source": [
    "df[\"nome\"] = df[\"nome\"].str.upper()\n",
    "df"
   ]
  },
  {
   "cell_type": "markdown",
   "metadata": {
    "id": "3K29QYpmtVaM"
   },
   "source": [
    "## Padronizar a coluna de telefones para o formato XX XXXXX-XXXX"
   ]
  },
  {
   "cell_type": "code",
   "execution_count": null,
   "metadata": {
    "colab": {
     "base_uri": "https://localhost:8080/"
    },
    "executionInfo": {
     "elapsed": 374,
     "status": "ok",
     "timestamp": 1681507213642,
     "user": {
      "displayName": "Paulo de Freitas Calanca",
      "userId": "16450695088490643080"
     },
     "user_tz": 180
    },
    "id": "1HATeAc6tVaM",
    "outputId": "4255e7fd-7950-4e9d-f172-f96327dd2e01"
   },
   "outputs": [],
   "source": [
    "df.telefone.str.replace(\"(\", \"\",regex=False)"
   ]
  },
  {
   "cell_type": "code",
   "execution_count": null,
   "metadata": {
    "colab": {
     "base_uri": "https://localhost:8080/"
    },
    "executionInfo": {
     "elapsed": 259,
     "status": "ok",
     "timestamp": 1681507250920,
     "user": {
      "displayName": "Paulo de Freitas Calanca",
      "userId": "16450695088490643080"
     },
     "user_tz": 180
    },
    "id": "vPujEGvxtVaM",
    "outputId": "293a1322-7c88-4ef1-b14f-66fe1ee2bbaa"
   },
   "outputs": [],
   "source": [
    "df.telefone.str.replace(\"(\", \"\",regex=False).str.replace(\")\", \"\",regex=False)"
   ]
  },
  {
   "cell_type": "code",
   "execution_count": null,
   "metadata": {
    "colab": {
     "base_uri": "https://localhost:8080/",
     "height": 708
    },
    "executionInfo": {
     "elapsed": 259,
     "status": "ok",
     "timestamp": 1681507280166,
     "user": {
      "displayName": "Paulo de Freitas Calanca",
      "userId": "16450695088490643080"
     },
     "user_tz": 180
    },
    "id": "bD6LK_RDtVaM",
    "outputId": "0f1a0caa-3b5a-41ba-e095-701cac369a50"
   },
   "outputs": [],
   "source": [
    "df[\"telefone\"] = df.telefone.str.replace(\"(\", \"\",regex=False).str.replace(\")\", \"\",regex=False)\n",
    "df"
   ]
  },
  {
   "cell_type": "markdown",
   "metadata": {
    "id": "mVfF0Va9tVaM"
   },
   "source": [
    "## Criar uma coluna apenas com os CEPs"
   ]
  },
  {
   "cell_type": "code",
   "execution_count": null,
   "metadata": {
    "colab": {
     "base_uri": "https://localhost:8080/",
     "height": 708
    },
    "executionInfo": {
     "elapsed": 261,
     "status": "ok",
     "timestamp": 1681507377201,
     "user": {
      "displayName": "Paulo de Freitas Calanca",
      "userId": "16450695088490643080"
     },
     "user_tz": 180
    },
    "id": "YFTFc1_LtVaM",
    "outputId": "ee9e1f8a-86fb-4fbe-8d72-1fae128f769b"
   },
   "outputs": [],
   "source": [
    "df.endereco.str.extract(\"(\\d{5}-\\d{3})\")"
   ]
  },
  {
   "cell_type": "code",
   "execution_count": null,
   "metadata": {
    "colab": {
     "base_uri": "https://localhost:8080/",
     "height": 708
    },
    "executionInfo": {
     "elapsed": 246,
     "status": "ok",
     "timestamp": 1681507442172,
     "user": {
      "displayName": "Paulo de Freitas Calanca",
      "userId": "16450695088490643080"
     },
     "user_tz": 180
    },
    "id": "sTRNGneYtVaN",
    "outputId": "2a7a3d8c-c0da-4dab-b450-e060fd31747b"
   },
   "outputs": [],
   "source": [
    "df[\"cep\"] = df.endereco.str.extract(\"(\\d{5}-\\d{3})\")\n",
    "df"
   ]
  },
  {
   "cell_type": "code",
   "execution_count": null,
   "metadata": {
    "colab": {
     "base_uri": "https://localhost:8080/"
    },
    "executionInfo": {
     "elapsed": 265,
     "status": "ok",
     "timestamp": 1681507496405,
     "user": {
      "displayName": "Paulo de Freitas Calanca",
      "userId": "16450695088490643080"
     },
     "user_tz": 180
    },
    "id": "PrFEd7T1tVaN",
    "outputId": "73092e88-941e-40f7-b7d2-88eeaaf19927"
   },
   "outputs": [],
   "source": [
    "df.endereco.str.replace('\\d{5}-\\d{3}', '', regex=True)"
   ]
  },
  {
   "cell_type": "code",
   "execution_count": null,
   "metadata": {
    "colab": {
     "base_uri": "https://localhost:8080/",
     "height": 708
    },
    "executionInfo": {
     "elapsed": 274,
     "status": "ok",
     "timestamp": 1681507564496,
     "user": {
      "displayName": "Paulo de Freitas Calanca",
      "userId": "16450695088490643080"
     },
     "user_tz": 180
    },
    "id": "3UhCIeKctVaN",
    "outputId": "af6eb4a8-8702-4330-c846-983ad2b50d58"
   },
   "outputs": [],
   "source": [
    "df['endereco'] = df.endereco.str.replace(r'\\d{5}-\\d{3}', '', regex=True).str.strip()\n",
    "df"
   ]
  },
  {
   "cell_type": "markdown",
   "metadata": {
    "id": "Qg9dR14ltVaN"
   },
   "source": [
    "## Ter uma coluna para o Rua e outra para o número do endereço do cliente"
   ]
  },
  {
   "cell_type": "code",
   "execution_count": null,
   "metadata": {
    "colab": {
     "base_uri": "https://localhost:8080/",
     "height": 708
    },
    "executionInfo": {
     "elapsed": 268,
     "status": "ok",
     "timestamp": 1681507643080,
     "user": {
      "displayName": "Paulo de Freitas Calanca",
      "userId": "16450695088490643080"
     },
     "user_tz": 180
    },
    "id": "ary5p7vktVaN",
    "outputId": "f3275d74-8d67-4e3a-d535-d196fe838967"
   },
   "outputs": [],
   "source": [
    "df.endereco.str.split(',', expand=True)"
   ]
  },
  {
   "cell_type": "code",
   "execution_count": null,
   "metadata": {
    "colab": {
     "base_uri": "https://localhost:8080/",
     "height": 708
    },
    "executionInfo": {
     "elapsed": 258,
     "status": "ok",
     "timestamp": 1681507758741,
     "user": {
      "displayName": "Paulo de Freitas Calanca",
      "userId": "16450695088490643080"
     },
     "user_tz": 180
    },
    "id": "UgNuRE1atVaN",
    "outputId": "92506fc1-5480-44c5-ddb1-8ab34794e8a4"
   },
   "outputs": [],
   "source": [
    "df.endereco.str.split('\\s(?=\\d+$)', expand=True)"
   ]
  },
  {
   "cell_type": "code",
   "execution_count": null,
   "metadata": {
    "colab": {
     "base_uri": "https://localhost:8080/",
     "height": 708
    },
    "executionInfo": {
     "elapsed": 258,
     "status": "ok",
     "timestamp": 1681507888414,
     "user": {
      "displayName": "Paulo de Freitas Calanca",
      "userId": "16450695088490643080"
     },
     "user_tz": 180
    },
    "id": "iv4qr32WtVaN",
    "outputId": "6f688363-6031-49d6-8d7b-de37cef150e6"
   },
   "outputs": [],
   "source": [
    "df.endereco.str.replace(\",\",\"\").str.split('\\s(?=\\d+$)', expand=True)"
   ]
  },
  {
   "cell_type": "code",
   "execution_count": null,
   "metadata": {
    "executionInfo": {
     "elapsed": 234,
     "status": "ok",
     "timestamp": 1681507947940,
     "user": {
      "displayName": "Paulo de Freitas Calanca",
      "userId": "16450695088490643080"
     },
     "user_tz": 180
    },
    "id": "rQSFzkSOtVaN"
   },
   "outputs": [],
   "source": [
    "df[[\"rua\",\"numero\"]] = df.endereco.str.replace(\",\",\"\").str.split('\\s(?=\\d+$)',regex=True, expand=True)"
   ]
  },
  {
   "cell_type": "code",
   "execution_count": null,
   "metadata": {
    "colab": {
     "base_uri": "https://localhost:8080/",
     "height": 708
    },
    "executionInfo": {
     "elapsed": 373,
     "status": "ok",
     "timestamp": 1681507955354,
     "user": {
      "displayName": "Paulo de Freitas Calanca",
      "userId": "16450695088490643080"
     },
     "user_tz": 180
    },
    "id": "AakMHdR1tVaN",
    "outputId": "e8f463df-f55c-4384-a6ee-70408412a3e7"
   },
   "outputs": [],
   "source": [
    "df"
   ]
  },
  {
   "cell_type": "code",
   "execution_count": null,
   "metadata": {
    "colab": {
     "base_uri": "https://localhost:8080/",
     "height": 708
    },
    "executionInfo": {
     "elapsed": 262,
     "status": "ok",
     "timestamp": 1681508004680,
     "user": {
      "displayName": "Paulo de Freitas Calanca",
      "userId": "16450695088490643080"
     },
     "user_tz": 180
    },
    "id": "JszcwknptVaO",
    "outputId": "bf3f36f0-fcca-4acc-f50c-b512fe38d765"
   },
   "outputs": [],
   "source": [
    "df = df.drop([\"endereco\"], axis=1)\n",
    "df"
   ]
  },
  {
   "cell_type": "code",
   "execution_count": null,
   "metadata": {
    "executionInfo": {
     "elapsed": 3,
     "status": "ok",
     "timestamp": 1681506471072,
     "user": {
      "displayName": "Paulo de Freitas Calanca",
      "userId": "16450695088490643080"
     },
     "user_tz": 180
    },
    "id": "ehcoraFFtVaO"
   },
   "outputs": [],
   "source": []
  }
 ],
 "metadata": {
  "colab": {
   "collapsed_sections": [
    "NHxQe8P6tVaL",
    "3K29QYpmtVaM",
    "mVfF0Va9tVaM",
    "Qg9dR14ltVaN"
   ],
   "provenance": []
  },
  "kernelspec": {
   "display_name": "base",
   "language": "python",
   "name": "python3"
  },
  "language_info": {
   "codemirror_mode": {
    "name": "ipython",
    "version": 3
   },
   "file_extension": ".py",
   "mimetype": "text/x-python",
   "name": "python",
   "nbconvert_exporter": "python",
   "pygments_lexer": "ipython3",
   "version": "3.12.7"
  },
  "vscode": {
   "interpreter": {
    "hash": "fb8bbe35ce05a967cc1765cb51a1a815dfdecdfebe5b24f692427b5b8ca49088"
   }
  }
 },
 "nbformat": 4,
 "nbformat_minor": 0
}
