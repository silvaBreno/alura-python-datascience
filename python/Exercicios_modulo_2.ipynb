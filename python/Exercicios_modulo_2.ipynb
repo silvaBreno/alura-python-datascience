{
 "cells": [
  {
   "cell_type": "markdown",
   "metadata": {},
   "source": [
    "### Alura - Módulo 2"
   ]
  },
  {
   "cell_type": "markdown",
   "metadata": {},
   "source": [
    "Coleta e amostragem de dados"
   ]
  },
  {
   "cell_type": "code",
   "execution_count": 30,
   "metadata": {},
   "outputs": [
    {
     "name": "stdout",
     "output_type": "stream",
     "text": [
      "Olá, !\n"
     ]
    }
   ],
   "source": [
    "# Exercício 1 \n",
    "# 1. Crie um programa que solicite à pessoa usuária digitar seu nome, e imprima “Olá, [nome]!”.\n",
    "nome = input('Qual é seu nome?')\n",
    "print(f'Olá, {nome}!')"
   ]
  },
  {
   "cell_type": "code",
   "execution_count": 31,
   "metadata": {},
   "outputs": [
    {
     "name": "stdout",
     "output_type": "stream",
     "text": [
      "Olá, , você tem  anos.\n"
     ]
    }
   ],
   "source": [
    "# Exercício 2\n",
    "# 2. Crie um programa que solicite à pessoa usuária digitar seu nome e idade, e imprima “Olá, [nome], você tem [idade] anos.”.\n",
    "nome = input('Qual é seu nome?')\n",
    "idade = input('Qual é a sua idade?')\n",
    "print(f'Olá, {nome}, você tem {idade} anos.')\n"
   ]
  },
  {
   "cell_type": "code",
   "execution_count": 32,
   "metadata": {},
   "outputs": [
    {
     "name": "stdout",
     "output_type": "stream",
     "text": [
      "Olá, , você tem  anos e mede  metros!.\n"
     ]
    }
   ],
   "source": [
    "# Exercício 3\n",
    "# 3. Crie um programa que solicite à pessoa usuária digitar seu nome, idade e altura em metros, e imprima \n",
    "# “Olá, [nome], você tem [idade] anos e mede [altura] metros!”.\n",
    "nome = input('Qual é seu nome?')\n",
    "idade = input('Qual é a sua idade?')\n",
    "altura = input('Qual é a sua altura')\n",
    "print(f'Olá, {nome}, você tem {idade} anos e mede {altura} metros!.')"
   ]
  },
  {
   "cell_type": "markdown",
   "metadata": {},
   "source": [
    "Calculadora com operadores"
   ]
  },
  {
   "cell_type": "code",
   "execution_count": 33,
   "metadata": {},
   "outputs": [
    {
     "ename": "ValueError",
     "evalue": "could not convert string to float: ''",
     "output_type": "error",
     "traceback": [
      "\u001b[1;31m---------------------------------------------------------------------------\u001b[0m",
      "\u001b[1;31mValueError\u001b[0m                                Traceback (most recent call last)",
      "Cell \u001b[1;32mIn[33], line 3\u001b[0m\n\u001b[0;32m      1\u001b[0m \u001b[38;5;66;03m# Exercício 1 \u001b[39;00m\n\u001b[0;32m      2\u001b[0m \u001b[38;5;66;03m# Crie um programa que solicite dois valores numéricos à pessoa usuária e imprima a soma dos dois valores.\u001b[39;00m\n\u001b[1;32m----> 3\u001b[0m valor_a \u001b[38;5;241m=\u001b[39m \u001b[38;5;28mfloat\u001b[39m(\u001b[38;5;28minput\u001b[39m(\u001b[38;5;124m'\u001b[39m\u001b[38;5;124mDigite o primeiro valor da soma: \u001b[39m\u001b[38;5;124m'\u001b[39m))\n\u001b[0;32m      4\u001b[0m valor_b \u001b[38;5;241m=\u001b[39m \u001b[38;5;28mfloat\u001b[39m(\u001b[38;5;28minput\u001b[39m(\u001b[38;5;124m'\u001b[39m\u001b[38;5;124mDigite o segundo valor da soma: \u001b[39m\u001b[38;5;124m'\u001b[39m))\n\u001b[0;32m      5\u001b[0m \u001b[38;5;28mprint\u001b[39m(\u001b[38;5;124mf\u001b[39m\u001b[38;5;124m'\u001b[39m\u001b[38;5;124mA soma dos valores \u001b[39m\u001b[38;5;132;01m{\u001b[39;00mvalor_a\u001b[38;5;132;01m}\u001b[39;00m\u001b[38;5;124m, \u001b[39m\u001b[38;5;132;01m{\u001b[39;00mvalor_b\u001b[38;5;132;01m}\u001b[39;00m\u001b[38;5;124m é de \u001b[39m\u001b[38;5;132;01m{\u001b[39;00mvalor_a\u001b[38;5;241m+\u001b[39mvalor_b\u001b[38;5;132;01m}\u001b[39;00m\u001b[38;5;124m'\u001b[39m)\n",
      "\u001b[1;31mValueError\u001b[0m: could not convert string to float: ''"
     ]
    }
   ],
   "source": [
    "# Exercício 1 \n",
    "# Crie um programa que solicite dois valores numéricos à pessoa usuária e imprima a soma dos dois valores.\n",
    "valor_a = float(input('Digite o primeiro valor da soma: '))\n",
    "valor_b = float(input('Digite o segundo valor da soma: '))\n",
    "print(f'A soma dos valores {valor_a}, {valor_b} é de {valor_a+valor_b}')"
   ]
  },
  {
   "cell_type": "code",
   "execution_count": null,
   "metadata": {},
   "outputs": [
    {
     "name": "stdout",
     "output_type": "stream",
     "text": [
      "A soma dos valores 10.0,20.0,30.0 é 60.0\n"
     ]
    }
   ],
   "source": [
    "# Exercício 2\n",
    "# Crie um programa que solicite três valores numéricos à pessoa usuária e imprima a soma dos três valores.\n",
    "valor_a = float(input('Digite o primeiro valor da soma: '))\n",
    "valor_b = float(input('Digite o segundo valor da soma: '))\n",
    "valor_c = float(input('Digite o terceiro valor da soma: '))\n",
    "print(f'A soma dos valores {valor_a}, {valor_b}, {valor_c} é {valor_a+valor_b+valor_c}')"
   ]
  },
  {
   "cell_type": "code",
   "execution_count": 16,
   "metadata": {},
   "outputs": [
    {
     "name": "stdout",
     "output_type": "stream",
     "text": [
      "A subtração dos valores 10.0,3.0 é de 7.0\n"
     ]
    }
   ],
   "source": [
    "# Exercício 3\n",
    "# Crie um programa que solicite dois valores numéricos à pessoa usuária e imprima a subtração do primeiro pelo o segundo valor.\n",
    "valor_a = float(input('Digite o primeiro valor da subtração: '))\n",
    "valor_b = float(input('Digite o segundo valor da subtração: '))\n",
    "print(f'A subtração dos valores {valor_a}, {valor_b} é de {valor_a-valor_b}')"
   ]
  },
  {
   "cell_type": "code",
   "execution_count": 17,
   "metadata": {},
   "outputs": [
    {
     "name": "stdout",
     "output_type": "stream",
     "text": [
      "A multiplicação dos valores 10.0,20.0 é de 200.0\n"
     ]
    }
   ],
   "source": [
    "# Exercício 4\n",
    "# Crie um programa que solicite dois valores numéricos à pessoa usuária e imprima a multiplicação dos dois valores.\n",
    "valor_a = float(input('Digite o primeiro valor da multiplicação: '))\n",
    "valor_b = float(input('Digite o segundo valor da multiplicação: '))\n",
    "print(f'A multiplicação dos valores {valor_a}, {valor_b} é de {valor_a*valor_b}')"
   ]
  },
  {
   "cell_type": "code",
   "execution_count": null,
   "metadata": {},
   "outputs": [
    {
     "name": "stdout",
     "output_type": "stream",
     "text": [
      "A divisão dos valores 10.0,5.0 é de 2.0\n"
     ]
    }
   ],
   "source": [
    "# Exercício 5\n",
    "# Crie um programa que solicite dois valores numéricos, um numerador e um denominador, e realize a divisão entre os dois valores. \n",
    "# Deixe claro que o valor do denominador não pode ser 0.\n",
    "valor_a = float(input('Digite o primeiro valor da divisão: '))\n",
    "valor_b = float(input('Digite o segundo valor da divisão: '))\n",
    "\n",
    "if(valor_b == 0):\n",
    "    print('Não é permitido dividir por zero')\n",
    "else:\n",
    "    print(f'A divisão dos valores {valor_a}, {valor_b} é de {valor_a/valor_b}')\n"
   ]
  },
  {
   "cell_type": "code",
   "execution_count": 22,
   "metadata": {},
   "outputs": [
    {
     "name": "stdout",
     "output_type": "stream",
     "text": [
      "A exponenciação dos valores 2.0, 3.0 é de 8.0\n"
     ]
    }
   ],
   "source": [
    "# Exercício 6\n",
    "# Crie um programa que solicite dois valores numéricos, um operador e uma potência, e realize a exponenciação entre esses dois valores.\n",
    "valor_a = float(input('Digite o primeiro valor da exponenciação: '))\n",
    "valor_b = float(input('Digite o segundo valor da exponenciação: '))\n",
    "print(f'A exponenciação dos valores {valor_a}, {valor_b} é de {valor_a**valor_b}')"
   ]
  },
  {
   "cell_type": "code",
   "execution_count": 23,
   "metadata": {},
   "outputs": [
    {
     "name": "stdout",
     "output_type": "stream",
     "text": [
      "A divisão dos valores 7.0, 3.0 é de 2.0\n"
     ]
    }
   ],
   "source": [
    "# Exercício 7\n",
    "# Crie um programa que solicite dois valores numéricos, um numerador e um denominador e realize a divisão inteira entre os dois valores. \n",
    "# Deixe claro que o valor do denominador não pode ser 0.\n",
    "valor_a = float(input('Digite o primeiro valor da divisão inteira: '))\n",
    "valor_b = float(input('Digite o segundo valor da divisão inteira: '))\n",
    "\n",
    "if(valor_b == 0):\n",
    "    print('Não é permitido dividir por zero')\n",
    "else:\n",
    "    print(f'A divisão dos valores {valor_a}, {valor_b} é de {valor_a//valor_b}')\n"
   ]
  },
  {
   "cell_type": "code",
   "execution_count": null,
   "metadata": {},
   "outputs": [
    {
     "name": "stdout",
     "output_type": "stream",
     "text": [
      "O resto da divisão entre os valores 7.0, 3.0 é de 1.0\n"
     ]
    }
   ],
   "source": [
    "# Exercício 8\n",
    "# rie um programa que solicite dois valores numéricos, um numerador e um denominador, e retorne o resto da divisão entre os dois valores. \n",
    "# Deixe claro que o valor do denominador não pode ser 0.\n",
    "valor_a = float(input('Digite o primeiro valor da divisão: '))\n",
    "valor_b = float(input('Digite o segundo valor da divisão: '))\n",
    "\n",
    "if(valor_b == 0):\n",
    "    print('Não é permitido dividir por zero')\n",
    "else:\n",
    "    print(f'O resto da divisão entre os valores {valor_a}, {valor_b} é de {valor_a%valor_b}')"
   ]
  },
  {
   "cell_type": "code",
   "execution_count": 26,
   "metadata": {},
   "outputs": [
    {
     "name": "stdout",
     "output_type": "stream",
     "text": [
      "A média das notas do estudante é de 8.333333333333334\n"
     ]
    }
   ],
   "source": [
    "# Exercício 9\n",
    "# Crie um código que solicita 3 notas de um estudante e imprima a média das notas.\n",
    "valor_a = float(input('Digite a primeira nota do estudante: '))\n",
    "valor_b = float(input('Digite a segunda nota do estudante: '))\n",
    "valor_c = float(input('Digite a terceira nota do estudante: '))\n",
    "\n",
    "media = (valor_a+valor_b+valor_c)/3\n",
    "\n",
    "print(f'A média das notas do estudante é de {media}')"
   ]
  },
  {
   "cell_type": "code",
   "execution_count": 29,
   "metadata": {},
   "outputs": [
    {
     "name": "stdout",
     "output_type": "stream",
     "text": [
      "37.25\n"
     ]
    }
   ],
   "source": [
    "# Exercício 10\n",
    "# Crie um código que calcule e imprima a média ponderada dos números 5, 12, 20 e 15 com pesos respectivamente iguais a 1, 2, 3 e 4.\n",
    "\n",
    "media_ponderada = (5*1 + 12*2 + 20*3 + 15*4)/4\n",
    "print(media_ponderada)"
   ]
  },
  {
   "cell_type": "markdown",
   "metadata": {},
   "source": [
    "Editando textos"
   ]
  },
  {
   "cell_type": "code",
   "execution_count": null,
   "metadata": {},
   "outputs": [],
   "source": [
    "# Exercício 1 "
   ]
  },
  {
   "cell_type": "code",
   "execution_count": null,
   "metadata": {},
   "outputs": [],
   "source": [
    "# Exercício 2"
   ]
  },
  {
   "cell_type": "code",
   "execution_count": null,
   "metadata": {},
   "outputs": [],
   "source": [
    "# Exercício 3"
   ]
  },
  {
   "cell_type": "code",
   "execution_count": null,
   "metadata": {},
   "outputs": [],
   "source": [
    "# Exercício 4"
   ]
  },
  {
   "cell_type": "code",
   "execution_count": null,
   "metadata": {},
   "outputs": [],
   "source": [
    "# Exercício 5"
   ]
  },
  {
   "cell_type": "code",
   "execution_count": null,
   "metadata": {},
   "outputs": [],
   "source": [
    "# Exercício 6 "
   ]
  },
  {
   "cell_type": "code",
   "execution_count": null,
   "metadata": {},
   "outputs": [],
   "source": [
    "# Exercício 7"
   ]
  },
  {
   "cell_type": "code",
   "execution_count": null,
   "metadata": {},
   "outputs": [],
   "source": [
    "# Exercício 8"
   ]
  },
  {
   "cell_type": "code",
   "execution_count": null,
   "metadata": {},
   "outputs": [],
   "source": [
    "# Exercício 9"
   ]
  },
  {
   "cell_type": "code",
   "execution_count": null,
   "metadata": {},
   "outputs": [],
   "source": [
    "# Exercício 10"
   ]
  }
 ],
 "metadata": {
  "kernelspec": {
   "display_name": "base",
   "language": "python",
   "name": "python3"
  },
  "language_info": {
   "codemirror_mode": {
    "name": "ipython",
    "version": 3
   },
   "file_extension": ".py",
   "mimetype": "text/x-python",
   "name": "python",
   "nbconvert_exporter": "python",
   "pygments_lexer": "ipython3",
   "version": "3.11.7"
  }
 },
 "nbformat": 4,
 "nbformat_minor": 2
}
