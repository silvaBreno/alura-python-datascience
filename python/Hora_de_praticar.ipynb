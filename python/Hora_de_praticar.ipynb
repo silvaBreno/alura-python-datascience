{
 "cells": [
  {
   "cell_type": "markdown",
   "metadata": {
    "id": "_kwAaQ36gLQ1"
   },
   "source": [
    "# Sobre o notebook\n",
    "\n",
    "A \"hora da prática\" é uma atividade do curso de Python para Data Science da Alura que contém diversos desafios envolvendo os aprendizados de cada aula.\n",
    "\n",
    "O notebook \"hora da pratica\" é um notebook construído com espaço para as células dos desafios propostos no curso, com ele você tem espaço para construir e executar suas soluções"
   ]
  },
  {
   "cell_type": "markdown",
   "metadata": {
    "id": "Mc-KN0dA0Z83"
   },
   "source": [
    "## Aula 1 - Introdução ao Python"
   ]
  },
  {
   "cell_type": "markdown",
   "metadata": {
    "id": "l5eLWf0W0ikn"
   },
   "source": [
    "### Questão 1\n",
    "\n",
    "Imprima a frase `Escola de Dados da Alura!`"
   ]
  },
  {
   "cell_type": "code",
   "execution_count": null,
   "metadata": {
    "id": "5pllxJ0h0-yA"
   },
   "outputs": [],
   "source": []
  },
  {
   "cell_type": "markdown",
   "metadata": {
    "id": "tQdX90Ue03c7"
   },
   "source": [
    "### Questão 2\n",
    "Imprima na tela seu nome e seu sobrenome seguindo a estrutura abaixo:\n",
    "```\n",
    "Nome: [seu nome]\n",
    "Sobrenome: [seu sobrenome]\n",
    "```\n"
   ]
  },
  {
   "cell_type": "code",
   "execution_count": null,
   "metadata": {
    "id": "RVw5iKn20_Ps"
   },
   "outputs": [],
   "source": []
  },
  {
   "cell_type": "markdown",
   "metadata": {
    "id": "gfg-aiip03vC"
   },
   "source": [
    "### Questão 3\n",
    "Imprima o seu primeiro nome letra a letra. Por exemplo, nome é Mirla, então eu obtenho a seguinte saída:\n",
    "```\n",
    "M\n",
    "I\n",
    "R\n",
    "L\n",
    "A\n",
    "```\n"
   ]
  },
  {
   "cell_type": "code",
   "execution_count": null,
   "metadata": {
    "id": "v5bkrgf60_qx"
   },
   "outputs": [],
   "source": []
  },
  {
   "cell_type": "markdown",
   "metadata": {
    "id": "oadrJbl704MM"
   },
   "source": [
    "### Questão 4\n",
    "Imprima o dia do seu nascimento em formato `dia mês ano`. Os valores de dia e ano não podem estar entre aspas. O formato deve estar como no exemplo, supondo uma data de aniversário dia 28 de fevereiro de 2003:\n",
    "```\n",
    "28 fevereiro 2003\n",
    "```"
   ]
  },
  {
   "cell_type": "code",
   "execution_count": null,
   "metadata": {
    "id": "cx0KSsrq1ALD"
   },
   "outputs": [],
   "source": []
  },
  {
   "cell_type": "markdown",
   "metadata": {
    "id": "3RgyMaan04TD"
   },
   "source": [
    "### Questão 5\n",
    "Imprima em um único print o atual ano que você está fazendo esse curso, o valor do ano deve ser um dado numérico. A saída do print deve ser a seguinte:\n",
    "```\n",
    "Ano atual: [ano]\n",
    "```\n"
   ]
  },
  {
   "cell_type": "code",
   "execution_count": null,
   "metadata": {
    "id": "UN77EfQ2d36Y"
   },
   "outputs": [],
   "source": []
  },
  {
   "cell_type": "markdown",
   "metadata": {
    "id": "D9e3FqhO1S3X"
   },
   "source": [
    "## Aula 2 - Manipulando dados no Python"
   ]
  },
  {
   "cell_type": "markdown",
   "metadata": {
    "id": "n6o7C1Ze2cRe"
   },
   "source": [
    "### Coleta e amostragem de dados"
   ]
  },
  {
   "cell_type": "markdown",
   "metadata": {
    "id": "sRneWag9PV5Q"
   },
   "source": [
    "#### Questão 1\n",
    "Crie um programa que solicite à pessoa usuária digitar seu nome, e imprima “Olá, [nome]!”."
   ]
  },
  {
   "cell_type": "code",
   "execution_count": 18,
   "metadata": {
    "id": "dbX1fKqy2HnE"
   },
   "outputs": [
    {
     "name": "stdout",
     "output_type": "stream",
     "text": [
      "Olá, !\n"
     ]
    }
   ],
   "source": [
    "nome = input('Qual é seu nome?')\n",
    "print(f'Olá, {nome}!')"
   ]
  },
  {
   "cell_type": "markdown",
   "metadata": {
    "id": "BJ1SznEp70d5"
   },
   "source": [
    "#### Questão 2\n",
    "Crie um programa que solicite à pessoa usuária digitar seu nome e idade, e imprima “Olá, [nome], você tem [idade] anos.”."
   ]
  },
  {
   "cell_type": "code",
   "execution_count": 19,
   "metadata": {
    "id": "jKz-0Sq8PFkp"
   },
   "outputs": [
    {
     "name": "stdout",
     "output_type": "stream",
     "text": [
      "Olá, , você tem  anos.\n"
     ]
    }
   ],
   "source": [
    "nome = input('Qual é seu nome?')\n",
    "idade = input('Qual é a sua idade?')\n",
    "print(f'Olá, {nome}, você tem {idade} anos.')"
   ]
  },
  {
   "cell_type": "markdown",
   "metadata": {
    "id": "2T0jNYZt70aa"
   },
   "source": [
    "#### Questão 3\n",
    "Crie um programa que solicite à pessoa usuária digitar seu nome, idade e altura em metros, e imprima “Olá, [nome], você tem [idade] anos e mede [altura] metros!”."
   ]
  },
  {
   "cell_type": "code",
   "execution_count": 20,
   "metadata": {
    "id": "pI4kHNzTPIXh"
   },
   "outputs": [
    {
     "name": "stdout",
     "output_type": "stream",
     "text": [
      "Olá, , você tem  anos e mede  metros!.\n"
     ]
    }
   ],
   "source": [
    "nome = input('Qual é seu nome?')\n",
    "idade = input('Qual é a sua idade?')\n",
    "altura = input('Qual é a sua altura')\n",
    "print(f'Olá, {nome}, você tem {idade} anos e mede {altura} metros!.')"
   ]
  },
  {
   "cell_type": "markdown",
   "metadata": {
    "id": "mEBFwKkC70KP"
   },
   "source": [
    "### Calculadora com operadores"
   ]
  },
  {
   "cell_type": "markdown",
   "metadata": {
    "id": "H-IV1oAPPSqK"
   },
   "source": [
    "#### Questão 1\n",
    "\n",
    "Crie um programa que solicite dois valores numéricos à pessoa usuária e imprima a soma dos dois valores."
   ]
  },
  {
   "cell_type": "code",
   "execution_count": 21,
   "metadata": {
    "id": "Zb0W84sy8rnp"
   },
   "outputs": [
    {
     "ename": "ValueError",
     "evalue": "could not convert string to float: ''",
     "output_type": "error",
     "traceback": [
      "\u001b[1;31m---------------------------------------------------------------------------\u001b[0m",
      "\u001b[1;31mValueError\u001b[0m                                Traceback (most recent call last)",
      "Cell \u001b[1;32mIn[21], line 1\u001b[0m\n\u001b[1;32m----> 1\u001b[0m valor_a \u001b[38;5;241m=\u001b[39m \u001b[38;5;28mfloat\u001b[39m(\u001b[38;5;28minput\u001b[39m(\u001b[38;5;124m'\u001b[39m\u001b[38;5;124mDigite o primeiro valor da soma: \u001b[39m\u001b[38;5;124m'\u001b[39m))\n\u001b[0;32m      2\u001b[0m valor_b \u001b[38;5;241m=\u001b[39m \u001b[38;5;28mfloat\u001b[39m(\u001b[38;5;28minput\u001b[39m(\u001b[38;5;124m'\u001b[39m\u001b[38;5;124mDigite o segundo valor da soma: \u001b[39m\u001b[38;5;124m'\u001b[39m))\n\u001b[0;32m      3\u001b[0m \u001b[38;5;28mprint\u001b[39m(\u001b[38;5;124mf\u001b[39m\u001b[38;5;124m'\u001b[39m\u001b[38;5;124mA soma dos valores \u001b[39m\u001b[38;5;132;01m{\u001b[39;00mvalor_a\u001b[38;5;132;01m}\u001b[39;00m\u001b[38;5;124m, \u001b[39m\u001b[38;5;132;01m{\u001b[39;00mvalor_b\u001b[38;5;132;01m}\u001b[39;00m\u001b[38;5;124m é de \u001b[39m\u001b[38;5;132;01m{\u001b[39;00mvalor_a\u001b[38;5;241m+\u001b[39mvalor_b\u001b[38;5;132;01m}\u001b[39;00m\u001b[38;5;124m'\u001b[39m)\n",
      "\u001b[1;31mValueError\u001b[0m: could not convert string to float: ''"
     ]
    }
   ],
   "source": [
    "valor_a = float(input('Digite o primeiro valor da soma: '))\n",
    "valor_b = float(input('Digite o segundo valor da soma: '))\n",
    "print(f'A soma dos valores {valor_a}, {valor_b} é de {valor_a+valor_b}')"
   ]
  },
  {
   "cell_type": "markdown",
   "metadata": {
    "id": "LUoi2MOu70Em"
   },
   "source": [
    "#### Questão 2\n",
    "Crie um programa que solicite três valores numéricos à pessoa usuária e imprima a soma dos três valores."
   ]
  },
  {
   "cell_type": "code",
   "execution_count": null,
   "metadata": {
    "id": "4FYjWyBS8rDm"
   },
   "outputs": [],
   "source": [
    "valor_a = float(input('Digite o primeiro valor da soma: '))\n",
    "valor_b = float(input('Digite o segundo valor da soma: '))\n",
    "valor_c = float(input('Digite o terceiro valor da soma: '))\n",
    "print(f'A soma dos valores {valor_a}, {valor_b}, {valor_c} é {valor_a+valor_b+valor_c}')"
   ]
  },
  {
   "cell_type": "markdown",
   "metadata": {
    "id": "lezGctF07z8i"
   },
   "source": [
    "#### Questão 3\n",
    "Crie um programa que solicite dois valores numéricos à pessoa usuária e imprima a subtração do primeiro pelo o segundo valor."
   ]
  },
  {
   "cell_type": "code",
   "execution_count": null,
   "metadata": {
    "id": "k0GE1z4w8p3J"
   },
   "outputs": [],
   "source": [
    "valor_a = float(input('Digite o primeiro valor da subtração: '))\n",
    "valor_b = float(input('Digite o segundo valor da subtração: '))\n",
    "print(f'A subtração dos valores {valor_a}, {valor_b} é de {valor_a-valor_b}')"
   ]
  },
  {
   "cell_type": "markdown",
   "metadata": {
    "id": "wwMP-dPU7zxW"
   },
   "source": [
    "#### Questão 4\n",
    "\n",
    "Crie um programa que solicite dois valores numéricos à pessoa usuária e imprima a multiplicação dos dois valores.\n"
   ]
  },
  {
   "cell_type": "code",
   "execution_count": null,
   "metadata": {
    "id": "GzFCVHfp8peZ"
   },
   "outputs": [],
   "source": [
    "valor_a = float(input('Digite o primeiro valor da multiplicação: '))\n",
    "valor_b = float(input('Digite o segundo valor da multiplicação: '))\n",
    "print(f'A multiplicação dos valores {valor_a}, {valor_b} é de {valor_a*valor_b}')"
   ]
  },
  {
   "cell_type": "markdown",
   "metadata": {
    "id": "9kxyHxUo7zRD"
   },
   "source": [
    "#### Questão 5\n",
    "\n",
    "Crie um programa que solicite dois valores numéricos, um numerador e um denominador, e realize a divisão entre os dois valores. Deixe claro que o valor do denominador não pode ser `0`.\n"
   ]
  },
  {
   "cell_type": "code",
   "execution_count": null,
   "metadata": {
    "id": "ytJ8l5KH8ozc"
   },
   "outputs": [],
   "source": [
    "valor_a = float(input('Digite o primeiro valor da divisão: '))\n",
    "valor_b = float(input('Digite o segundo valor da divisão: '))\n",
    "\n",
    "if(valor_b == 0):\n",
    "    print('Não é permitido dividir por zero')\n",
    "else:\n",
    "    print(f'A divisão dos valores {valor_a}, {valor_b} é de {valor_a/valor_b}')"
   ]
  },
  {
   "cell_type": "markdown",
   "metadata": {
    "id": "zkUSBTQq8Hxt"
   },
   "source": [
    "#### Questão 6\n",
    "\n",
    "Crie um programa que solicite dois valores numéricos, um operador e uma potência, e realize a exponenciação entre esses dois valores.\n"
   ]
  },
  {
   "cell_type": "code",
   "execution_count": null,
   "metadata": {
    "id": "RPj36jq08oZp"
   },
   "outputs": [],
   "source": [
    "valor_a = float(input('Digite o primeiro valor da exponenciação: '))\n",
    "valor_b = float(input('Digite o segundo valor da exponenciação: '))\n",
    "print(f'A exponenciação dos valores {valor_a}, {valor_b} é de {valor_a**valor_b}')"
   ]
  },
  {
   "cell_type": "markdown",
   "metadata": {
    "id": "yiunIusZ8Huj"
   },
   "source": [
    "#### Questão 7\n",
    "Crie um programa que solicite dois valores numéricos, um numerador e um denominador e realize a divisão inteira entre os dois valores. Deixe claro que o valor do denominador não pode ser `0`."
   ]
  },
  {
   "cell_type": "code",
   "execution_count": null,
   "metadata": {
    "id": "UHK8xITf8oCg"
   },
   "outputs": [],
   "source": [
    "valor_a = float(input('Digite o primeiro valor da divisão inteira: '))\n",
    "valor_b = float(input('Digite o segundo valor da divisão inteira: '))\n",
    "\n",
    "if(valor_b == 0):\n",
    "    print('Não é permitido dividir por zero')\n",
    "else:\n",
    "    print(f'A divisão dos valores {valor_a}, {valor_b} é de {valor_a//valor_b}')"
   ]
  },
  {
   "cell_type": "markdown",
   "metadata": {
    "id": "z_D_JiLX8Hra"
   },
   "source": [
    "#### Questão 8\n",
    "\n",
    "Crie um programa que solicite dois valores numéricos, um numerador e um denominador, e retorne o resto da divisão entre os dois valores. Deixe claro que o valor do denominador não pode ser `0`."
   ]
  },
  {
   "cell_type": "code",
   "execution_count": null,
   "metadata": {
    "id": "EWGJeukO8nqx"
   },
   "outputs": [],
   "source": [
    "valor_a = float(input('Digite o primeiro valor da divisão: '))\n",
    "valor_b = float(input('Digite o segundo valor da divisão: '))\n",
    "\n",
    "if(valor_b == 0):\n",
    "    print('Não é permitido dividir por zero')\n",
    "else:\n",
    "    print(f'O resto da divisão entre os valores {valor_a}, {valor_b} é de {valor_a%valor_b}')"
   ]
  },
  {
   "cell_type": "markdown",
   "metadata": {
    "id": "RDRajNkU8N8N"
   },
   "source": [
    "#### Questão 9\n",
    "\n",
    "Crie um código que solicita 3 notas de um estudante e imprima a média das notas."
   ]
  },
  {
   "cell_type": "code",
   "execution_count": null,
   "metadata": {
    "id": "H6F4Ojzt8nSR"
   },
   "outputs": [],
   "source": [
    "valor_a = float(input('Digite a primeira nota do estudante: '))\n",
    "valor_b = float(input('Digite a segunda nota do estudante: '))\n",
    "valor_c = float(input('Digite a terceira nota do estudante: '))\n",
    "\n",
    "media = (valor_a+valor_b+valor_c)/3\n",
    "\n",
    "print(f'A média das notas do estudante é de {media}')"
   ]
  },
  {
   "cell_type": "markdown",
   "metadata": {
    "id": "d7fjkne58N21"
   },
   "source": [
    "#### Questão 10\n",
    "\n",
    "Crie um código que calcule e imprima a média ponderada dos números 5, 12, 20 e 15 com pesos respectivamente iguais a 1, 2, 3 e 4."
   ]
  },
  {
   "cell_type": "code",
   "execution_count": null,
   "metadata": {
    "id": "fwjoHlV48mkv"
   },
   "outputs": [],
   "source": [
    "media_ponderada = (5*1 + 12*2 + 20*3 + 15*4)/4\n",
    "print(media_ponderada)"
   ]
  },
  {
   "cell_type": "markdown",
   "metadata": {
    "id": "GNmbX1OU8N0V"
   },
   "source": [
    "### Editando textos"
   ]
  },
  {
   "cell_type": "markdown",
   "metadata": {
    "id": "6wZ85mCsRCV0"
   },
   "source": [
    "#### Questão 1\n",
    "\n",
    "Crie uma variável chamada “`frase`” e atribua a ela uma string de sua escolha. Em seguida, imprima a frase na tela."
   ]
  },
  {
   "cell_type": "code",
   "execution_count": 1,
   "metadata": {
    "id": "eRqr_gh-8mFy"
   },
   "outputs": [
    {
     "data": {
      "text/plain": [
       "'Breno está praticando'"
      ]
     },
     "execution_count": 1,
     "metadata": {},
     "output_type": "execute_result"
    }
   ],
   "source": [
    "frase = 'Breno está praticando'\n",
    "frase"
   ]
  },
  {
   "cell_type": "markdown",
   "metadata": {
    "id": "Aac17z-18Nwv"
   },
   "source": [
    "#### Questão 2\n",
    "Crie um código que solicite uma frase e depois imprima a frase na tela."
   ]
  },
  {
   "cell_type": "code",
   "execution_count": 2,
   "metadata": {
    "id": "8zfE2hh98lb0"
   },
   "outputs": [
    {
     "data": {
      "text/plain": [
       "'Breno aaaaaaaaaa'"
      ]
     },
     "execution_count": 2,
     "metadata": {},
     "output_type": "execute_result"
    }
   ],
   "source": [
    "frase = input('Insira uma frase: ')\n",
    "frase"
   ]
  },
  {
   "cell_type": "markdown",
   "metadata": {
    "id": "DXVzqpN58Ntr"
   },
   "source": [
    "#### Questão 3\n",
    "\n",
    "Crie um código que solicite uma frase à pessoa usuária e imprima a mesma frase digitada mas com todas as letras maiúsculas."
   ]
  },
  {
   "cell_type": "code",
   "execution_count": 5,
   "metadata": {
    "id": "d0VzoYP68k-I"
   },
   "outputs": [
    {
     "data": {
      "text/plain": [
       "'BRENO ESTA TREINANDO'"
      ]
     },
     "execution_count": 5,
     "metadata": {},
     "output_type": "execute_result"
    }
   ],
   "source": [
    "frase = input('Insira uma frase: ')\n",
    "frase.upper()"
   ]
  },
  {
   "cell_type": "markdown",
   "metadata": {
    "id": "I12VeNPK8Nqb"
   },
   "source": [
    "#### Questão 4\n",
    "\n",
    "Crie um código que solicite uma frase à pessoa usuária e imprima a mesma frase digitada mas com todas as letras minúsculas."
   ]
  },
  {
   "cell_type": "code",
   "execution_count": 6,
   "metadata": {
    "id": "KD8rNy2K8kox"
   },
   "outputs": [
    {
     "data": {
      "text/plain": [
       "'breno esta treinando'"
      ]
     },
     "execution_count": 6,
     "metadata": {},
     "output_type": "execute_result"
    }
   ],
   "source": [
    "frase = input('Insira uma frase: ')\n",
    "frase.lower()"
   ]
  },
  {
   "cell_type": "markdown",
   "metadata": {
    "id": "cRqngSE48Nog"
   },
   "source": [
    "#### Questão 5\n",
    "\n",
    "Crie uma variável chamada “`frase`” e atribua a ela uma string de sua escolha. Em seguida, imprima a frase sem espaços em branco no início e no fim."
   ]
  },
  {
   "cell_type": "code",
   "execution_count": 9,
   "metadata": {
    "id": "aSCpdF-o8kBs"
   },
   "outputs": [
    {
     "data": {
      "text/plain": [
       "'Breno está praticando'"
      ]
     },
     "execution_count": 9,
     "metadata": {},
     "output_type": "execute_result"
    }
   ],
   "source": [
    "frase = '  Breno está praticando  '\n",
    "frase.strip()"
   ]
  },
  {
   "cell_type": "markdown",
   "metadata": {
    "id": "murIazpQ8Nkv"
   },
   "source": [
    "#### Questão 6\n",
    "\n",
    "Crie um código que solicite uma frase à pessoa usuária e imprima a mesma frase sem espaços em branco no início e no fim."
   ]
  },
  {
   "cell_type": "code",
   "execution_count": null,
   "metadata": {
    "id": "tHunjwuG8jNq"
   },
   "outputs": [],
   "source": [
    "frase = input('Insira uma frase: ')\n",
    "frase.strip()"
   ]
  },
  {
   "cell_type": "markdown",
   "metadata": {
    "id": "eRxc2OeX8Nh2"
   },
   "source": [
    "#### Questão 7\n",
    "\n",
    "\n",
    "Crie um código que solicite uma frase à pessoa usuária e imprima a mesma frase sem espaços em branco no início e no fim e em letras minúsculas."
   ]
  },
  {
   "cell_type": "code",
   "execution_count": 10,
   "metadata": {
    "id": "DYm0_UwS8ih6"
   },
   "outputs": [
    {
     "data": {
      "text/plain": [
       "'breno esta treinando'"
      ]
     },
     "execution_count": 10,
     "metadata": {},
     "output_type": "execute_result"
    }
   ],
   "source": [
    "frase = input('Insira uma frase: ')\n",
    "frase.strip().lower()"
   ]
  },
  {
   "cell_type": "markdown",
   "metadata": {
    "id": "UKATLavs8NfI"
   },
   "source": [
    "#### Questão 8\n",
    "\n",
    "Crie um código que solicite uma frase à pessoa usuária e imprima a mesma frase com todas as vogais “`e`” trocadas pela letra “`f`”."
   ]
  },
  {
   "cell_type": "code",
   "execution_count": 11,
   "metadata": {
    "id": "k64C5G5S8iLO"
   },
   "outputs": [
    {
     "data": {
      "text/plain": [
       "'Brfno fstá trfiando'"
      ]
     },
     "execution_count": 11,
     "metadata": {},
     "output_type": "execute_result"
    }
   ],
   "source": [
    "frase = input('Insira uma frase: ')\n",
    "frase.replace('e','f')"
   ]
  },
  {
   "cell_type": "markdown",
   "metadata": {
    "id": "n_1SPchw8NdG"
   },
   "source": [
    "#### Questão 9\n",
    "\n",
    "\n",
    "Crie um código que solicite uma frase à pessoa usuária e imprima a mesma frase com todas as vogais “`a`” trocadas pela caractere  “`@`”."
   ]
  },
  {
   "cell_type": "code",
   "execution_count": 12,
   "metadata": {
    "id": "msaDNm_p8h0D"
   },
   "outputs": [
    {
     "data": {
      "text/plain": [
       "'Breno está trein@ndo'"
      ]
     },
     "execution_count": 12,
     "metadata": {},
     "output_type": "execute_result"
    }
   ],
   "source": [
    "frase = input('Insira uma frase: ')\n",
    "frase.replace('a','@')"
   ]
  },
  {
   "cell_type": "markdown",
   "metadata": {
    "id": "H3sTTjqI8Naa"
   },
   "source": [
    "#### Questão 10\n",
    "\n",
    "\n",
    "Crie um código que solicite uma frase à pessoa usuária e imprima a mesma frase com todas as consoantes “`s`” trocadas pelo caractere  “`$`”."
   ]
  },
  {
   "cell_type": "code",
   "execution_count": 13,
   "metadata": {
    "id": "RPBIsWT68e-1"
   },
   "outputs": [
    {
     "data": {
      "text/plain": [
       "'Breno e$tá treinando'"
      ]
     },
     "execution_count": 13,
     "metadata": {},
     "output_type": "execute_result"
    }
   ],
   "source": [
    "frase = input('Insira uma frase: ')\n",
    "frase.replace('s','$')"
   ]
  },
  {
   "cell_type": "markdown",
   "metadata": {
    "id": "XGePe4GD2I59"
   },
   "source": [
    "## Aula 3 - Estruturas condicionais"
   ]
  },
  {
   "cell_type": "markdown",
   "metadata": {
    "id": "Pr9HTW0UHCdD"
   },
   "source": [
    "### Aquecendo na programação"
   ]
  },
  {
   "cell_type": "markdown",
   "metadata": {
    "id": "xBZHqhVg80Fy"
   },
   "source": [
    "#### Questão 1\n",
    "Escreva um programa que peça à pessoa usuária para fornecer dois números e exibir o número maior."
   ]
  },
  {
   "cell_type": "code",
   "execution_count": 3,
   "metadata": {
    "id": "GJlGnzjc-xyF"
   },
   "outputs": [
    {
     "name": "stdout",
     "output_type": "stream",
     "text": [
      "10 é maior do que 4\n"
     ]
    }
   ],
   "source": [
    "valor_a = int(input('Escreva o primeiro valor a ser comparado: '))\n",
    "valor_b = int(input('Escreva o primeiro valor a ser comparado: '))\n",
    "\n",
    "if valor_a > valor_b:\n",
    "    print(f'{valor_a} é maior do que {valor_b}')\n",
    "else:\n",
    "    print(f'{valor_b} é maior do que {valor_a}')"
   ]
  },
  {
   "cell_type": "markdown",
   "metadata": {
    "id": "H4sgN7dyHNJF"
   },
   "source": [
    "#### Questão 2\n",
    "Escreva um programa que solicite o percentual de crescimento de produção de uma empresa e informe se houve um crescimento (porcentagem positiva) ou decrescimento (porcentagem negativa)."
   ]
  },
  {
   "cell_type": "code",
   "execution_count": 8,
   "metadata": {
    "id": "-2_Ry5XJ-yZW"
   },
   "outputs": [
    {
     "name": "stdout",
     "output_type": "stream",
     "text": [
      "A empresa apresentou um decrescimento de -10.0%\n"
     ]
    }
   ],
   "source": [
    "valor_a = float(input('Escreva o percentual de crescimento de produção da empresa: '))\n",
    "\n",
    "if valor_a > 0:\n",
    "    print(f'A empresa apresentou um crescimento de {valor_a}%')\n",
    "else:\n",
    "    print(f'A empresa apresentou um decrescimento de {valor_a}%')"
   ]
  },
  {
   "cell_type": "markdown",
   "metadata": {
    "id": "a_mzNOBDHNny"
   },
   "source": [
    "#### Questão 3\n",
    "Escreva um programa que determine se uma letra fornecida pela pessoa usuária é uma vogal ou consoante."
   ]
  },
  {
   "cell_type": "code",
   "execution_count": 20,
   "metadata": {
    "id": "NbgndVyg-zFJ"
   },
   "outputs": [
    {
     "name": "stdout",
     "output_type": "stream",
     "text": [
      "Entrada inválida! Por favor, insira apenas uma letra.\n"
     ]
    }
   ],
   "source": [
    "lista_vogais = ['a', 'e', 'i', 'o', 'u'] \n",
    "letra = input('Insira uma letra para descobrir se ela é vogal ou consoante:').lower()\n",
    "\n",
    "if len(letra) == 1 and letra.isalpha():\n",
    "    if letra in lista_vogais:\n",
    "        print(f'A letra {letra.upper()} é uma vogal')\n",
    "    else:\n",
    "        print(f'A letra {letra.upper()} é uma consoante')\n",
    "else:\n",
    "    print(\"Entrada inválida! Por favor, insira apenas uma letra.\")\n",
    "    "
   ]
  },
  {
   "cell_type": "markdown",
   "metadata": {
    "id": "mofMRjSZHP99"
   },
   "source": [
    "#### Questão 4\n",
    "Escreva um programa que leia valores médios de preços de um modelo de carro por 3 anos consecutivos e exiba o valor mais alto e mais baixo entre esses três anos."
   ]
  },
  {
   "cell_type": "code",
   "execution_count": 21,
   "metadata": {
    "id": "TX--d3k9-02c"
   },
   "outputs": [
    {
     "name": "stdout",
     "output_type": "stream",
     "text": [
      "O valor mais alto entre os três anos é: R$ 30.00\n",
      "O valor mais baixo entre os três anos é: R$ 10.00\n"
     ]
    }
   ],
   "source": [
    "preco_ano1 = float(input(\"Digite o valor médio do carro no 1º ano: \"))\n",
    "preco_ano2 = float(input(\"Digite o valor médio do carro no 2º ano: \"))\n",
    "preco_ano3 = float(input(\"Digite o valor médio do carro no 3º ano: \"))\n",
    "\n",
    "precos = [preco_ano1, preco_ano2, preco_ano3]\n",
    "\n",
    "valor_mais_alto = max(precos)\n",
    "valor_mais_baixo = min(precos)\n",
    "\n",
    "print(f\"O valor mais alto entre os três anos é: R$ {valor_mais_alto:.2f}\")\n",
    "print(f\"O valor mais baixo entre os três anos é: R$ {valor_mais_baixo:.2f}\")\n"
   ]
  },
  {
   "cell_type": "markdown",
   "metadata": {
    "id": "jY5tIwd-HQzc"
   },
   "source": [
    "#### Questão 5\n",
    "Escreva um programa que pergunte sobre o preço de três produtos e indique qual é o produto mais barato para comprar."
   ]
  },
  {
   "cell_type": "code",
   "execution_count": 30,
   "metadata": {
    "id": "sYqNh9df-0gk"
   },
   "outputs": [
    {
     "name": "stdout",
     "output_type": "stream",
     "text": [
      "O produto mais barato é o computador com o valor 10.00\n",
      "10.0 20.0 30.0\n"
     ]
    }
   ],
   "source": [
    "preco_computador = float(input('Insira o valor do computador: '))\n",
    "preco_camera = float(input('Insira o valor da camera: '))\n",
    "preco_celular = float(input('Insira o valor do celular: '))\n",
    "\n",
    "if preco_computador <= preco_camera and preco_computador <= preco_celular:\n",
    "    print(f'O produto mais barato é o computador com o valor {preco_computador:.2f}')\n",
    "elif preco_camera <= preco_celular:\n",
    "    print(f'O produto mais barato é a câmera com o valor {preco_camera:.2f}')\n",
    "else:\n",
    "    print(f'O produto mais barato é o celular com o valor {preco_celular:.2f}')\n"
   ]
  },
  {
   "cell_type": "markdown",
   "metadata": {
    "id": "1r6aVxtTHR4E"
   },
   "source": [
    "#### Questão 6\n",
    "Escreva um programa que leia três números e os exiba em ordem decrescente."
   ]
  },
  {
   "cell_type": "code",
   "execution_count": 31,
   "metadata": {
    "id": "ydOCYUMO-0Hk"
   },
   "outputs": [
    {
     "name": "stdout",
     "output_type": "stream",
     "text": [
      "A ordem dos números de forma descrescente é 3.0,2.0,1.0\n"
     ]
    }
   ],
   "source": [
    "num1 = float(input(\"Insira o primeiro número: \"))\n",
    "num2 = float(input(\"Insira o segundo número: \"))\n",
    "num3 = float(input(\"Insira o terceiro número: \"))\n",
    "\n",
    "if num1 >= num2 and num1 >= num3:\n",
    "    if num2 >= num3:\n",
    "        print(f'A ordem dos números de forma descrescente é {num1},{num2},{num3}')\n",
    "    else:\n",
    "        print(f'A ordem dos números de forma descrescente é {num1},{num3},{num2}')\n",
    "elif num2 >= num1 and num2 >= num3:\n",
    "    if num1 >= num3:\n",
    "        print(f'A ordem dos números de forma descrescente é {num2},{num1},{num3}')\n",
    "    else:\n",
    "        print(f'A ordem dos números de forma descrescente é {num2},{num3},{num1}')\n",
    "else:\n",
    "    if num1 >= num2:\n",
    "        print(f'A ordem dos números de forma descrescente é {num3},{num1},{num2}')\n",
    "    else:\n",
    "        print(f'A ordem dos números de forma descrescente é {num3},{num2},{num1}')\n",
    "        "
   ]
  },
  {
   "cell_type": "markdown",
   "metadata": {
    "id": "inW3F-hAHS_X"
   },
   "source": [
    "#### Questão 7\n",
    "Escreva um programa que pergunte em qual turno a pessoa usuária estuda (\"manhã\", \"tarde\" ou \"noite\") e exiba a mensagem \"Bom Dia!\", \"Boa Tarde!\", \"Boa Noite!\", ou \"Valor Inválido!\", conforme o caso."
   ]
  },
  {
   "cell_type": "code",
   "execution_count": 56,
   "metadata": {
    "id": "-_q-Pcr_-zth"
   },
   "outputs": [
    {
     "name": "stdout",
     "output_type": "stream",
     "text": [
      "Bom Dia!\n"
     ]
    }
   ],
   "source": [
    "lista_turnos = ['manhã','tarde','noite']\n",
    "turno = input('Em qual turno você estuda?').lower().strip()\n",
    "\n",
    "if turno in lista_turnos:\n",
    "    if turno == 'manhã':\n",
    "        print('Bom Dia!')\n",
    "    elif turno == 'tarde':\n",
    "        print('Boa Tarde!')\n",
    "    elif turno == 'noite':\n",
    "        print('Boa Noite!')\n",
    "else:\n",
    "    print('Valor Inválido!')       "
   ]
  },
  {
   "cell_type": "markdown",
   "metadata": {
    "id": "NCCPF3QqHTw-"
   },
   "source": [
    "#### Questão 8\n",
    "Escreva um programa que peça um número inteiro à pessoa usuária e determine se ele é par ou ímpar. Dica: Você pode utilizar o operador módulo `%`."
   ]
  },
  {
   "cell_type": "code",
   "execution_count": null,
   "metadata": {
    "id": "OmZJt1nQ-3e6"
   },
   "outputs": [
    {
     "name": "stdout",
     "output_type": "stream",
     "text": [
      "O número 3 é impar\n"
     ]
    }
   ],
   "source": [
    "num1 = int(input('Insira um número para verificar se ele é par ou impar: '))\n",
    "\n",
    "if num1 % 2 == 0:\n",
    "    print(f'O número {num1} é par')\n",
    "else:\n",
    "    print(f'O número {num1} é impar')    "
   ]
  },
  {
   "cell_type": "markdown",
   "metadata": {
    "id": "h93Ck1tQHUwE"
   },
   "source": [
    "#### Questão 9\n",
    "Escreva um programa que peça um número à pessoa usuária e informe se ele é inteiro ou decimal."
   ]
  },
  {
   "cell_type": "code",
   "execution_count": 61,
   "metadata": {
    "id": "sLMlZcx8-20N"
   },
   "outputs": [
    {
     "name": "stdout",
     "output_type": "stream",
     "text": [
      "O número é decimal.\n"
     ]
    }
   ],
   "source": [
    "num1 = float(input('Insira um número para verificar se ele é inteiro ou decimal: '))\n",
    "\n",
    "if num1 == int(num1):\n",
    "    print(\"O número é inteiro.\")\n",
    "else:\n",
    "    print(\"O número é decimal.\")"
   ]
  },
  {
   "cell_type": "markdown",
   "metadata": {
    "id": "bKdXSK1SH_pF"
   },
   "source": [
    "### Momento dos projetos"
   ]
  },
  {
   "cell_type": "markdown",
   "metadata": {
    "id": "WBlEyyzsHV86"
   },
   "source": [
    "#### Questão 10\n",
    "Um programa deve ser escrito para ler dois números e, em seguida, perguntar à pessoa usuária qual operação ele deseja realizar. O resultado da operação deve incluir informações sobre o número - se é par ou ímpar, positivo ou negativo e inteiro ou decimal."
   ]
  },
  {
   "cell_type": "code",
   "execution_count": 71,
   "metadata": {
    "id": "3jmahZ0f-2gq"
   },
   "outputs": [
    {
     "name": "stdout",
     "output_type": "stream",
     "text": [
      "Resultado:\t30.0\n",
      "Sinal:\tPositivo\n",
      "Tipo:\tInteiro\n",
      "Número:\tPar\n"
     ]
    }
   ],
   "source": [
    "# Entrada dos números\n",
    "numero1 = float(input(\"Digite o primeiro número: \"))\n",
    "numero2 = float(input(\"Digite o segundo número: \"))\n",
    "\n",
    "# Solicita qual operação a pessoa usuária deseja realizar\n",
    "operacao = input(\"Escolha a operação (soma, subtração, multiplicação, divisão): \").strip().lower()\n",
    "\n",
    "# Realiza a operação desejada e exibe o resultado\n",
    "if operacao == \"soma\":\n",
    "    resultado = numero1 + numero2\n",
    "elif operacao == \"subtração\":\n",
    "    resultado = numero1 - numero2\n",
    "elif operacao == \"multiplicação\":\n",
    "    resultado = numero1 * numero2\n",
    "elif operacao == \"divisão\":\n",
    "    if numero2 != 0:\n",
    "        resultado = numero1 / numero2\n",
    "    else:\n",
    "        resultado = \"Erro! Não é possível dividir por zero.\"\n",
    "else:\n",
    "    resultado = \"Operação inválida!\"\n",
    "\n",
    "if resultado == int(resultado):\n",
    "    tipo = 'Inteiro'\n",
    "else:\n",
    "    tipo = 'Decimal'\n",
    "\n",
    "if resultado % 2 == 0:\n",
    "    par_impar = \"Par\"\n",
    "else:\n",
    "    par_impar = \"Impar\"\n",
    "\n",
    "if resultado > 0:\n",
    "    sinal = \"Positivo\"\n",
    "elif resultado < 0:\n",
    "    sinal = \"zero\"\n",
    "else:\n",
    "    sinal = \"zero\"\n",
    "\n",
    "print(f\"Resultado:\\t{resultado}\\nSinal:\\t{sinal}\\nTipo:\\t{tipo}\\nNúmero:\\t{par_impar}\")\n"
   ]
  },
  {
   "cell_type": "markdown",
   "metadata": {
    "id": "VdnlULxHHW19"
   },
   "source": [
    "#### Questão 11\n",
    "Escreva um programa que peça à pessoa usuária três números que representam os lados de um triângulo. O programa deve informar se os valores podem ser utilizados para formar um triângulo e, caso afirmativo, se ele é equilátero, isósceles ou escaleno. Tenha em mente algumas dicas:\n",
    "- Três lados formam um triângulo quando a soma de quaisquer dois lados for maior que o terceiro;\n",
    "- Triângulo Equilátero: três lados iguais;\n",
    "- Triângulo Isósceles: quaisquer dois lados iguais;\n",
    "- Triângulo Escaleno: três lados diferentes;\n"
   ]
  },
  {
   "cell_type": "code",
   "execution_count": 76,
   "metadata": {
    "id": "0z73sqUO-2Pw"
   },
   "outputs": [
    {
     "name": "stdout",
     "output_type": "stream",
     "text": [
      "O lados fornecidos nao formam um triangulo\n"
     ]
    }
   ],
   "source": [
    "a = float(input('Insira o valor do lado A'))\n",
    "b = float(input('Insira o valor do lado B'))\n",
    "c = float(input('Insira o valor do lado C'))\n",
    "\n",
    "if a + b > c and b + c > a and a + c > b:\n",
    "    if a == b == c:\n",
    "        print(f'É um triangulo equilatero')        \n",
    "    elif a == b or b == c or c == a:\n",
    "        print(f'É um triangulo isosceles')\n",
    "    else:        \n",
    "        print(f'É um triangulo escaleno')\n",
    "else:\n",
    "    print(f'O lados fornecidos nao formam um triangulo')"
   ]
  },
  {
   "cell_type": "markdown",
   "metadata": {
    "id": "_PpEpOugHXwZ"
   },
   "source": [
    "#### Questão 12\n",
    "Um estabelecimento está vendendo combustíveis com descontos variados. Para o etanol, se a quantidade comprada for até 15 litros, o desconto será de 2% por litro. Caso contrário, será de 4% por litro. Para o diesel, se a quantidade comprada for até 15 litros, o desconto será de 3% por litro. Caso contrário, será de 5% por litro. O preço do litro de diesel é R\\$ 2,00 e o preço do litro de etanol é R\\$ 1,70. Escreva um programa que leia a quantidade de litros vendidos e o tipo de combustível (E para etanol e D para diesel) e calcule o valor a ser pago pelo cliente. Tenha em mente algumas dicas:\n",
    "\n",
    "- O do valor do desconto será a multiplicação entre preço do litro, quantidade de litros e o valor do desconto.\n",
    "- O valor a ser pago por um cliente será o resultado da multiplicação do preço do litro pela quantidade de litros menos o valor de desconto resultante do cálculo.\n"
   ]
  },
  {
   "cell_type": "code",
   "execution_count": null,
   "metadata": {
    "id": "9izoF-0O-1yD"
   },
   "outputs": [
    {
     "name": "stdout",
     "output_type": "stream",
     "text": [
      "O valor a ser pago será de R$16.66, pois o desconto foi de R$0.34\n"
     ]
    }
   ],
   "source": [
    "lista_desconto = [2,3,4,5]\n",
    "preco_etanol = 1.70\n",
    "preco_diesel = 2.00\n",
    "tipo_combustivel = input('Qual o combustível comprado: E - Etanol ou D - Diesel').upper()\n",
    "litros = float(input('Quantidade de litros comprados: '))\n",
    "\n",
    "if tipo_combustivel == 'E':\n",
    "    if litros > 15:\n",
    "        desconto = (litros*preco_etanol*lista_desconto[2])/100\n",
    "        total_pago_com_desconto = preco_etanol*litros-desconto\n",
    "        print(f'O valor a ser pago será de R${total_pago_com_desconto:.2f}, pois o desconto foi de R${desconto:.2f}')\n",
    "    else:\n",
    "        desconto = (litros*preco_etanol*lista_desconto[0])/100\n",
    "        total_pago_com_desconto = preco_etanol*litros-desconto\n",
    "        print(f'O valor a ser pago será de R${total_pago_com_desconto:.2f}, pois o desconto foi de R${desconto:.2f}')\n",
    "elif tipo_combustivel == 'D':\n",
    "    if litros > 15:\n",
    "        desconto = (litros*preco_diesel*lista_desconto[3])/100\n",
    "        total_pago_com_desconto = preco_diesel*litros-desconto\n",
    "        print(f'O valor a ser pago será de R${total_pago_com_desconto:.2f}, pois o desconto foi de R${desconto:.2f}')\n",
    "    else:\n",
    "        desconto = (litros*preco_diesel*lista_desconto[1])/100\n",
    "        total_pago_com_desconto = preco_diesel*litros-desconto\n",
    "        print(f'O valor a ser pago será de R${total_pago_com_desconto:.2f}, pois o desconto foi de R${desconto:.2f}')\n",
    "else:\n",
    "    print(f'O tipo do combustível está inválido')"
   ]
  },
  {
   "cell_type": "markdown",
   "metadata": {
    "id": "s_XS_D1WHY2R"
   },
   "source": [
    "#### Questão 13\n",
    "Em uma empresa de venda de imóveis você precisa criar um código que analise os dados de vendas anuais para ajudar a diretoria na tomada de decisão. O código precisa coletar os dados de quantidade de venda durante os anos de 2022 e 2023 e fazer um cálculo de variação percentual. A partir do valor da variação, deve ser enviada às seguintes sugestões:\n",
    "- Para variação acima de 20%: bonificação para o time de vendas.\n",
    "- Para variação entre 2% e 20%: pequena bonificação para time de vendas.\n",
    "- Para variação entre 2% e -10%: planejamento de políticas de incentivo às vendas.\n",
    "- Para bonificações abaixo de -10%: corte de gastos.\n"
   ]
  },
  {
   "cell_type": "code",
   "execution_count": 87,
   "metadata": {
    "id": "avQrYlUg-w8f"
   },
   "outputs": [
    {
     "name": "stdout",
     "output_type": "stream",
     "text": [
      "A variação percentual de vendas de 2022 para 2023 foi de -90.00%.\n",
      "Corte de gastos\n"
     ]
    }
   ],
   "source": [
    "vendas_ano1 = int(input('Insira a quantidade de vendas do ano de 2022'))\n",
    "vendas_ano2 = int(input('Insira a quantidade de vendas do ano de 2023'))\n",
    "\n",
    "variacao_percentual  = ((vendas_ano2 - vendas_ano1) / vendas_ano1) * 100\n",
    "print(f'A variação percentual de vendas de 2022 para 2023 foi de {variacao_percentual:.2f}%.')\n",
    "\n",
    "if variacao_percentual  > 20:\n",
    "    print(f'Bonificação para o time de vendas')\n",
    "elif 2 < variacao_percentual <= 20:\n",
    "    print(f'Pequena bonificação para o time de vendas')\n",
    "elif -10 <= variacao_percentual  <=2:\n",
    "    print(f'Planejamento de políticas de incentivo às vendas')\n",
    "else:\n",
    "    print(f'Corte de gastos')\n"
   ]
  },
  {
   "cell_type": "markdown",
   "metadata": {
    "id": "AuaWh4-d2Itt"
   },
   "source": [
    "## Aula 4 - Estruturas de repetição"
   ]
  },
  {
   "cell_type": "markdown",
   "metadata": {
    "id": "6MSqU0sIJRdD"
   },
   "source": [
    "### Aquecendo na programação"
   ]
  },
  {
   "cell_type": "markdown",
   "metadata": {
    "id": "9eGGyCnAJRdQ"
   },
   "source": [
    "#### Questão 1\n",
    "Escreva um programa que peça dois números inteiros e imprima todos os números inteiros entre eles."
   ]
  },
  {
   "cell_type": "code",
   "execution_count": null,
   "metadata": {
    "id": "ID1oc1hxJRdQ"
   },
   "outputs": [
    {
     "name": "stdout",
     "output_type": "stream",
     "text": [
      "1\n",
      "2\n",
      "3\n"
     ]
    }
   ],
   "source": [
    "# Coletamos os valores de início e fim\n",
    "inicio = int(input('Insira o primeiro número inteiro: '))\n",
    "fim = int(input('Insira o segundo número inteiro: '))\n",
    "\n",
    "# Verificamos se o valor de início é maior que o fim\n",
    "if inicio < fim:\n",
    "  # podemos imprimir os inteiros entre o menor e o maior valor\n",
    "  for i in range(inicio + 1, fim): \n",
    "    print(i)\n",
    "elif inicio > fim:\n",
    "  for i in range(fim + 1, inicio):\n",
    "    print(i)\n",
    "else: #caso os números sejam iguais, não conseguimos imprimir sequência alguma\n",
    "  print('Os números são iguais.')"
   ]
  },
  {
   "cell_type": "markdown",
   "metadata": {
    "id": "mGonEHYCJRdR"
   },
   "source": [
    "#### Questão 2\n",
    "Escreva um programa para calcular quantos dias levará para a colônia de uma bactéria A ultrapassar ou igualar a colônia de uma bactéria B, com base nas taxas de crescimento de 3% e 1,5% respectivamente. Considere que a colônia A inicia com 4 elementos e a colônia B com 10 elementos."
   ]
  },
  {
   "cell_type": "code",
   "execution_count": 2,
   "metadata": {
    "id": "wM6FJuoqJRdR"
   },
   "outputs": [
    {
     "name": "stdout",
     "output_type": "stream",
     "text": [
      "Quantidade de Dias 63\n"
     ]
    }
   ],
   "source": [
    "valor_a = 4\n",
    "valor_b = 10\n",
    "taxa_crescimento_a = 3/100\n",
    "taxa_crescimento_b = 1.5/100\n",
    "dias = 0\n",
    "\n",
    "while valor_a <= valor_b:\n",
    "    valor_a += valor_a * taxa_crescimento_a\n",
    "    valor_b += valor_b * taxa_crescimento_b\n",
    "    dias += 1\n",
    "\n",
    "print(f'Quantidade de Dias {dias}')"
   ]
  },
  {
   "cell_type": "code",
   "execution_count": 1,
   "metadata": {},
   "outputs": [
    {
     "name": "stdout",
     "output_type": "stream",
     "text": [
      "Irá levar 63 dias para a colônia A ultrapassar a colônia B.\n"
     ]
    }
   ],
   "source": [
    "# número inicial de bactérias\n",
    "colonia_a = 4\n",
    "colonia_b = 10\n",
    "\n",
    "# taxas de crescimento das colônias\n",
    "taxa_a = 3/100\n",
    "taxa_b = 1.5/100\n",
    "\n",
    "# contador de dias\n",
    "dias = 0\n",
    "\n",
    "# A condição que finaliza o laço é o caso em que\n",
    "# a colônia A ultrapasse a colônia B\n",
    "while colonia_a <= colonia_b:\n",
    "  # usamos um operador de atribuição com multiplicação\n",
    "  colonia_a *= 1 + taxa_a\n",
    "  colonia_b *= 1 + taxa_b\n",
    "  # contamos o dia para cada iteração\n",
    "  dias += 1\n",
    "\n",
    "# resultado final\n",
    "print(f'Irá levar {dias} dias para a colônia A ultrapassar a colônia B.')"
   ]
  },
  {
   "cell_type": "markdown",
   "metadata": {
    "id": "UiOZRlqoJRdR"
   },
   "source": [
    "#### Questão 3\n",
    "Para tratar uma quantidade de 15 dados de avaliações de pessoas usuárias de um serviço da empresa, precisamos verificar se as notas são válidas. Então, escreva um programa que vai receber a nota de 0 a 5 de todos os dados e verificar se é um valor válido. Caso seja inserido uma nota acima de 5 ou abaixo de 0, repita até que a pessoa usuária insira um valor válido."
   ]
  },
  {
   "cell_type": "code",
   "execution_count": 3,
   "metadata": {
    "id": "3TUAhCxcJRdR"
   },
   "outputs": [
    {
     "name": "stdout",
     "output_type": "stream",
     "text": [
      "1º: Nota 1.0\n",
      "2º: Nota 2.0\n",
      "3º: Nota 3.0\n",
      "4º: Nota 5.0\n",
      "5º: Nota 5.0\n",
      "6º: Nota 4.5\n",
      "7º: Nota 4.0\n",
      "8º: Nota 3.6\n",
      "9º: Nota 2.5\n",
      "10º: Nota 1.0\n",
      "11º: Nota 1.0\n",
      "12º: Nota 1.0\n",
      "13º: Nota 1.0\n",
      "14º: Nota 1.0\n",
      "15º: Nota 1.0\n",
      "Verificação feita. Todas as notas são válidas\n"
     ]
    }
   ],
   "source": [
    "for avaliacao in range(1,16):\n",
    "    nota = float(input(f'Insira a {avaliacao}º nota desejada: '))\n",
    "\n",
    "    while nota < 0 or nota > 5:\n",
    "        nota = float(input(f'Nota inválida, insira novamente a {avaliacao}º nota'))\n",
    "    \n",
    "    print(f'{avaliacao}º: Nota {nota}')\n",
    "    \n",
    "print('Verificação feita. Todas as notas são válidas')"
   ]
  },
  {
   "cell_type": "markdown",
   "metadata": {
    "id": "ABv3KObGJRdR"
   },
   "source": [
    "#### Questão 4\n",
    "Desenvolva um programa que leia um conjunto indeterminado de temperaturas em Celsius e faça uma análise. Portanto, escreva um programa que leia temperaturas e informe a média delas. A leitura deve ser encerrada ao ser enviado o valor -273°C."
   ]
  },
  {
   "cell_type": "code",
   "execution_count": null,
   "metadata": {
    "id": "85tBBj5KJRdS"
   },
   "outputs": [
    {
     "name": "stdout",
     "output_type": "stream",
     "text": [
      "A quantidade de temperaturas inseridas foi de 1 e a média das temperatura é de 100.0°C.\n"
     ]
    }
   ],
   "source": [
    "contador = 0\n",
    "soma = 0\n",
    "\n",
    "temp = float(input('Insira a temperatura: '))\n",
    "\n",
    "while temp != -273:\n",
    "    soma += temp\n",
    "    contador += 1\n",
    "    temp = float(input('Insira a temperatura: '))\n",
    "\n",
    "if contador == 0:\n",
    "    print(\"Nenhuma temperatura válida foi inserida.\")\n",
    "else:\n",
    "    media = soma/contador\n",
    "    print(f'A quantidade de temperaturas inseridas foi de {contador} e a média das temperatura é de {media}°C.')"
   ]
  },
  {
   "cell_type": "markdown",
   "metadata": {
    "id": "IjkbAfGcJRdS"
   },
   "source": [
    "#### Questão 5\n",
    "Escreva um programa que calcule o fatorial de um número inteiro fornecido pela pessoa usuária. O fatorial de um número inteiro é a multiplicação desse número por todos os seus antecessores até o número 1. Por exemplo, o fatorial de 5 é 5 x 4 x 3 x 2 x 1 = 120."
   ]
  },
  {
   "cell_type": "code",
   "execution_count": 26,
   "metadata": {
    "id": "7RTH8o0HJRdS"
   },
   "outputs": [
    {
     "name": "stdout",
     "output_type": "stream",
     "text": [
      "120\n"
     ]
    }
   ],
   "source": [
    "num1 = int(input('Insira um valor para calcular o fatorial dele: '))\n",
    "fatorial = 1\n",
    "\n",
    "while num1 > 0:\n",
    "    fatorial *= num1\n",
    "    num1 -= 1\n",
    "\n",
    "print(f'{fatorial}') "
   ]
  },
  {
   "cell_type": "markdown",
   "metadata": {
    "id": "oGNKuQjsJRdT"
   },
   "source": [
    "### Momento dos projetos"
   ]
  },
  {
   "cell_type": "markdown",
   "metadata": {
    "id": "ODxaTUYmJRdS"
   },
   "source": [
    "#### Questão 6\n",
    "Escreva um programa que gere a tabuada de um número inteiro de 1 a 10, de acordo com a escolha da pessoa usuária. Como exemplo, para o número 2, a tabuada deve ser mostrada no seguinte formato:\n",
    "```\n",
    "Tabuada do 2:\n",
    "2 x 1 = 2\n",
    "2 x 2 = 4\n",
    "[...]\n",
    "2 x 10 = 20\n",
    "```"
   ]
  },
  {
   "cell_type": "code",
   "execution_count": 30,
   "metadata": {
    "id": "lkTlbxPIJRdS"
   },
   "outputs": [
    {
     "name": "stdout",
     "output_type": "stream",
     "text": [
      "Tabuada do 5:\n",
      "5 x 1 = 5\n",
      "5 x 2 = 10\n",
      "5 x 3 = 15\n",
      "5 x 4 = 20\n",
      "5 x 5 = 25\n",
      "5 x 6 = 30\n",
      "5 x 7 = 35\n",
      "5 x 8 = 40\n",
      "5 x 9 = 45\n",
      "5 x 10 = 50\n"
     ]
    }
   ],
   "source": [
    "num1 = int(input('Insira um valor para calcular a tabuada: '))\n",
    "\n",
    "print(f'Tabuada do {num1}:')\n",
    "for i in range(1,11):\n",
    "    resultado = num1*i\n",
    "    print(f'{num1} x {i} = {resultado}')"
   ]
  },
  {
   "cell_type": "markdown",
   "metadata": {
    "id": "LeIbnt8VJRdS"
   },
   "source": [
    "#### Questão 7\n",
    "Os números primos possuem várias aplicações dentro da Ciência de Dados, por exemplo, na criptografia e segurança. Um número primo é aquele que é divisível apenas por um e por ele mesmo. Faça um programa que peça um número inteiro e determine se ele é ou não um número primo."
   ]
  },
  {
   "cell_type": "code",
   "execution_count": 33,
   "metadata": {
    "id": "2rcNU7twJRdS"
   },
   "outputs": [
    {
     "name": "stdout",
     "output_type": "stream",
     "text": [
      "O número 10 não é primo\n"
     ]
    }
   ],
   "source": [
    "# Solicitamos o número\n",
    "num = int(input(\"Digite o número: \"))\n",
    "\n",
    "# Assumimos que o número é primo até que se prove o contrário\n",
    "eh_primo = True\n",
    "\n",
    "# Números abaixo de 2 não são primos\n",
    "if num <= 1 :\n",
    "  eh_primo = False\n",
    "else:\n",
    "    for i in range(2, num):\n",
    "        # Se o número for divisível por qualquer número dentro deste intervalo,\n",
    "        # ele não é primo, portanto, mudamos a variável 'eh_primo' para False e saímos do loop.\n",
    "        if num % i == 0:\n",
    "            eh_primo = False\n",
    "            break\n",
    "  \n",
    "# Verifica se 'eh_primo' ainda é True, o que significa que o número passou pelo loop\n",
    "# sem ser divisível por nenhum número além de 1 e ele mesmo.\n",
    "if eh_primo:\n",
    "    # Se for o caso, o número é primo.\n",
    "    print(f'O número {num} é primo')\n",
    "else:\n",
    "    # Caso contrário, o número não é primo.\n",
    "    print(f'O número {num} não é primo')"
   ]
  },
  {
   "cell_type": "markdown",
   "metadata": {
    "id": "QTwb6QaCJRdT"
   },
   "source": [
    "#### Questão 8\n",
    "Vamos entender a distribuição de idades de pensionistas de uma empresa de previdência. Escreva um programa que leia as idades de uma quantidade não informada de clientes e mostre a distribuição em intervalos de [0-25], [26-50], [51-75] e [76-100]. Encerre a entrada de dados com um número negativo."
   ]
  },
  {
   "cell_type": "code",
   "execution_count": 41,
   "metadata": {
    "id": "4IAhaDmYJRdT"
   },
   "outputs": [
    {
     "name": "stdout",
     "output_type": "stream",
     "text": [
      "Distribuicao das Idades dos Pensionistas\n",
      "[0-25]: 1\n",
      "[26-50]: 0\n",
      "[51-75]: 0\n",
      "[76-100]: 0\n"
     ]
    }
   ],
   "source": [
    "idade = int(input('Insira a idade do cliente: '))\n",
    "conta_a = 0\n",
    "conta_b = 0\n",
    "conta_c = 0\n",
    "conta_d = 0\n",
    "\n",
    "while idade > 0:\n",
    "    if idade >= 0 and idade <= 25:\n",
    "        conta_a += 1\n",
    "    elif idade >= 26 and idade <= 50:\n",
    "        conta_b += 1\n",
    "    elif idade >= 51 and idade <= 75:\n",
    "        conta_c += 1\n",
    "    elif idade >= 76 and idade <= 100:\n",
    "        conta_d += 1\n",
    "    else:\n",
    "        idade = int(input('Valor inválido e maior do que 100 anos de idade. Insira a idade do cliente novamente: '))\n",
    "\n",
    "    idade = int(input('Insira a idade do cliente: '))\n",
    "\n",
    "print(f'Distribuicao das Idades dos Pensionistas')\n",
    "print('[0-25]:', conta_a)\n",
    "print('[26-50]:', conta_b)\n",
    "print('[51-75]:', conta_c)\n",
    "print('[76-100]:', conta_d)"
   ]
  },
  {
   "cell_type": "markdown",
   "metadata": {
    "id": "soJCQVwRJRdT"
   },
   "source": [
    "#### Questão 9\n",
    "Em uma eleição para gerência em uma empresa com 20 funcionários, existem quatro candidatos. Escreva um programa que calcule o vencedor da eleição. A votação ocorreu da seguinte maneira:\n",
    "- Cada funcionário votou em um dos quatro candidatos (representados pelos números 1, 2, 3 e 4).\n",
    "- Também foram contabilizados os votos nulos (representado pelo número 5) e os votos em branco (representado pelo número 6).\n",
    "\n",
    "Ao final da votação, o programa deve exibir o total de votos para cada candidato, o número de votos nulos e o número de votos em branco. Além disso, deve calcular e exibir a porcentagem de votos nulos em relação ao total de votos e a porcentagem de votos em branco em relação ao total de votos."
   ]
  },
  {
   "cell_type": "code",
   "execution_count": 3,
   "metadata": {
    "id": "041EFrgG-4gR"
   },
   "outputs": [
    {
     "name": "stdout",
     "output_type": "stream",
     "text": [
      "Voto Inválido!!!\n",
      "Voto Inválido!!!\n",
      "Voto Inválido!!!\n",
      "Voto Inválido!!!\n",
      "Voto Inválido!!!\n",
      "Voto Inválido!!!\n",
      "Voto Inválido!!!\n",
      "Voto Inválido!!!\n",
      "Voto Inválido!!!\n",
      "Voto Inválido!!!\n",
      "Voto Inválido!!!\n",
      "Voto Inválido!!!\n",
      "Voto Inválido!!!\n",
      "Voto Inválido!!!\n",
      "Voto Inválido!!!\n",
      "Voto Inválido!!!\n",
      "Voto Inválido!!!\n",
      "Voto Inválido!!!\n",
      "Voto Inválido!!!\n",
      "Voto Inválido!!!\n",
      "Votos candidato 1: 0\n",
      "Votos candidato 2: 0\n",
      "Votos candidato 3: 0\n",
      "Votos candidato 4: 0\n",
      "Votos nulos: 0\n",
      "Votos em branco: 0\n",
      "Percentual de votos nulos: 0.0\n",
      "Percentual de votos em branco: 0.0\n"
     ]
    }
   ],
   "source": [
    "candidato_1 = 0\n",
    "candidato_2 = 0\n",
    "candidato_3 = 0\n",
    "candidato_4 = 0\n",
    "votos_nulos = 0\n",
    "votos_brancos = 0\n",
    "\n",
    "\n",
    "for i in range(20):\n",
    "    voto = int(input('Insira o voto: 1 - Candidato A, 2 - Candidato B, 3 - Candidato C, 4 - Candidato D, 5 - Nulo e 6 - Branco: '))\n",
    "    if voto == 1:\n",
    "        candidato_1 += 1\n",
    "    elif voto == 2:\n",
    "        candidato_2 += 1\n",
    "    elif voto == 3:\n",
    "        candidato_3 += 1\n",
    "    elif voto == 4:\n",
    "        candidato_4 += 1\n",
    "    elif voto == 5:\n",
    "        votos_nulos += 1\n",
    "    elif voto == 6:\n",
    "        votos_brancos += 1\n",
    "    else:\n",
    "        print('Voto Inválido!!!')\n",
    "    \n",
    "print(f'Votos candidato 1: {candidato_1}')\n",
    "print(f'Votos candidato 2: {candidato_2}')\n",
    "print(f'Votos candidato 3: {candidato_3}')\n",
    "print(f'Votos candidato 4: {candidato_4}')\n",
    "print(f'Votos nulos: {votos_nulos}')\n",
    "print(f'Votos em branco: {votos_brancos}')\n",
    "print(f'Percentual de votos nulos: {(votos_nulos / 20 * 100)}')\n",
    "print(f'Percentual de votos em branco: {(votos_brancos / 20 * 100)}')\n",
    "    "
   ]
  },
  {
   "cell_type": "markdown",
   "metadata": {
    "id": "eijHQiNU2IZ7"
   },
   "source": [
    "## Aula 5 - Estruturas de dados"
   ]
  },
  {
   "cell_type": "markdown",
   "metadata": {
    "id": "92F0bKtBMgd7"
   },
   "source": [
    "### Aquecendo na programação"
   ]
  },
  {
   "cell_type": "markdown",
   "metadata": {
    "id": "IypX2ANuMgeC"
   },
   "source": [
    "#### Questão 1\n",
    "Faça um programa que tenha a seguinte lista contendo os valores de gastos de uma empresa de papel `[2172.54, 3701.35, 3518.09, 3456.61, 3249.38, 2840.82, 3891.45, 3075.26, 2317.64, 3219.08]`. Com esses valores, faça um programa que calcule a média de gastos. Dica, use as funções built-in [`sum()`](https://docs.python.org/3/library/functions.html#sum) e [`len()`](https://docs.python.org/3/library/functions.html#len)."
   ]
  },
  {
   "cell_type": "code",
   "execution_count": 2,
   "metadata": {
    "id": "ge3LuFhLMgeD"
   },
   "outputs": [
    {
     "name": "stdout",
     "output_type": "stream",
     "text": [
      "Média de gastos da empresa: 3144.222\n"
     ]
    }
   ],
   "source": [
    "gastos = [2172.54, 3701.35, 3518.09, 3456.61, 3249.38, 2840.82, 3891.45, 3075.26, 2317.64, 3219.08]\n",
    "\n",
    "media = sum(gastos)/len(gastos)\n",
    "print(f'Média de gastos da empresa: {media}')"
   ]
  },
  {
   "cell_type": "markdown",
   "metadata": {
    "id": "xrOeLhQkMgeD"
   },
   "source": [
    "#### Questão 2\n",
    " Com os mesmos dados da questão anterior, defina quantas compras foram acima de 3000 reais e calcule a porcentagem quanto ao total de compras."
   ]
  },
  {
   "cell_type": "code",
   "execution_count": 3,
   "metadata": {
    "id": "Ygu5TMZyMgeD"
   },
   "outputs": [
    {
     "name": "stdout",
     "output_type": "stream",
     "text": [
      "7 compras foram acima de R$3000,00.\n",
      "70.0% dos gastos foram acima de R$3000,00.\n"
     ]
    }
   ],
   "source": [
    "# Dados de gastos\n",
    "gastos = [2172.54, 3701.35, 3518.09, 3456.61, 3249.38, 2840.82, 3891.45, 3075.26, 2317.64, 3219.08]\n",
    "\n",
    "# Variável que vai contar quantas compras foram feitas acima de 3000\n",
    "contador_acima_3000 = 0\n",
    "\n",
    "# Usamos o laço para ler a lista de gastos\n",
    "for gasto in gastos:\n",
    "  # Verificamos se o elemento está acima de 3000\n",
    "  if gasto > 3000:\n",
    "    # Acrescentamos mais um no contador, caso tenha algum valor acima de 3000\n",
    "    contador_acima_3000 += 1\n",
    "    \n",
    "# Quantidade Compras\n",
    "# Variável que vai ser utilizada para o cálculo da porcentagem\n",
    "quantidade_compras = len(gastos)\t\n",
    "\n",
    "\n",
    "# Com a contagem conseguimos calcular a porcentagem de valores acima de 3000 entre todas as compras\n",
    "porcentagem_acima_3000 = 100 * (contador_acima_3000) / (quantidade_compras) \n",
    "\n",
    "# Resultado\n",
    "print(f'{contador_acima_3000} compras foram acima de R$3000,00.')\n",
    "print(f'{porcentagem_acima_3000}% dos gastos foram acima de R$3000,00.')"
   ]
  },
  {
   "cell_type": "markdown",
   "metadata": {
    "id": "JgCOrE_BMgeD"
   },
   "source": [
    "#### Questão 3\n",
    "Faça um código que colete em uma lista 5 números inteiros quaisquer e imprima a lista. Exemplo: `[1,4,7,2,4]`."
   ]
  },
  {
   "cell_type": "code",
   "execution_count": 2,
   "metadata": {
    "id": "vtM9O1hLMgeD"
   },
   "outputs": [
    {
     "name": "stdout",
     "output_type": "stream",
     "text": [
      "Lista de números inseridos: [3, 4, 5, 6, 7]\n"
     ]
    }
   ],
   "source": [
    "lista_numerica = []\n",
    "\n",
    "for i in range(5):\n",
    "    num1 = int(input('Insira um número para formar a lista: '))\n",
    "    lista_numerica.append(num1)\n",
    "\n",
    "print(f'Lista de números inseridos: {lista_numerica}')\n"
   ]
  },
  {
   "cell_type": "markdown",
   "metadata": {
    "id": "p3bTp88HMgeD"
   },
   "source": [
    "#### Questão 4\n",
    "Colete novamente 5 inteiros e imprima a lista em ordem inversa à enviada."
   ]
  },
  {
   "cell_type": "code",
   "execution_count": 9,
   "metadata": {
    "id": "-CGwMIyHMgeD"
   },
   "outputs": [
    {
     "name": "stdout",
     "output_type": "stream",
     "text": [
      "Lista de números inseridos: [5, 4, 3, 2, 1]\n"
     ]
    }
   ],
   "source": [
    "lista_numerica = []\n",
    "\n",
    "for i in range(5):\n",
    "    num1 = int(input('Insira um número para forma a lista inversa: '))\n",
    "    lista_numerica.append(num1)\n",
    "\n",
    "print(f'Lista de números inseridos: {lista_numerica[::-1]}')"
   ]
  },
  {
   "cell_type": "markdown",
   "metadata": {
    "id": "eIXd_z1lMgeD"
   },
   "source": [
    "#### Questão 5\n",
    "Faça um programa que, ao inserir um número qualquer, criará uma lista contendo todos os números primos entre 1 e o número digitado."
   ]
  },
  {
   "cell_type": "code",
   "execution_count": 10,
   "metadata": {
    "id": "rj_6GHstMgeE"
   },
   "outputs": [
    {
     "name": "stdout",
     "output_type": "stream",
     "text": [
      "Lista de números primos: [2, 3, 5, 7]\n"
     ]
    }
   ],
   "source": [
    "# Coletamos o números\n",
    "numero = int(input('Digite um número inteiro: '))\n",
    "# Lista para receber os números primos\n",
    "lista_primos = []\n",
    "# Laço que vai rodar por todos os números abaixo do número digitado\n",
    "for num in range(2, numero):\n",
    "  # Primo é uma bandeira, ela permite sabermos se o valor analisado é ou não primo\n",
    "  primo = True \n",
    "  # Testamos se todos os números abaixo do especificado no primeiro laço podem\n",
    "  # gerar uma divisão exata\n",
    "  for teste_divisiveis in range(2, num):\n",
    "    if num % teste_divisiveis == 0:\n",
    "      # Caso seja divisivel por algum número entendemos que \n",
    "      # o num não é primo e finalizamos o laço interno com break\n",
    "      primo = False\n",
    "      break\n",
    "  # A condição se torna o resultado booleno de primo: False, ignoramos o condicional\n",
    "  # True, executamos o bloco do if\n",
    "  if primo:\n",
    "    lista_primos.append(num)\n",
    "# Resultado\n",
    "print(f'Lista de números primos: {lista_primos}')"
   ]
  },
  {
   "cell_type": "markdown",
   "metadata": {
    "id": "zrbz3ENlMgeE"
   },
   "source": [
    "#### Questão 6\n",
    "Escreva um programa que peça uma data informando o dia, mês e ano e determine se ela é uma data válida para uma análise."
   ]
  },
  {
   "cell_type": "code",
   "execution_count": null,
   "metadata": {
    "id": "0eYA8UjTMgeE"
   },
   "outputs": [],
   "source": [
    "# Coletamos a data\n",
    "dia = int(input('Digite o dia: '))\n",
    "mes = int(input('Digite o mês: '))\n",
    "ano = int(input('Digite o ano: '))\n",
    "\n",
    "# Análise de fevereiro\n",
    "if mes == 2:\n",
    "  # Verificamos se é ou não um ano bissexto\n",
    "  if ano % 4 == 0 and (ano % 400 == 0 or ano % 100 != 0):\n",
    "    dias_fevereiro = 29\n",
    "  else:\n",
    "    dias_fevereiro = 28\n",
    "  # Verificamos se o dia colocado corresponde ao máximo de dias de fevereiro\n",
    "  if dia >= 1 and dia <= dias_fevereiro:\n",
    "    print('Data válida')\n",
    "  else:\n",
    "    print('Data inválida')\n",
    "# Verificamos meses terminados em 31 dias\n",
    "elif mes in [1, 3, 5, 7, 8, 10, 12]:\n",
    "  if dia >= 1 and dia <= 31:\n",
    "    print('Data válida')\n",
    "  else:\n",
    "    print('Data inválida')\n",
    "# Verificamos meses terminados em 30 dias\n",
    "elif mes in [4, 6, 9, 11]:\n",
    "  if dia >= 1 and dia <= 30:\n",
    "    print('Data válida')\n",
    "  else:\n",
    "    print('Data inválida')\n",
    "# Caso o mês não esteja entre 1 e 12\n",
    "else:\n",
    "  print('Data inválida')"
   ]
  },
  {
   "cell_type": "markdown",
   "metadata": {
    "id": "ut_4VHdGMgeE"
   },
   "source": [
    "### Momento dos projetos"
   ]
  },
  {
   "cell_type": "markdown",
   "metadata": {
    "id": "G86Z0vD_MgeE"
   },
   "source": [
    "#### Questão 7\n",
    "Para um estudo envolvendo o nível de multiplicação de bactérias em uma colônia, foi coletado o número de bactérias multiplicadas por dia, com base em um processo de duplicação diária e pode ser observado a seguir: `[1.2, 2.1, 3.3, 5.0, 7.8, 11.3, 16.6, 25.1, 37.8, 56.9]`. Tendo esses valores, faça um código que gere uma lista contendo o percentual de crescimento de bactérias por dia, comparando o número de bactérias em cada dia com o número de bactérias do dia anterior. Dica: para calcular o percentual de crescimento usamos a seguinte equação: `100 * (amostra_atual - amostra_passada) / (amostra_passada)`."
   ]
  },
  {
   "cell_type": "code",
   "execution_count": 64,
   "metadata": {
    "id": "PXNO_CFkMgeE"
   },
   "outputs": [
    {
     "name": "stdout",
     "output_type": "stream",
     "text": [
      "Porcentagem de crescimento: \n",
      "[75.00000000000001, 57.142857142857125, 51.51515151515153, 56.0, 44.87179487179489, 46.90265486725664, 51.20481927710843, 50.59760956175297, 50.52910052910054]\n"
     ]
    }
   ],
   "source": [
    "bacterias_colonia = [1.2, 2.1, 3.3, 5.0, 7.8, 11.3, 16.6, 25.1, 37.8, 56.9]\n",
    "porcentagem_crescimento = []\n",
    "\n",
    "for i in range(1, len(bacterias_colonia)):\n",
    "    porcentagem = 100 * (bacterias_colonia[i]-bacterias_colonia[i-1])/bacterias_colonia[i-1]\n",
    "    porcentagem_crescimento.append(porcentagem)\n",
    "\n",
    "print(f'Porcentagem de crescimento: \\n{porcentagem_crescimento}')"
   ]
  },
  {
   "cell_type": "markdown",
   "metadata": {
    "id": "p4nxogpnMgeE"
   },
   "source": [
    "#### Questão 8\n",
    "Para uma seleção de produtos alimentícios, precisamos separar o conjunto de IDs dados por números inteiros, sabendo que os produtos com ID par são doces e os com ID ímpar são amargos. Monte um código que colete 10 IDs. Depois, calcule e mostre a quantidade de produtos doces e amargos."
   ]
  },
  {
   "cell_type": "code",
   "execution_count": 18,
   "metadata": {
    "id": "WqjO2SZkMgeE"
   },
   "outputs": [
    {
     "name": "stdout",
     "output_type": "stream",
     "text": [
      "Lista de IDs e Produtos: \n",
      "Lista de Números Pares: [10, 20, 40, 30, 10, 10, 20, 30, 50, 30], total de produtos doces: 10\n",
      "Lista de Números Impares: [], total de produtos amargos: 0\n"
     ]
    }
   ],
   "source": [
    "lista_ids_par = []\n",
    "lista_ids_impar = []\n",
    "\n",
    "for i in range (10):\n",
    "    num = int(input('Insira um numero: '))\n",
    "\n",
    "    if num % 2 == 0:\n",
    "        lista_ids_par.append(num)\n",
    "    else:\n",
    "        lista_ids_impar.append(num)\n",
    "    \n",
    "print('Lista de IDs e Produtos: ')\n",
    "print(f'Lista de Números Pares: {lista_ids_par}, total de produtos doces: {len(lista_ids_par)}')\n",
    "print(f'Lista de Números Impares: {lista_ids_impar}, total de produtos amargos: {len(lista_ids_impar)}')"
   ]
  },
  {
   "cell_type": "markdown",
   "metadata": {
    "id": "t5OrLxV6MgeE"
   },
   "source": [
    "#### Questão 9\n",
    "Desenvolva um programa que informa a nota de um aluno de acordo com suas respostas. Ele deve pedir a resposta de um aluno para cada questão e é preciso verificar se a resposta foi igual ao gabarito. Cada questão vale um ponto e existem alternativas:  A, B, C ou D.\n",
    "```\n",
    "Gabarito da Prova:\n",
    "01 - D\n",
    "02 - A\n",
    "03 - C\n",
    "04 - B\n",
    "05 - A\n",
    "06 - D\n",
    "07 - C\n",
    "08 - C\n",
    "09 - A\n",
    "10 - B\n",
    "```"
   ]
  },
  {
   "cell_type": "code",
   "execution_count": 21,
   "metadata": {
    "id": "ytIQDJrQMgeE"
   },
   "outputs": [
    {
     "name": "stdout",
     "output_type": "stream",
     "text": [
      "Nota final: 3\n"
     ]
    }
   ],
   "source": [
    "respostas = []\n",
    "gabarito = ['D', 'A', 'C', 'B', 'A', 'D', 'C', 'C', 'A', 'B']\n",
    "nota = 0\n",
    "\n",
    "for i in range(0,10):\n",
    "    resposta = input(f'Insira a resposta (A,B,C e D) da questao {i+1}: ').upper()\n",
    "    respostas.append(resposta)\n",
    "\n",
    "for i in range(0,10):\n",
    "    if respostas[i] == gabarito[i]:\n",
    "        nota += 1\n",
    "\n",
    "print(f'Nota final: {nota}')"
   ]
  },
  {
   "cell_type": "markdown",
   "metadata": {
    "id": "aSBMzh-AMgeF"
   },
   "source": [
    "#### Questão 10\n",
    "Um instituto de meteorologia deseja fazer um estudo de temperatura média de cada mês do ano. Para isso, você precisa fazer um código que colete e armazene essas temperaturas médias em uma lista. Depois, calcule a média anual das temperaturas e mostre todas as temperaturas acima da média anual, e em que mês elas ocorreram, mostrando os meses por extenso: Janeiro, Fevereiro, etc."
   ]
  },
  {
   "cell_type": "code",
   "execution_count": 2,
   "metadata": {
    "id": "ftj04s2uMgeF"
   },
   "outputs": [
    {
     "name": "stdout",
     "output_type": "stream",
     "text": [
      "Marco\n",
      "Junho\n",
      "Julho\n",
      "Setembro\n",
      "Outubro\n",
      "Novembro\n"
     ]
    }
   ],
   "source": [
    "temperaturas = []\n",
    "\n",
    "meses = ['Janeiro', 'Fevereiro', 'Marco', 'Abril', 'Maio', 'Junho', 'Julho', 'Agosto', 'Setembro', 'Outubro', 'Novembro', 'Dezembro']\n",
    "\n",
    "for i in range(12):\n",
    "    temperatura = float(input(f'Insira a temperatura do mês {i+1}: '))\n",
    "    temperaturas.append(temperatura)\n",
    "\n",
    "media_anual = sum(temperaturas)/len(temperaturas)\n",
    "\n",
    "for i in range(0,12):\n",
    "    if temperaturas[i] > media_anual:\n",
    "        print(meses[i])\n"
   ]
  },
  {
   "cell_type": "markdown",
   "metadata": {
    "id": "0X8S6s4jMgeF"
   },
   "source": [
    "#### Questão 11\n",
    "Uma empresa de e-commerce está interessada em analisar as vendas dos seus produtos. Os dados das vendas foram armazenados em um dicionário:\n",
    "```\n",
    "{'Produto A': 300, 'Produto B': 80, 'Produto C': 60,\n",
    " 'Produto D': 200, 'Produto E': 250, 'Produto F': 30}\n",
    "```\n",
    "Escreva um código que calcule o total de vendas e o produto mais vendido."
   ]
  },
  {
   "cell_type": "code",
   "execution_count": 26,
   "metadata": {
    "id": "Xa3DJLtFMgeF"
   },
   "outputs": [
    {
     "name": "stdout",
     "output_type": "stream",
     "text": [
      "Total de vendas = 920\n",
      "Produto mais vendido = Produto A\n"
     ]
    }
   ],
   "source": [
    "produtos = {'Produto A': 300, 'Produto B': 80, 'Produto C': 60,'Produto D': 200, 'Produto E': 250, 'Produto F': 30}\n",
    "total = 0\n",
    "valor_vendido = 0\n",
    "produto_mais_vendido = ''\n",
    "\n",
    "for valores in produtos.values():\n",
    "    total += valores\n",
    "\n",
    "for chave, valor in produtos.items():\n",
    "    if valor > valor_vendido:\n",
    "        valor_vendido = valor\n",
    "        produto_mais_vendido = chave\n",
    "\n",
    "print(f'Total de vendas = {total}')\n",
    "print(f'Produto mais vendido = {produto_mais_vendido}')"
   ]
  },
  {
   "cell_type": "markdown",
   "metadata": {
    "id": "nrEwf_1ZMgeF"
   },
   "source": [
    "#### Questão 12\n",
    "Uma pesquisa de mercado foi feita para decidir qual design de uma marca infantil mais agrada crianças. A pesquisa foi feita e o votos computados podem ser observados abaixo:\n",
    "```\n",
    "'''\n",
    "Tabela de votos da marca\n",
    "Design 1 - 1334 votos\n",
    "Design 2 - 982 votos\n",
    "Design 3 - 1751 votos\n",
    "Design 4 - 210 votos\n",
    "Design 5 - 1811 votos\n",
    "'''\n",
    "```\n",
    "Adapte os dados fornecidos a você para uma estrutura de dicionário e a partir dele, informe o design vencedor e a porcentagem de votos recebidos.\n"
   ]
  },
  {
   "cell_type": "code",
   "execution_count": 35,
   "metadata": {
    "id": "MRPcGR-_MgeF"
   },
   "outputs": [
    {
     "name": "stdout",
     "output_type": "stream",
     "text": [
      "O vencedor foi: Design 5 com 29.75% dos votos recebidos\n"
     ]
    }
   ],
   "source": [
    "marca = {'Design 1': 1334, 'Design 2': 982, 'Design 3': 1751, 'Design 4': 210, 'Design 5': 1811}\n",
    "mais_votado = 0\n",
    "design_votado = ''\n",
    "total_votos = 0\n",
    "\n",
    "for design, votos in marca.items():\n",
    "    \n",
    "    total_votos += votos\n",
    "\n",
    "    if votos > mais_votado:\n",
    "        mais_votado = votos\n",
    "        design_votado = design\n",
    "\n",
    "\n",
    "print(f'O vencedor foi o: {design_votado} com {(mais_votado/total_votos)*100:.2f}% dos votos recebidos')\n"
   ]
  },
  {
   "cell_type": "markdown",
   "metadata": {
    "id": "HRTFFzKIMgeF"
   },
   "source": [
    "#### Questão 13\n",
    "Os funcionários de um setor da empresa que você trabalha vão receber um abono correspondente a 10% do seu salário devido ao ótimo desempenho do time. O setor financeiro solicitou sua ajuda para a verificação das consequências financeiras que esse abono irá gerar nos recursos. Assim, foi encaminhada para você uma lista com os salários que receberão o abono: `[1172, 1644, 2617, 5130, 5532, 6341, 6650, 7238, 7685, 7782, 7903]`. O abono de cada funcionário não pode ser inferior a 200. Em código, transforme cada um dos salários em chaves de um dicionário e o abono de cada salário no elemento. Depois, informe o total de gastos com o abono, quantos funcionários receberam o abono mínimo e qual o maior valor de abono fornecido.\n"
   ]
  },
  {
   "cell_type": "code",
   "execution_count": 45,
   "metadata": {
    "id": "QsDSCua42bLB"
   },
   "outputs": [
    {
     "name": "stdout",
     "output_type": "stream",
     "text": [
      "Abonos: {1172: 200, 1644: 200, 2617: 261.7, 5130: 513.0, 5532: 553.2, 6341: 634.1, 6650: 665.0, 7238: 723.8000000000001, 7685: 768.5, 7782: 778.2, 7903: 790.3000000000001}\n",
      "Total de gasto com abonos: 6087.80\n",
      "Número de funcionários que receberam o abono mínimo: 2\n",
      "Maior valor de abono: 790.30\n"
     ]
    }
   ],
   "source": [
    "# Lista de salários\n",
    "salarios = [1172, 1644, 2617, 5130, 5532, 6341, 6650, 7238, 7685, 7782, 7903]\n",
    "# Inicializamos as variáveis\n",
    "dic_abonos = {} # Dicionário de abonos\n",
    "total_abono = 0 # Irá somar todos os gastos com abono\n",
    "abonos_minimo = 0 # Irá armazenar a quantidade de abonos mínimos \n",
    "maior_abono = 0 # Irá armazenar o maior valor de abono \n",
    "\n",
    "# Percorremos toda a lista de salários\n",
    "for salario in salarios:\n",
    "  # Calculamos o valor teórico de abono\n",
    "  abono = salario * 0.1\n",
    "  # Caso o abono seja inferior a 200,\n",
    "  # ajustamos o valor de abono para o mínimo (200)\n",
    "  if abono < 200:\n",
    "    abono = 200\n",
    "  # Adicionamos um novo dado no dicionário chave abono\n",
    "  dic_abonos[salario] = abono\n",
    "\n",
    "# Percorremos todos os valores do dicionário de abonos\n",
    "for abono in dic_abonos.values():\n",
    "  # Contamos o salário minimo\n",
    "  if abono == 200:\n",
    "    abonos_minimo += 1\n",
    "  # Verificamos se o abono lido é maior que o valor armazenado em maior_abono\n",
    "  # Cada vez que o abono superar o valor de maior_abono, \n",
    "  # a variável maior_abono vai ser igual à abono, atribuindo um novo valor\n",
    "  if abono > maior_abono:\n",
    "    maior_abono = abono\n",
    "  # Somamos os abonos\n",
    "  total_abono += abono\n",
    "# Resultados\n",
    "print(f'Abonos: {dic_abonos}')\n",
    "print(f'Total de gasto com abonos: {total_abono:.2f}')\n",
    "print(f'Número de funcionários que receberam o abono mínimo: {abonos_minimo}')\n",
    "print(f'Maior valor de abono: {maior_abono:.2f}')"
   ]
  },
  {
   "cell_type": "markdown",
   "metadata": {
    "id": "6dEXZEwjMlWy"
   },
   "source": [
    "#### Questão 14\n",
    "Uma equipe de cientistas de dados está estudando a diversidade biológica em uma floresta. A equipe fez a coleta de informações sobre o número de espécies de plantas e animais em cada área da floresta e armazenaram essas informações em um dicionário. Nele, a chave descreve a área dos dados e os valores nas listas correspondem às espécies de plantas e animais nas áreas, respectivamente.\n",
    "```\n",
    "{'Área Norte': [2819, 7236],\n",
    " 'Área Leste': [1440, 9492],\n",
    " 'Área Sul': [5969, 7496],\n",
    " 'Área Oeste': [14446, 49688],\n",
    " 'Área Centro': [22558, 45148]}\n",
    "```\n",
    "Escreva um código para calcular a média de espécies por área e identificar a área com a maior diversidade biológica. Dica: use as funções built-in [`sum()`](https://docs.python.org/3/library/functions.html#sum) e [`len()`](https://docs.python.org/3/library/functions.html#len).\n"
   ]
  },
  {
   "cell_type": "code",
   "execution_count": 47,
   "metadata": {
    "id": "eQnOUDfYMlWy"
   },
   "outputs": [
    {
     "name": "stdout",
     "output_type": "stream",
     "text": [
      "A Área Norte tem a média de 5027.5 espécies\n",
      "A Área Leste tem a média de 5466.0 espécies\n",
      "A Área Sul tem a média de 6732.5 espécies\n",
      "A Área Oeste tem a média de 32067.0 espécies\n",
      "A Área Centro tem a média de 33853.0 espécies\n",
      "Média geral de espécies: 16629.2\n",
      "Área com a maior diversidade biológica: Área Centro\n"
     ]
    }
   ],
   "source": [
    "# Especificamos os dados para um dicionário\n",
    "dados = {'Área Norte': [2819, 7236],\n",
    "         'Área Leste': [1440, 9492],\n",
    "         'Área Sul': [5969, 7496],\n",
    "         'Área Oeste': [14446, 49688],\n",
    "         'Área Centro': [22558, 45148]}\n",
    "# Inicializamos as variáveis\n",
    "soma_media = 0 # Irá somar todas as médias\n",
    "maior_diversidade = '' # Irá armazenar a área com maior diversidade\n",
    "maior_soma = 0 # Irá armazenar a maior soma de espécies \n",
    "# Percorremos os valores de chaves e elementos do dicionário\n",
    "for area, especies in dados.items():\n",
    "  # Fazemos a soma do números de espécies em cada área com a função sum\n",
    "  soma_especies = sum(especies)\n",
    "  # Calculamos a média dividindo a soma das espécies pela quantidade de espécies\n",
    "  media = soma_especies / len(especies)\n",
    "  # Imprimimos\n",
    "  print(f'A {area} tem a média de {media} espécies')\n",
    "  # Verificamos se a soma das espécies é maior que o valor armazenado de maior_soma\n",
    "  # Cada vez que a soma_especies superar o valor de maior_soma, \n",
    "  # a variável maior_soma vai ser igual à soma_especies, atribuindo um novo valor\n",
    "  # De forma similar, maior_diversidade também é substituída\n",
    "  if soma_especies > maior_soma:\n",
    "      maior_soma = soma_especies\n",
    "      maior_diversidade = area\n",
    "  # Somamos as médias\n",
    "  soma_media += media\n",
    "# A média total será dada pela soma_media dividida pela quantidade de áreas\n",
    "media_total = soma_media / len(dados)\n",
    "print(f'Média geral de espécies: {media_total}')\n",
    "print(f'Área com a maior diversidade biológica: {maior_diversidade}')"
   ]
  },
  {
   "cell_type": "markdown",
   "metadata": {
    "id": "r0RW2Sy_MlWy"
   },
   "source": [
    "#### Questão 15\n",
    "O setor de RH da sua empresa te pediu uma ajuda para analisar as idades dos funcionários de 4 setores da empresa. Para isso, ele te forneceu os seguintes dados:\n",
    "```\n",
    "{'Setor A': [22, 26, 30, 30, 35, 38, 40, 56, 57, 65],\n",
    " 'Setor B': [22, 24, 26, 33, 41, 49, 50, 54, 60, 64],\n",
    " 'Setor C': [23, 26, 26, 29, 34, 35, 36, 41, 52, 56],\n",
    " 'Setor D': [19, 20, 25, 27, 34, 39, 42, 44, 50, 65]}\n",
    "``` \n",
    "Sabendo que cada setor tem 10 funcionários, construa um código que calcule a média de idade de cada setor, a idade média geral entre todos os setores e quantas pessoas estão acima da idade média geral.\n"
   ]
  },
  {
   "cell_type": "code",
   "execution_count": 61,
   "metadata": {
    "id": "wCiwyKP3MmTz"
   },
   "outputs": [
    {
     "name": "stdout",
     "output_type": "stream",
     "text": [
      "A media de idade do Setor A é 39.9\n",
      "A media de idade do Setor B é 42.3\n",
      "A media de idade do Setor C é 35.8\n",
      "A media de idade do Setor D é 36.5\n",
      "A média de idade geral é  38.62\n",
      "18 pessoas estão acima da idade média geral\n"
     ]
    }
   ],
   "source": [
    "dados = {'Setor A': [22, 26, 30, 30, 35, 38, 40, 56, 57, 65],\n",
    "        'Setor B': [22, 24, 26, 33, 41, 49, 50, 54, 60, 64],\n",
    "        'Setor C': [23, 26, 26, 29, 34, 35, 36, 41, 52, 56],\n",
    "        'Setor D': [19, 20, 25, 27, 34, 39, 42, 44, 50, 65]}\n",
    "\n",
    "soma_total_idades = 0\n",
    "for setor, idades in dados.items():\n",
    "\n",
    "    soma = sum(idades)\n",
    "    media = soma / len(idades)\n",
    "    soma_total_idades += soma\n",
    "    print(f'A media de idade do {setor} é {media}')\n",
    "\n",
    "media_total = soma_total_idades / (len(idades) * len(dados))\n",
    "print(f'A média de idade geral é  {media_total:.2f}')\n",
    "\n",
    "acima_media = 0\n",
    "for setor, idades in dados.items():\n",
    "    for funcionario_idade in idades:\n",
    "        if funcionario_idade > media_total:\n",
    "            acima_media += 1\n",
    "\n",
    "print(f'{acima_media} pessoas estão acima da idade média geral')"
   ]
  }
 ],
 "metadata": {
  "colab": {
   "authorship_tag": "ABX9TyNAcHMa4C+Q6J7M1CkYm1Tn",
   "provenance": [],
   "toc_visible": true
  },
  "kernelspec": {
   "display_name": "base",
   "language": "python",
   "name": "python3"
  },
  "language_info": {
   "codemirror_mode": {
    "name": "ipython",
    "version": 3
   },
   "file_extension": ".py",
   "mimetype": "text/x-python",
   "name": "python",
   "nbconvert_exporter": "python",
   "pygments_lexer": "ipython3",
   "version": "3.11.7"
  }
 },
 "nbformat": 4,
 "nbformat_minor": 0
}
