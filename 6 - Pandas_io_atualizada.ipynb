{
 "cells": [
  {
   "cell_type": "markdown",
   "metadata": {
    "id": "kpSFmUqkR38M"
   },
   "source": [
    "##**Aula 1 - Fazendo leitura de arquivos CSV**\n",
    "\n",
    "Dados:\n",
    "- https://github.com/alura-cursos/Pandas/blob/main/superstore_data.csv\n",
    "- https://github.com/alura-cursos/Pandas/blob/main/superstore_data_ponto_virgula.csv"
   ]
  },
  {
   "cell_type": "markdown",
   "metadata": {
    "id": "3Y6rZlbkR7Em"
   },
   "source": [
    "###**Lendo arquivos CSV**"
   ]
  },
  {
   "cell_type": "code",
   "execution_count": null,
   "metadata": {
    "id": "9hop9Su4RptH"
   },
   "outputs": [],
   "source": [
    "import pandas as pd"
   ]
  },
  {
   "cell_type": "code",
   "execution_count": null,
   "metadata": {
    "id": "8gafmhj-R87B"
   },
   "outputs": [],
   "source": [
    "url = 'https://raw.githubusercontent.com/alura-cursos/Pandas/main/superstore_data.csv'"
   ]
  },
  {
   "cell_type": "code",
   "execution_count": null,
   "metadata": {
    "id": "gLG10aHjR9EU"
   },
   "outputs": [],
   "source": [
    "dados = pd.read_csv(url)"
   ]
  },
  {
   "cell_type": "code",
   "execution_count": null,
   "metadata": {
    "colab": {
     "base_uri": "https://localhost:8080/",
     "height": 299
    },
    "id": "jMGT8-uNR9G4",
    "outputId": "be3f3f9e-1d68-4668-aa18-ff62e0f3cdce"
   },
   "outputs": [],
   "source": [
    "dados.head()"
   ]
  },
  {
   "cell_type": "code",
   "execution_count": null,
   "metadata": {
    "id": "30nIB_tSSEG2"
   },
   "outputs": [],
   "source": [
    "url_2 = 'https://raw.githubusercontent.com/alura-cursos/Pandas/main/superstore_data_ponto_virgula.csv'"
   ]
  },
  {
   "cell_type": "code",
   "execution_count": null,
   "metadata": {
    "id": "Zly4YSTLSHRV"
   },
   "outputs": [],
   "source": [
    "dados_ponto_virgula = pd.read_csv(url_2)"
   ]
  },
  {
   "cell_type": "code",
   "execution_count": null,
   "metadata": {
    "colab": {
     "base_uri": "https://localhost:8080/",
     "height": 270
    },
    "id": "QHRB4dYjSHTh",
    "outputId": "09ba5e48-a09b-44d5-b236-6a38c31815f3"
   },
   "outputs": [],
   "source": [
    "dados_ponto_virgula.head()"
   ]
  },
  {
   "cell_type": "markdown",
   "metadata": {
    "id": "NYS6LsnUSNxf"
   },
   "source": [
    "###**Parâmetros da função read_csv**\n",
    "Documentação: https://pandas.pydata.org/pandas-docs/stable/reference/api/pandas.read_csv.html"
   ]
  },
  {
   "cell_type": "code",
   "execution_count": null,
   "metadata": {
    "id": "Fl3Scblt6T9z"
   },
   "outputs": [],
   "source": [
    "dados_ponto_virgula = pd.read_csv(url_2, sep = ';')"
   ]
  },
  {
   "cell_type": "code",
   "execution_count": null,
   "metadata": {
    "colab": {
     "base_uri": "https://localhost:8080/",
     "height": 487
    },
    "id": "vYEXFwA371ux",
    "outputId": "b4e23058-31a3-4622-9da0-1a0fc3671d6c"
   },
   "outputs": [],
   "source": [
    "dados_ponto_virgula"
   ]
  },
  {
   "cell_type": "code",
   "execution_count": null,
   "metadata": {
    "colab": {
     "base_uri": "https://localhost:8080/",
     "height": 299
    },
    "id": "WUBt-fs0K_oM",
    "outputId": "8788903c-418b-410d-93f9-c64008d02840"
   },
   "outputs": [],
   "source": [
    "dados_primeiras_linhas = pd.read_csv(url,nrows=5)\n",
    "dados_primeiras_linhas"
   ]
  },
  {
   "cell_type": "code",
   "execution_count": null,
   "metadata": {
    "colab": {
     "base_uri": "https://localhost:8080/",
     "height": 423
    },
    "id": "qaPSsZ_AK_ze",
    "outputId": "f0d063f5-b498-4e71-8273-302dd0460437"
   },
   "outputs": [],
   "source": [
    "dados_selecao = pd.read_csv(url, usecols=['Id', 'Year_Birth', 'Income'])\n",
    "dados_selecao"
   ]
  },
  {
   "cell_type": "code",
   "execution_count": null,
   "metadata": {
    "colab": {
     "base_uri": "https://localhost:8080/",
     "height": 423
    },
    "id": "oiJZ-NR8K_62",
    "outputId": "2a64d8cb-0d6b-40a7-fe14-1727af28f1e9"
   },
   "outputs": [],
   "source": [
    "dados_selecao = pd.read_csv(url, usecols=[0,1,4])\n",
    "dados_selecao"
   ]
  },
  {
   "cell_type": "markdown",
   "metadata": {
    "id": "l0psP9t5AbvH"
   },
   "source": [
    "###**Escrevendo arquivos CSV**\n",
    "\n",
    "Documentação: https://pandas.pydata.org/docs/reference/api/pandas.DataFrame.to_csv.html"
   ]
  },
  {
   "cell_type": "code",
   "execution_count": null,
   "metadata": {
    "id": "-k3SgjCSk5lp"
   },
   "outputs": [],
   "source": [
    "dados_selecao.to_csv('clientes_mercado.csv')"
   ]
  },
  {
   "cell_type": "code",
   "execution_count": null,
   "metadata": {
    "colab": {
     "base_uri": "https://localhost:8080/",
     "height": 423
    },
    "id": "HiHslm7FlGbD",
    "outputId": "3938e100-3994-4a0c-a0fe-5586e4ada57e"
   },
   "outputs": [],
   "source": [
    "clientes_mercado = pd.read_csv('/content/clientes_mercado.csv')\n",
    "clientes_mercado"
   ]
  },
  {
   "cell_type": "code",
   "execution_count": null,
   "metadata": {
    "id": "SZEnpG7PjPKs"
   },
   "outputs": [],
   "source": [
    "dados_selecao.to_csv('dados_mercado.csv', index=False)"
   ]
  },
  {
   "cell_type": "code",
   "execution_count": null,
   "metadata": {
    "colab": {
     "base_uri": "https://localhost:8080/",
     "height": 423
    },
    "id": "xkFNJ3FDko0W",
    "outputId": "0267adf3-0b40-4cfa-a609-ae2bfb756191"
   },
   "outputs": [],
   "source": [
    "dados_mercado = pd.read_csv('/content/dados_mercado.csv')\n",
    "dados_mercado"
   ]
  },
  {
   "cell_type": "markdown",
   "metadata": {
    "id": "TtY5qySo_tO-"
   },
   "source": [
    "##**Aula 2 - Utilizando planilhas**\n",
    "\n",
    "Dados: https://github.com/alura-cursos/Pandas/blob/main/emissoes_CO2.xlsx"
   ]
  },
  {
   "cell_type": "markdown",
   "metadata": {
    "id": "CAvQWlTsAg-_"
   },
   "source": [
    "###**Lendo arquivos Excel**"
   ]
  },
  {
   "cell_type": "code",
   "execution_count": null,
   "metadata": {
    "id": "LRsK8UngGXF1"
   },
   "outputs": [],
   "source": [
    "import pandas as pd"
   ]
  },
  {
   "cell_type": "code",
   "execution_count": null,
   "metadata": {
    "id": "btVS8UXaGd3w"
   },
   "outputs": [],
   "source": [
    "url = 'https://github.com/alura-cursos/Pandas/blob/main/emissoes_CO2.xlsx?raw=True'"
   ]
  },
  {
   "cell_type": "code",
   "execution_count": null,
   "metadata": {
    "id": "A9MFFnIPGXIV"
   },
   "outputs": [],
   "source": [
    "dados_co2 = pd.read_excel(url)"
   ]
  },
  {
   "cell_type": "code",
   "execution_count": null,
   "metadata": {
    "colab": {
     "base_uri": "https://localhost:8080/",
     "height": 267
    },
    "id": "aMZ2bFl0KTeO",
    "outputId": "b56783a1-ed24-4815-fe34-f5599a7276d6"
   },
   "outputs": [],
   "source": [
    "dados_co2.head()"
   ]
  },
  {
   "cell_type": "code",
   "execution_count": null,
   "metadata": {
    "colab": {
     "base_uri": "https://localhost:8080/"
    },
    "id": "5U0gxqjdMEuZ",
    "outputId": "62981279-d0ce-42ba-fa58-1f8b2fab7da3"
   },
   "outputs": [],
   "source": [
    "pd.ExcelFile(url).sheet_names"
   ]
  },
  {
   "cell_type": "markdown",
   "metadata": {
    "id": "qbP9g4RKa0VH"
   },
   "source": [
    "###**Parâmetros da função read_excel**\n",
    "\n",
    "Documentação: https://pandas.pydata.org/docs/reference/api/pandas.read_excel.html"
   ]
  },
  {
   "cell_type": "code",
   "execution_count": null,
   "metadata": {
    "id": "qKVHmfPYKc-U"
   },
   "outputs": [],
   "source": [
    "percapita = pd.read_excel(url, sheet_name='emissoes_percapita')"
   ]
  },
  {
   "cell_type": "code",
   "execution_count": null,
   "metadata": {
    "colab": {
     "base_uri": "https://localhost:8080/",
     "height": 250
    },
    "id": "AKT7zwGwKpOc",
    "outputId": "b518f585-8e50-4ebc-f006-b0b481c43f9e"
   },
   "outputs": [],
   "source": [
    "percapita.head()"
   ]
  },
  {
   "cell_type": "code",
   "execution_count": null,
   "metadata": {
    "id": "8yytRxClKx-L"
   },
   "outputs": [],
   "source": [
    "fontes = pd.read_excel(url, sheet_name='fontes')"
   ]
  },
  {
   "cell_type": "code",
   "execution_count": null,
   "metadata": {
    "colab": {
     "base_uri": "https://localhost:8080/",
     "height": 302
    },
    "id": "sCunf8-XK11d",
    "outputId": "3c3cf97c-ca5c-4c1f-a503-85a2610ffcb4"
   },
   "outputs": [],
   "source": [
    "fontes.head()"
   ]
  },
  {
   "cell_type": "code",
   "execution_count": null,
   "metadata": {
    "id": "gU-Dr5q5a6VV"
   },
   "outputs": [],
   "source": [
    "intervalo = pd.read_excel(url, sheet_name='emissoes_C02', usecols= 'A:D')"
   ]
  },
  {
   "cell_type": "code",
   "execution_count": null,
   "metadata": {
    "colab": {
     "base_uri": "https://localhost:8080/",
     "height": 423
    },
    "id": "mPEtECZWa6cm",
    "outputId": "cf72a972-8d9b-4254-bf96-f64840545409"
   },
   "outputs": [],
   "source": [
    "intervalo"
   ]
  },
  {
   "cell_type": "code",
   "execution_count": null,
   "metadata": {
    "id": "cW3RhLAkT0Yj"
   },
   "outputs": [],
   "source": [
    "intervalo_2 = pd.read_excel(url, sheet_name='emissoes_C02', usecols= 'A:D', nrows=10)"
   ]
  },
  {
   "cell_type": "code",
   "execution_count": null,
   "metadata": {
    "colab": {
     "base_uri": "https://localhost:8080/",
     "height": 363
    },
    "id": "grUbjNFKT6uA",
    "outputId": "74554a34-8d4b-4d63-ea70-b84e70f26bf1"
   },
   "outputs": [],
   "source": [
    "intervalo_2"
   ]
  },
  {
   "cell_type": "markdown",
   "metadata": {
    "id": "IK3DRdzVAhG6"
   },
   "source": [
    "###**Escrevendo arquivos Excel**"
   ]
  },
  {
   "cell_type": "code",
   "execution_count": null,
   "metadata": {
    "id": "SBuYqmLNRj_d"
   },
   "outputs": [],
   "source": [
    "percapita.to_excel('co2_percapita.xlsx', index=False)"
   ]
  },
  {
   "cell_type": "code",
   "execution_count": null,
   "metadata": {
    "colab": {
     "base_uri": "https://localhost:8080/",
     "height": 539
    },
    "id": "zbvMy8R1R4lp",
    "outputId": "dd340185-3240-4025-d7fa-69b1ec587290"
   },
   "outputs": [],
   "source": [
    "pd.read_excel('/content/co2_percapita.xlsx')"
   ]
  },
  {
   "cell_type": "markdown",
   "metadata": {
    "id": "GDpur7scfFlw"
   },
   "source": [
    "###**Lendo dados do Google Planilhas**"
   ]
  },
  {
   "cell_type": "markdown",
   "metadata": {
    "id": "U-E1-ZMdBt0v"
   },
   "source": [
    "link da planilha: https://docs.google.com/spreadsheets/d/1lzq0k-41-MbbS63C3Q9i1wPvLkSJt9zhr4Jolt1vEog/edit?usp=sharing"
   ]
  },
  {
   "cell_type": "code",
   "execution_count": null,
   "metadata": {
    "id": "8lxenQpajyiE"
   },
   "outputs": [],
   "source": [
    "sheet_id = '1lzq0k-41-MbbS63C3Q9i1wPvLkSJt9zhr4Jolt1vEog'\n",
    "url = f'https://docs.google.com/spreadsheets/d/{sheet_id}/gviz/tq?tqx=out:csv&sheet'"
   ]
  },
  {
   "cell_type": "code",
   "execution_count": null,
   "metadata": {
    "id": "dv9y1bTupyoW"
   },
   "outputs": [],
   "source": [
    "dados_co2_sheets = pd.read_csv(url)"
   ]
  },
  {
   "cell_type": "code",
   "execution_count": null,
   "metadata": {
    "colab": {
     "base_uri": "https://localhost:8080/",
     "height": 539
    },
    "id": "IZ7dW_gAp1vT",
    "outputId": "41fa6afa-f299-4b1b-b7df-65894648d743"
   },
   "outputs": [],
   "source": [
    "dados_co2_sheets"
   ]
  },
  {
   "cell_type": "code",
   "execution_count": null,
   "metadata": {
    "id": "-4n9ayZLg35U"
   },
   "outputs": [],
   "source": [
    "sheet_id = '1lzq0k-41-MbbS63C3Q9i1wPvLkSJt9zhr4Jolt1vEog'\n",
    "sheet_name = 'emissoes_percapita'\n",
    "url_percapita = f'https://docs.google.com/spreadsheets/d/{sheet_id}/gviz/tq?tqx=out:csv&sheet={sheet_name}'"
   ]
  },
  {
   "cell_type": "code",
   "execution_count": null,
   "metadata": {
    "id": "yeQ9Phj1ggeG"
   },
   "outputs": [],
   "source": [
    "percapita_sheets = pd.read_csv(url_percapita)"
   ]
  },
  {
   "cell_type": "code",
   "execution_count": null,
   "metadata": {
    "colab": {
     "base_uri": "https://localhost:8080/",
     "height": 250
    },
    "id": "iC7OXnFxglbX",
    "outputId": "aee3f0bc-d11f-413b-a3ac-5f73ba130abd"
   },
   "outputs": [],
   "source": [
    "percapita_sheets.head()"
   ]
  },
  {
   "cell_type": "code",
   "execution_count": null,
   "metadata": {
    "id": "cOmFu3MTjRwh"
   },
   "outputs": [],
   "source": [
    "sheet_id = '1lzq0k-41-MbbS63C3Q9i1wPvLkSJt9zhr4Jolt1vEog'\n",
    "sheet_name = 'fontes'\n",
    "url_fontes = f'https://docs.google.com/spreadsheets/d/{sheet_id}/gviz/tq?tqx=out:csv&sheet={sheet_name}'"
   ]
  },
  {
   "cell_type": "code",
   "execution_count": null,
   "metadata": {
    "id": "qn9PEJCLjRzX"
   },
   "outputs": [],
   "source": [
    "fontes_sheets = pd.read_csv(url_fontes)"
   ]
  },
  {
   "cell_type": "code",
   "execution_count": null,
   "metadata": {
    "colab": {
     "base_uri": "https://localhost:8080/",
     "height": 285
    },
    "id": "eoVt7i1LjR2Q",
    "outputId": "f8f1fdc8-226e-4079-9f14-c9d7e64fb59e"
   },
   "outputs": [],
   "source": [
    "fontes_sheets.head()"
   ]
  },
  {
   "cell_type": "markdown",
   "metadata": {
    "id": "ybfZ8pAn_vye"
   },
   "source": [
    "##**Aula 3 - Manipulando arquivos JSON**\n",
    "\n",
    "Dados:\n",
    "- https://github.com/alura-cursos/Pandas/blob/main/pacientes.json\n",
    "- https://github.com/alura-cursos/Pandas/blob/main/pacientes_2.json"
   ]
  },
  {
   "cell_type": "markdown",
   "metadata": {
    "id": "XPpnxD8XArRt"
   },
   "source": [
    "###**Lendo arquivos JSON**"
   ]
  },
  {
   "cell_type": "code",
   "execution_count": null,
   "metadata": {
    "id": "wr7hB_PZ4xQo"
   },
   "outputs": [],
   "source": [
    "import pandas as pd"
   ]
  },
  {
   "cell_type": "code",
   "execution_count": null,
   "metadata": {
    "id": "LUrn_N9l0gSY"
   },
   "outputs": [],
   "source": [
    "dados_pacientes = pd.read_json('/content/pacientes.json')"
   ]
  },
  {
   "cell_type": "code",
   "execution_count": null,
   "metadata": {
    "colab": {
     "base_uri": "https://localhost:8080/",
     "height": 487
    },
    "id": "W9MpvMCZ00aI",
    "outputId": "dfe73903-59f9-45eb-f079-0964d8c77364"
   },
   "outputs": [],
   "source": [
    "dados_pacientes"
   ]
  },
  {
   "cell_type": "code",
   "execution_count": null,
   "metadata": {
    "id": "2tyD_sO9vVYL"
   },
   "outputs": [],
   "source": [
    "dados_pacientes_2 = pd.read_json('/content/pacientes_2.json')"
   ]
  },
  {
   "cell_type": "code",
   "execution_count": null,
   "metadata": {
    "colab": {
     "base_uri": "https://localhost:8080/",
     "height": 143
    },
    "id": "ZLkYZSggvzpG",
    "outputId": "55e5490a-47ce-4e42-9df0-88243b54b168"
   },
   "outputs": [],
   "source": [
    "dados_pacientes_2"
   ]
  },
  {
   "cell_type": "markdown",
   "metadata": {
    "id": "WjpaVghE-SDo"
   },
   "source": [
    "###**Normalizando arquivos JSON**"
   ]
  },
  {
   "cell_type": "code",
   "execution_count": null,
   "metadata": {
    "id": "gPveOZ8LwGkc"
   },
   "outputs": [],
   "source": [
    "df_normalizado = pd.json_normalize(dados_pacientes_2['Pacientes'])"
   ]
  },
  {
   "cell_type": "code",
   "execution_count": null,
   "metadata": {
    "colab": {
     "base_uri": "https://localhost:8080/",
     "height": 224
    },
    "id": "zeM0xFdQwR4t",
    "outputId": "0d1c454b-b438-475a-9b92-b30cf54dc3f6"
   },
   "outputs": [],
   "source": [
    "df_normalizado"
   ]
  },
  {
   "cell_type": "markdown",
   "metadata": {
    "id": "tBXifwRqAvpO"
   },
   "source": [
    "###**Escrevendo arquivos JSON**"
   ]
  },
  {
   "cell_type": "code",
   "execution_count": null,
   "metadata": {
    "id": "GntGW36LuspV"
   },
   "outputs": [],
   "source": [
    "df_normalizado.to_json('historico_pacientes_norm.json')"
   ]
  },
  {
   "cell_type": "code",
   "execution_count": null,
   "metadata": {
    "colab": {
     "base_uri": "https://localhost:8080/",
     "height": 224
    },
    "id": "Mfix79PRusr5",
    "outputId": "9716a91c-5ecc-4eea-999e-1a97c764c31c"
   },
   "outputs": [],
   "source": [
    "pd.read_json('/content/historico_pacientes_norm.json')"
   ]
  },
  {
   "cell_type": "markdown",
   "metadata": {
    "id": "jBnOJYukAySu"
   },
   "source": [
    "##**Aula 4 - Lendo dados em HTML e XML**\n",
    "\n",
    "Dados: https://github.com/alura-cursos/Pandas/blob/main/filmes_wikipedia.html"
   ]
  },
  {
   "cell_type": "markdown",
   "metadata": {
    "id": "JH9aNDdynrcW"
   },
   "source": [
    "###**Lendo páginas web**"
   ]
  },
  {
   "cell_type": "code",
   "execution_count": null,
   "metadata": {
    "id": "Xc39_nDjE0yS"
   },
   "outputs": [],
   "source": [
    "import pandas as pd"
   ]
  },
  {
   "cell_type": "code",
   "execution_count": null,
   "metadata": {
    "id": "VjlhKbpxE011"
   },
   "outputs": [],
   "source": [
    "dados_html = pd.read_html('/content/filmes_wikipedia.html')"
   ]
  },
  {
   "cell_type": "code",
   "execution_count": null,
   "metadata": {
    "colab": {
     "base_uri": "https://localhost:8080/"
    },
    "id": "F6A48HhdE073",
    "outputId": "32315582-b1cc-4c17-e3f8-dd1dde9356dc"
   },
   "outputs": [],
   "source": [
    "dados_html"
   ]
  },
  {
   "cell_type": "code",
   "execution_count": null,
   "metadata": {
    "colab": {
     "base_uri": "https://localhost:8080/"
    },
    "id": "6ZDTv-44amY6",
    "outputId": "968d2f63-dbc6-412a-ac11-7bd77dfddc4c"
   },
   "outputs": [],
   "source": [
    "type(dados_html)"
   ]
  },
  {
   "cell_type": "code",
   "execution_count": null,
   "metadata": {
    "colab": {
     "base_uri": "https://localhost:8080/"
    },
    "id": "ILX7nsiQKAPK",
    "outputId": "f999086d-8a64-4e45-b54a-6f8c5fa887a3"
   },
   "outputs": [],
   "source": [
    "len(dados_html)"
   ]
  },
  {
   "cell_type": "code",
   "execution_count": null,
   "metadata": {
    "id": "UusKJOTtgdMP"
   },
   "outputs": [],
   "source": [
    "top_filmes = dados_html[1]"
   ]
  },
  {
   "cell_type": "code",
   "execution_count": null,
   "metadata": {
    "colab": {
     "base_uri": "https://localhost:8080/",
     "height": 519
    },
    "id": "G8CKMK1ZgpkK",
    "outputId": "7904d9ff-6ea6-4720-9551-d9603d085d2b"
   },
   "outputs": [],
   "source": [
    "top_filmes"
   ]
  },
  {
   "cell_type": "markdown",
   "metadata": {
    "id": "vFXwQcZsEToA"
   },
   "source": [
    "###**Escrevendo arquivos HTML**"
   ]
  },
  {
   "cell_type": "code",
   "execution_count": null,
   "metadata": {
    "id": "3s_y8TgvXDid"
   },
   "outputs": [],
   "source": [
    "top_filmes.to_html('top_filmes.html')"
   ]
  },
  {
   "cell_type": "code",
   "execution_count": null,
   "metadata": {
    "colab": {
     "base_uri": "https://localhost:8080/"
    },
    "id": "meIW1BeoXDkv",
    "outputId": "2fbefe92-f6e3-4de1-cc9e-329fc2079c48"
   },
   "outputs": [],
   "source": [
    "pd.read_html('/content/top_filmes.html')"
   ]
  },
  {
   "cell_type": "code",
   "execution_count": null,
   "metadata": {
    "id": "5Km4c4daguhT"
   },
   "outputs": [],
   "source": [
    "top_filmes.to_csv('top_filmes_1998', index=False)"
   ]
  },
  {
   "cell_type": "code",
   "execution_count": null,
   "metadata": {
    "colab": {
     "base_uri": "https://localhost:8080/",
     "height": 319
    },
    "id": "rRBolv1Mg45R",
    "outputId": "c42a7f9a-96d1-4b9d-b3f8-019517a1153a"
   },
   "outputs": [],
   "source": [
    "dados = pd.read_csv('/content/top_filmes_1998')\n",
    "dados.head()"
   ]
  },
  {
   "cell_type": "markdown",
   "metadata": {
    "id": "iig7pyP1cwIy"
   },
   "source": [
    "###**Lendo/escrevendo arquivos XML**\n",
    "Dados: https://github.com/alura-cursos/Pandas/blob/main/imdb_top_1000.xml\n"
   ]
  },
  {
   "cell_type": "code",
   "execution_count": null,
   "metadata": {
    "id": "lbPol0dcATS7"
   },
   "outputs": [],
   "source": [
    "import pandas as pd"
   ]
  },
  {
   "cell_type": "code",
   "execution_count": null,
   "metadata": {
    "id": "2XrTSisjATYO"
   },
   "outputs": [],
   "source": [
    "dados_imdb = pd.read_xml('/content/imdb_top_1000.xml')"
   ]
  },
  {
   "cell_type": "code",
   "execution_count": null,
   "metadata": {
    "colab": {
     "base_uri": "https://localhost:8080/",
     "height": 485
    },
    "id": "jUeyuT3LAxQ9",
    "outputId": "3576b12d-0d53-4f29-9177-2ab03fe66efc"
   },
   "outputs": [],
   "source": [
    "dados_imdb.head(3)"
   ]
  },
  {
   "cell_type": "code",
   "execution_count": null,
   "metadata": {
    "id": "zbQL1Vg2lOgr"
   },
   "outputs": [],
   "source": [
    "dados_imdb.to_xml('filmes_imdb.xml')"
   ]
  },
  {
   "cell_type": "markdown",
   "metadata": {
    "id": "VfDuxSL8vN1w"
   },
   "source": [
    "##**Aula 5 - Trabalhando com banco de dados**\n",
    "\n",
    "Dados: https://github.com/vqrca/Pandas/blob/main/clientes_banco.csv"
   ]
  },
  {
   "cell_type": "markdown",
   "metadata": {
    "id": "bBBgT7YZEICf"
   },
   "source": [
    "###**Criando um banco de dados local**"
   ]
  },
  {
   "cell_type": "code",
   "execution_count": null,
   "metadata": {
    "id": "cHdsOx1LMMqR"
   },
   "outputs": [],
   "source": [
    "import sqlalchemy"
   ]
  },
  {
   "cell_type": "code",
   "execution_count": null,
   "metadata": {
    "id": "XutYYZzfA36M"
   },
   "outputs": [],
   "source": [
    "from sqlalchemy import create_engine, MetaData, Table, inspect"
   ]
  },
  {
   "cell_type": "code",
   "execution_count": null,
   "metadata": {
    "id": "KNFaW2DOA4NF"
   },
   "outputs": [],
   "source": [
    "engine = create_engine('sqlite:///:memory:')"
   ]
  },
  {
   "cell_type": "markdown",
   "metadata": {
    "id": "RAeI2dtG6Dpy"
   },
   "source": [
    "###**Escrevendo em um banco de dados**"
   ]
  },
  {
   "cell_type": "code",
   "execution_count": null,
   "metadata": {
    "id": "wzAiDflqbBfi"
   },
   "outputs": [],
   "source": [
    "import pandas as pd"
   ]
  },
  {
   "cell_type": "code",
   "execution_count": null,
   "metadata": {
    "id": "vx_KTviWbBfj"
   },
   "outputs": [],
   "source": [
    "url = 'https://raw.githubusercontent.com/alura-cursos/Pandas/main/clientes_banco.csv'"
   ]
  },
  {
   "cell_type": "code",
   "execution_count": null,
   "metadata": {
    "id": "nvtBpM6bbBfj"
   },
   "outputs": [],
   "source": [
    "dados = pd.read_csv(url)"
   ]
  },
  {
   "cell_type": "code",
   "execution_count": null,
   "metadata": {
    "colab": {
     "base_uri": "https://localhost:8080/",
     "height": 206
    },
    "id": "qm4sgPTybBfj",
    "outputId": "afc0947c-2dee-47b3-bed0-74a54dc7bd16"
   },
   "outputs": [],
   "source": [
    "dados.head()"
   ]
  },
  {
   "cell_type": "code",
   "execution_count": null,
   "metadata": {
    "colab": {
     "base_uri": "https://localhost:8080/"
    },
    "id": "DlslLd-ZNHzb",
    "outputId": "e7d4c5ba-81da-4f03-c55f-4170ee1a046d"
   },
   "outputs": [],
   "source": [
    "dados.to_sql('clientes', engine, index=False)"
   ]
  },
  {
   "cell_type": "code",
   "execution_count": null,
   "metadata": {
    "id": "zjW1Yk6CBpvz"
   },
   "outputs": [],
   "source": [
    "inspector = inspect(engine)"
   ]
  },
  {
   "cell_type": "code",
   "execution_count": null,
   "metadata": {
    "colab": {
     "base_uri": "https://localhost:8080/"
    },
    "id": "LY70XAU4B0Ha",
    "outputId": "afec74b8-2631-46a5-c383-324dbc657310"
   },
   "outputs": [],
   "source": [
    "print(inspector.get_table_names())"
   ]
  },
  {
   "cell_type": "markdown",
   "metadata": {
    "id": "RQcn3pljaY0U"
   },
   "source": [
    "###**Lendo uma consulta SQL**"
   ]
  },
  {
   "cell_type": "code",
   "execution_count": null,
   "metadata": {
    "id": "SZQQKXmZB685"
   },
   "outputs": [],
   "source": [
    "query = 'SELECT * FROM clientes WHERE Categoria_de_renda = \"Empregado\"'"
   ]
  },
  {
   "cell_type": "code",
   "execution_count": null,
   "metadata": {
    "id": "2YIytoYXCSei"
   },
   "outputs": [],
   "source": [
    "empregados = pd.read_sql(query, engine)"
   ]
  },
  {
   "cell_type": "code",
   "execution_count": null,
   "metadata": {
    "colab": {
     "base_uri": "https://localhost:8080/",
     "height": 423
    },
    "id": "Y4Py8cULCVqO",
    "outputId": "53b0b57b-4823-4cfe-d310-f79768ad614f"
   },
   "outputs": [],
   "source": [
    "empregados"
   ]
  },
  {
   "cell_type": "code",
   "execution_count": null,
   "metadata": {
    "colab": {
     "base_uri": "https://localhost:8080/"
    },
    "id": "X5VvRg3GDCfl",
    "outputId": "6bfa4cff-11c6-444f-8847-93a57a572e4b"
   },
   "outputs": [],
   "source": [
    "empregados.to_sql('empregados', con=engine, index=False)"
   ]
  },
  {
   "cell_type": "code",
   "execution_count": null,
   "metadata": {
    "colab": {
     "base_uri": "https://localhost:8080/",
     "height": 423
    },
    "id": "2bnIC1KxvkKN",
    "outputId": "e4687fc0-9ec3-4b25-f850-8785507eb6bd"
   },
   "outputs": [],
   "source": [
    "pd.read_sql_table('empregados', engine)"
   ]
  },
  {
   "cell_type": "code",
   "execution_count": null,
   "metadata": {
    "colab": {
     "base_uri": "https://localhost:8080/",
     "height": 423
    },
    "id": "lmUQ5-0lDX3-",
    "outputId": "84ad03f3-57f0-4ac6-92c6-9d602e1c1e73"
   },
   "outputs": [],
   "source": [
    "pd.read_sql_table('empregados', engine, columns=['ID_Cliente', 'Grau_escolaridade',\n",
    "                                                 'Rendimento_anual'])"
   ]
  },
  {
   "cell_type": "markdown",
   "metadata": {
    "id": "qDDwJ6jj8dF5"
   },
   "source": [
    "###**Atualizando um banco de dados**"
   ]
  },
  {
   "cell_type": "code",
   "execution_count": null,
   "metadata": {
    "id": "XLU1mbNGmPz3"
   },
   "outputs": [],
   "source": [
    "query = 'SELECT * FROM clientes'"
   ]
  },
  {
   "cell_type": "code",
   "execution_count": null,
   "metadata": {
    "colab": {
     "base_uri": "https://localhost:8080/",
     "height": 423
    },
    "id": "byN7xG7AmUXe",
    "outputId": "dc56f19b-1942-457d-8d69-6c37e468b248"
   },
   "outputs": [],
   "source": [
    "pd.read_sql(query, engine)"
   ]
  },
  {
   "cell_type": "markdown",
   "metadata": {
    "id": "SZ0P0dpnQPKT"
   },
   "source": [
    "Para atualizar os dados da tabela, precisamos fazer a seguinte importação:"
   ]
  },
  {
   "cell_type": "code",
   "execution_count": null,
   "metadata": {
    "id": "Lc1goUvsO2gn"
   },
   "outputs": [],
   "source": [
    "from sqlalchemy import text"
   ]
  },
  {
   "cell_type": "markdown",
   "metadata": {
    "id": "XV42s5uuQajS"
   },
   "source": [
    "Depois disso, para fazer as atualizações, vamos implementar o seguinte código:\n",
    "\n",
    "\n"
   ]
  },
  {
   "cell_type": "code",
   "execution_count": null,
   "metadata": {
    "id": "Xjc0N_cDPs1r"
   },
   "outputs": [],
   "source": [
    "query = 'DELETE FROM clientes WHERE ID_Cliente=5008804'\n",
    "with engine.connect() as conn:\n",
    "    result = conn.execute(text(query))\n",
    "    conn.commit()"
   ]
  },
  {
   "cell_type": "markdown",
   "metadata": {
    "id": "FCNM7tpzgkG1"
   },
   "source": [
    "> O código estabelece uma conexão com um banco de dados usando SQLAlchemy e executa uma consulta SQL definida na variável query. Dentro do bloco `with`, que garante o fechamento automático da conexão após a execução do bloco, a consulta é enviada ao banco de dados através do método `conn.execute(text(query))`, onde `text` é usado para assegurar que a string da consulta seja tratada como uma instrução SQL. Após a execução da consulta, `conn.commit()` é chamado para confirmar a transação, assegurando que as alterações realizadas pela consulta (como inserções, atualizações ou exclusões) sejam permanentemente aplicadas no banco de dados."
   ]
  },
  {
   "cell_type": "code",
   "execution_count": null,
   "metadata": {
    "colab": {
     "base_uri": "https://localhost:8080/",
     "height": 423
    },
    "id": "ytc0laTJP0aJ",
    "outputId": "d9ae5c08-6460-466c-b8e9-aa84a60f7ab1"
   },
   "outputs": [],
   "source": [
    "pd.read_sql_table('clientes', engine)"
   ]
  },
  {
   "cell_type": "code",
   "execution_count": null,
   "metadata": {
    "id": "489fm2kr8v-z"
   },
   "outputs": [],
   "source": [
    "query = 'UPDATE clientes SET Grau_escolaridade=\"Ensino superior\" WHERE ID_Cliente=5008808'\n",
    "with engine.connect() as conn:\n",
    "    result = conn.execute(text(query))\n",
    "    conn.commit()"
   ]
  },
  {
   "cell_type": "code",
   "execution_count": null,
   "metadata": {
    "colab": {
     "base_uri": "https://localhost:8080/",
     "height": 423
    },
    "id": "GPn3nuPS8xnf",
    "outputId": "43bcd004-b036-494f-b58e-4bff8831a553"
   },
   "outputs": [],
   "source": [
    "pd.read_sql_table('clientes', engine)"
   ]
  }
 ],
 "metadata": {
  "colab": {
   "provenance": []
  },
  "kernelspec": {
   "display_name": "Python 3",
   "name": "python3"
  },
  "language_info": {
   "name": "python"
  }
 },
 "nbformat": 4,
 "nbformat_minor": 0
}
