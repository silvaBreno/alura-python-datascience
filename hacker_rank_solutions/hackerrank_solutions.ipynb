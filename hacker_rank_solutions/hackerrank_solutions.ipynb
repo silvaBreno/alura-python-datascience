{
 "cells": [
  {
   "cell_type": "code",
   "execution_count": null,
   "metadata": {},
   "outputs": [],
   "source": [
    "# exercicio ginortS\n",
    "\n",
    "def sorteia_lista(maiusculo: list , minusculo:list , numeros:list) -> str:\n",
    "    maiusculo.sort()\n",
    "    minusculo.sort()\n",
    "    impares = sorted([int(x) for x in numeros if int(x) % 2 != 0])  # Ordena ímpares\n",
    "    pares = sorted([int(x) for x in numeros if int(x) % 2 == 0])    # Ordena pares\n",
    "    numeros_ordenados = [str(x) for x in impares + pares]\n",
    "    palavra = \"\".join(minusculo + maiusculo + numeros_ordenados)  \n",
    "    return palavra\n",
    "\n",
    "frase = input(\"Digite uma frase: \")\n",
    "\n",
    "separado = list(frase)\n",
    "lista_minusculo = []\n",
    "lista_maisculo = []\n",
    "lista_numero = []\n",
    "\n",
    "for char in separado:\n",
    "    if char.isupper():\n",
    "        lista_maisculo.append(char)\n",
    "    elif char.islower():\n",
    "        lista_minusculo.append(char)\n",
    "    elif char.isnumeric():\n",
    "        lista_numero.append(char)\n",
    "\n",
    "frase_sorteada = sorteia_lista(lista_maisculo, lista_minusculo, lista_numero)\n",
    "\n",
    "print(\"Lista Separada:\", separado)\n",
    "print(\"Maiúsculas:\", lista_maisculo)\n",
    "print(\"Minúsculas:\", lista_minusculo)\n",
    "print(\"Números:\", lista_numero)\n",
    "print(\"Frase Ordenada:\", frase_sorteada)"
   ]
  },
  {
   "cell_type": "code",
   "execution_count": null,
   "metadata": {},
   "outputs": [],
   "source": [
    "# any or all\n",
    "\n",
    "n = int(input())\n",
    "numbers = list(map(int, input().split()))\n",
    "print(all(x > 0 for x in numbers) and any(str(x) == str(x)[::-1] for x in numbers))\n"
   ]
  },
  {
   "cell_type": "code",
   "execution_count": null,
   "metadata": {},
   "outputs": [],
   "source": [
    "# athlete sort\n",
    "nm = input().split()\n",
    "\n",
    "n = int(nm[0])\n",
    "\n",
    "m = int(nm[1])\n",
    "\n",
    "arr = []\n",
    "\n",
    "for _ in range(n):\n",
    "    arr.append(list(map(int, input().rstrip().split())))\n",
    "\n",
    "k = int(input())\n",
    "arr.sort(key=lambda x: x[k])\n",
    "for row in arr:\n",
    "    print(\" \".join(map(str, row)))"
   ]
  },
  {
   "cell_type": "code",
   "execution_count": null,
   "metadata": {},
   "outputs": [],
   "source": [
    "# Python Evaluation\n",
    "\n",
    "frase = input()\n",
    "\n",
    "eval(frase)"
   ]
  },
  {
   "cell_type": "code",
   "execution_count": null,
   "metadata": {},
   "outputs": [],
   "source": [
    "# Input()\n",
    "\n",
    "x, k = map(int, input().split())\n",
    "polynomial = input().strip() \n",
    "\n",
    "if eval(polynomial) == k:\n",
    "    print(True)\n",
    "else:\n",
    "    print(False)    "
   ]
  },
  {
   "cell_type": "code",
   "execution_count": null,
   "metadata": {},
   "outputs": [],
   "source": [
    "# Zipped!\n",
    "\n",
    "n, x = map(int, input().split())\n",
    "subjects = []\n",
    "\n",
    "for _ in range(x):\n",
    "    course = list(map(float, input().split()))\n",
    "    subjects.append(course)\n",
    "\n",
    "print(subjects)\n",
    "print(list(zip(*subjects)))\n",
    "print(list(zip(subjects)))\n",
    "\n",
    "for students_subjects in list(zip(*subjects)):\n",
    "    print(sum(students_subjects)/x)"
   ]
  },
  {
   "cell_type": "code",
   "execution_count": null,
   "metadata": {},
   "outputs": [],
   "source": [
    "A = [1,2,3]\n",
    "B = [6,5,4]\n",
    "C = [7,8,9]\n",
    "X = [A] + [B] + [C]\n",
    "\n",
    "list(zip(*X))"
   ]
  }
 ],
 "metadata": {
  "kernelspec": {
   "display_name": "base",
   "language": "python",
   "name": "python3"
  },
  "language_info": {
   "codemirror_mode": {
    "name": "ipython",
    "version": 3
   },
   "file_extension": ".py",
   "mimetype": "text/x-python",
   "name": "python",
   "nbconvert_exporter": "python",
   "pygments_lexer": "ipython3",
   "version": "3.11.7"
  }
 },
 "nbformat": 4,
 "nbformat_minor": 2
}
