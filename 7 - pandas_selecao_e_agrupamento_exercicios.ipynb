{
 "cells": [
  {
   "cell_type": "markdown",
   "metadata": {},
   "source": [
    "### Desafio: hora da prática"
   ]
  },
  {
   "cell_type": "markdown",
   "metadata": {},
   "source": [
    "#### Capitulo 1 - Conhecendo os dados"
   ]
  },
  {
   "cell_type": "markdown",
   "metadata": {},
   "source": [
    "Chegou o momento de praticar! Vamos aplicar os conceitos aprendidos durante a aula a partir de algumas atividades. Solucione os problemas propostos através de códigos utilizando a base de dados disponibilizada no curso.\n",
    "\n",
    "1. Encontre os valores únicos das colunas \"Nível 1 - Setor\" e \"Estado\" para identificar as atividades econômicas presentes na base de dados e se todos os Estados do Brasil estão presentes no DataFrame.\n",
    "\n",
    "2. Filtre o DataFrame somente com os dados dos Estados da região Sul do Brasil.\n",
    "\n",
    "3. Filtre o DataFrame para exibir apenas os registros em que o campo \"Nível 1 - Setor\" seja igual a \"Mudança de Uso da Terra e Floresta\" e o campo \"Estado\" seja igual a \"AM\" (sigla para o Estado do Amazonas).\n",
    "\n",
    "4. Encontre o valor máximo de emissão do ano de 2021 para os dados de \"Agropecuária\" no Estado do Pará.\n",
    "\n",
    "Caso precise de ajuda, opções de solução das atividades estarão disponíveis na seção “Opinião da pessoa instrutora”."
   ]
  },
  {
   "cell_type": "code",
   "execution_count": null,
   "metadata": {},
   "outputs": [],
   "source": [
    "import pandas as pd"
   ]
  },
  {
   "cell_type": "code",
   "execution_count": null,
   "metadata": {},
   "outputs": [],
   "source": [
    "gases_emitidos = pd.read_excel('pandas-selecao_agrupamento/base_dados_seeg.xlsx', sheet_name='GEE Estados')\n",
    "gases_emitidos.head()"
   ]
  },
  {
   "cell_type": "code",
   "execution_count": null,
   "metadata": {},
   "outputs": [],
   "source": [
    "gases_emitidos.head(10)"
   ]
  },
  {
   "cell_type": "code",
   "execution_count": null,
   "metadata": {},
   "outputs": [],
   "source": [
    "gases_emitidos.info()"
   ]
  },
  {
   "cell_type": "markdown",
   "metadata": {},
   "source": [
    "##### 1. Encontre os valores únicos das colunas \"Nível 1 - Setor\" e \"Estado\" para identificar as atividades econômicas presentes na base de dados e se todos os Estados do Brasil estão presentes no DataFrame."
   ]
  },
  {
   "cell_type": "code",
   "execution_count": null,
   "metadata": {},
   "outputs": [],
   "source": [
    "gases_emitidos['Nível 1 - Setor'].unique()"
   ]
  },
  {
   "cell_type": "code",
   "execution_count": null,
   "metadata": {},
   "outputs": [],
   "source": [
    "gases_emitidos['Estado'].unique()"
   ]
  },
  {
   "cell_type": "markdown",
   "metadata": {},
   "source": [
    "##### 2. Filtre o DataFrame somente com os dados dos Estados da região Sul do Brasil."
   ]
  },
  {
   "cell_type": "code",
   "execution_count": null,
   "metadata": {},
   "outputs": [],
   "source": [
    "estados_sul = ['PR','SC','RS']"
   ]
  },
  {
   "cell_type": "code",
   "execution_count": null,
   "metadata": {},
   "outputs": [],
   "source": [
    "gases_emitidos['Estado'].isin(estados_sul)"
   ]
  },
  {
   "cell_type": "code",
   "execution_count": null,
   "metadata": {},
   "outputs": [],
   "source": [
    "gases_emitidos['Estado'].isin(estados_sul).value_counts()"
   ]
  },
  {
   "cell_type": "code",
   "execution_count": null,
   "metadata": {},
   "outputs": [],
   "source": [
    "gases_emitidos[gases_emitidos['Estado'].isin(estados_sul)]"
   ]
  },
  {
   "cell_type": "markdown",
   "metadata": {},
   "source": [
    "3. Filtre o DataFrame para exibir apenas os registros em que o campo \"Nível 1 - Setor\" seja igual a \"Mudança de Uso da Terra e Floresta\" e o campo \"Estado\" seja igual a \"AM\" (sigla para o Estado do Amazonas)."
   ]
  },
  {
   "cell_type": "code",
   "execution_count": null,
   "metadata": {},
   "outputs": [],
   "source": [
    "(gases_emitidos['Nível 1 - Setor'] == 'Mudança de Uso da Terra e Floresta')"
   ]
  },
  {
   "cell_type": "code",
   "execution_count": null,
   "metadata": {},
   "outputs": [],
   "source": [
    "((gases_emitidos['Nível 1 - Setor'] == 'Mudança de Uso da Terra e Floresta') & (gases_emitidos['Estado'] == 'AM')).value_counts()"
   ]
  },
  {
   "cell_type": "code",
   "execution_count": null,
   "metadata": {},
   "outputs": [],
   "source": [
    "filtro_am = (gases_emitidos['Nível 1 - Setor'] == 'Mudança de Uso da Terra e Floresta') & (gases_emitidos['Estado'] == 'AM')"
   ]
  },
  {
   "cell_type": "code",
   "execution_count": null,
   "metadata": {},
   "outputs": [],
   "source": [
    "gases_emitidos[filtro_am]"
   ]
  },
  {
   "cell_type": "markdown",
   "metadata": {},
   "source": [
    "4. Encontre o valor máximo de emissão do ano de 2021 para os dados de \"Agropecuária\" no Estado do Pará."
   ]
  },
  {
   "cell_type": "code",
   "execution_count": null,
   "metadata": {},
   "outputs": [],
   "source": [
    "filtro2 = (gases_emitidos['Nível 1 - Setor'] == 'Agropecuária') & (gases_emitidos['Estado'] == 'PA')"
   ]
  },
  {
   "cell_type": "code",
   "execution_count": null,
   "metadata": {},
   "outputs": [],
   "source": [
    "((gases_emitidos['Nível 1 - Setor'] == 'Agropecuária') & (gases_emitidos['Estado'] == 'PA')).value_counts()"
   ]
  },
  {
   "cell_type": "code",
   "execution_count": null,
   "metadata": {},
   "outputs": [],
   "source": [
    "gases_emitidos.loc[filtro2, 2021].max()"
   ]
  },
  {
   "cell_type": "markdown",
   "metadata": {},
   "source": [
    "#### Capitulo 2 - Agrupamento de dados"
   ]
  },
  {
   "cell_type": "markdown",
   "metadata": {},
   "source": [
    "Chegou o momento de praticar! Vamos aplicar os conceitos aprendidos durante a aula a partir de algumas atividades. Solucione os problemas propostos através de códigos utilizando a base de dados disponibilizada no curso.\n",
    "\n",
    "1) Faça um agrupamento de dados com base na coluna \"Nível 1 - Setor\" para visualizar o dicionário contendo as chaves de grupos formados e a lista de índices de cada grupo.\n",
    "\n",
    "2) Faça um agrupamento de dados com base na coluna \"Nível 1 - Setor\" e localize os dados do grupo \"Agropecuária\".\n",
    "\n",
    "3) Faça um agrupamento de dados com base na coluna \"Nível 1 - Setor\" para identificar a média de emissão de cada atividade econômica no ano de 2021.\n",
    "\n",
    "4) Faça um agrupamento de dados com base na coluna \"Nível 1 - Setor\" para identificar a soma de emissão de cada atividade econômica. Ordene os dados da maior para menor emissão."
   ]
  },
  {
   "cell_type": "markdown",
   "metadata": {},
   "source": [
    "##### PRIMEIRO PASSO, AJUSTAR O DATASET"
   ]
  },
  {
   "cell_type": "code",
   "execution_count": null,
   "metadata": {},
   "outputs": [],
   "source": [
    "# aqui eu tenho consigo verificar se eu tenho dados relacionados apenas a emissao. No caso, preciso excluir as informacoes de Bunker e Remocao, Remocao NCI\n",
    "gases_emitidos['Emissão / Remoção / Bunker'].unique()"
   ]
  },
  {
   "cell_type": "code",
   "execution_count": null,
   "metadata": {},
   "outputs": [],
   "source": [
    "filtro = (gases_emitidos['Emissão / Remoção / Bunker'] == 'Emissão') | (gases_emitidos['Emissão / Remoção / Bunker'] == 'Emissão NCI')\n",
    "filtro.value_counts()"
   ]
  },
  {
   "cell_type": "code",
   "execution_count": null,
   "metadata": {},
   "outputs": [],
   "source": [
    "teste = gases_emitidos.copy()\n",
    "dados = teste[filtro]"
   ]
  },
  {
   "cell_type": "code",
   "execution_count": null,
   "metadata": {},
   "outputs": [],
   "source": [
    "# para conhecimento o iloc funciona para utilizar o index da coluna que quero separar\n",
    "dados.iloc[:,0:11]"
   ]
  },
  {
   "cell_type": "code",
   "execution_count": null,
   "metadata": {},
   "outputs": [],
   "source": [
    "# jó o loc devo passar o nome da coluna, ou posso usar essa abordagem se quiser trabalhar com o index da coluna: col_names = dados.columns[0:10] e dps dados.loc[:, col_names]     \n",
    "dados.loc[:,'Nível 1 - Setor':'Produto']"
   ]
  },
  {
   "cell_type": "code",
   "execution_count": null,
   "metadata": {},
   "outputs": [],
   "source": [
    "colunas_a_manter = dados.loc[:,'Nível 1 - Setor':'Produto'].columns\n",
    "colunas_a_manter"
   ]
  },
  {
   "cell_type": "code",
   "execution_count": null,
   "metadata": {},
   "outputs": [],
   "source": [
    "# agora vou selecionar as colunas que vou derreter (metodo melt)\n",
    "dados.loc[:,1970:2021]"
   ]
  },
  {
   "cell_type": "code",
   "execution_count": null,
   "metadata": {},
   "outputs": [],
   "source": [
    "colunas_a_derreter = dados.loc[:,1970:2021].columns\n",
    "colunas_a_derreter"
   ]
  },
  {
   "cell_type": "code",
   "execution_count": null,
   "metadata": {},
   "outputs": [],
   "source": [
    "dados.melt(id_vars= colunas_a_manter,value_vars= colunas_a_derreter,var_name='Ano',value_name='Emissao')"
   ]
  },
  {
   "cell_type": "code",
   "execution_count": null,
   "metadata": {},
   "outputs": [],
   "source": [
    "# agora eu já sei que meu dados estao tratando apenas de emissao, portando vou excluir a coluna Emissão / Remoção / Bunker porqye é desnecessária\n",
    "\n",
    "emissao_gases = dados.melt(id_vars= colunas_a_manter,value_vars= colunas_a_derreter,var_name='Ano',value_name='Emissao')"
   ]
  },
  {
   "cell_type": "code",
   "execution_count": null,
   "metadata": {},
   "outputs": [],
   "source": [
    "emissao_gases = emissao_gases.drop(columns='Emissão / Remoção / Bunker')"
   ]
  },
  {
   "cell_type": "markdown",
   "metadata": {},
   "source": [
    "##### 1) Faça um agrupamento de dados com base na coluna \"Nível 1 - Setor\" para visualizar o dicionário contendo as chaves de grupos formados e a lista de índices de cada grupo."
   ]
  },
  {
   "cell_type": "code",
   "execution_count": null,
   "metadata": {},
   "outputs": [],
   "source": [
    "# agora com os dados prontos vou comecar a responder as perguntas que foram feitas\n",
    "emissao_gases"
   ]
  },
  {
   "cell_type": "code",
   "execution_count": null,
   "metadata": {},
   "outputs": [],
   "source": [
    "emissao_gases.groupby('Nível 1 - Setor').groups"
   ]
  },
  {
   "cell_type": "markdown",
   "metadata": {},
   "source": [
    "##### 2) Faça um agrupamento de dados com base na coluna \"Nível 1 - Setor\" e localize os dados do grupo \"Agropecuária\"."
   ]
  },
  {
   "cell_type": "code",
   "execution_count": null,
   "metadata": {},
   "outputs": [],
   "source": [
    "emissao_gases.groupby('Nível 1 - Setor').get_group('Agropecuária')"
   ]
  },
  {
   "cell_type": "markdown",
   "metadata": {},
   "source": [
    "##### 3) Faça um agrupamento de dados com base na coluna \"Nível 1 - Setor\" para identificar a média de emissão de cada atividade econômica no ano de 2021."
   ]
  },
  {
   "cell_type": "code",
   "execution_count": null,
   "metadata": {},
   "outputs": [],
   "source": [
    "emissao_gases['Ano'] == 2021"
   ]
  },
  {
   "cell_type": "code",
   "execution_count": null,
   "metadata": {},
   "outputs": [],
   "source": [
    "filtro_ano = emissao_gases['Ano'] == 2021"
   ]
  },
  {
   "cell_type": "code",
   "execution_count": null,
   "metadata": {},
   "outputs": [],
   "source": [
    "emissao_gases[filtro_ano].groupby('Nível 1 - Setor').value_counts()"
   ]
  },
  {
   "cell_type": "code",
   "execution_count": null,
   "metadata": {},
   "outputs": [],
   "source": [
    "emissao_gases[filtro_ano].groupby('Nível 1 - Setor')[['Emissao']].value_counts()"
   ]
  },
  {
   "cell_type": "code",
   "execution_count": null,
   "metadata": {},
   "outputs": [],
   "source": [
    "emissao_gases[filtro_ano].groupby('Nível 1 - Setor')[['Emissao']].mean().sort_values('Emissao',ascending=False)"
   ]
  },
  {
   "cell_type": "markdown",
   "metadata": {},
   "source": [
    "##### 4) Faça um agrupamento de dados com base na coluna \"Nível 1 - Setor\" para identificar a soma de emissão de cada atividade econômica. Ordene os dados da maior para menor emissão."
   ]
  },
  {
   "cell_type": "code",
   "execution_count": null,
   "metadata": {},
   "outputs": [],
   "source": [
    "emissao_gases.groupby('Nível 1 - Setor')[['Emissao']].sum().sort_values('Emissao',ascending=False)"
   ]
  },
  {
   "cell_type": "markdown",
   "metadata": {},
   "source": [
    "#### Capitulo 3 - Agrupamentos multi-index"
   ]
  },
  {
   "cell_type": "markdown",
   "metadata": {},
   "source": [
    "##### Desafio: emissão por setor econômico"
   ]
  },
  {
   "cell_type": "markdown",
   "metadata": {},
   "source": [
    "Uma das tarefas passadas pela equipe de supervisão do órgão ambiental era de encontrar a emissão média de cada gás por ano. Conseguimos realizar essa tarefa usando o método ```groupby()``` e ```pivot_table()``` para gerar uma tabela contendo a emissão ao longo dos anos para cada um dos gases.\n",
    "\n",
    "A equipe de supervisão deseja saber agora a média de emissão para cada um dos setores econômicos da coluna \"Nível 1 - Setor\" ao longo dos anos. Como desafio, crie uma tabela de pivô e uma visualização gráfica contendo essas informações, utilizando apenas o método ```pivot_table``` para a construção da tabela, sem utilizar o método ```groupby```.\n",
    "\n",
    "Você pode buscar informações de como fazer isso na [documentação Pandas sobre o método pivot_table.](https://pandas.pydata.org/docs/reference/api/pandas.pivot_table.html)"
   ]
  },
  {
   "cell_type": "code",
   "execution_count": null,
   "metadata": {},
   "outputs": [],
   "source": [
    "emissao_gases['Nível 1 - Setor'].unique()"
   ]
  },
  {
   "cell_type": "code",
   "execution_count": null,
   "metadata": {},
   "outputs": [],
   "source": [
    "emissao_gases"
   ]
  },
  {
   "cell_type": "code",
   "execution_count": null,
   "metadata": {},
   "outputs": [],
   "source": [
    "emissao_por_setor = emissao_gases.pivot_table(index = 'Ano' , columns = 'Nível 1 - Setor', values = 'Emissao', aggfunc='mean')\n",
    "emissao_por_setor"
   ]
  },
  {
   "cell_type": "code",
   "execution_count": null,
   "metadata": {},
   "outputs": [],
   "source": [
    "emissao_por_setor.plot(subplots=True, figsize=(20,10));"
   ]
  },
  {
   "cell_type": "markdown",
   "metadata": {},
   "source": [
    "##### Desafio: hora da prática"
   ]
  },
  {
   "cell_type": "markdown",
   "metadata": {},
   "source": [
    "Chegou o momento de praticar! Vamos aplicar os conceitos aprendidos durante a aula a partir de algumas atividades. Solucione os problemas propostos através de códigos utilizando a base de dados disponibilizada no curso.\n",
    "\n",
    "1) Faça um agrupamento de dados com as colunas \"Estado\" e \"Nível 1 - Setor\", obtendo a soma de emissão e armazenando o resultado em uma tabela.\n",
    "\n",
    "2) Utilizando a tabela construída na atividade 1, selecione os dados referentes à \"Energia\" do índice \"Nível 1 - Setor\".\n",
    "\n",
    "3) Utilizando a tabela construída na atividade 1, encontre a atividade econômica com valor máximo de emissão do Estado de Minas Gerais\n",
    "\n",
    "4) Obtenha uma tabela contendo a atividade econômica com máxima emissão para cada Estado.\n",
    "\n",
    "5) Obtenha uma tabela contendo o Estado com máxima emissão para cada atividade econômica."
   ]
  },
  {
   "cell_type": "code",
   "execution_count": null,
   "metadata": {},
   "outputs": [],
   "source": [
    "emissao_gases"
   ]
  },
  {
   "cell_type": "markdown",
   "metadata": {},
   "source": [
    "1) Faça um agrupamento de dados com as colunas \"Estado\" e \"Nível 1 - Setor\", obtendo a soma de emissão e armazenando o resultado em uma tabela."
   ]
  },
  {
   "cell_type": "code",
   "execution_count": null,
   "metadata": {},
   "outputs": [],
   "source": [
    "emissao_por_estado = emissao_gases.groupby(['Estado','Nível 1 - Setor'])[['Emissao']].sum()\n",
    "emissao_por_estado"
   ]
  },
  {
   "cell_type": "markdown",
   "metadata": {},
   "source": [
    "2) Utilizando a tabela construída na atividade 1, selecione os dados referentes à \"Energia\" do índice \"Nível 1 - Setor\"."
   ]
  },
  {
   "cell_type": "code",
   "execution_count": null,
   "metadata": {},
   "outputs": [],
   "source": [
    "emissao_por_estado.xs('Energia', level = 1).sort_values('Emissao',ascending=False)"
   ]
  },
  {
   "cell_type": "markdown",
   "metadata": {},
   "source": [
    "3) Utilizando a tabela construída na atividade 1, encontre a atividade econômica com valor máximo de emissão do Estado de Minas Gerais"
   ]
  },
  {
   "cell_type": "code",
   "execution_count": null,
   "metadata": {},
   "outputs": [],
   "source": [
    "emissao_por_estado"
   ]
  },
  {
   "cell_type": "code",
   "execution_count": null,
   "metadata": {},
   "outputs": [],
   "source": [
    "emissao_por_estado.xs('MG', level= 0).idxmax()"
   ]
  },
  {
   "cell_type": "markdown",
   "metadata": {},
   "source": [
    "4) Obtenha uma tabela contendo a atividade econômica com máxima emissão para cada Estado."
   ]
  },
  {
   "cell_type": "code",
   "execution_count": null,
   "metadata": {},
   "outputs": [],
   "source": [
    "emissoes_estados_setor = emissao_gases.groupby(['Estado', 'Nível 1 - Setor'])[['Emissao']].sum()\n",
    "emissoes_estados_setor"
   ]
  },
  {
   "cell_type": "code",
   "execution_count": null,
   "metadata": {},
   "outputs": [],
   "source": [
    "emissoes_estados_setor.groupby(level = 0).idxmax()"
   ]
  },
  {
   "cell_type": "markdown",
   "metadata": {},
   "source": [
    "5) Obtenha uma tabela contendo o Estado com máxima emissão para cada atividade econômica."
   ]
  },
  {
   "cell_type": "code",
   "execution_count": null,
   "metadata": {},
   "outputs": [],
   "source": [
    "emissoes_estados_setor = emissao_gases.groupby(['Estado', 'Nível 1 - Setor'])[['Emissao']].sum()\n",
    "emissoes_estados_setor\n"
   ]
  },
  {
   "cell_type": "code",
   "execution_count": null,
   "metadata": {},
   "outputs": [],
   "source": [
    "emissoes_estados_setor.groupby(level = 1).idxmax()"
   ]
  },
  {
   "cell_type": "code",
   "execution_count": null,
   "metadata": {},
   "outputs": [],
   "source": [
    "emissoes_estados_setor = emissoes_estados_setor.groupby(level = 1).idxmax().reset_index()\n",
    "emissoes_estados_setor"
   ]
  },
  {
   "cell_type": "code",
   "execution_count": null,
   "metadata": {},
   "outputs": [],
   "source": [
    "teste_breno = emissoes_estados_setor.copy()\n",
    "teste_matheus = emissoes_estados_setor.copy()"
   ]
  },
  {
   "cell_type": "code",
   "execution_count": null,
   "metadata": {},
   "outputs": [],
   "source": [
    "teste_matheus['Emissao'].astype(str).str.split(',').str[0].str.strip('()')\n",
    "teste_matheus"
   ]
  },
  {
   "cell_type": "code",
   "execution_count": null,
   "metadata": {},
   "outputs": [],
   "source": [
    "teste_breno['Emissao'].apply(type)"
   ]
  },
  {
   "cell_type": "code",
   "execution_count": null,
   "metadata": {},
   "outputs": [],
   "source": [
    "teste_breno['Emissao'] = teste_breno['Emissao'].apply(lambda x: x[0] if isinstance(x, tuple) else x)\n",
    "teste_breno"
   ]
  }
 ],
 "metadata": {
  "kernelspec": {
   "display_name": "base",
   "language": "python",
   "name": "python3"
  },
  "language_info": {
   "codemirror_mode": {
    "name": "ipython",
    "version": 3
   },
   "file_extension": ".py",
   "mimetype": "text/x-python",
   "name": "python",
   "nbconvert_exporter": "python",
   "pygments_lexer": "ipython3",
   "version": "3.12.7"
  }
 },
 "nbformat": 4,
 "nbformat_minor": 2
}
