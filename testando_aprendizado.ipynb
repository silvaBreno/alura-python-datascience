{
 "cells": [
  {
   "cell_type": "code",
   "execution_count": null,
   "id": "dd64bb1a",
   "metadata": {},
   "outputs": [],
   "source": [
    "url = 'pandas-dados/cursos_cadastrados.json'"
   ]
  },
  {
   "cell_type": "code",
   "execution_count": null,
   "id": "1b65fbd5",
   "metadata": {},
   "outputs": [],
   "source": [
    "import json\n",
    "import pandas as pd"
   ]
  },
  {
   "cell_type": "code",
   "execution_count": null,
   "id": "1f811233",
   "metadata": {},
   "outputs": [],
   "source": [
    "with open(url) as arquivo:\n",
    "    dados = json.load(arquivo)"
   ]
  },
  {
   "cell_type": "code",
   "execution_count": null,
   "id": "d60893dd",
   "metadata": {},
   "outputs": [],
   "source": [
    "dados_brutos = pd.json_normalize(dados)\n",
    "dados_brutos"
   ]
  },
  {
   "cell_type": "code",
   "execution_count": null,
   "id": "e1867fe0",
   "metadata": {},
   "outputs": [],
   "source": [
    "dados_brutos.info()"
   ]
  },
  {
   "cell_type": "code",
   "execution_count": null,
   "id": "75c2ab85",
   "metadata": {},
   "outputs": [],
   "source": [
    "dados_brutos.isna().value_counts()"
   ]
  },
  {
   "cell_type": "code",
   "execution_count": null,
   "id": "a40e8b21",
   "metadata": {},
   "outputs": [],
   "source": [
    "dados_brutos.isna().sum().sum()"
   ]
  },
  {
   "cell_type": "code",
   "execution_count": null,
   "id": "fcb4acdb",
   "metadata": {},
   "outputs": [],
   "source": [
    "dados_brutos.dropna(axis=0, inplace=True)\n",
    "dados_brutos"
   ]
  },
  {
   "cell_type": "code",
   "execution_count": null,
   "id": "05ca8009",
   "metadata": {},
   "outputs": [],
   "source": [
    "dados_brutos.info()"
   ]
  },
  {
   "cell_type": "code",
   "execution_count": null,
   "id": "b9e5e150",
   "metadata": {},
   "outputs": [],
   "source": [
    "dados_brutos.isna().sum().sum()"
   ]
  },
  {
   "cell_type": "code",
   "execution_count": null,
   "id": "8a78ae3f",
   "metadata": {},
   "outputs": [],
   "source": [
    "dados_brutos.isna().value_counts()"
   ]
  },
  {
   "cell_type": "code",
   "execution_count": null,
   "id": "e5d0dda9",
   "metadata": {},
   "outputs": [],
   "source": [
    "dados_brutos"
   ]
  },
  {
   "cell_type": "code",
   "execution_count": null,
   "id": "89d2cfce",
   "metadata": {},
   "outputs": [],
   "source": [
    "dados_brutos.duplicated()"
   ]
  },
  {
   "cell_type": "code",
   "execution_count": null,
   "id": "0604aaf3",
   "metadata": {},
   "outputs": [],
   "source": [
    "dados_brutos.drop_duplicates(inplace=True)\n",
    "dados_brutos"
   ]
  },
  {
   "cell_type": "code",
   "execution_count": null,
   "id": "defc591a",
   "metadata": {},
   "outputs": [],
   "source": [
    "dados_brutos.duplicated()"
   ]
  },
  {
   "cell_type": "code",
   "execution_count": null,
   "id": "e91d8f72",
   "metadata": {},
   "outputs": [],
   "source": [
    "dados_brutos[dados_brutos['instrutor.nome'] == \"\"]"
   ]
  },
  {
   "cell_type": "code",
   "execution_count": null,
   "id": "4e76bc8a",
   "metadata": {},
   "outputs": [],
   "source": [
    "dados_brutos[dados_brutos['data_conclusao'] == \"\"]"
   ]
  },
  {
   "cell_type": "code",
   "execution_count": null,
   "id": "135cfa17",
   "metadata": {},
   "outputs": [],
   "source": [
    "dados_brutos.replace('', pd.NA, inplace=True)"
   ]
  },
  {
   "cell_type": "code",
   "execution_count": null,
   "id": "dffd373f",
   "metadata": {},
   "outputs": [],
   "source": [
    "dados_brutos"
   ]
  },
  {
   "cell_type": "code",
   "execution_count": null,
   "id": "9b69f185",
   "metadata": {},
   "outputs": [],
   "source": [
    "dados_brutos.dropna(inplace=True)\n",
    "dados_brutos"
   ]
  },
  {
   "cell_type": "code",
   "execution_count": null,
   "id": "6aca53ad",
   "metadata": {},
   "outputs": [],
   "source": [
    "dados_brutos.info()"
   ]
  },
  {
   "cell_type": "code",
   "execution_count": null,
   "id": "016691cf",
   "metadata": {},
   "outputs": [],
   "source": [
    "# Converte a concluintes para o tipo inteiro\n",
    "dados_brutos['concluintes'] = dados_brutos['concluintes'].astype(int)\n",
    "\n",
    "# Converte a coluna data_inicio e data_conclusao para o tipo datetime\n",
    "dados_brutos['data_inicio'] = pd.to_datetime(dados_brutos['data_inicio'])\n",
    "dados_brutos['data_conclusao'] = pd.to_datetime(dados_brutos['data_conclusao'])\n",
    "\n",
    "# Convertendo a coluna preço para o tipo float\n",
    "dados_brutos['preco'] = dados_brutos['preco'].astype(float)"
   ]
  },
  {
   "cell_type": "code",
   "execution_count": null,
   "id": "1cfdeea1",
   "metadata": {},
   "outputs": [],
   "source": [
    "dados_brutos.info()"
   ]
  }
 ],
 "metadata": {
  "kernelspec": {
   "display_name": "3.11.9",
   "language": "python",
   "name": "python3"
  },
  "language_info": {
   "codemirror_mode": {
    "name": "ipython",
    "version": 3
   },
   "file_extension": ".py",
   "mimetype": "text/x-python",
   "name": "python",
   "nbconvert_exporter": "python",
   "pygments_lexer": "ipython3",
   "version": "3.11.9"
  }
 },
 "nbformat": 4,
 "nbformat_minor": 5
}
