{
 "cells": [
  {
   "cell_type": "markdown",
   "metadata": {
    "id": "lQx6Mmv0OJyT"
   },
   "source": [
    "# Python para Data Science\n",
    "\n",
    "Notebook para o curso de Python para Data Science publicado na plataforma da [Alura](https://www.alura.com.br/)"
   ]
  },
  {
   "cell_type": "markdown",
   "metadata": {
    "id": "7SiB6JIpYKmY"
   },
   "source": [
    "# Introdução ao Python\n",
    "\n",
    "Vamos conhecer o Python, nosso ambiente de estudo e também faremos nosso primeiro código nessa linguagem!"
   ]
  },
  {
   "cell_type": "markdown",
   "metadata": {
    "id": "Yugfb3fCOYY9"
   },
   "source": [
    "## Google Colaboratory\n",
    "\n",
    "Já aprendemos o que é o [Python](https://www.python.org/) agora vamos aprender a utilzar o [Google Colaboratory](https://colab.research.google.com/) e programar em um notebook.\n",
    "\n",
    "Vamos testar algumas funções dessa ferramenta."
   ]
  },
  {
   "cell_type": "markdown",
   "metadata": {
    "id": "2iUHQsJasJAk"
   },
   "source": [
    " **`>>> Use essa célula para mover <<<`**"
   ]
  },
  {
   "cell_type": "code",
   "execution_count": 42,
   "metadata": {
    "id": "tWQp3j7S6MTX"
   },
   "outputs": [
    {
     "data": {
      "text/plain": [
       "10"
      ]
     },
     "execution_count": 42,
     "metadata": {},
     "output_type": "execute_result"
    }
   ],
   "source": [
    "10"
   ]
  },
  {
   "cell_type": "markdown",
   "metadata": {
    "id": "aLSFP2V7XTfe"
   },
   "source": [
    "## Olá mundo!\n",
    "\n",
    "Vamso conhecer mais como funciona o ambiente interativo de um notebook. Para isso vamos executar nosso primeiro comando em Python: [`print()`](https://docs.python.org/3/library/functions.html#print)"
   ]
  },
  {
   "cell_type": "code",
   "execution_count": 43,
   "metadata": {
    "id": "5s5z5TeP6LDU"
   },
   "outputs": [
    {
     "name": "stdout",
     "output_type": "stream",
     "text": [
      "Olá mundo!\n"
     ]
    }
   ],
   "source": [
    "print('Olá mundo!')"
   ]
  },
  {
   "cell_type": "code",
   "execution_count": 44,
   "metadata": {
    "id": "tNeEkSW06K8X"
   },
   "outputs": [
    {
     "name": "stdout",
     "output_type": "stream",
     "text": [
      "10\n"
     ]
    }
   ],
   "source": [
    "print(10)"
   ]
  },
  {
   "cell_type": "code",
   "execution_count": 45,
   "metadata": {
    "id": "2sKZJ-PO6K0w"
   },
   "outputs": [
    {
     "name": "stdout",
     "output_type": "stream",
     "text": [
      "Breno 29\n"
     ]
    }
   ],
   "source": [
    "print('Breno',29)"
   ]
  },
  {
   "cell_type": "code",
   "execution_count": 46,
   "metadata": {},
   "outputs": [
    {
     "name": "stdout",
     "output_type": "stream",
     "text": [
      "Escola de Dados da Alura!\n"
     ]
    }
   ],
   "source": [
    "print('Escola de Dados da Alura!')"
   ]
  },
  {
   "cell_type": "code",
   "execution_count": 47,
   "metadata": {},
   "outputs": [
    {
     "name": "stdout",
     "output_type": "stream",
     "text": [
      "Nome: Breno \n",
      "Sobrenome: Silva\n"
     ]
    }
   ],
   "source": [
    "print('Nome: Breno \\nSobrenome: Silva')"
   ]
  },
  {
   "cell_type": "code",
   "execution_count": 48,
   "metadata": {},
   "outputs": [
    {
     "name": "stdout",
     "output_type": "stream",
     "text": [
      "B\n",
      "R\n",
      "E\n",
      "N\n",
      "O\n"
     ]
    }
   ],
   "source": [
    "print('B\\nR\\nE\\nN\\nO')"
   ]
  },
  {
   "cell_type": "code",
   "execution_count": 49,
   "metadata": {},
   "outputs": [
    {
     "name": "stdout",
     "output_type": "stream",
     "text": [
      "20 marco 1995\n"
     ]
    }
   ],
   "source": [
    "print(20,'marco',1995)"
   ]
  },
  {
   "cell_type": "code",
   "execution_count": 50,
   "metadata": {},
   "outputs": [
    {
     "name": "stdout",
     "output_type": "stream",
     "text": [
      "Ano atual: 2024\n"
     ]
    }
   ],
   "source": [
    "print('Ano atual:', 2024)"
   ]
  },
  {
   "cell_type": "markdown",
   "metadata": {
    "id": "iP8uWQmFYFRs"
   },
   "source": [
    "# Manipulando dados\n",
    "\n",
    "Vamos aprender sobre as variáveis no python, como elas são declaradas e utilizadas além de conhecer outros comandos dentro do Python. :D"
   ]
  },
  {
   "cell_type": "markdown",
   "metadata": {
    "id": "sLNVmnTbag1Z"
   },
   "source": [
    "## Variáveis\n",
    "\n",
    "Em Data Science nós trabalhamos com vários dados e informações, então é essencial saber trabalhar com variáveis."
   ]
  },
  {
   "cell_type": "markdown",
   "metadata": {
    "id": "lsCY0wahAbf6"
   },
   "source": [
    "Criamos uma variável no python através da atribuição de um valor a ela.\n",
    "\n",
    "Para fazer isso, colocamos o nome da variável um sinal de igual (`=`) e o valor que queremos atribuir"
   ]
  },
  {
   "cell_type": "code",
   "execution_count": 51,
   "metadata": {
    "id": "8J3pJghf57ZI"
   },
   "outputs": [],
   "source": [
    "idade = 29"
   ]
  },
  {
   "cell_type": "code",
   "execution_count": 52,
   "metadata": {
    "id": "Byehj1QR57S1"
   },
   "outputs": [
    {
     "name": "stdout",
     "output_type": "stream",
     "text": [
      "29\n"
     ]
    }
   ],
   "source": [
    "print(idade)"
   ]
  },
  {
   "cell_type": "code",
   "execution_count": 53,
   "metadata": {
    "id": "cMjXA8DO58Uj"
   },
   "outputs": [
    {
     "name": "stdout",
     "output_type": "stream",
     "text": [
      "30\n"
     ]
    }
   ],
   "source": [
    "idade = 30\n",
    "print(idade)"
   ]
  },
  {
   "cell_type": "code",
   "execution_count": 54,
   "metadata": {
    "id": "82qmrXyz58SD"
   },
   "outputs": [
    {
     "data": {
      "text/plain": [
       "50"
      ]
     },
     "execution_count": 54,
     "metadata": {},
     "output_type": "execute_result"
    }
   ],
   "source": [
    "idade = 50\n",
    "idade"
   ]
  },
  {
   "cell_type": "code",
   "execution_count": 55,
   "metadata": {
    "id": "h0QjCDb15z7-"
   },
   "outputs": [
    {
     "data": {
      "text/plain": [
       "'Breno'"
      ]
     },
     "execution_count": 55,
     "metadata": {},
     "output_type": "execute_result"
    }
   ],
   "source": [
    "nome = 'Breno'\n",
    "nome"
   ]
  },
  {
   "cell_type": "markdown",
   "metadata": {
    "id": "om2N0jHKAzwL"
   },
   "source": [
    "Nomes que **não** podemos definir para variáveis:\n",
    "\n",
    "- **Nomes que começam com números**\n",
    "  - Exemplos: `10_notas`, `2_nomes_casa`, etc.\n",
    "- **Palavras separada por espaço**\n",
    "  - Exemplos: `Nome escola`, `notas estudantes`, etc.\n",
    "- **Nomes de funções do Python**\n",
    "  - Exemplos: `print`, `type`, etc."
   ]
  },
  {
   "cell_type": "markdown",
   "metadata": {
    "id": "A19vY2GVMujB"
   },
   "source": [
    "> Letras maiúsculas e minúsculas vão gerar diferentes variáveis. A varíavel `idade` é diferente de `Idade` que por sua vez também é diferente de `IDADE`:\n",
    "``` Python\n",
    "idade = 1\n",
    "Idade = 2\n",
    "IDADE = 3\n",
    "_idade = 4\n",
    "_idade_ = 5\n",
    "print(idade, Idade, IDADE, _idade, _idade_)\n",
    "1 2 3 4 5\n",
    "```"
   ]
  },
  {
   "cell_type": "markdown",
   "metadata": {
    "id": "UqhzuBhBHsps"
   },
   "source": [
    "## Tipos de variáveis\n",
    "\n",
    "Cada variável contém uma classe especifica quanto ao tipo de objeto que ela está se referenciando. Essas classes vão ser diferentes a partir do tipo de dado que nós atribuimos a uma variável.\n",
    "\n",
    "Para saber a classe de cada elemento usamos a função [`type()`](https://docs.python.org/3/library/functions.html#type)"
   ]
  },
  {
   "cell_type": "code",
   "execution_count": 56,
   "metadata": {
    "id": "-tb-XRcq5v9W"
   },
   "outputs": [
    {
     "data": {
      "text/plain": [
       "int"
      ]
     },
     "execution_count": 56,
     "metadata": {},
     "output_type": "execute_result"
    }
   ],
   "source": [
    "i = 50\n",
    "type(i)"
   ]
  },
  {
   "cell_type": "code",
   "execution_count": 57,
   "metadata": {
    "id": "5ncn48tw5vw2"
   },
   "outputs": [
    {
     "data": {
      "text/plain": [
       "float"
      ]
     },
     "execution_count": 57,
     "metadata": {},
     "output_type": "execute_result"
    }
   ],
   "source": [
    "f = 9.8\n",
    "type(f)"
   ]
  },
  {
   "cell_type": "code",
   "execution_count": 58,
   "metadata": {
    "id": "PURhkDrw5vpB"
   },
   "outputs": [
    {
     "data": {
      "text/plain": [
       "str"
      ]
     },
     "execution_count": 58,
     "metadata": {},
     "output_type": "execute_result"
    }
   ],
   "source": [
    "s = 'Breno'\n",
    "type(s)"
   ]
  },
  {
   "cell_type": "code",
   "execution_count": 66,
   "metadata": {
    "id": "w0XcF4MC5vhw"
   },
   "outputs": [
    {
     "data": {
      "text/plain": [
       "bool"
      ]
     },
     "execution_count": 66,
     "metadata": {},
     "output_type": "execute_result"
    }
   ],
   "source": [
    "b = True\n",
    "type(b)"
   ]
  },
  {
   "cell_type": "markdown",
   "metadata": {
    "id": "O-FxDumfWu0C"
   },
   "source": [
    "Em um conjunto de dados escolares podemos ter vários tipos de informações. Digamos que tenhamos acesso à ficha de dados do aluno *Fabricio Daniel* como transformamos ela em variáveis no Python?\n",
    "\n",
    "#### Ficha:\n",
    "\n",
    "- Nome: Fabricio Daniel\n",
    "- Idade: 15 anos\n",
    "- Media do semestre: 8,45\n",
    "- Situação de aprovação: Verdadeira (aprovado)"
   ]
  },
  {
   "cell_type": "code",
   "execution_count": 81,
   "metadata": {
    "id": "xZ3Exi2L5ozi"
   },
   "outputs": [
    {
     "name": "stdout",
     "output_type": "stream",
     "text": [
      "Fabricio Daniel 15 8.45 True\n"
     ]
    }
   ],
   "source": [
    "nome_aluno = 'Fabricio Daniel'\n",
    "idade_aluno = 15\n",
    "media_aluno = 8.45\n",
    "situacao_aprovado = True\n",
    "print(nome_aluno, idade_aluno, media_aluno, situacao_aprovado)"
   ]
  },
  {
   "cell_type": "markdown",
   "metadata": {
    "id": "KFq_8Sxf-OG0"
   },
   "source": [
    "## Variáveis numéricas\n",
    "\n",
    "Entre os tipos de dados numéricos vamos nos focar no tipo `inteiro` e `float`."
   ]
  },
  {
   "cell_type": "markdown",
   "metadata": {
    "id": "8_HYUbkVYdQY"
   },
   "source": [
    "Temos uma tabela de informação de empregos quanto ao cargo, quantidade de pessoas empregadas e o salário correspondente:\n",
    "\n",
    "|Cargo | Quantidade | Salário|\n",
    "|---|---|---|\n",
    "|Segurança | 5 | 3000 |\n",
    "|Docente | 16| 6000|\n",
    "|Diretoria| 1 |12500|\n",
    "\n",
    "Precisamos trabalhar com esses dados fornecendo:\n",
    "\n",
    "- A quantidade total de empregados;\n",
    "- A diferença entre o salário mais baixo e mais alto; e\n",
    "- A média ponderada da faixa salarial da escola."
   ]
  },
  {
   "cell_type": "code",
   "execution_count": 59,
   "metadata": {
    "id": "xJIq5MRRZAlj"
   },
   "outputs": [],
   "source": [
    "q_seguranca = 5\n",
    "s_seguranca = 3000\n",
    "\n",
    "q_docente = 16\n",
    "s_docente = 6000\n",
    "\n",
    "q_diretoria = 1\n",
    "s_diretoria = 12500"
   ]
  },
  {
   "cell_type": "code",
   "execution_count": 84,
   "metadata": {
    "id": "pIgt-k6T5WpB"
   },
   "outputs": [
    {
     "data": {
      "text/plain": [
       "22"
      ]
     },
     "execution_count": 84,
     "metadata": {},
     "output_type": "execute_result"
    }
   ],
   "source": [
    "total_empregados = q_seguranca + q_docente + q_diretoria\n",
    "total_empregados"
   ]
  },
  {
   "cell_type": "code",
   "execution_count": 88,
   "metadata": {
    "id": "bL9uGHvp5We5"
   },
   "outputs": [
    {
     "name": "stdout",
     "output_type": "stream",
     "text": [
      "R$ 9500\n"
     ]
    }
   ],
   "source": [
    "diff_salarial = s_diretoria - s_seguranca\n",
    "print(f'R$ ' + str(diff_salarial))"
   ]
  },
  {
   "cell_type": "code",
   "execution_count": 90,
   "metadata": {
    "id": "GpTS_c8_5WX_"
   },
   "outputs": [
    {
     "data": {
      "text/plain": [
       "5613.636363636364"
      ]
     },
     "execution_count": 90,
     "metadata": {},
     "output_type": "execute_result"
    }
   ],
   "source": [
    "media_ponderada = (q_seguranca*s_seguranca + q_docente*s_docente + q_diretoria*s_diretoria) / (total_empregados)\n",
    "media_ponderada"
   ]
  },
  {
   "cell_type": "markdown",
   "metadata": {
    "id": "yQy7b0ZWoD-P"
   },
   "source": [
    "## Strings"
   ]
  },
  {
   "cell_type": "markdown",
   "metadata": {
    "id": "vlo2-DXusv3s"
   },
   "source": [
    "Strings são caracterizada por ter um conjunto de caracteres formando um texto.\n",
    "\n",
    "Strigs podem ser criadas ao atribuirmos a uma variável um dado que esteja entre aspas simples (`'`) ou aspas duplas (`\"`)"
   ]
  },
  {
   "cell_type": "code",
   "execution_count": 95,
   "metadata": {
    "id": "SSinaAb15FWn"
   },
   "outputs": [
    {
     "name": "stdout",
     "output_type": "stream",
     "text": [
      "<class 'str'> <class 'str'>\n"
     ]
    }
   ],
   "source": [
    "s1 = 'Alura'\n",
    "s2 = \"Python\"\n",
    "print(type(s1), type(s2))"
   ]
  },
  {
   "cell_type": "markdown",
   "metadata": {
    "id": "2e9UD_CCxqz_"
   },
   "source": [
    "As variáveis textuais contém vários métodos que nos ajudam a formatar strings. Métódos podem ser executados ao definirmos um objeto seguindo a seguinte estrutura:\n",
    "\n",
    "```\n",
    "objeto.metodo()\n",
    "```\n",
    "\n",
    "Existem métodos que não necessitam dos `()`, é preciso verificar a documentação de cada caso."
   ]
  },
  {
   "cell_type": "markdown",
   "metadata": {
    "id": "p6aPmMGP4tf9"
   },
   "source": [
    "---\n",
    "**Situação:**\n",
    "\n",
    "Recebemos uma variável com o nome de uma professora da escola para inserimos no cadastro. No entanto, precisamos tratar esse texto antes de inserirmos no sistema"
   ]
  },
  {
   "cell_type": "code",
   "execution_count": 106,
   "metadata": {
    "id": "4tkS8Iit1Ccg"
   },
   "outputs": [],
   "source": [
    "texto = '  Geovana Alessandra dias Sanyos '"
   ]
  },
  {
   "cell_type": "markdown",
   "metadata": {
    "id": "Dg2ZXSZOGzjC"
   },
   "source": [
    "O objetivo final é que o nome esteja da seguinte forma:\n",
    "\n",
    "```\n",
    "'GEOVANA ALESSANDRA DIAS SANTOS'\n",
    "```"
   ]
  },
  {
   "cell_type": "markdown",
   "metadata": {
    "id": "iVTAD8q702eN"
   },
   "source": [
    "### [`str.upper()` ](https://docs.python.org/3/library/stdtypes.html#str.upper)\n",
    "Converte uma string para maiúsculas"
   ]
  },
  {
   "cell_type": "code",
   "execution_count": 107,
   "metadata": {
    "id": "sWMt1iWW5LdN"
   },
   "outputs": [
    {
     "data": {
      "text/plain": [
       "'  GEOVANA ALESSANDRA DIAS SANYOS '"
      ]
     },
     "execution_count": 107,
     "metadata": {},
     "output_type": "execute_result"
    }
   ],
   "source": [
    "texto.upper()"
   ]
  },
  {
   "cell_type": "markdown",
   "metadata": {
    "id": "hbDSBtMV1TpG"
   },
   "source": [
    "### [`str.lower()`](https://docs.python.org/3/library/stdtypes.html#str.lower)\n",
    "Método converte uma string para minúsculas."
   ]
  },
  {
   "cell_type": "code",
   "execution_count": 108,
   "metadata": {
    "id": "ypSOC5WR5MTi"
   },
   "outputs": [
    {
     "data": {
      "text/plain": [
       "'  geovana alessandra dias sanyos '"
      ]
     },
     "execution_count": 108,
     "metadata": {},
     "output_type": "execute_result"
    }
   ],
   "source": [
    "texto.lower()"
   ]
  },
  {
   "cell_type": "markdown",
   "metadata": {
    "id": "kz47eWM11gii"
   },
   "source": [
    "### [`str.strip()`](https://docs.python.org/3/library/stdtypes.html#str.strip)\n",
    "Método remove os espaços em branco do início e do fim de uma string."
   ]
  },
  {
   "cell_type": "code",
   "execution_count": 109,
   "metadata": {
    "id": "Xys25o1N5NKD"
   },
   "outputs": [
    {
     "data": {
      "text/plain": [
       "'Geovana Alessandra dias Sanyos'"
      ]
     },
     "execution_count": 109,
     "metadata": {},
     "output_type": "execute_result"
    }
   ],
   "source": [
    "texto.strip()"
   ]
  },
  {
   "cell_type": "markdown",
   "metadata": {
    "id": "m6notiyS1SCV"
   },
   "source": [
    "### [`str.replace(antigo, novo)`](https://docs.python.org/3/library/stdtypes.html#str.replace)\n",
    "\n",
    "Método substitui todas as ocorrências do texto \"antigo\" na string por \"novo\""
   ]
  },
  {
   "cell_type": "code",
   "execution_count": 110,
   "metadata": {
    "id": "oY2mU2Id5OcO"
   },
   "outputs": [
    {
     "data": {
      "text/plain": [
       "'  Geovana Alessandra dias Santos '"
      ]
     },
     "execution_count": 110,
     "metadata": {},
     "output_type": "execute_result"
    }
   ],
   "source": [
    "texto.replace('y','t')"
   ]
  },
  {
   "cell_type": "markdown",
   "metadata": {
    "id": "zukvEjhG2Rcn"
   },
   "source": [
    "### Observações\n",
    "\n",
    "1. Os métodos retornam uma **tranformação**, não a executam no texto!\n",
    "\n",
    "2. Além disso, podemos acumular a execução de métodos."
   ]
  },
  {
   "cell_type": "code",
   "execution_count": 111,
   "metadata": {
    "id": "Q6O5y20u5PQk"
   },
   "outputs": [
    {
     "data": {
      "text/plain": [
       "'  Geovana Alessandra dias Sanyos '"
      ]
     },
     "execution_count": 111,
     "metadata": {},
     "output_type": "execute_result"
    }
   ],
   "source": [
    "texto"
   ]
  },
  {
   "cell_type": "markdown",
   "metadata": {
    "id": "1KbwfVut2h6I"
   },
   "source": [
    "Para que seja executada a transformação nós podemos atribuir às saídas das transformações à variável"
   ]
  },
  {
   "cell_type": "code",
   "execution_count": 113,
   "metadata": {
    "id": "W6DiHv2H5Tq-"
   },
   "outputs": [
    {
     "data": {
      "text/plain": [
       "'GEOVANA ALESSANDRA DIAS SANTOS'"
      ]
     },
     "execution_count": 113,
     "metadata": {},
     "output_type": "execute_result"
    }
   ],
   "source": [
    "texto = texto.strip().replace('y','t').upper()\n",
    "texto"
   ]
  },
  {
   "cell_type": "markdown",
   "metadata": {
    "id": "0h9Fh5G9kHCa"
   },
   "source": [
    "## Coletando dados\n",
    "\n",
    "Em algumas aplicações precisamos coletar valores da pessoa usuária do nosso projeto. Em python conseguimos coletar dados de usuário através do comando [`input()`](https://docs.python.org/3/library/functions.html#input).\n",
    "\n",
    "Para fazer essa coleta podemos atribuir essa função à uma variável."
   ]
  },
  {
   "cell_type": "code",
   "execution_count": 114,
   "metadata": {
    "id": "iEJyxhIj41id"
   },
   "outputs": [],
   "source": [
    "nome = input('Escreva seu nome: ')"
   ]
  },
  {
   "cell_type": "code",
   "execution_count": 115,
   "metadata": {
    "id": "MoMXzZkC41Ze"
   },
   "outputs": [
    {
     "data": {
      "text/plain": [
       "'Breno'"
      ]
     },
     "execution_count": 115,
     "metadata": {},
     "output_type": "execute_result"
    }
   ],
   "source": [
    "nome"
   ]
  },
  {
   "cell_type": "markdown",
   "metadata": {
    "id": "7z7hcLCk_aCY"
   },
   "source": [
    "O retorno desse comando sempre será uma *string*. Isso quer dizer que mesmo que façamos uma coleta de algo que deva ser numérico, ele será uma string. \n",
    "\n",
    "Então, será preciso **converter o resultado caso não seja desejável obter uma string**."
   ]
  },
  {
   "cell_type": "markdown",
   "metadata": {
    "id": "TOlegATj1Jfp"
   },
   "source": [
    "Existem funções para conversão de valores:\n",
    "\n",
    "- Inteiros: [`int(dado_para_conversao)`](https://docs.python.org/3/library/functions.html#int)\n",
    "- Float: [`float(dado_para_conversao)`](https://docs.python.org/3/library/functions.html#float)\n",
    "- String: [`str(dado_para_conversao)`](https://docs.python.org/3/library/functions.html#func-str)\n",
    "- Booleano: [`bool(dado_para_conversao)`](https://docs.python.org/3/library/functions.html#bool)"
   ]
  },
  {
   "cell_type": "code",
   "execution_count": 116,
   "metadata": {
    "id": "MQRu7y9646S9"
   },
   "outputs": [],
   "source": [
    "ano_entrada = input('Escreva o ano de ingresso do(a) estudante: ')"
   ]
  },
  {
   "cell_type": "code",
   "execution_count": 120,
   "metadata": {
    "id": "FwezgXQA48VF"
   },
   "outputs": [
    {
     "data": {
      "text/plain": [
       "str"
      ]
     },
     "execution_count": 120,
     "metadata": {},
     "output_type": "execute_result"
    }
   ],
   "source": [
    "type(ano_entrada)"
   ]
  },
  {
   "cell_type": "code",
   "execution_count": 123,
   "metadata": {
    "id": "bbRqzmOJ49Q1"
   },
   "outputs": [],
   "source": [
    "ano_entrada = int(input('Escreva o ano de ingresso do(a) estudante: '))"
   ]
  },
  {
   "cell_type": "code",
   "execution_count": 124,
   "metadata": {
    "id": "nu5xycbG4-X1"
   },
   "outputs": [
    {
     "data": {
      "text/plain": [
       "int"
      ]
     },
     "execution_count": 124,
     "metadata": {},
     "output_type": "execute_result"
    }
   ],
   "source": [
    "type(ano_entrada)"
   ]
  },
  {
   "cell_type": "markdown",
   "metadata": {
    "id": "yNI2-XTbB3aS"
   },
   "source": [
    "Buscaremos apresentar melhor agora o resultado que obtivemos da transformação. Nós conseguimos formatar e apresentar o nosso resultado misturando strings com valores não textuais.\n",
    "\n",
    "Para fazer isso usamos a estrutura de formatação `f` com strings."
   ]
  },
  {
   "cell_type": "code",
   "execution_count": 127,
   "metadata": {
    "id": "b1eYnEX-4wXz"
   },
   "outputs": [
    {
     "name": "stdout",
     "output_type": "stream",
     "text": [
      "Ano de entrada 2024 - Nota do teste de ingresso 9.0\n"
     ]
    }
   ],
   "source": [
    "nota_entrada = float(input('Digite a nota do teste de ingresso: '))\n",
    "print(f'Ano de entrada {ano_entrada} - Nota do teste de ingresso {nota_entrada}')"
   ]
  },
  {
   "cell_type": "code",
   "execution_count": 128,
   "metadata": {},
   "outputs": [
    {
     "name": "stdout",
     "output_type": "stream",
     "text": [
      "Nome do aluno é Fabricio Daniel, ele tem 15 anos e sua média é 8.45.\n"
     ]
    }
   ],
   "source": [
    "nome_aluno = 'Fabricio Daniel'\n",
    "idade_aluno = 15\n",
    "media_aluno = 8.45\n",
    "\n",
    "print('Nome do aluno é {}, ele tem {} anos e sua média é {}.' .format(nome_aluno, idade_aluno, media_aluno))"
   ]
  },
  {
   "cell_type": "code",
   "execution_count": 130,
   "metadata": {},
   "outputs": [
    {
     "name": "stdout",
     "output_type": "stream",
     "text": [
      "Nome do aluno é Fabricio Daniel, ele tem 15 anos e sua média é 8.450000.\n"
     ]
    }
   ],
   "source": [
    "print('Nome do aluno é %s, ele tem %d anos e sua média é %2f.' %(nome_aluno, idade_aluno, media_aluno))"
   ]
  },
  {
   "cell_type": "code",
   "execution_count": 131,
   "metadata": {},
   "outputs": [
    {
     "name": "stdout",
     "output_type": "stream",
     "text": [
      "Nome do aluno é Fabricio Daniel, ele tem 15 anos e sua média é 8.45.\n"
     ]
    }
   ],
   "source": [
    "print('Nome do aluno é %s, ele tem %d anos e sua média é %.2f.' %(nome_aluno, idade_aluno, media_aluno))"
   ]
  },
  {
   "cell_type": "code",
   "execution_count": 132,
   "metadata": {},
   "outputs": [
    {
     "name": "stdout",
     "output_type": "stream",
     "text": [
      "Estudar é um esforço constante,\n",
      "É como cultivar uma planta,\n",
      "Precisamos de dedicação e paciência,\n",
      "Para ver o fruto amadurecer.\n"
     ]
    }
   ],
   "source": [
    "print(\"Estudar é um esforço constante,\\nÉ como cultivar uma planta,\\nPrecisamos de dedicação e paciência,\\nPara ver o fruto amadurecer.\")"
   ]
  },
  {
   "cell_type": "code",
   "execution_count": 133,
   "metadata": {},
   "outputs": [
    {
     "name": "stdout",
     "output_type": "stream",
     "text": [
      "Quantidade\tQualidade\n",
      "5 amostras\tAlta\n",
      "3 amostras\tBaixa\n"
     ]
    }
   ],
   "source": [
    "print('Quantidade\\tQualidade\\n5 amostras\\tAlta\\n3 amostras\\tBaixa')"
   ]
  },
  {
   "cell_type": "code",
   "execution_count": 134,
   "metadata": {},
   "outputs": [
    {
     "name": "stdout",
     "output_type": "stream",
     "text": [
      "Caminho do arquivo: C:\\arquivos\\documento.csv\n"
     ]
    }
   ],
   "source": [
    "print(\"Caminho do arquivo: C:\\\\arquivos\\\\documento.csv\")"
   ]
  },
  {
   "cell_type": "code",
   "execution_count": 135,
   "metadata": {},
   "outputs": [
    {
     "name": "stdout",
     "output_type": "stream",
     "text": [
      "Ouvi uma vez \"Os frutos do conhecimento são os mais doces e duradouros de todos.\"\n"
     ]
    }
   ],
   "source": [
    "print(\"Ouvi uma vez \\\"Os frutos do conhecimento são os mais doces e duradouros de todos.\\\"\")"
   ]
  },
  {
   "cell_type": "code",
   "execution_count": 136,
   "metadata": {},
   "outputs": [
    {
     "name": "stdout",
     "output_type": "stream",
     "text": [
      "Minha professora uma vez disse 'Estudar é a chave do sucesso.' \n"
     ]
    }
   ],
   "source": [
    "print('Minha professora uma vez disse \\'Estudar é a chave do sucesso.\\' ')"
   ]
  },
  {
   "cell_type": "markdown",
   "metadata": {
    "id": "NwRaiHHHhhyl"
   },
   "source": [
    "# Estruturas condicionais"
   ]
  },
  {
   "cell_type": "markdown",
   "metadata": {
    "id": "qXZqg9aYEhAh"
   },
   "source": [
    "## `IF` e `ELSE`\n",
    "\n",
    "O `if` e `else` são duas estruturas condicionais. O `if` executará o bloco de comando caso a condição colocada for **verdadeira**. O `else` é um caso em que a condicional de `if` seja **falsa**."
   ]
  },
  {
   "cell_type": "markdown",
   "metadata": {
    "id": "EIhlqHXd2Gil"
   },
   "source": [
    "O `if` é uma palavra-chave em Python que significa \"se\". Ele é usado para formar uma estrutura condicional, que permite que você verifique se uma determinada condição é verdadeira ou falsa e, em seguida, execute um bloco de código específico dependendo do resultado da verificação. A sintaxe para usar o `if` é:\n",
    "\n",
    "\n",
    "\n",
    "```\n",
    "if condição:\n",
    "    # faça algo\n",
    "```\n",
    "\n"
   ]
  },
  {
   "cell_type": "code",
   "execution_count": 1,
   "metadata": {
    "id": "tKtzkTXW4j73"
   },
   "outputs": [
    {
     "name": "stdout",
     "output_type": "stream",
     "text": [
      "expressão verdadeira\n"
     ]
    }
   ],
   "source": [
    "if 2 < 7:\n",
    "    print('expressão verdadeira')"
   ]
  },
  {
   "cell_type": "markdown",
   "metadata": {
    "id": "27RW2v_sIKct"
   },
   "source": [
    "Já o `else` em Python é usada em conjunto com a palavra-chave `if` para formar uma estrutura condicional. A sintaxe para usar o `else` é:\n",
    "\n",
    "```\n",
    "if condição:\n",
    "  # código caso seja verdade\n",
    "else:\n",
    "  # código caso seja falso\n",
    "```\n",
    "\n",
    "O `else` é executado quando a condição verificada pelo `if` é avaliada como `False`."
   ]
  },
  {
   "cell_type": "markdown",
   "metadata": {
    "id": "BqORg85XX-Nl"
   },
   "source": [
    "---\n",
    "**Situação:**\n",
    "\n",
    "Receberemos a média de estudantes e precisamos de um algoritmo que execute a análise e decida se esse estudante está **Aprovado** ou Reprovado, mostrando uma mensagem do resultado. Para ser aprovado, a média precisa ser igual ou superior à 6.0."
   ]
  },
  {
   "cell_type": "code",
   "execution_count": 3,
   "metadata": {
    "id": "yaR8bt1P4iCv"
   },
   "outputs": [
    {
     "name": "stdout",
     "output_type": "stream",
     "text": [
      "Reprovado(a)\n"
     ]
    }
   ],
   "source": [
    "media = float(input('Digite a média: '))\n",
    "\n",
    "if (media >= 6):\n",
    "    print('Aprovado(a)')\n",
    "else:    \n",
    "    print('Reprovado(a)')"
   ]
  },
  {
   "cell_type": "markdown",
   "metadata": {
    "id": "bD9O17HB6LUo"
   },
   "source": [
    "Agora a nossa instituição de ensino lançou uma nota oficial que pessoas que tenham média entre 4.0 e 6.0 podem fazer os cursos de **Recuperação** nas férias para poder recuperar a nota.\n",
    "\n",
    "Então podemos agora fazer um conjunto de `if`s para que possamos estruturar essa nova condição."
   ]
  },
  {
   "cell_type": "code",
   "execution_count": 8,
   "metadata": {
    "id": "Rkde8bai4gvq"
   },
   "outputs": [
    {
     "name": "stdout",
     "output_type": "stream",
     "text": [
      "Recuperação(a)\n"
     ]
    }
   ],
   "source": [
    "media = float(input('Digite a média: '))\n",
    "\n",
    "if (media >= 6.0):\n",
    "    print('Aprovado(a)')\n",
    "if (4.0 <= media < 6.0):\n",
    "    print('Recuperação(a)')\n",
    "if (media < 4.0):\n",
    "    print('Reprovado(a)')"
   ]
  },
  {
   "cell_type": "markdown",
   "metadata": {
    "id": "D5e2mByjvycO"
   },
   "source": [
    "Notemos que em casos com 3 situações como esse precisamos definir bem nossas condições. Pois foi feita uma construção com `else` no final, ele irá considerar apenas a alguma condicional para ser o caso **falso** podendo resultar em duas (ou mais) execuções.\n",
    "\n",
    "Por exemplo:"
   ]
  },
  {
   "cell_type": "code",
   "execution_count": 9,
   "metadata": {
    "id": "tKvjzq414fAN"
   },
   "outputs": [
    {
     "name": "stdout",
     "output_type": "stream",
     "text": [
      "Reprovado(a)\n"
     ]
    }
   ],
   "source": [
    "media = float(input('Digite a média: '))\n",
    "\n",
    "if (media >= 6.0):\n",
    "    print('Aprovado(a)')\n",
    "elif (4.0 <= media < 6.0):\n",
    "    print('Recuperação(a)')\n",
    "else:\n",
    "    print('Reprovado(a)')"
   ]
  },
  {
   "cell_type": "markdown",
   "metadata": {
    "id": "04T5g-7h4zWx"
   },
   "source": [
    "## `ELIF`\n",
    "\n",
    "O `elif` é uma palavra-chave em Python que significa \"senão, se\" e pode ser considerado uma união do `else` com um `if`. Ela é usada em conjunto com a palavra-chave `if` para formar uma estrutura condicional encadeada.\n",
    "\n"
   ]
  },
  {
   "cell_type": "markdown",
   "metadata": {
    "id": "rNBHr5mm1Lm6"
   },
   "source": [
    "A sintaxe para usar o `elif` é:\n",
    "\n",
    "```\n",
    "if condição1:\n",
    "    # faça algo\n",
    "elif condição2:\n",
    "    # faça outra coisa\n",
    "elif condição3:\n",
    "    # faça mais alguma coisa\n",
    "else:\n",
    "    # faça algo diferente\n",
    "```\n",
    "\n",
    "O `elif` permite que você verifique várias condições de forma encadeada, economizando espaço em seu código. Se a primeira condição for avaliada como `False`, o interpretador Python avaliará a próxima condição no `elif`. Isso continuará até que uma condição seja avaliada como `True` ou até que o `else` seja atingido. Se nenhuma das condições forem avaliadas como `True`, a execução do código do `else` será iniciada."
   ]
  },
  {
   "cell_type": "markdown",
   "metadata": {
    "id": "MVoykFbB4bd4"
   },
   "source": [
    "Vamos usar o mesmo caso anterior:"
   ]
  },
  {
   "cell_type": "code",
   "execution_count": 11,
   "metadata": {
    "id": "UJCHKoX54dc2"
   },
   "outputs": [
    {
     "name": "stdout",
     "output_type": "stream",
     "text": [
      "Reprovado(a)\n"
     ]
    }
   ],
   "source": [
    "media = float(input('Digite a média: '))\n",
    "\n",
    "if (media >= 6.0):\n",
    "    print('Aprovado(a)')\n",
    "elif (4.0 <= media < 6.0):\n",
    "    print('Recuperação(a)')\n",
    "else:\n",
    "    print('Reprovado(a)')"
   ]
  },
  {
   "cell_type": "markdown",
   "metadata": {
    "id": "Tf1wSOem6iwZ"
   },
   "source": [
    "## Operadores\n",
    "\n",
    "Durante a construção de comandos por vezes precisamos de uma elaboração maior de da expressão condicional, necessitando que alguns operadores lógicos estejam integrados."
   ]
  },
  {
   "cell_type": "markdown",
   "metadata": {
    "id": "GFIZnRWXGPWO"
   },
   "source": [
    "### `AND`, `OR`, `NOT`\n",
    "\n",
    "Os operadores lógicos `and`, `or` e `not` são usados para combinar expressões lógicas em Python. Eles são usados frequentemente em conjunto com o `if` para criar estruturas condicionais mais complexas.\n"
   ]
  },
  {
   "cell_type": "markdown",
   "metadata": {
    "id": "Z_dgAoHXJbzB"
   },
   "source": [
    "- `AND` é usado para verificar se duas condições são verdadeiras. A expressão lógica¹ `x and y` é avaliada como `True` apenas se **ambas as condições `x` e `y` forem verdadeiras**, e como `False` caso contrário.\n",
    "\n",
    "- `OR` é usado para verificar se pelo menos uma das condições é verdadeira. A expressão lógica `x or y` é avaliada como `True` **se pelo menos uma das condições `x` ou `y` for verdadeira**, e como `False` se ambas forem falsas.\n",
    "\n",
    "- `NOT` é usado para **negar uma condição**. A expressão lógica not x é avaliada como True se a condição x for falsa, e como False se a condição x for verdadeira.\n",
    "\n",
    "¹ Uma expressão lógica é uma declaração que pode ser avaliada como verdadeira ou falsa. Ela é composta por operandos lógicos² e operadores lógicos³, que são usados ​​para combinar várias expressões lógicas em uma única expressão.\n",
    "\n",
    "² Os operandos lógicos são os elementos que são comparados ou avaliados em uma expressão lógica. Eles são geralmente valores verdadeiros ou falsos, mas também podem ser expressões lógicas mais complexas. Em Python, os operandos lógicos são os valores `True` e `False`.\n",
    "\n",
    "³ Os operadores lógicos são os símbolos ou palavras-chave que são usados ​​para combinar várias expressões lógicas em uma única expressão. Em Python, os operadores lógicos são `and`, `or` e `not`, bem como as palavras-chave `if`, `elif` e `else`."
   ]
  },
  {
   "cell_type": "code",
   "execution_count": 12,
   "metadata": {
    "id": "Fs_qb0dLOXsj"
   },
   "outputs": [],
   "source": [
    "t1 = t2 = True\n",
    "f1 = f2 = False"
   ]
  },
  {
   "cell_type": "code",
   "execution_count": 13,
   "metadata": {
    "id": "kL4QVdlZ4O43"
   },
   "outputs": [
    {
     "name": "stdout",
     "output_type": "stream",
     "text": [
      "expressão verdadeira\n"
     ]
    }
   ],
   "source": [
    "if t1 and t2:\n",
    "  print('expressão verdadeira')\n",
    "else:\n",
    "  print('expressão falsa')"
   ]
  },
  {
   "cell_type": "code",
   "execution_count": 14,
   "metadata": {
    "id": "JmQYjvsz4Pw5"
   },
   "outputs": [
    {
     "name": "stdout",
     "output_type": "stream",
     "text": [
      "expressão falsa\n"
     ]
    }
   ],
   "source": [
    "if f1 or f2:\n",
    "  print('expressão verdadeira')\n",
    "else:\n",
    "  print('expressão falsa')"
   ]
  },
  {
   "cell_type": "code",
   "execution_count": 17,
   "metadata": {
    "id": "WHfJ-ZLM4Q3k"
   },
   "outputs": [
    {
     "name": "stdout",
     "output_type": "stream",
     "text": [
      "expressão falsa\n"
     ]
    }
   ],
   "source": [
    "if not t1:\n",
    "  print('expressão verdadeira')\n",
    "else:\n",
    "  print('expressão falsa')"
   ]
  },
  {
   "cell_type": "markdown",
   "metadata": {
    "id": "w7EXG1dhWtja"
   },
   "source": [
    "### `IN`\n",
    "\n",
    "É usado para verificar se um elemento está presente em uma lista, tupla ou outra variável de conjunto. A expressão `x in y` é avaliada como `True` se o elemento `x` estiver presente na variável de conjunto `y`, e como `False` caso contrário."
   ]
  },
  {
   "cell_type": "markdown",
   "metadata": {
    "id": "enJNp6JenQbq"
   },
   "source": [
    "Podemos verificar isso com variáveis de texto.\n",
    "\n",
    "---\n",
    "\n",
    "**Situação:**\n",
    "\n",
    "Na escola foi passada uma lista com nomes de estudantes que foram aprovados por média no semestre, mas é preciso verificar se alguns nomes estão nessa lista para verificar se os dados estão corretos.\n",
    "\n",
    "A lista distribuida pode ser observada abaixo:\n",
    "\n",
    "```\n",
    "lista = 'José da Silva, Maria Oliveira, Pedro Martins, Ana Souza, Carlos Rodrigues, Juliana Santos, Bruno Gomes, Beatriz Costa, Felipe Almeida, Mariana Fernandes, João Pinto, Luísa Nascimento, Gabriel Souza, Manuela Santos, Thiago Oliveira, Sofia Ferreira, Rafael Albuquerque, Isabella Gomes, Bruno Costa, Maria Martins, Rafaela Souza, Matheus Fernandes, Luísa Almeida, Beatriz Pinto, Mariana Rodrigues, Gabriel Nascimento, João Ferreira, Maria Albuquerque, Felipe Oliveira\n",
    "'\n",
    "```\n",
    "\n",
    "Os nomes que precisam ser verificados são os seguintes:\n",
    "\n",
    "```\n",
    "nome_1 = 'Mariana Rodrigues'\n",
    "nome_2 = 'Marcelo Nogueira'\n",
    "```"
   ]
  },
  {
   "cell_type": "code",
   "execution_count": 18,
   "metadata": {
    "colab": {
     "base_uri": "https://localhost:8080/",
     "height": 87
    },
    "executionInfo": {
     "elapsed": 302,
     "status": "ok",
     "timestamp": 1674095467241,
     "user": {
      "displayName": "Mirla Borges",
      "userId": "16057667184099544912"
     },
     "user_tz": 180
    },
    "id": "kU25ABUQ5NBe",
    "outputId": "c4201042-3224-4a3b-b55c-62699854e672"
   },
   "outputs": [
    {
     "data": {
      "text/plain": [
       "'José da Silva, Maria Oliveira, Pedro Martins, Ana Souza, Carlos Rodrigues, Juliana Santos, Bruno Gomes, Beatriz Costa, Felipe Almeida, Mariana Fernandes, João Pinto, Luísa Nascimento, Gabriel Souza, Manuela Santos, Thiago Oliveira, Sofia Ferreira, Rafael Albuquerque, Isabella Gomes, Bruno Costa, Maria Martins, Rafaela Souza, Matheus Fernandes, Luísa Almeida, Beatriz Pinto, Mariana Rodrigues, Gabriel Nascimento, João Ferreira, Maria Albuquerque, Felipe Oliveira'"
      ]
     },
     "execution_count": 18,
     "metadata": {},
     "output_type": "execute_result"
    }
   ],
   "source": [
    "lista = 'José da Silva, Maria Oliveira, Pedro Martins, Ana Souza, Carlos Rodrigues, Juliana Santos, Bruno Gomes, Beatriz Costa, Felipe Almeida, Mariana Fernandes, João Pinto, Luísa Nascimento, Gabriel Souza, Manuela Santos, Thiago Oliveira, Sofia Ferreira, Rafael Albuquerque, Isabella Gomes, Bruno Costa, Maria Martins, Rafaela Souza, Matheus Fernandes, Luísa Almeida, Beatriz Pinto, Mariana Rodrigues, Gabriel Nascimento, João Ferreira, Maria Albuquerque, Felipe Oliveira'\n",
    "lista"
   ]
  },
  {
   "cell_type": "code",
   "execution_count": 19,
   "metadata": {
    "id": "GY82qLpivC6Y"
   },
   "outputs": [],
   "source": [
    "nome_1 = 'Mariana Rodrigues'\n",
    "nome_2 = 'Marcelo Nogueira'"
   ]
  },
  {
   "cell_type": "code",
   "execution_count": 20,
   "metadata": {
    "id": "ipyXfbpb37b0"
   },
   "outputs": [
    {
     "name": "stdout",
     "output_type": "stream",
     "text": [
      "Mariana Rodrigues está na lista\n"
     ]
    }
   ],
   "source": [
    "if nome_1 in lista:\n",
    "    print(f'{nome_1} está na lista')\n",
    "else:\n",
    "    print(f'{nome_1} não está na lista')"
   ]
  },
  {
   "cell_type": "code",
   "execution_count": 21,
   "metadata": {
    "id": "KfXxC9A537RP"
   },
   "outputs": [
    {
     "name": "stdout",
     "output_type": "stream",
     "text": [
      "Marcelo Nogueira não está na lista\n"
     ]
    }
   ],
   "source": [
    "if nome_2 in lista:\n",
    "    print(f'{nome_2} está na lista')\n",
    "else:\n",
    "    print(f'{nome_2} não está na lista')"
   ]
  },
  {
   "cell_type": "markdown",
   "metadata": {
    "id": "aL1vJPewvwvz"
   },
   "source": [
    "# Estruturas de repetição"
   ]
  },
  {
   "cell_type": "markdown",
   "metadata": {
    "id": "VcPfCa8d-84t"
   },
   "source": [
    "Quando temos que executar um mesmo bloco de comandos por várias vezes não é muito interessante fazer isso à mão.\n",
    "\n",
    "Imaginemos a situação de termos que coletar e imprimir a média de duas notas de **3 estudantes**:"
   ]
  },
  {
   "cell_type": "code",
   "execution_count": null,
   "metadata": {
    "id": "LzPyN4Ad3qwy"
   },
   "outputs": [],
   "source": [
    "nota_1 = float(input('Digite a 1° nota: '))\n",
    "nota_2 = float(input('Digite a 2° nota: '))\n",
    "\n",
    "print(f'Média: {(nota_1+nota_2)/2}')"
   ]
  },
  {
   "cell_type": "markdown",
   "metadata": {
    "id": "9puIuvUbFSFX"
   },
   "source": [
    "Agora imaginemos uma situação em que não são apenas 3 estudantes, mas sim 100 estudantes. Não seria interessante repetir o mesmo código por 100 vezes, mas sim **executar o mesmo código 100 vezes**.\n",
    "\n",
    "Essa repetição conseguimos construir com laços de repetição!"
   ]
  },
  {
   "cell_type": "markdown",
   "metadata": {
    "id": "uLO9-aE4-wx8"
   },
   "source": [
    "## `WHILE`"
   ]
  },
  {
   "cell_type": "markdown",
   "metadata": {
    "id": "rXZxDMiqHxm9"
   },
   "source": [
    "O laço `while` é uma estrutura de controle de repetição em Python que permite executar um bloco de código repetidamente enquanto uma determinada condição é verdadeira. Sua estrutura é:\n",
    "\n",
    "\n",
    "\n",
    "```\n",
    "while condição:\n",
    "    # bloco de código\n",
    "```\n",
    "\n",
    "Vamos construir um exemplo com um contador de 1 até 10.\n"
   ]
  },
  {
   "cell_type": "code",
   "execution_count": 3,
   "metadata": {
    "id": "6b_izu633j0O"
   },
   "outputs": [
    {
     "name": "stdout",
     "output_type": "stream",
     "text": [
      "1\n",
      "2\n",
      "3\n",
      "4\n",
      "5\n",
      "6\n",
      "7\n",
      "8\n",
      "9\n",
      "10\n"
     ]
    }
   ],
   "source": [
    "contador = 1\n",
    "while contador <= 10:\n",
    "    print(contador)\n",
    "    contador +=1"
   ]
  },
  {
   "cell_type": "markdown",
   "metadata": {
    "id": "W4KZPBJuIrut"
   },
   "source": [
    "Agora vamos coletar as notas e médias de cada aluno dentro do while. Faremos um exemplo com 3 médias."
   ]
  },
  {
   "cell_type": "code",
   "execution_count": null,
   "metadata": {
    "id": "aIeQ_CzW3jiP"
   },
   "outputs": [],
   "source": [
    "contador = 1\n",
    "while contador <=3:\n",
    "    nota_1 = float(input('Digite a primeira nota: '))\n",
    "    nota_2 = float(input('Digite a segunda nota: '))\n",
    "\n",
    "    print(f'Média: {(nota_1+nota_2)/2}')\n",
    "    contador += 1"
   ]
  },
  {
   "cell_type": "markdown",
   "metadata": {
    "id": "WgAIaENMMfCP"
   },
   "source": [
    "## `FOR`"
   ]
  },
  {
   "cell_type": "markdown",
   "metadata": {
    "id": "HxrSZoRAMh-x"
   },
   "source": [
    "O laço `for` é um tipo de estrutura de controle de fluxo em Python que permite iterar sobre um conjunto de elementos. A sua estrutura é:\n",
    "\n",
    "\n",
    "\n",
    "```\n",
    "for elemento in conjunto:\n",
    "    # código a ser executado para cada elemento\n",
    "```\n",
    "\n",
    "O laço for itera sobre cada elemento do conjunto especificado e executa o bloco de código dentro do laço para cada elemento. Quando o laço chega ao final do conjunto, ele é interrompido e o programa continua a execução após o laço.\n",
    "\n"
   ]
  },
  {
   "cell_type": "markdown",
   "metadata": {
    "id": "6VgjyoQtPHBM"
   },
   "source": [
    "O conjunto pode ser gerado com a função [`range()`](https://docs.python.org/3/library/functions.html#func-range). Que é uma função capaz de gerar uma sequência de números inteiros. A estrutura dessa função é:\n",
    "\n",
    "```\n",
    "range(inicio, fim, passo)\n",
    "```\n",
    "\n",
    "Segundo a documentação, o `range()` gera uma sequência de números inteiros a partir do valor do parâmetro `inicio` até o valor do parâmetro `fim`, de acordo com o valor do parâmetro `passo`. Se `inicio` não for especificado, o valor padrão é 0. Se `passo` não for especificado, o valor padrão é 1.\n",
    "\n",
    "\n"
   ]
  },
  {
   "cell_type": "markdown",
   "metadata": {
    "id": "ryn0hfdlUwC8"
   },
   "source": [
    "Vamos fazer o mesmo contador `while` agora com `for`."
   ]
  },
  {
   "cell_type": "code",
   "execution_count": 2,
   "metadata": {
    "id": "t6qcdPyP3YgZ"
   },
   "outputs": [
    {
     "name": "stdout",
     "output_type": "stream",
     "text": [
      "1\n",
      "3\n",
      "5\n",
      "7\n",
      "9\n"
     ]
    }
   ],
   "source": [
    "for contador in range(1, 11):\n",
    "    print(contador)"
   ]
  },
  {
   "cell_type": "code",
   "execution_count": 3,
   "metadata": {
    "id": "KBeY8z573YWz"
   },
   "outputs": [
    {
     "name": "stdout",
     "output_type": "stream",
     "text": [
      "Média: 4.5\n",
      "Média: 5.0\n",
      "Média: 5.0\n"
     ]
    }
   ],
   "source": [
    "for contador in range(1,4):\n",
    "    nota_1 = float(input('Digite a primeira nota: '))\n",
    "    nota_2 = float(input('Digite a segunda nota: '))\n",
    "\n",
    "    print(f'Média: {(nota_1+nota_2)/2}')"
   ]
  },
  {
   "cell_type": "markdown",
   "metadata": {
    "id": "8noP8OJ0Vhux"
   },
   "source": [
    "# Estruturas de dados"
   ]
  },
  {
   "cell_type": "markdown",
   "metadata": {
    "id": "xpEUkefTu8fY"
   },
   "source": [
    "Um conjunto de elementos é uma coleção de itens, que são armazenados juntos de maneira organizada. Alguns exemplos de conjuntos de elementos em Python são listas, strings e dicionários."
   ]
  },
  {
   "cell_type": "markdown",
   "metadata": {
    "id": "THSg4KYLwxIb"
   },
   "source": [
    "## Listas"
   ]
  },
  {
   "cell_type": "markdown",
   "metadata": {
    "id": "dzpsiqrOyJcK"
   },
   "source": [
    "As listas podem armazenar uma coleção de itens em ordem. Eles são delimitados por colchetes `[]` e os itens são separados por vírgulas.\n",
    "\n",
    "Elas também podem armazenar qualquer tipo de item, incluindo números, strings, objetos e outras listas. Elas também podem armazenar itens de tipos de dados diferentes juntos em uma única lista."
   ]
  },
  {
   "cell_type": "code",
   "execution_count": 30,
   "metadata": {
    "id": "1NSzXfct3Lkw"
   },
   "outputs": [],
   "source": [
    "lista = ['Fabricio Daniel', 9.5 , 9.0 , 8.0 , True]"
   ]
  },
  {
   "cell_type": "markdown",
   "metadata": {
    "id": "qUz3sJNl6LgK"
   },
   "source": [
    "As listas são organizadas em Python porque **cada elemento da lista tem um índice que indica sua posição na lista**. Os índices começam em 0 e vão até o tamanho da lista menos 1."
   ]
  },
  {
   "cell_type": "markdown",
   "metadata": {
    "id": "rLf-Qg526hFD"
   },
   "source": [
    "Temos então 5 elementos com índices variando de 0 a 4, ordenadamente:\n",
    "\n",
    "```\n",
    "#             [0]           [1]   [2]   [3]    [4]\n",
    "lista = ['Fabricio Daniel', 9.5 , 9.0 , 8.0 , True]\n",
    "```\n",
    "\n",
    "Em Python temos também os índices **negativos** que se iniciam no último elemento com o valor de `-1` e depois avancam no universo dos negativos até chegar no 1° elemeno:\n",
    "\n",
    "```\n",
    "#             [-5]         [-4]  [-3]  [-2]   [-1]\n",
    "lista = ['Fabricio Daniel', 9.5 , 9.0 , 8.0 , True]\n",
    "```\n",
    "\n",
    "Conseguimos selecionar separadamente cada elemento através de seus respectivos índices. Colocando o nome da lista e em seguida o índice a ser selecionado."
   ]
  },
  {
   "cell_type": "code",
   "execution_count": 3,
   "metadata": {
    "id": "S1lf1DWg3J7A"
   },
   "outputs": [
    {
     "data": {
      "text/plain": [
       "'Fabricio Daniel'"
      ]
     },
     "execution_count": 3,
     "metadata": {},
     "output_type": "execute_result"
    }
   ],
   "source": [
    "lista[0]"
   ]
  },
  {
   "cell_type": "code",
   "execution_count": 5,
   "metadata": {
    "id": "5MZu9F6S3JxS"
   },
   "outputs": [
    {
     "data": {
      "text/plain": [
       "9.5"
      ]
     },
     "execution_count": 5,
     "metadata": {},
     "output_type": "execute_result"
    }
   ],
   "source": [
    "lista[1]"
   ]
  },
  {
   "cell_type": "code",
   "execution_count": 6,
   "metadata": {
    "id": "9uLwwKom3Jmg"
   },
   "outputs": [
    {
     "data": {
      "text/plain": [
       "True"
      ]
     },
     "execution_count": 6,
     "metadata": {},
     "output_type": "execute_result"
    }
   ],
   "source": [
    "lista[-1]"
   ]
  },
  {
   "cell_type": "markdown",
   "metadata": {
    "id": "6TaE1ijmBTCd"
   },
   "source": [
    "Uma forma mais dinâmica de trabalhar item por item de uma lista é utilizando um laço for para leitura elemento a elemento."
   ]
  },
  {
   "cell_type": "code",
   "execution_count": 7,
   "metadata": {
    "id": "2GWvY7F-3IVP"
   },
   "outputs": [
    {
     "name": "stdout",
     "output_type": "stream",
     "text": [
      "Fabricio Daniel\n",
      "9.5\n",
      "9.0\n",
      "8.0\n",
      "True\n"
     ]
    }
   ],
   "source": [
    "for elemento in lista:\n",
    "    print(elemento)"
   ]
  },
  {
   "cell_type": "markdown",
   "metadata": {
    "id": "Dh1_HnIVvucY"
   },
   "source": [
    "A nota `8.0` de Fabricio Daniel precisa ser ajustada pois ganhou 2 pontos em sua ultima nota por fazer um trabalho de turma. Então é necessária fazer uma troca no valor do índice `3` de `8.0` para `10.0`."
   ]
  },
  {
   "cell_type": "code",
   "execution_count": 9,
   "metadata": {
    "id": "ffFiIlji3G7H"
   },
   "outputs": [
    {
     "data": {
      "text/plain": [
       "['Fabricio Daniel', 9.5, 9.0, 10.0, True]"
      ]
     },
     "execution_count": 9,
     "metadata": {},
     "output_type": "execute_result"
    }
   ],
   "source": [
    "lista[3] = 10.0\n",
    "lista"
   ]
  },
  {
   "cell_type": "markdown",
   "metadata": {
    "id": "53XduzXkycAf"
   },
   "source": [
    "conseguimos calcular a média do aluno a partir dos dados que temos"
   ]
  },
  {
   "cell_type": "code",
   "execution_count": 10,
   "metadata": {
    "id": "fRy9twzI3GFI"
   },
   "outputs": [
    {
     "data": {
      "text/plain": [
       "9.5"
      ]
     },
     "execution_count": 10,
     "metadata": {},
     "output_type": "execute_result"
    }
   ],
   "source": [
    "media = (lista[1] + lista[2] + lista[3])/3\n",
    "media"
   ]
  },
  {
   "cell_type": "markdown",
   "metadata": {
    "id": "d-iYr10-y4qw"
   },
   "source": [
    "## Manipulação de listas\n",
    "\n",
    "As listas são muito úteis em Python porque permitem armazenar e acessar uma coleção de itens de maneira organizada e rápida. Elas também oferecem muitos métodos úteis para manipular os itens armazenados, como adicionar, remover, classificar e pesquisar elementos."
   ]
  },
  {
   "cell_type": "markdown",
   "metadata": {
    "id": "ZLqx9A97XVB_"
   },
   "source": [
    "#### Quantidade de elementos\n",
    "\n",
    "Usamos a função [`len()`](https://docs.python.org/3/library/functions.html#len) para descobrimos a quantidade de elementos de um conjunto."
   ]
  },
  {
   "cell_type": "code",
   "execution_count": 31,
   "metadata": {
    "id": "TOVGVubX3BI_"
   },
   "outputs": [
    {
     "data": {
      "text/plain": [
       "5"
      ]
     },
     "execution_count": 31,
     "metadata": {},
     "output_type": "execute_result"
    }
   ],
   "source": [
    "len(lista)"
   ]
  },
  {
   "cell_type": "markdown",
   "metadata": {
    "id": "Z5tpstlHJss3"
   },
   "source": [
    "#### Partição\n",
    "\n",
    "A partição de listas por indexação em Python é uma técnica muito útil para selecionar um subconjunto de elementos de uma lista. Ela é feita usando a sintaxe `lista[inicio:fim]`, onde `inicio` é o índice do primeiro elemento a ser incluído na partição e `fim` é o índice do primeiro elemento a ser excluído da partição. "
   ]
  },
  {
   "cell_type": "code",
   "execution_count": 32,
   "metadata": {
    "id": "Gm9RaTnG28uC"
   },
   "outputs": [
    {
     "data": {
      "text/plain": [
       "[9.5, 9.0, 8.0]"
      ]
     },
     "execution_count": 32,
     "metadata": {},
     "output_type": "execute_result"
    }
   ],
   "source": [
    "lista[1:4]"
   ]
  },
  {
   "cell_type": "code",
   "execution_count": 20,
   "metadata": {
    "id": "LfitkLcQ26MO"
   },
   "outputs": [
    {
     "data": {
      "text/plain": [
       "[9.5, 9.0]"
      ]
     },
     "execution_count": 20,
     "metadata": {},
     "output_type": "execute_result"
    }
   ],
   "source": [
    "lista[1:3]"
   ]
  },
  {
   "cell_type": "code",
   "execution_count": 21,
   "metadata": {
    "id": "1-99Q09W28Bu"
   },
   "outputs": [
    {
     "data": {
      "text/plain": [
       "['Fabricio Daniel', 9.5, 9.0, 10.0]"
      ]
     },
     "execution_count": 21,
     "metadata": {},
     "output_type": "execute_result"
    }
   ],
   "source": [
    "lista[:4]"
   ]
  },
  {
   "cell_type": "code",
   "execution_count": 22,
   "metadata": {
    "id": "j23Uwma5226l"
   },
   "outputs": [
    {
     "data": {
      "text/plain": [
       "[10.0, True]"
      ]
     },
     "execution_count": 22,
     "metadata": {},
     "output_type": "execute_result"
    }
   ],
   "source": [
    "lista[3:]"
   ]
  },
  {
   "cell_type": "code",
   "execution_count": 23,
   "metadata": {
    "id": "zfMrd28_21_q"
   },
   "outputs": [
    {
     "data": {
      "text/plain": [
       "['Fabricio Daniel', 9.5, 9.0, 10.0, True]"
      ]
     },
     "execution_count": 23,
     "metadata": {},
     "output_type": "execute_result"
    }
   ],
   "source": [
    "lista[:]"
   ]
  },
  {
   "cell_type": "markdown",
   "metadata": {
    "id": "O0RRyabkRzZC"
   },
   "source": [
    "#### [`append()`](https://docs.python.org/3/tutorial/datastructures.html#:~:text=of%20list%20objects%3A-,list.append(x),-Add%20an%20item)\n",
    "\n",
    "Adiciona um elemento ao final da lista."
   ]
  },
  {
   "cell_type": "code",
   "execution_count": 33,
   "metadata": {
    "id": "Sr2BasZE20qF"
   },
   "outputs": [
    {
     "data": {
      "text/plain": [
       "['Fabricio Daniel', 9.5, 9.0, 8.0, True, 9.5]"
      ]
     },
     "execution_count": 33,
     "metadata": {},
     "output_type": "execute_result"
    }
   ],
   "source": [
    "lista.append(media)\n",
    "lista"
   ]
  },
  {
   "cell_type": "markdown",
   "metadata": {
    "id": "uQV91XMsUOJD"
   },
   "source": [
    "#### [`extend()`](https://docs.python.org/3/tutorial/datastructures.html#:~:text=list.extend(iterable))\n",
    "\n",
    "Adiciona vários elementos ao final da lista.\n",
    "\n",
    "Adicionaremos as notas `[10.0,8.0,9.0]` na lista do Fabricio Daniel"
   ]
  },
  {
   "cell_type": "code",
   "execution_count": 39,
   "metadata": {
    "id": "b8a6wX2w2zrs"
   },
   "outputs": [
    {
     "data": {
      "text/plain": [
       "['Fabricio Daniel',\n",
       " 9.5,\n",
       " 9.0,\n",
       " 8.0,\n",
       " True,\n",
       " 9.5,\n",
       " 10.0,\n",
       " 8.0,\n",
       " 9.0,\n",
       " [[10.0, 8.0, 9.0]]]"
      ]
     },
     "execution_count": 39,
     "metadata": {},
     "output_type": "execute_result"
    }
   ],
   "source": [
    "lista.extend([10.0,8.0,9.0])\n",
    "lista"
   ]
  },
  {
   "cell_type": "markdown",
   "metadata": {
    "id": "IVJvkTwNUk6M"
   },
   "source": [
    "*Isso não é possivel ser feito com o* `append`."
   ]
  },
  {
   "cell_type": "code",
   "execution_count": 41,
   "metadata": {
    "id": "DyT9kWkB2yeB"
   },
   "outputs": [
    {
     "data": {
      "text/plain": [
       "['Fabricio Daniel', 9.5, 9.0, 8.0, True, 9.5, 10.0, 8.0, 9.0, [10.0, 8.0, 9.0]]"
      ]
     },
     "execution_count": 41,
     "metadata": {},
     "output_type": "execute_result"
    }
   ],
   "source": [
    "lista.append([10.0,8.0,9.0])\n",
    "lista"
   ]
  },
  {
   "cell_type": "markdown",
   "metadata": {
    "id": "dPGM5gpyUX1z"
   },
   "source": [
    "#### [`remove()`](https://docs.python.org/3/tutorial/datastructures.html#:~:text=append(x).-,list.remove(x),-Remove%20the%20first)\n",
    "\n",
    "Remove um elemento específico da lista."
   ]
  },
  {
   "cell_type": "code",
   "execution_count": 42,
   "metadata": {
    "id": "QgXraxZL2xZN"
   },
   "outputs": [
    {
     "data": {
      "text/plain": [
       "['Fabricio Daniel', 9.5, 9.0, 8.0, True, 9.5, 10.0, 8.0, 9.0]"
      ]
     },
     "execution_count": 42,
     "metadata": {},
     "output_type": "execute_result"
    }
   ],
   "source": [
    "lista.remove([10.0,8.0,9.0])\n",
    "lista"
   ]
  },
  {
   "cell_type": "markdown",
   "metadata": {},
   "source": [
    "#### [`insert()`](https://docs.python.org/3/tutorial/datastructures.html#:~:text=append(x).-,list.remove(x),-Remove%20the%20first)\n",
    "\n",
    "O primeiro método é o insert() que insere o elemento em uma determinada posição da lista. Para isso, seguimos a sintaxe lista.insert(indice, elemento), na qual lista é a lista que vai receber o novo elemento, indice é o índice onde será inserido o novo elemento e elemento é o novo elemento a ser inserido."
   ]
  },
  {
   "cell_type": "code",
   "execution_count": 43,
   "metadata": {},
   "outputs": [],
   "source": [
    "raca_caes = ['Labrador Retriever',\n",
    "             'Bulldog Francês',\n",
    "             'Pastor Alemão',\n",
    "             'Poodle']"
   ]
  },
  {
   "cell_type": "code",
   "execution_count": 44,
   "metadata": {},
   "outputs": [
    {
     "data": {
      "text/plain": [
       "['Labrador Retriever',\n",
       " 'Golden Retriever',\n",
       " 'Bulldog Francês',\n",
       " 'Pastor Alemão',\n",
       " 'Poodle']"
      ]
     },
     "execution_count": 44,
     "metadata": {},
     "output_type": "execute_result"
    }
   ],
   "source": [
    "raca_caes.insert(1, 'Golden Retriever')\n",
    "raca_caes"
   ]
  },
  {
   "cell_type": "markdown",
   "metadata": {},
   "source": [
    "#### [`pop()`](https://docs.python.org/3/tutorial/datastructures.html#:~:text=append(x).-,list.remove(x),-Remove%20the%20first)\n",
    "\n",
    "O método pop() remove o elemento de uma determinada posição da lista e o retorna como saída na execução do método. Nele só precisamos especificar, nos parênteses, qual o índice do elemento que queremos remover e ele será apagado da lista. Portanto, vamos remover a raça Golden Retriever que adicionamos no método anterior."
   ]
  },
  {
   "cell_type": "code",
   "execution_count": 45,
   "metadata": {},
   "outputs": [
    {
     "data": {
      "text/plain": [
       "'Golden Retriever'"
      ]
     },
     "execution_count": 45,
     "metadata": {},
     "output_type": "execute_result"
    }
   ],
   "source": [
    "raca_caes.pop(1)"
   ]
  },
  {
   "cell_type": "markdown",
   "metadata": {},
   "source": [
    "#### [`index()`](https://docs.python.org/3/tutorial/datastructures.html#:~:text=append(x).-,list.remove(x),-Remove%20the%20first)\n",
    "\n",
    "O método index() retorna o índice de um elemento específico na lista. Para isso, especificamos o elemento entre parênteses. Para identificar o índice da raça Pastor Alemão na lista, fazemos:"
   ]
  },
  {
   "cell_type": "code",
   "execution_count": 46,
   "metadata": {},
   "outputs": [
    {
     "data": {
      "text/plain": [
       "2"
      ]
     },
     "execution_count": 46,
     "metadata": {},
     "output_type": "execute_result"
    }
   ],
   "source": [
    "raca_caes.index('Pastor Alemão')"
   ]
  },
  {
   "cell_type": "markdown",
   "metadata": {},
   "source": [
    "#### [`sort()`](https://docs.python.org/3/tutorial/datastructures.html#:~:text=append(x).-,list.remove(x),-Remove%20the%20first)\n",
    "\n",
    "O método sort() organiza os elementos da lista em ordem crescente ou decrescente. Caso sejam palavras, a ordem é dada por sequência alfabética ou inversa à ela. Para ordenar os valores, podemos apenas declarar o método sort que a lista será organizada em ordem. Para ordenar alfabeticamente a lista raca_caes temos o seguinte código:"
   ]
  },
  {
   "cell_type": "code",
   "execution_count": 47,
   "metadata": {},
   "outputs": [
    {
     "data": {
      "text/plain": [
       "['Bulldog Francês', 'Labrador Retriever', 'Pastor Alemão', 'Poodle']"
      ]
     },
     "execution_count": 47,
     "metadata": {},
     "output_type": "execute_result"
    }
   ],
   "source": [
    "raca_caes.sort()\n",
    "raca_caes"
   ]
  },
  {
   "cell_type": "markdown",
   "metadata": {
    "id": "Rc22Vc08YDZ2"
   },
   "source": [
    "## Dicionário"
   ]
  },
  {
   "cell_type": "markdown",
   "metadata": {
    "id": "PJ-cCKPjeWxL"
   },
   "source": [
    "Os dicionários são um tipo de estrutura de dados que armazenam pares de *chave-valor*. Eles são delimitados por chaves `{}` e os pares *chave-valor* são separados por vírgulas.\n",
    "\n",
    "```\n",
    "dicionário = {chave: valor}\n",
    "```\n",
    "\n",
    "A **chave** é um elemento único que identifica um valor no dicionário, enquanto o **valor** é o item que é armazenado para a chave. As chaves e os valores podem ser de **qualquer tipo de dado**.\n",
    "\n",
    "Os dicionários são úteis para armazenar e acessar dados de maneira organizada e rápida. Eles são um tipo de conjunto de elementos em Python, pois armazenam uma coleção de itens."
   ]
  },
  {
   "cell_type": "code",
   "execution_count": 49,
   "metadata": {
    "id": "fO6BSSP02lPY"
   },
   "outputs": [
    {
     "data": {
      "text/plain": [
       "{'chave_1': 1, 'chave_2': 2}"
      ]
     },
     "execution_count": 49,
     "metadata": {},
     "output_type": "execute_result"
    }
   ],
   "source": [
    "dicionario = {'chave_1': 1, \n",
    "              'chave_2': 2}\n",
    "dicionario"
   ]
  },
  {
   "cell_type": "markdown",
   "metadata": {
    "id": "_JbQ3KMKfkXU"
   },
   "source": [
    "--- \n",
    "**Situação:**\n",
    "\n",
    "Vamos criar um conjunto de dados com informações de matricula de um estudante. Os dados são os seguintes:\n",
    "\n",
    "- matricula: 2000168933\n",
    "- dia de cadastro: 25\n",
    "- mês de cadastro: 10\n",
    "- turma: 2E"
   ]
  },
  {
   "cell_type": "code",
   "execution_count": 4,
   "metadata": {
    "id": "Q1SKuEXQ2jkL"
   },
   "outputs": [
    {
     "data": {
      "text/plain": [
       "{'matricula': 2000168933,\n",
       " 'dia_cadastro': 25,\n",
       " 'mes_cadastro': 10,\n",
       " 'turma': '2E'}"
      ]
     },
     "execution_count": 4,
     "metadata": {},
     "output_type": "execute_result"
    }
   ],
   "source": [
    "cadastro = {'matricula': 2000168933, \n",
    "            'dia_cadastro': 25,\n",
    "            'mes_cadastro': 10, \n",
    "            'turma': '2E'}\n",
    "cadastro"
   ]
  },
  {
   "cell_type": "code",
   "execution_count": 5,
   "metadata": {
    "id": "H7oT2M_a2jY5"
   },
   "outputs": [
    {
     "data": {
      "text/plain": [
       "2000168933"
      ]
     },
     "execution_count": 5,
     "metadata": {},
     "output_type": "execute_result"
    }
   ],
   "source": [
    "cadastro['matricula']"
   ]
  },
  {
   "cell_type": "code",
   "execution_count": 6,
   "metadata": {
    "id": "Mv8we96a2jPR"
   },
   "outputs": [
    {
     "data": {
      "text/plain": [
       "'2E'"
      ]
     },
     "execution_count": 6,
     "metadata": {},
     "output_type": "execute_result"
    }
   ],
   "source": [
    "cadastro['turma']"
   ]
  },
  {
   "cell_type": "markdown",
   "metadata": {
    "id": "8ex5pt2ykDd2"
   },
   "source": [
    "É possível substituir os valores dentro de uma chave. Por exemplo, recebemos a informação que a turma do estudante que cadastramos foi trocada para `'2G'` e agora precisamos trocar o valor da chave `'turma'`."
   ]
  },
  {
   "cell_type": "code",
   "execution_count": 7,
   "metadata": {
    "id": "WqZPkVop2hq-"
   },
   "outputs": [
    {
     "data": {
      "text/plain": [
       "{'matricula': 2000168933,\n",
       " 'dia_cadastro': 25,\n",
       " 'mes_cadastro': 10,\n",
       " 'turma': '2G'}"
      ]
     },
     "execution_count": 7,
     "metadata": {},
     "output_type": "execute_result"
    }
   ],
   "source": [
    "cadastro['turma'] = '2G'\n",
    "cadastro"
   ]
  },
  {
   "cell_type": "markdown",
   "metadata": {
    "id": "wB0qRb56mQvv"
   },
   "source": [
    "Podemos também adicionar outros dados ao dicionário. Vamos adicionar a informação de modalidade de ensino, nosso estudante atuará inicialmente em modalidade EAD.\n",
    "\n",
    "Então iremos definir uma chave chamada `'modalidade'` e o valor `'EAD'`."
   ]
  },
  {
   "cell_type": "code",
   "execution_count": 8,
   "metadata": {
    "id": "YDbsuNbw2gb2"
   },
   "outputs": [
    {
     "data": {
      "text/plain": [
       "{'matricula': 2000168933,\n",
       " 'dia_cadastro': 25,\n",
       " 'mes_cadastro': 10,\n",
       " 'turma': '2G',\n",
       " 'modalidade': 'EAD'}"
      ]
     },
     "execution_count": 8,
     "metadata": {},
     "output_type": "execute_result"
    }
   ],
   "source": [
    "cadastro['modalidade'] = 'EAD'\n",
    "cadastro"
   ]
  },
  {
   "cell_type": "markdown",
   "metadata": {
    "id": "LJ3o_inroxg_"
   },
   "source": [
    "## Aprofundando em dicionários"
   ]
  },
  {
   "cell_type": "markdown",
   "metadata": {
    "id": "2N3GLlkSpBiu"
   },
   "source": [
    "#### [`pop()`](https://python-reference.readthedocs.io/en/latest/docs/dict/pop.html)\n",
    "Remove um item de um dicionário e o retorna."
   ]
  },
  {
   "cell_type": "code",
   "execution_count": 9,
   "metadata": {
    "id": "NJKPaN0N2d2G"
   },
   "outputs": [
    {
     "data": {
      "text/plain": [
       "'2G'"
      ]
     },
     "execution_count": 9,
     "metadata": {},
     "output_type": "execute_result"
    }
   ],
   "source": [
    "cadastro.pop('turma')"
   ]
  },
  {
   "cell_type": "code",
   "execution_count": 10,
   "metadata": {
    "id": "7XZ7Rl4R2cSF"
   },
   "outputs": [
    {
     "data": {
      "text/plain": [
       "{'matricula': 2000168933,\n",
       " 'dia_cadastro': 25,\n",
       " 'mes_cadastro': 10,\n",
       " 'modalidade': 'EAD'}"
      ]
     },
     "execution_count": 10,
     "metadata": {},
     "output_type": "execute_result"
    }
   ],
   "source": [
    "cadastro"
   ]
  },
  {
   "cell_type": "markdown",
   "metadata": {
    "id": "sYZGvJJYrW_y"
   },
   "source": [
    "#### [`items()`](https://python-reference.readthedocs.io/en/latest/docs/dict/items.html)\n",
    "Retorna uma lista de pares chave-valor do dicionário."
   ]
  },
  {
   "cell_type": "code",
   "execution_count": 11,
   "metadata": {
    "id": "rWJG9aZ72a0D"
   },
   "outputs": [
    {
     "data": {
      "text/plain": [
       "dict_items([('matricula', 2000168933), ('dia_cadastro', 25), ('mes_cadastro', 10), ('modalidade', 'EAD')])"
      ]
     },
     "execution_count": 11,
     "metadata": {},
     "output_type": "execute_result"
    }
   ],
   "source": [
    "cadastro.items()"
   ]
  },
  {
   "cell_type": "markdown",
   "metadata": {
    "id": "Lb0utNFGrZBY"
   },
   "source": [
    "#### [`keys()`](https://python-reference.readthedocs.io/en/latest/docs/dict/keys.html)\n",
    "Retorna uma lista das chaves do dicionário."
   ]
  },
  {
   "cell_type": "code",
   "execution_count": 12,
   "metadata": {
    "id": "H1WmQRaR2Z-l"
   },
   "outputs": [
    {
     "data": {
      "text/plain": [
       "dict_keys(['matricula', 'dia_cadastro', 'mes_cadastro', 'modalidade'])"
      ]
     },
     "execution_count": 12,
     "metadata": {},
     "output_type": "execute_result"
    }
   ],
   "source": [
    "cadastro.keys()"
   ]
  },
  {
   "cell_type": "markdown",
   "metadata": {
    "id": "qKyu3bf9rbtX"
   },
   "source": [
    "#### [`values()`](https://python-reference.readthedocs.io/en/latest/docs/dict/values.html)\n",
    "Retorna uma lista dos valores do dicionário."
   ]
  },
  {
   "cell_type": "code",
   "execution_count": 13,
   "metadata": {
    "id": "E5pgDcfQ2ZHH"
   },
   "outputs": [
    {
     "data": {
      "text/plain": [
       "dict_values([2000168933, 25, 10, 'EAD'])"
      ]
     },
     "execution_count": 13,
     "metadata": {},
     "output_type": "execute_result"
    }
   ],
   "source": [
    "cadastro.values()"
   ]
  },
  {
   "cell_type": "markdown",
   "metadata": {
    "id": "e3XVjR8Frp75"
   },
   "source": [
    "### Leitura de valores com `for`"
   ]
  },
  {
   "cell_type": "code",
   "execution_count": 17,
   "metadata": {
    "id": "iwIY3hwV2XL5"
   },
   "outputs": [
    {
     "name": "stdout",
     "output_type": "stream",
     "text": [
      "matricula\n",
      "dia_cadastro\n",
      "mes_cadastro\n",
      "modalidade\n"
     ]
    }
   ],
   "source": [
    "for chaves in cadastro.keys():\n",
    "    print(chaves)"
   ]
  },
  {
   "cell_type": "code",
   "execution_count": 65,
   "metadata": {
    "id": "KlEbYjKN2XCy"
   },
   "outputs": [
    {
     "name": "stdout",
     "output_type": "stream",
     "text": [
      "2000168933\n",
      "25\n",
      "10\n",
      "EAD\n"
     ]
    }
   ],
   "source": [
    "for valores in cadastro.values():\n",
    "    print(valores)"
   ]
  },
  {
   "cell_type": "code",
   "execution_count": 68,
   "metadata": {
    "id": "aiCgk-o42W6u"
   },
   "outputs": [
    {
     "name": "stdout",
     "output_type": "stream",
     "text": [
      "matricula: 2000168933 \t----> <class 'int'>\n",
      "dia_cadastro: 25 \t----> <class 'int'>\n",
      "mes_cadastro: 10 \t----> <class 'int'>\n",
      "modalidade: EAD \t----> <class 'str'>\n"
     ]
    }
   ],
   "source": [
    "for chaves, valores in cadastro.items():\n",
    "    print(f'{chaves}: {valores} \\t----> {type(valores)}')"
   ]
  },
  {
   "cell_type": "markdown",
   "metadata": {},
   "source": [
    "Podemos associar estruturas de dados a outras estruturas de dados, como acontece com as listas dentro de dicionários. Nesse caso, as listas podem ser armazenadas nos valores de um dicionário de forma que cada chave pode ter uma lista associada a ela. Isso é útil quando precisamos armazenar vários valores relacionados a uma única chave. Por exemplo: podemos construir um conjunto de dados de uma loja de forma que contenha uma chave com os nomes de cada produto e outra chave contendo os preços correspondentes, como consta no código a seguir:"
   ]
  },
  {
   "cell_type": "code",
   "execution_count": 69,
   "metadata": {},
   "outputs": [],
   "source": [
    "loja = {'nomes': ['televisão', 'celular', 'notebook', 'geladeira', 'fogão'],\n",
    "        'precos': [2000, 1500, 3500, 4000, 1500]}"
   ]
  },
  {
   "cell_type": "markdown",
   "metadata": {},
   "source": [
    "Para acessar os valores, podemos usar um agrupamento de laços for:"
   ]
  },
  {
   "cell_type": "code",
   "execution_count": 75,
   "metadata": {},
   "outputs": [
    {
     "name": "stdout",
     "output_type": "stream",
     "text": [
      "Chave: nomes\tElementos:\n",
      "\t\t\ttelevisão\n",
      "\t\t\tcelular\n",
      "\t\t\tnotebook\n",
      "\t\t\tgeladeira\n",
      "\t\t\tfogão\n",
      "Chave: precos\tElementos:\n",
      "\t\t\t2000\n",
      "\t\t\t1500\n",
      "\t\t\t3500\n",
      "\t\t\t4000\n",
      "\t\t\t1500\n"
     ]
    }
   ],
   "source": [
    "for chave, elementos in loja.items():\n",
    "  print(f'Chave: {chave}\\tElementos:')\n",
    "  for dado in elementos:\n",
    "    print(f'\\t\\t\\t{dado}')"
   ]
  },
  {
   "cell_type": "markdown",
   "metadata": {},
   "source": [
    "O primeiro laço, o mais externo, faz a leitura dos itens dentro do dicionário (chaves e elementos). Sabendo que os elementos são listas, podemos acessar os dados das listas com outro laço de repetição que está dentro do primeiro laço. O laço mais interno lê os elementos de cada lista por vez e imprime os valores dentro deles."
   ]
  },
  {
   "cell_type": "markdown",
   "metadata": {},
   "source": [
    "Durante as aulas, nós trabalhamos diretamente com várias funções `built-in` que são aquelas pré-definidas e disponíveis por padrão no Python. Elas funcionam como ferramentas úteis para realizar tarefas comuns, como conversões de tipo, operações matemáticas, manipulação de strings e muito mais, sem a necessidade de escrever código adicional.\n",
    "\n",
    "Algumas funções built-in que já conhecemos são: `print(), input(), len(), int(), str(), float(), range(), chr(), etc`. Mas existem outras além dessas que também são muito úteis, como: `sum(), help() e dir()`. Vamos conhecê-las?\n",
    "\n",
    "`sum()`\n",
    "A função `sum()` permite somar os elementos de uma sequência ou estrutura de dados. No exemplo a seguir, vamos somar os preços de produtos:"
   ]
  },
  {
   "cell_type": "code",
   "execution_count": 76,
   "metadata": {},
   "outputs": [
    {
     "data": {
      "text/plain": [
       "700.0"
      ]
     },
     "execution_count": 76,
     "metadata": {},
     "output_type": "execute_result"
    }
   ],
   "source": [
    "precos = [100.0, 400.0, 200.0]\n",
    "soma = sum(precos)\n",
    "soma"
   ]
  },
  {
   "cell_type": "markdown",
   "metadata": {},
   "source": [
    "`help()`\n",
    "\n",
    "A função `help()` é usada para acessar a documentação de funções, métodos e outros elementos do Python. Ela exibe informações em inglês sobre a funcionalidade, sintaxe e uso de um objeto específico. Para usar essa função, basta passar o elemento desejado entre parênteses. Por exemplo, vamos verificar a documentação da função `print`:"
   ]
  },
  {
   "cell_type": "code",
   "execution_count": 77,
   "metadata": {},
   "outputs": [
    {
     "name": "stdout",
     "output_type": "stream",
     "text": [
      "Help on built-in function print in module builtins:\n",
      "\n",
      "print(*args, sep=' ', end='\\n', file=None, flush=False)\n",
      "    Prints the values to a stream, or to sys.stdout by default.\n",
      "    \n",
      "    sep\n",
      "      string inserted between values, default a space.\n",
      "    end\n",
      "      string appended after the last value, default a newline.\n",
      "    file\n",
      "      a file-like object (stream); defaults to the current sys.stdout.\n",
      "    flush\n",
      "      whether to forcibly flush the stream.\n",
      "\n"
     ]
    }
   ],
   "source": [
    "help(print)"
   ]
  },
  {
   "cell_type": "markdown",
   "metadata": {},
   "source": [
    "`dir()`\n",
    "\n",
    "Por fim, a função `dir()` é usada para exibir uma lista de atributos e métodos associados a um elemento. Por exemplo, vamos descobrir todos os atributos em métodos de uma lista:"
   ]
  },
  {
   "cell_type": "code",
   "execution_count": 78,
   "metadata": {},
   "outputs": [
    {
     "data": {
      "text/plain": [
       "['__add__',\n",
       " '__class__',\n",
       " '__class_getitem__',\n",
       " '__contains__',\n",
       " '__delattr__',\n",
       " '__delitem__',\n",
       " '__dir__',\n",
       " '__doc__',\n",
       " '__eq__',\n",
       " '__format__',\n",
       " '__ge__',\n",
       " '__getattribute__',\n",
       " '__getitem__',\n",
       " '__getstate__',\n",
       " '__gt__',\n",
       " '__hash__',\n",
       " '__iadd__',\n",
       " '__imul__',\n",
       " '__init__',\n",
       " '__init_subclass__',\n",
       " '__iter__',\n",
       " '__le__',\n",
       " '__len__',\n",
       " '__lt__',\n",
       " '__mul__',\n",
       " '__ne__',\n",
       " '__new__',\n",
       " '__reduce__',\n",
       " '__reduce_ex__',\n",
       " '__repr__',\n",
       " '__reversed__',\n",
       " '__rmul__',\n",
       " '__setattr__',\n",
       " '__setitem__',\n",
       " '__sizeof__',\n",
       " '__str__',\n",
       " '__subclasshook__',\n",
       " 'append',\n",
       " 'clear',\n",
       " 'copy',\n",
       " 'count',\n",
       " 'extend',\n",
       " 'index',\n",
       " 'insert',\n",
       " 'pop',\n",
       " 'remove',\n",
       " 'reverse',\n",
       " 'sort']"
      ]
     },
     "execution_count": 78,
     "metadata": {},
     "output_type": "execute_result"
    }
   ],
   "source": [
    "lista = [1,2,3]\n",
    "dir(lista)"
   ]
  }
 ],
 "metadata": {
  "colab": {
   "provenance": []
  },
  "kernelspec": {
   "display_name": "base",
   "language": "python",
   "name": "python3"
  },
  "language_info": {
   "codemirror_mode": {
    "name": "ipython",
    "version": 3
   },
   "file_extension": ".py",
   "mimetype": "text/x-python",
   "name": "python",
   "nbconvert_exporter": "python",
   "pygments_lexer": "ipython3",
   "version": "3.11.7"
  }
 },
 "nbformat": 4,
 "nbformat_minor": 0
}
