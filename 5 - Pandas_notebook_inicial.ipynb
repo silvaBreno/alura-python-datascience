{
 "cells": [
  {
   "cell_type": "markdown",
   "metadata": {
    "id": "po_EJXY_WTZ6"
   },
   "source": [
    "# Conhecendo a base de dados"
   ]
  },
  {
   "cell_type": "markdown",
   "metadata": {
    "id": "Yg7As1VwWnTw"
   },
   "source": [
    "## Importando os dados\n"
   ]
  },
  {
   "cell_type": "code",
   "execution_count": null,
   "metadata": {
    "id": "A0m9bw60V9Uj"
   },
   "outputs": [],
   "source": [
    "import pandas as pd"
   ]
  },
  {
   "cell_type": "code",
   "execution_count": null,
   "metadata": {
    "id": "-8GmBuLzWlnS"
   },
   "outputs": [],
   "source": [
    "url = 'https://raw.githubusercontent.com/alura-cursos/pandas-conhecendo-a-biblioteca/main/base-de-dados/aluguel.csv'\n",
    "pd.read_csv(url, sep=';')"
   ]
  },
  {
   "cell_type": "code",
   "execution_count": null,
   "metadata": {
    "id": "Af6xejuuWli2"
   },
   "outputs": [],
   "source": [
    "dados = pd.read_csv(url, sep=';')\n",
    "dados"
   ]
  },
  {
   "cell_type": "code",
   "execution_count": null,
   "metadata": {
    "id": "1EjEmItCWleQ"
   },
   "outputs": [],
   "source": [
    "dados.head(10)"
   ]
  },
  {
   "cell_type": "code",
   "execution_count": null,
   "metadata": {
    "id": "KaWMKbLmWlZj"
   },
   "outputs": [],
   "source": [
    "dados.tail()"
   ]
  },
  {
   "cell_type": "code",
   "execution_count": null,
   "metadata": {
    "id": "cfLu1_AcW1Y1"
   },
   "outputs": [],
   "source": [
    "dados.info()"
   ]
  },
  {
   "cell_type": "markdown",
   "metadata": {},
   "source": [
    "#### Para saber mais: diferentes formatos de dados"
   ]
  },
  {
   "cell_type": "markdown",
   "metadata": {},
   "source": [
    "O Pandas fornece diversas funções para importar e exportar dados em diferentes formatos. As principais funções do Pandas para importar dados são as seguintes:\n",
    "\n",
    "- `read_csv()`: Essa função é usada para ler arquivos CSV (Comma Separated Values), que são arquivos de texto que contêm dados separados por vírgulas. É possível passar diversos parâmetros para personalizar a leitura do csv, como delimitador, cabeçalho, tipo de encoding, entre outros.\n",
    "\n",
    "- `read_excel()`: Essa função é usada para ler arquivos do Excel (.xls ou .xlsx) e criar um DataFrame a partir dos dados.\n",
    "\n",
    "- `read_json()`: Essa função é usada para ler arquivos JSON (JavaScript Object Notation), que são arquivos de texto que contêm dados em formato de objeto JavaScript.\n",
    "\n",
    "- `read_html()`: Essa função é usada para ler tabelas HTML, que são estruturas de dados organizadas em formato de tabela em uma página da web.\n",
    "\n",
    "- `read_sql()`: Essa função é usada para ler dados de um banco de dados relacional, como o MySQL, PostgreSQL e SQL Server. O Pandas é capaz de importar dados de diferentes formas, permitindo ajustar parâmetros como a consulta, o nome da tabela e o tipo de dados das colunas."
   ]
  },
  {
   "cell_type": "markdown",
   "metadata": {
    "id": "rwL6VcT9W6W-"
   },
   "source": [
    "## Características gerais da base de dados"
   ]
  },
  {
   "cell_type": "code",
   "execution_count": null,
   "metadata": {
    "id": "V3RRXTIYW7KV"
   },
   "outputs": [],
   "source": [
    "# Explorando linhas e colunas do dataset\n",
    "\n",
    "dados.shape"
   ]
  },
  {
   "cell_type": "code",
   "execution_count": null,
   "metadata": {
    "id": "55WX-hlnW6wm"
   },
   "outputs": [],
   "source": [
    "dados.columns"
   ]
  },
  {
   "cell_type": "code",
   "execution_count": null,
   "metadata": {
    "id": "yacj_jwOXESW"
   },
   "outputs": [],
   "source": [
    "dados.info()"
   ]
  },
  {
   "cell_type": "code",
   "execution_count": null,
   "metadata": {
    "id": "Mh5HqrORXEMu"
   },
   "outputs": [],
   "source": [
    "dados['Tipo']"
   ]
  },
  {
   "cell_type": "code",
   "execution_count": null,
   "metadata": {
    "id": "ZmygOLCMXIyB"
   },
   "outputs": [],
   "source": [
    "dados[['Quartos', 'Valor']]"
   ]
  },
  {
   "cell_type": "markdown",
   "metadata": {
    "id": "cwVMOIMpWWfM"
   },
   "source": [
    "# Análise exploratória de dados"
   ]
  },
  {
   "cell_type": "markdown",
   "metadata": {
    "id": "rnsDqFNDYV9-"
   },
   "source": [
    "## Qual o valor médio de aluguel por tipo de imóvel?"
   ]
  },
  {
   "cell_type": "code",
   "execution_count": null,
   "metadata": {
    "id": "WRsE4GdoHZbg"
   },
   "outputs": [],
   "source": [
    "dados['Valor'].mean()"
   ]
  },
  {
   "cell_type": "code",
   "execution_count": null,
   "metadata": {
    "id": "1CDTCoKvSZiy"
   },
   "outputs": [],
   "source": [
    "dados.groupby('Tipo').mean(numeric_only=True)"
   ]
  },
  {
   "cell_type": "code",
   "execution_count": null,
   "metadata": {
    "id": "_Ud_6L8WTqWY"
   },
   "outputs": [],
   "source": [
    "dados.groupby('Tipo')[['Valor']].mean().sort_values('Valor')"
   ]
  },
  {
   "cell_type": "code",
   "execution_count": null,
   "metadata": {
    "id": "7No8Z_W_YXJ1"
   },
   "outputs": [],
   "source": [
    "df_preco_tipo = dados.groupby('Tipo')[['Valor']].mean().sort_values('Valor')\n",
    "df_preco_tipo.plot(kind='barh', figsize=(14,10), color = 'purple')"
   ]
  },
  {
   "cell_type": "markdown",
   "metadata": {},
   "source": [
    "#### Para saber mais: entendendo o groupby"
   ]
  },
  {
   "cell_type": "markdown",
   "metadata": {},
   "source": [
    "O método `groupby`do Pandas permite agrupar e resumir dados de um DataFrame, com base em um ou mais critérios. Esses critérios podem ser variáveis numéricas ou categóricas, como colunas ou índices do DataFrame.\n",
    "\n",
    "A ideia por trás do `groupby` é dividir os dados em grupos com base nos critérios selecionados e, em seguida, aplicar uma operação a esses grupos. Essa operação pode ser uma função de agregação, como soma, média, contagem, desvio padrão, entre outras, ou mesmo uma operação personalizada definida pela pessoa usuária.\n",
    "\n",
    "Esse método possui diversos parâmetros, alguns deles são:\n",
    "\n",
    "- `by`: esse é o parâmetro mais comum e é usado para especificar a coluna ou colunas que queremos agrupar. Como argumento dele, podemos passar o nome de uma coluna ou uma lista de nomes de colunas;\n",
    "\n",
    "- `axis`: utilizamos esse parâmetro para especificar o eixo ao longo do qual queremos agrupar. O valor padrão dele é 0, o que significa que as linhas serão agrupadas. Se quisermos agrupar as colunas, devemos definir esse parâmetro como 1;\n",
    "\n",
    "- `sort`: esse parâmetro é um booleano (True ou False) que indica se os grupos devem ser ordenados pelo valor da coluna de agrupamento. O valor padrão é True;\n",
    "\n",
    "- `dropna`: utilizamos esse parâmetro para controlar se os valores ausentes (NaN) serão excluídos ou não durante o processo de agrupamento. O valor padrão é True.\n",
    "\n",
    "Vamos analisar um exemplo simples utilizando o groupby. Suponha que temos o seguinte DataFrame:\n",
    "\n",
    "Código do DataFrame:"
   ]
  },
  {
   "cell_type": "code",
   "execution_count": null,
   "metadata": {
    "id": "xwNUoofAYXFU"
   },
   "outputs": [],
   "source": [
    "import pandas as pd\n",
    "\n",
    "df = pd.DataFrame({\n",
    "   'Animal': ['Cachorro', 'Gato', 'Elefante', 'Cachorro', 'Gato', 'Elefante'],\n",
    "   'Cor': ['Preto', 'Branco', 'Cinza', 'Marrom', 'Preto', 'Marrom'],\n",
    "   'Quantidade': [2, 3, 1, 4, 2, 2]\n",
    "})\n",
    "df"
   ]
  },
  {
   "cell_type": "markdown",
   "metadata": {},
   "source": [
    "Aqui nós temos um DataFrame com dados referentes a alguns animais. Vamos utilizar o groupby para agrupar os dados pelo tipo de animal e realizarmos a soma da coluna \"Quantidade\" para conferirmos o total de cada tipo de animal:"
   ]
  },
  {
   "cell_type": "code",
   "execution_count": null,
   "metadata": {},
   "outputs": [],
   "source": [
    "df.groupby('Animal').sum(numeric_only=True)"
   ]
  },
  {
   "cell_type": "markdown",
   "metadata": {},
   "source": [
    "Podemos também usar o método groupby para agrupar os dados por múltiplas colunas. Por exemplo, vamos agrupar pelo tipo do animal e também pela cor e realizar a soma da coluna \"Quantidade\":"
   ]
  },
  {
   "cell_type": "code",
   "execution_count": null,
   "metadata": {
    "id": "wc-pASG0YXBt"
   },
   "outputs": [],
   "source": [
    "df.groupby(['Animal', 'Cor'])[['Quantidade']].sum()"
   ]
  },
  {
   "cell_type": "markdown",
   "metadata": {},
   "source": [
    "Assim, podemos observar que o groupby é um método muito útil para situações em que precisamos dividir os dados em grupos para analisar o comportamento desses grupos. Utilizando esse método, nós podemos responder perguntas específicas sobre nossos conjuntos de dados.\n",
    "\n",
    "Caso queira aprender mais sobre esse método, deixo a sugestão de dois artigos:\n",
    "\n",
    "- [Pandas GroupBy: Your Guide to Grouping Data in Python](https://realpython.com/pandas-groupby/)\n",
    "- [Pandas’ groupby explained in detail.](https://medium.com/towards-data-science/pandas-groupby-aggregate-transform-filter-c95ba3444bbb)"
   ]
  },
  {
   "cell_type": "markdown",
   "metadata": {
    "id": "c2rdhKbgZMpT"
   },
   "source": [
    "## Removendo os imóveis comerciais"
   ]
  },
  {
   "cell_type": "code",
   "execution_count": null,
   "metadata": {
    "id": "JELgjo5dZIwe"
   },
   "outputs": [],
   "source": [
    "dados.Tipo.unique()"
   ]
  },
  {
   "cell_type": "code",
   "execution_count": null,
   "metadata": {
    "id": "rDVKB-xtZUU9"
   },
   "outputs": [],
   "source": [
    "imoveis_comerciais = ['Conjunto Comercial/Sala',\n",
    "                      'Prédio Inteiro', 'Loja/Salão',\n",
    "                      'Galpão/Depósito/Armazém', \n",
    "                      'Casa Comercial', 'Terreno Padrão',\n",
    "                      'Loja Shopping/ Ct Comercial',\n",
    "                      'Box/Garagem', 'Chácara', \n",
    "                      'Loteamento/Condomínio', 'Sítio', \n",
    "                      'Pousada/Chalé', 'Hotel', 'Indústria']"
   ]
  },
  {
   "cell_type": "code",
   "execution_count": null,
   "metadata": {
    "id": "GK9p8CEK4CtU"
   },
   "outputs": [],
   "source": [
    "# o metodo query permite que selecionemos as linhas de uma base de dados que atendam a uma condição\n",
    "# nesse caso estou pedindo para ele selecionar apenas as linhas da nossa base de dado, onde na coluna Tipo existam apenas componentes da nossa lista de imoveis comerciais\n",
    "\n",
    "dados.query('@imoveis_comerciais in Tipo')"
   ]
  },
  {
   "cell_type": "code",
   "execution_count": null,
   "metadata": {
    "id": "v7dZPR5c4Oo2"
   },
   "outputs": [],
   "source": [
    "# adicionando o not, eu consigo pegar apenas as linhas que nao sao do tipo imovel comercial, ou seja, que sao residenciais\n",
    "\n",
    "dados.query('@imoveis_comerciais not in Tipo')"
   ]
  },
  {
   "cell_type": "code",
   "execution_count": null,
   "metadata": {
    "id": "DrCXtYhi4RcD"
   },
   "outputs": [],
   "source": [
    "df = dados.query('@imoveis_comerciais not in Tipo')\n",
    "df.head()"
   ]
  },
  {
   "cell_type": "code",
   "execution_count": null,
   "metadata": {
    "id": "PsTmoPPh5VGa"
   },
   "outputs": [],
   "source": [
    "df.Tipo.unique()"
   ]
  },
  {
   "cell_type": "code",
   "execution_count": null,
   "metadata": {
    "id": "ueADvdISZUSe"
   },
   "outputs": [],
   "source": [
    "df_preco_tipo = df.groupby('Tipo')[['Valor']].mean().sort_values('Valor')\n",
    "df_preco_tipo.plot(kind='barh', figsize=(14,10), color = 'purple')"
   ]
  },
  {
   "cell_type": "markdown",
   "metadata": {
    "id": "-wW1PcKCXP_8"
   },
   "source": [
    "## Qual o percentual de cada tipo de imóvel na nossa base de dados?"
   ]
  },
  {
   "cell_type": "code",
   "execution_count": null,
   "metadata": {
    "id": "LFn-BeGNXa2k"
   },
   "outputs": [],
   "source": [
    "df.Tipo.unique()"
   ]
  },
  {
   "cell_type": "code",
   "execution_count": null,
   "metadata": {
    "id": "qpjKJkjmXa0A"
   },
   "outputs": [],
   "source": [
    "# metodo value_counts() serve para contar quantas vezes um item aparece na base de dados\n",
    "\n",
    "df.Tipo.value_counts(normalize=True)"
   ]
  },
  {
   "cell_type": "code",
   "execution_count": null,
   "metadata": {
    "id": "XMWQmHhbXaxG"
   },
   "outputs": [],
   "source": [
    "# quero transformar essa series em um dataframe\n",
    "\n",
    "df.Tipo.value_counts(normalize=True).to_frame().sort_values('Tipo')"
   ]
  },
  {
   "cell_type": "code",
   "execution_count": null,
   "metadata": {
    "id": "PXr5xrBvXasw"
   },
   "outputs": [],
   "source": [
    "df_percentual_tipo = df.Tipo.value_counts(normalize=True).to_frame().sort_values('Tipo')\n",
    "\n",
    "df_percentual_tipo.plot(kind='bar', figsize=(14,10), color = 'green', xlabel='Tipos', ylabel='Percentual')"
   ]
  },
  {
   "cell_type": "markdown",
   "metadata": {},
   "source": [
    "Faz sentido trabalhar com os apartamentos junto com os outros tipo de imoveis, pensando que desse dataset mais de 80% é do tipo Apartamento"
   ]
  },
  {
   "cell_type": "markdown",
   "metadata": {
    "id": "2TJSa7Nr59qr"
   },
   "source": [
    "### **Selecionando apenas os imóveis do tipo apartamento**"
   ]
  },
  {
   "cell_type": "code",
   "execution_count": null,
   "metadata": {
    "id": "HZ7AhVhl6kXH"
   },
   "outputs": [],
   "source": [
    "df.query('Tipo == \"Apartamento\"')"
   ]
  },
  {
   "cell_type": "code",
   "execution_count": null,
   "metadata": {
    "id": "0CtEDNjF6xKH"
   },
   "outputs": [],
   "source": [
    "df = df.query('Tipo == \"Apartamento\"')\n",
    "df.head()"
   ]
  },
  {
   "cell_type": "markdown",
   "metadata": {
    "id": "Qicz5ljuWYIG"
   },
   "source": [
    "# Tratando e filtrando os dados"
   ]
  },
  {
   "cell_type": "markdown",
   "metadata": {
    "id": "sx6e737KaaWV"
   },
   "source": [
    "## Lidando com dados nulos"
   ]
  },
  {
   "cell_type": "code",
   "execution_count": null,
   "metadata": {
    "id": "XYFrVbLlWX0j"
   },
   "outputs": [],
   "source": [
    "df.isnull()"
   ]
  },
  {
   "cell_type": "code",
   "execution_count": null,
   "metadata": {
    "id": "vtgPgHGnWYTZ"
   },
   "outputs": [],
   "source": [
    "# Vou utilizar a funcao sum porque os valores false sao interpretados como 0 e true como 1\n",
    "df.isnull().sum()"
   ]
  },
  {
   "cell_type": "code",
   "execution_count": null,
   "metadata": {
    "id": "Mw2m96vCaZvE"
   },
   "outputs": [],
   "source": [
    "# o metodo fillna vai preencher os valores nulos com 0\n",
    "df.fillna(0)"
   ]
  },
  {
   "cell_type": "code",
   "execution_count": null,
   "metadata": {
    "id": "KRF0dAyBaZq7"
   },
   "outputs": [],
   "source": [
    "# o metodo fillna nao salva automaticamente no dataframe, preciso salvar atribuindo uma variavel\n",
    "df = df.fillna(0)\n",
    "df"
   ]
  },
  {
   "cell_type": "code",
   "execution_count": null,
   "metadata": {
    "id": "Plaat1OsbJ-5"
   },
   "outputs": [],
   "source": [
    "df.isnull().sum()"
   ]
  },
  {
   "cell_type": "markdown",
   "metadata": {},
   "source": [
    "### Para saber mais: lidando com dados nulos"
   ]
  },
  {
   "cell_type": "markdown",
   "metadata": {},
   "source": [
    "Tratar dados nulos em uma base de dados é muito importante porque esses dados faltantes podem interferir diretamente na qualidade das análises e nos resultados obtidos. Quando existem dados nulos em um conjunto de dados, podem ocorrer problemas como viés, redução da acurácia e imprecisão nas informações obtidas.\n",
    "\n",
    "Além disso, algumas análises e modelos estatísticos não são capazes de lidar com a presença de dados faltantes. Por isso, o tratamento dos dados nulos é fundamental para garantir a confiabilidade e a precisão das análises e decisões tomadas a partir desses dados.\n",
    "\n",
    "Existem diversas formas de tratar dados nulos com o Pandas. Algumas das principais formas são:\n",
    "\n",
    "- Remover os dados nulos: É possível remover as linhas ou colunas que possuem valores nulos utilizando o método `dropna()` . Esse método remove todas as linhas ou colunas que possuem pelo menos um valor nulo.\n",
    "\n",
    "- Preencher os dados nulos: Utilizando o `método fillna()`, podemos preencher os valores nulos com um valor específico. Além disso, também é possível utilizar argumentos específicos do `método fillna()` como o method=”ffill” ou method=”bfill” para preencher os valores nulos com o valor anterior ou posterior, respectivamente.\n",
    "\n",
    "- Interpolar os dados nulos: É possível utilizar o `método interpolate()` para preencher os valores nulos com valores interpolados, ou seja, valores calculados a partir dos valores vizinhos.\n",
    "\n",
    "É importante escolher a melhor forma de tratar os dados nulos de acordo com a situação específica e o objetivo da análise de dados."
   ]
  },
  {
   "cell_type": "markdown",
   "metadata": {
    "id": "B_OC_jS8cL0n"
   },
   "source": [
    "## Removendo registros"
   ]
  },
  {
   "cell_type": "code",
   "execution_count": null,
   "metadata": {
    "id": "H955G70zcKwX"
   },
   "outputs": [],
   "source": [
    "df.query('Valor == 0 | Condominio == 0')"
   ]
  },
  {
   "cell_type": "code",
   "execution_count": null,
   "metadata": {
    "id": "7M_YtGLgxd0k"
   },
   "outputs": [],
   "source": [
    "# o metodo index permite selecionar apenas as linhas que atendem a uma determinada condicao\n",
    "df.query('Valor == 0 | Condominio == 0').index"
   ]
  },
  {
   "cell_type": "code",
   "execution_count": null,
   "metadata": {
    "id": "R28sDOakx0dX"
   },
   "outputs": [],
   "source": [
    "registro_a_remover = df.query('Valor == 0 | Condominio == 0').index"
   ]
  },
  {
   "cell_type": "code",
   "execution_count": null,
   "metadata": {
    "id": "p4UIflVTcKtN"
   },
   "outputs": [],
   "source": [
    "# o metodo drop remove as linhas, se eu especifico axis igual a 0, ele remove as linhas, se eu especifico axis igual a 1 ele remove as colunas\n",
    "# o inplace serve para alterar o dataframe original\n",
    "df.drop(registro_a_remover, axis=0, inplace=True)"
   ]
  },
  {
   "cell_type": "code",
   "execution_count": null,
   "metadata": {
    "id": "-hydAdP2e4m4"
   },
   "outputs": [],
   "source": [
    "# o dataframe veio vazio agora, pois as linhas foram removidas de fato do dataframse original\n",
    "df.query('Valor == 0 | Condominio == 0')"
   ]
  },
  {
   "cell_type": "markdown",
   "metadata": {},
   "source": [
    "Será que não existe mais nada na nossa base de dados que possa ser removido?"
   ]
  },
  {
   "cell_type": "code",
   "execution_count": null,
   "metadata": {
    "id": "jLJ8MM7byGHq"
   },
   "outputs": [],
   "source": [
    "df.head()"
   ]
  },
  {
   "cell_type": "code",
   "execution_count": null,
   "metadata": {
    "id": "Roc3lFaEe6lZ"
   },
   "outputs": [],
   "source": [
    "# podemos perceber que só estamos falando de informações com o Tipo Apartamento\n",
    "df.Tipo.unique()"
   ]
  },
  {
   "cell_type": "code",
   "execution_count": null,
   "metadata": {
    "id": "ksSN-IzN8Z7i"
   },
   "outputs": [],
   "source": [
    "# Portanto, já que sabemos que estamos falando de apenas apartamento, podemos retirar ela do dataset\n",
    "df.drop('Tipo', axis=1, inplace=True)"
   ]
  },
  {
   "cell_type": "code",
   "execution_count": null,
   "metadata": {
    "id": "XohBafvw8dsX"
   },
   "outputs": [],
   "source": [
    "df.head()"
   ]
  },
  {
   "cell_type": "markdown",
   "metadata": {
    "id": "khQPzyksg5Hx"
   },
   "source": [
    "## Filtros"
   ]
  },
  {
   "cell_type": "markdown",
   "metadata": {
    "id": "ruP5z4iUy0HA"
   },
   "source": [
    "### **1. Apartamentos que possuem `1 quarto` e `aluguel menor que 1200`**\n",
    "\n"
   ]
  },
  {
   "cell_type": "code",
   "execution_count": null,
   "metadata": {
    "id": "qTimHdpn-UjL"
   },
   "outputs": [],
   "source": [
    "# vamos comecar selecionando os apartamento que possuem apenas um quarto\n",
    "\n",
    "df.Quartos == 1"
   ]
  },
  {
   "cell_type": "code",
   "execution_count": null,
   "metadata": {
    "id": "_HAkpI9EeMPv"
   },
   "outputs": [],
   "source": [
    "selecao1 = df['Quartos'] == 1\n",
    "df[selecao1]"
   ]
  },
  {
   "cell_type": "code",
   "execution_count": null,
   "metadata": {
    "id": "i_uf0kP-0Jcv"
   },
   "outputs": [],
   "source": [
    "# agora vamos realizar a segunda condicao\n",
    "\n",
    "df['Valor'] < 1200"
   ]
  },
  {
   "cell_type": "code",
   "execution_count": null,
   "metadata": {
    "id": "9iZXXwkE0JaL"
   },
   "outputs": [],
   "source": [
    "selecao2 = df['Valor'] < 1200\n",
    "df[selecao2]"
   ]
  },
  {
   "cell_type": "code",
   "execution_count": null,
   "metadata": {
    "id": "hTtHjRF271SQ"
   },
   "outputs": [],
   "source": [
    "selecao_final = (selecao1) & (selecao2)\n",
    "df[selecao_final]"
   ]
  },
  {
   "cell_type": "code",
   "execution_count": null,
   "metadata": {},
   "outputs": [],
   "source": [
    "df_1 = df[selecao_final]"
   ]
  },
  {
   "cell_type": "markdown",
   "metadata": {
    "id": "cFeUf691y0oy"
   },
   "source": [
    "### **2. `Apartamentos` que possuem pelo menos `2 quartos`, `aluguel menor que 3000` e `area maior que 70`**"
   ]
  },
  {
   "cell_type": "code",
   "execution_count": null,
   "metadata": {
    "id": "nt0alj_leMeZ"
   },
   "outputs": [],
   "source": [
    "selecao = (df['Quartos'] >= 2) & (df['Valor'] < 3000) & (df['Area'] > 70)\n",
    "df[selecao]"
   ]
  },
  {
   "cell_type": "code",
   "execution_count": null,
   "metadata": {
    "id": "5b30hBhj76LA"
   },
   "outputs": [],
   "source": [
    "df_2 = df[selecao]"
   ]
  },
  {
   "cell_type": "markdown",
   "metadata": {
    "id": "X44FZQVd8Bdy"
   },
   "source": [
    "## Salvando os dados"
   ]
  },
  {
   "cell_type": "code",
   "execution_count": null,
   "metadata": {
    "id": "KrvHtvZm9BXQ"
   },
   "outputs": [],
   "source": [
    "df.to_csv('pandas-dados/dados_apartamentos.csv')"
   ]
  },
  {
   "cell_type": "code",
   "execution_count": null,
   "metadata": {
    "id": "3MkTUyhj-G4L"
   },
   "outputs": [],
   "source": [
    "pd.read_csv('pandas-dados/dados_apartamentos.csv')"
   ]
  },
  {
   "cell_type": "code",
   "execution_count": null,
   "metadata": {
    "id": "PuNhu13f96o0"
   },
   "outputs": [],
   "source": [
    "df.to_csv('pandas-dados/dados_apartamentos.csv', index=False)"
   ]
  },
  {
   "cell_type": "code",
   "execution_count": null,
   "metadata": {
    "id": "JlTd_yEP-F6B"
   },
   "outputs": [],
   "source": [
    "pd.read_csv('pandas-dados/dados_apartamentos.csv')"
   ]
  },
  {
   "cell_type": "code",
   "execution_count": null,
   "metadata": {
    "id": "qtrF3cN3-PHn"
   },
   "outputs": [],
   "source": [
    "df.to_csv('pandas-dados/dados_apartamentos.csv', sep=';',index=False)"
   ]
  },
  {
   "cell_type": "code",
   "execution_count": null,
   "metadata": {
    "id": "ldKDP26a-Rk1"
   },
   "outputs": [],
   "source": [
    "# fazendo a leitura, sem especificar o separador\n",
    "pd.read_csv('pandas-dados/dados_apartamentos.csv')"
   ]
  },
  {
   "cell_type": "code",
   "execution_count": null,
   "metadata": {
    "id": "Y5e2jaBR-UmV"
   },
   "outputs": [],
   "source": [
    "pd.read_csv('pandas-dados/dados_apartamentos.csv', sep=';')"
   ]
  },
  {
   "cell_type": "code",
   "execution_count": null,
   "metadata": {
    "id": "x02MX4-bc6uR"
   },
   "outputs": [],
   "source": [
    "df_1.to_csv('pandas-dados/filtro_1.csv', index=False, sep=\";\")\n",
    "df_2.to_csv('pandas-dados/filtro_2.csv', index=False, sep=\";\")"
   ]
  },
  {
   "cell_type": "code",
   "execution_count": null,
   "metadata": {},
   "outputs": [],
   "source": [
    "pd.read_csv('pandas-dados/filtro_1.csv', sep=';')"
   ]
  },
  {
   "cell_type": "code",
   "execution_count": null,
   "metadata": {},
   "outputs": [],
   "source": [
    "pd.read_csv('pandas-dados/filtro_2.csv', sep=';')"
   ]
  },
  {
   "cell_type": "markdown",
   "metadata": {
    "id": "e6eJTZfKWXEs"
   },
   "source": [
    "# Manipulando os dados"
   ]
  },
  {
   "cell_type": "markdown",
   "metadata": {
    "id": "3i_NaXfjadEI"
   },
   "source": [
    "## Criando colunas numéricas"
   ]
  },
  {
   "cell_type": "code",
   "execution_count": null,
   "metadata": {
    "id": "49JAtiMED73t"
   },
   "outputs": [],
   "source": [
    "# vou importar dnv o arquivo, porque agora quero trazer informacoes de todos os tipo de imoveis e nao apenas para apartamento\n",
    "dados = pd.read_csv(url,sep=';')\n",
    "dados.head()"
   ]
  },
  {
   "cell_type": "code",
   "execution_count": null,
   "metadata": {
    "id": "rBejF2_badiG"
   },
   "outputs": [],
   "source": [
    "dados['Valor_por_Mes'] = dados['Valor'] + dados['Condominio']\n",
    "dados.head()"
   ]
  },
  {
   "cell_type": "code",
   "execution_count": null,
   "metadata": {
    "id": "66yfztw3ad2P"
   },
   "outputs": [],
   "source": [
    "dados['Valor_por_Ano'] = dados['Valor_por_Mes']*12 + dados['IPTU']\n",
    "dados.head()"
   ]
  },
  {
   "cell_type": "markdown",
   "metadata": {
    "id": "TZtb57m2bjzR"
   },
   "source": [
    "## Criando colunas categóricas"
   ]
  },
  {
   "cell_type": "code",
   "execution_count": null,
   "metadata": {
    "id": "tb4crkqWJO3u"
   },
   "outputs": [],
   "source": [
    "dados['Descricao'] = dados['Tipo'] + ' em ' +  dados['Bairro']\n",
    "dados.head()"
   ]
  },
  {
   "cell_type": "code",
   "execution_count": null,
   "metadata": {
    "id": "gmfpWCBENjGx"
   },
   "outputs": [],
   "source": [
    "dados['Descricao'] = dados['Tipo'] + ' em ' +  dados['Bairro'] + ' com ' + dados['Quartos'] + ' quartos(s) ' + ' e ' + dados['Vagas'] + ' vagas(s) de garagem.'"
   ]
  },
  {
   "cell_type": "code",
   "execution_count": null,
   "metadata": {
    "id": "Z-27rFc7NSwq"
   },
   "outputs": [],
   "source": [
    "dados['Descricao'] = dados['Tipo'] + ' em ' +  dados['Bairro'] + ' com ' + dados['Quartos'].astype(str) + ' quarto(s) ' + ' e ' + dados['Vagas'].astype(str) + ' vagas(s) de garagem.'\n",
    "dados.head()"
   ]
  },
  {
   "cell_type": "code",
   "execution_count": null,
   "metadata": {
    "id": "QSLfaWHlbkgD"
   },
   "outputs": [],
   "source": [
    "dados['Possui_suite'] = dados['Suites'].apply(lambda x: 'Sim' if x > 0 else 'Não')\n",
    "dados.head()"
   ]
  },
  {
   "cell_type": "code",
   "execution_count": null,
   "metadata": {
    "id": "oAYh5rVAbkZp"
   },
   "outputs": [],
   "source": [
    "dados.to_csv('pandas-dados/dados_completos_dev.csv', index = False, sep=';')"
   ]
  }
 ],
 "metadata": {
  "colab": {
   "provenance": []
  },
  "kernelspec": {
   "display_name": "base",
   "language": "python",
   "name": "python3"
  },
  "language_info": {
   "codemirror_mode": {
    "name": "ipython",
    "version": 3
   },
   "file_extension": ".py",
   "mimetype": "text/x-python",
   "name": "python",
   "nbconvert_exporter": "python",
   "pygments_lexer": "ipython3",
   "version": "3.11.7"
  }
 },
 "nbformat": 4,
 "nbformat_minor": 0
}
