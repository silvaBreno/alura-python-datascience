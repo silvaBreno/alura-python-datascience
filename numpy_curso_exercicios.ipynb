{
 "cells": [
  {
   "cell_type": "markdown",
   "metadata": {},
   "source": [
    "## Aula 1 - Conhecendo a biblioteca e nossos dados"
   ]
  },
  {
   "cell_type": "markdown",
   "metadata": {},
   "source": [
    "### Faça como eu fiz\n",
    "Chegou a hora de você testar os conhecimentos desenvolvidos durante a aula. Para isso, vamos utilizar outro dataset em um desafio que será desenvolvido no decorrer do curso. Esse dataset é uma versão modificada do arquivo Oranges vs. Grapefruit presente no site do Kaggle. Portanto, utilizaremos o arquivo raw disponível no GitHub.\n",
    "\n",
    "Nessa etapa, você deve efetuar a leitura dos dados. Para isso, importe a NumPy e use a `função loadtxt`. Use o link da url e o parâmetro `usecols` para pular a primeira coluna. É possível usar `np.arange` para criar a sequência de números que representam as colunas. Por fim, também é necessário incluir o parâmetro `skiprows=1` para que a primeira linha de texto seja desconsiderada na leitura do arquivo."
   ]
  },
  {
   "cell_type": "code",
   "execution_count": 70,
   "metadata": {},
   "outputs": [],
   "source": [
    "import numpy as np\n",
    "url = 'https://raw.githubusercontent.com/allanspadini/numpy/dados/citrus.csv'\n",
    "dado = np.loadtxt(url, delimiter=',',usecols=np.arange(1,6,1),skiprows=1)"
   ]
  },
  {
   "cell_type": "markdown",
   "metadata": {},
   "source": [
    "## Aula 2 - Exploracao dos dados"
   ]
  },
  {
   "cell_type": "markdown",
   "metadata": {},
   "source": [
    "### Faça como eu fiz\n",
    "Chegou a hora de você testar os conhecimentos desenvolvidos durante a aula. Continuando com o projeto das laranjas/toranjas agora você deve selecionar parte dos dados. As colunas que iremos avaliar são as de diâmetro e peso. Crie arrays específicos para guardar o diâmetro e peso da laranja e toranja. O diâmetro está na coluna zero e o peso na coluna 1. Os dados referentes a laranja vão até a linha 4999 e os referentes à toranja iniciam na linha 5000 do arquivo.\n",
    "\n",
    "Após fazer a seleção de dados, importe a biblioteca matplotlib e crie um gráfico para a laranja e para a toranja do peso pelo diâmetro."
   ]
  },
  {
   "cell_type": "code",
   "execution_count": 71,
   "metadata": {},
   "outputs": [],
   "source": [
    "# peso\n",
    "peso_laranja = dado[:5000,1]\n",
    "peso_toranja = dado[5000:,1]\n",
    "# diametro\n",
    "diametro_laranja = dado[:5000,0]\n",
    "diametro_toranja = dado[5000:,0]"
   ]
  },
  {
   "cell_type": "code",
   "execution_count": 72,
   "metadata": {},
   "outputs": [
    {
     "data": {
      "text/plain": [
       "<matplotlib.legend.Legend at 0x250c91d4050>"
      ]
     },
     "execution_count": 72,
     "metadata": {},
     "output_type": "execute_result"
    },
    {
     "data": {
      "image/png": "[encoded data removed]",
      "text/plain": [
       "<Figure size 640x480 with 1 Axes>"
      ]
     },
     "metadata": {},
     "output_type": "display_data"
    }
   ],
   "source": [
    "import matplotlib.pyplot as plt\n",
    "\n",
    "plt.plot(diametro_laranja, peso_laranja)\n",
    "plt.plot(diametro_toranja, peso_toranja)\n",
    "plt.legend(['Laranja', 'Toranja'])\n"
   ]
  },
  {
   "cell_type": "markdown",
   "metadata": {},
   "source": [
    "# O coeficiente das retas"
   ]
  },
  {
   "cell_type": "markdown",
   "metadata": {},
   "source": [
    "As duas parecem ter uma inclinação muito parecida em uma primeira inspeção visual vamos determinar os coeficientes da reta para cada um dos casos. \n",
    "\n",
    "Lembre que para o coeficiente angular precisamos implementar a função:\n",
    "$$ \\hat{a} = \\frac{n*Soma( X_i*Y_i ) - Soma( X_i )*Soma(Y_i)}{n Soma(X_i^2) - (Soma(X_i))^2}$$ \n",
    "\n",
    "e para o coeficiente linear:\n",
    "$$ \\hat{b} = Media(Y_i) - \\hat{a} * Media(X_i) $$"
   ]
  },
  {
   "cell_type": "markdown",
   "metadata": {},
   "source": [
    "Perceba que nesse caso o X é o diâmtro e o Y é o peso. Além disso o n é o número de elementos dentro do X, por exemplo.Ele vai ser diferente para a laranja e toranja. Determine o coefiecente para cada caso:"
   ]
  },
  {
   "cell_type": "code",
   "execution_count": 73,
   "metadata": {},
   "outputs": [],
   "source": [
    "Y = peso_laranja\n",
    "X = diametro_laranja\n",
    "n = np.size(X)\n",
    "\n",
    "a = (n*np.sum(X*Y) - np.sum(X)*np.sum(Y))/(n*np.sum(X**2)-np.sum(X)**2)\n",
    "b = np.mean(Y) - a*np.mean(X)"
   ]
  },
  {
   "cell_type": "code",
   "execution_count": 74,
   "metadata": {},
   "outputs": [
    {
     "name": "stdout",
     "output_type": "stream",
     "text": [
      "14.7997452319846\n",
      "27.38560381218413\n"
     ]
    }
   ],
   "source": [
    "print(a)\n",
    "print(b)\n"
   ]
  },
  {
   "cell_type": "code",
   "execution_count": 75,
   "metadata": {},
   "outputs": [],
   "source": [
    "y = a*X + b"
   ]
  },
  {
   "cell_type": "code",
   "execution_count": 76,
   "metadata": {},
   "outputs": [],
   "source": [
    "Y = peso_toranja\n",
    "X = diametro_toranja\n",
    "n = np.size(X)"
   ]
  },
  {
   "cell_type": "code",
   "execution_count": 77,
   "metadata": {},
   "outputs": [
    {
     "data": {
      "text/plain": [
       "15.70884459360376"
      ]
     },
     "execution_count": 77,
     "metadata": {},
     "output_type": "execute_result"
    }
   ],
   "source": [
    "a = (n*np.sum(X*Y) - np.sum(X)*np.sum(Y))/(n*np.sum(X**2)-np.sum(X)**2)\n",
    "a"
   ]
  },
  {
   "cell_type": "code",
   "execution_count": 78,
   "metadata": {},
   "outputs": [
    {
     "data": {
      "text/plain": [
       "17.007102876817726"
      ]
     },
     "execution_count": 78,
     "metadata": {},
     "output_type": "execute_result"
    }
   ],
   "source": [
    "b = np.mean(Y) - a*np.mean(X)\n",
    "b"
   ]
  },
  {
   "cell_type": "code",
   "execution_count": 79,
   "metadata": {},
   "outputs": [
    {
     "name": "stdout",
     "output_type": "stream",
     "text": [
      "15.70884459360376\n",
      "17.007102876817726\n"
     ]
    }
   ],
   "source": [
    "print(a)\n",
    "print(b)"
   ]
  },
  {
   "cell_type": "markdown",
   "metadata": {},
   "source": [
    "Se deu tudo você deve ter chegado em valores diferentes para cada um dos casos. Então, embora a inclinação da reta seja parecida nós descobrimos que os coeficientes da reta servem como uma forma de diferenciar se as frutas são laranjas ou toranjas."
   ]
  },
  {
   "cell_type": "markdown",
   "metadata": {},
   "source": [
    "# Estimando através de números aleatórios"
   ]
  },
  {
   "cell_type": "markdown",
   "metadata": {},
   "source": [
    "Agora ao invés de usar a fórmula fechada utilize a np.random.uniform para gerar valores aleatórios para determinar o coeficiente angular da toranja. Nesse caso vamos assumir que b é igual a 17. Utilize o random.seed(84). "
   ]
  },
  {
   "cell_type": "code",
   "execution_count": 80,
   "metadata": {},
   "outputs": [],
   "source": [
    "b =17"
   ]
  },
  {
   "cell_type": "code",
   "execution_count": 81,
   "metadata": {},
   "outputs": [],
   "source": [
    "norma = np.array([])\n",
    "np.random.seed(84)\n",
    "coef_angulares = np.random.uniform(low=0.0,high=30.0,size=100)\n",
    "\n",
    "for i in range(100):\n",
    "  norma = np.append(norma,np.linalg.norm(Y- (coef_angulares[i]*X+b)))"
   ]
  },
  {
   "cell_type": "code",
   "execution_count": 82,
   "metadata": {},
   "outputs": [
    {
     "data": {
      "text/plain": [
       "array([11693.67355856,  3756.21335179,  6888.14382259,  2567.04685515,\n",
       "       11420.77932891,  9623.66917996,  8570.85655292,  6496.51679273,\n",
       "        2577.28271294,  9613.12064833,  5709.72883857,   695.35964734,\n",
       "       10855.07029288,  5539.82389583,  3137.98293399,   296.30778902,\n",
       "        8896.93668493,  8347.82090288, 10206.95670568, 10229.7542583 ,\n",
       "        2193.54863897,  8448.39951623, 11004.80458021, 11563.3388543 ,\n",
       "        4098.18752189,  7732.70842098,  2801.84736004,  7688.60780777,\n",
       "       11134.73586307,  9432.12778879,   725.4664674 ,  6290.36141277,\n",
       "        5189.67184491,  4716.99608173,  9250.47142251,  7274.49676931,\n",
       "        8876.20611799,   621.16747277,  4716.1854569 ,  8050.51001798,\n",
       "        9238.31227388,  3992.98429323, 11531.1764187 ,  5849.11139809,\n",
       "        1042.57303406,  9875.3710071 , 11759.24152592,  8956.15615033,\n",
       "        2219.50808351,  3585.49846047, 11347.59016791,  2477.87811921,\n",
       "         878.91891293,  2740.88025627,  1766.171738  ,   710.47076735,\n",
       "       10067.07162101,  6347.17090822, 12388.06675209,  4279.10033959,\n",
       "        6946.02067623,  2906.41428845,   104.40529157,  7558.60939751,\n",
       "        4224.62973567,  8179.74838026, 12397.73292649, 11190.99930959,\n",
       "        7036.14719367, 10703.05130551, 12509.21786548,  5889.31418963,\n",
       "        7255.35608235, 12754.02485478,  4277.22119478,  2053.04097821,\n",
       "        8376.42892243,   389.94011406,  5896.97003989, 10488.87297294,\n",
       "        1195.54220071,  6454.27729425,  5255.27304236, 12297.4767493 ,\n",
       "        5899.92818696,  6505.81020644, 10388.25661606,  4879.40103495,\n",
       "        7477.48430382,  1220.34716028,  9802.44671627,  1360.59082421,\n",
       "         505.47719741,  1003.95500109,  2008.05819559,   371.10522699,\n",
       "        2094.74163899,  4658.97873807,  5043.61920931,  4893.93574007])"
      ]
     },
     "execution_count": 82,
     "metadata": {},
     "output_type": "execute_result"
    }
   ],
   "source": [
    "norma"
   ]
  },
  {
   "cell_type": "markdown",
   "metadata": {},
   "source": [
    "Se deu tudo certo a menor norma que você alcançou foi 104.40529157196431."
   ]
  },
  {
   "cell_type": "code",
   "execution_count": 83,
   "metadata": {},
   "outputs": [
    {
     "data": {
      "text/plain": [
       "104.4052915719643"
      ]
     },
     "execution_count": 83,
     "metadata": {},
     "output_type": "execute_result"
    }
   ],
   "source": [
    "np.min(norma)"
   ]
  },
  {
   "cell_type": "markdown",
   "metadata": {},
   "source": [
    "Algo que não foi passado no curso é que também podemos utilizar condições dentro dos colchetes dos arrays para encontrar um determinado valor. O código abaixo mostra o coeficiente angular que corresponde ao menor valor da norma. Repare que a condição é a: norma == np.min(norma)."
   ]
  },
  {
   "cell_type": "code",
   "execution_count": 84,
   "metadata": {},
   "outputs": [
    {
     "data": {
      "text/plain": [
       "array([15.82512199])"
      ]
     },
     "execution_count": 84,
     "metadata": {},
     "output_type": "execute_result"
    }
   ],
   "source": [
    "coef_angulares[norma == np.min(norma)]"
   ]
  }
 ],
 "metadata": {
  "kernelspec": {
   "display_name": "base",
   "language": "python",
   "name": "python3"
  },
  "language_info": {
   "codemirror_mode": {
    "name": "ipython",
    "version": 3
   },
   "file_extension": ".py",
   "mimetype": "text/x-python",
   "name": "python",
   "nbconvert_exporter": "python",
   "pygments_lexer": "ipython3",
   "version": "3.11.7"
  }
 },
 "nbformat": 4,
 "nbformat_minor": 2
}
